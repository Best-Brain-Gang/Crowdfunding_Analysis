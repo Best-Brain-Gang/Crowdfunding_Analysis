{
 "cells": [
  {
   "cell_type": "code",
   "execution_count": null,
   "source": [
    "# Import the required libraries and dependencies\n",
    "import pandas as pd\n",
    "from pathlib import Path\n",
    "import sqlalchemy"
   ],
   "outputs": [],
   "metadata": {}
  },
  {
   "cell_type": "markdown",
   "source": [
    "## Import the data "
   ],
   "metadata": {}
  },
  {
   "cell_type": "code",
   "execution_count": null,
   "source": [
    "# Import large kickstarter recent dataset\n",
    "kickstarter_large_recent_df = pd.read_csv(\n",
    "    Path('./Resources/kickstarter_data/ks-projects-201801.csv')\n",
    ")\n",
    "\n",
    "# Imported data has a space at the end of the column name\n",
    "# Remove spaces in columns name\n",
    "kickstarter_large_recent_df.columns = kickstarter_large_recent_df.columns.str.replace(' ','')\n",
    "\n",
    "# Set the index as the ID\n",
    "kickstarter_large_recent_df.set_index('ID', inplace=True)\n",
    "\n",
    "# View head\n",
    "kickstarter_large_recent_df.head(2)"
   ],
   "outputs": [],
   "metadata": {}
  },
  {
   "cell_type": "code",
   "execution_count": null,
   "source": [
    "# Import small kickstarter most backed dataset\n",
    "kickstarter_small_most_backed_df = pd.read_csv(\n",
    "    Path('./Resources/kickstarter_data/most_backed.csv')\n",
    ")\n",
    "\n",
    "# Fix ID column\n",
    "kickstarter_small_most_backed_df.rename(columns={'Unnamed: 0': 'ID'}, inplace=True)\n",
    "\n",
    "# Set the index as the ID\n",
    "kickstarter_small_most_backed_df.set_index('ID', inplace=True)\n",
    "\n",
    "# View head\n",
    "kickstarter_small_most_backed_df.head(2)"
   ],
   "outputs": [],
   "metadata": {}
  },
  {
   "cell_type": "code",
   "execution_count": null,
   "source": [
    "# Import indiegogo dataset\n",
    "indiegogo_df = pd.read_csv(\n",
    "    Path('./Resources/indiegogo_data/indiegogo.csv')\n",
    ")\n",
    "\n",
    "# Fix ID column\n",
    "indiegogo_df.rename(columns={'project_id' : 'ID'}, inplace=True)\n",
    "\n",
    "# Set the index as the ID\n",
    "indiegogo_df.set_index('ID', inplace=True)\n",
    "\n",
    "# View head\n",
    "indiegogo_df.head(2)"
   ],
   "outputs": [],
   "metadata": {}
  },
  {
   "cell_type": "markdown",
   "source": [
    "## Rename cols"
   ],
   "metadata": {}
  },
  {
   "cell_type": "code",
   "execution_count": null,
   "source": [
    "# Rename the indiegogo columns to match the kickstarter df\n",
    "indiegogo_df.rename(columns={'category' : 'main_category', 'title' : 'name', 'amount_raised_usd' : 'usd_pledged_real', 'goal_usd' : 'usd_goal_real'}, inplace=True)\n",
    "\n",
    "kickstarter_small_most_backed_df.rename(columns={'amt.pledged' : 'usd_pledged_real', 'title' : 'name', 'category' : 'main_category', 'goal' : 'usd_goal_real', 'num.backers' : 'backers'}, inplace=True)\n",
    "# View head\n",
    "indiegogo_df.head(2)\n",
    "kickstarter_small_most_backed_df.head(2)"
   ],
   "outputs": [],
   "metadata": {}
  },
  {
   "cell_type": "markdown",
   "source": [
    "## Clean large kickstarter df"
   ],
   "metadata": {}
  },
  {
   "cell_type": "code",
   "execution_count": null,
   "source": [
    "# Kickstarter code to fix dates\n",
    "kickstarter_large_recent_df['launched'] = pd.to_datetime(kickstarter_large_recent_df['launched'])\n",
    "kickstarter_large_recent_df['deadline'] = pd.to_datetime(kickstarter_large_recent_df['deadline'])\n",
    "\n",
    "# Only pull out failed and successful cases to match indiegogo df\n",
    "failure_success = ['failed','successful']\n",
    "\n",
    "# Quick check to see if we have already renamed state col\n",
    "if 'failed' in kickstarter_large_recent_df['state'].values:\n",
    "    kickstarter_large_recent_df = kickstarter_large_recent_df[kickstarter_large_recent_df['state'].isin(failure_success)]\n",
    "    # Rename successful -> 1 and failed -> 0 to match indiegogo\n",
    "    kickstarter_large_recent_df['state'].replace({'failed': '0', 'successful': '1'}, inplace=True)\n",
    "    # Fix types\n",
    "    kickstarter_large_recent_df = kickstarter_large_recent_df.astype({'state': 'int64'})\n",
    "\n",
    "# Sometimes projects are successful with no backers. Remove this data\n",
    "kickstarter_large_recent_df.drop(kickstarter_large_recent_df[(kickstarter_large_recent_df['state'] == 1) & (kickstarter_large_recent_df['backers'] == 0)].index, inplace = True)\n",
    "\n",
    "# Remove all countries with that have euro currency and country equal to N,0\"\n",
    "kickstarter_large_recent_df.drop(kickstarter_large_recent_df[(kickstarter_large_recent_df['currency'] == 'EUR') & (kickstarter_large_recent_df['country'] == 'N,0\"')].index, inplace = True)\n",
    "\n",
    "# Create a dictionary of country and currency pairs to fix other N,0\" countries to right country\n",
    "country_currency_df = kickstarter_large_recent_df.loc[:,['country', 'currency']]\n",
    "country_currency_df.drop(kickstarter_large_recent_df[kickstarter_large_recent_df['country'] == 'N,0\"'].index, inplace=True)\n",
    "country_currency_df.drop_duplicates(inplace=True)\n",
    "country_currency_df.set_index('currency', inplace = True)\n",
    "currency_country_dict = country_currency_df.to_dict()['country']\n",
    "\n",
    "# Function to clean up country col\n",
    "def replace_N0(country, currency):\n",
    "    if country == 'N,0\"':\n",
    "        return currency_country_dict[currency]\n",
    "    else:\n",
    "        return country\n",
    "\n",
    "# Clean up all the N,0\" values for countries using the currency_country_dict\n",
    "kickstarter_large_recent_df['country'] = kickstarter_large_recent_df.apply(lambda row: replace_N0(row['country'], row['currency']), axis=1)"
   ],
   "outputs": [],
   "metadata": {}
  },
  {
   "cell_type": "markdown",
   "source": [
    "## Clean indiegogo df"
   ],
   "metadata": {}
  },
  {
   "cell_type": "code",
   "execution_count": null,
   "source": [
    "# Indiegogo code to fix dates\n",
    "indiegogo_df['launched'] = pd.to_datetime(indiegogo_df['date_launch'] + ' ' + indiegogo_df['time_launch'])\n",
    "indiegogo_df['deadline'] = pd.to_datetime(indiegogo_df['date_end'] + ' ' + indiegogo_df['time_end'])"
   ],
   "outputs": [],
   "metadata": {}
  },
  {
   "cell_type": "markdown",
   "source": [
    "## Clean small kickstarter df"
   ],
   "metadata": {}
  },
  {
   "cell_type": "code",
   "execution_count": null,
   "source": [
    "# Only look at US\n",
    "kickstarter_small_most_backed_df = kickstarter_small_most_backed_df[kickstarter_small_most_backed_df['currency'] == 'usd']"
   ],
   "outputs": [],
   "metadata": {}
  },
  {
   "cell_type": "markdown",
   "source": [
    "## Create dfs from selected columns"
   ],
   "metadata": {}
  },
  {
   "cell_type": "code",
   "execution_count": null,
   "source": [
    "# List of kickstart and indiegogo columns to drop\n",
    "kickstarter_cols_drop = ['category', 'goal', 'pledged', 'usdpledged']\n",
    "kickstarter_small_cols_drop = ['blurb', 'by', 'url']\n",
    "indiegogo_cols_drop = ['year_end',\n",
    "'month_end',\n",
    "'day_end',\n",
    "'amount_raised',\n",
    "'in_demand',\n",
    "'year_launch',\n",
    "'month_launch',\n",
    "'day_launch',\n",
    "'tagline',\n",
    "'url',\n",
    "'australia',\n",
    "'canada',\n",
    "'switzerland',\n",
    "'denmark',\n",
    "'western_europe',\n",
    "'great_britain',\n",
    "'hong_kong',\n",
    "'norway',\n",
    "'sweden',\n",
    "'singapore',\n",
    "'united_states',\n",
    "'education',\n",
    "'productivity',\n",
    "'energy_greentech',\n",
    "'wellness',\n",
    "'comics',\n",
    "'fashion_wearables',\n",
    "'video_games',\n",
    "'photography',\n",
    "'tv_shows',\n",
    "'dance_theater',\n",
    "'phones_accessories',\n",
    "'audio',\n",
    "'film',\n",
    "'transportation',\n",
    "'art',\n",
    "'environment',\n",
    "'writing_publishing',\n",
    "'music',\n",
    "'travel_outdoors',\n",
    "'health_fitness',\n",
    "'tabletop_games',\n",
    "'home',\n",
    "'local_business',\n",
    "'food_beverage',\n",
    "'culture',\n",
    "'human_rights',\n",
    "'podcasts_vlogs',\n",
    "'camera_gear',\n",
    "'time_end',\n",
    "'time_launch',\n",
    "'date_launch',\n",
    "'date_end',\n",
    "'jan',\n",
    "'feb',\n",
    "'mar',\n",
    "'apr',\n",
    "'may',\n",
    "'jun',\n",
    "'jul',\n",
    "'aug',\n",
    "'sep',\n",
    "'oct',\n",
    "'nov',\n",
    "'dec',\n",
    "'tperiod']\n",
    "\n",
    "# Selected columns kickstarter df\n",
    "kickstarter_selected_cols_large_recent_df = kickstarter_large_recent_df.drop(kickstarter_cols_drop, axis=1)\n",
    "\n",
    "# Selected columns kickstarter small df\n",
    "kickstarter_selected_cols_small_most_backed_df = kickstarter_small_most_backed_df.drop(kickstarter_small_cols_drop, axis=1)\n",
    "\n",
    "# Selected columns indiegogo df\n",
    "indiegogo_selected_cols_df = indiegogo_df.drop(indiegogo_cols_drop, axis=1)"
   ],
   "outputs": [],
   "metadata": {}
  },
  {
   "cell_type": "markdown",
   "source": [
    "## Add new kickstarter cols"
   ],
   "metadata": {}
  },
  {
   "cell_type": "code",
   "execution_count": null,
   "source": [
    "# Duration\n",
    "kickstarter_selected_cols_large_recent_df['duration'] = kickstarter_selected_cols_large_recent_df['deadline'] - kickstarter_selected_cols_large_recent_df['launched'] \n",
    "kickstarter_selected_cols_large_recent_df['duration'] = kickstarter_selected_cols_large_recent_df['duration'].dt.days\n",
    "\n",
    "# Daily Goal \n",
    "kickstarter_selected_cols_large_recent_df['daily_goal'] = round(kickstarter_selected_cols_large_recent_df['usd_goal_real'] / kickstarter_selected_cols_large_recent_df['duration'],2)\n",
    "\n",
    "# Daily Pledged\n",
    "kickstarter_selected_cols_large_recent_df['daily_pledged'] = round(kickstarter_selected_cols_large_recent_df['usd_pledged_real'] / kickstarter_selected_cols_large_recent_df['duration'],2)\n",
    "\n",
    "# Funded Percentage\n",
    "kickstarter_selected_cols_large_recent_df['funded_percent'] = round(kickstarter_selected_cols_large_recent_df['usd_pledged_real'] / kickstarter_selected_cols_large_recent_df['usd_goal_real'],4)\n",
    "\n",
    "# Average Backer Per Day\n",
    "kickstarter_selected_cols_large_recent_df['avg_backer_per_day'] = round(kickstarter_selected_cols_large_recent_df['backers'] / kickstarter_selected_cols_large_recent_df['duration'],2)\n",
    "\n",
    "# Pledged Per Person\n",
    "kickstarter_selected_cols_large_recent_df['pledged_per_person'] = round(kickstarter_selected_cols_large_recent_df['usd_pledged_real'] / kickstarter_selected_cols_large_recent_df['backers'],2)\n",
    "kickstarter_selected_cols_large_recent_df['pledged_per_person'] = kickstarter_selected_cols_large_recent_df['pledged_per_person'].fillna(0)\n",
    "\n",
    "# Fix types\n",
    "kickstarter_selected_cols_large_recent_df = kickstarter_selected_cols_large_recent_df.astype({\"funded_percent\": 'float', \"avg_backer_per_day\":'float', \"pledged_per_person\": 'float'})"
   ],
   "outputs": [],
   "metadata": {}
  },
  {
   "cell_type": "markdown",
   "source": [
    "## Add new indiegogo cols"
   ],
   "metadata": {}
  },
  {
   "cell_type": "code",
   "execution_count": null,
   "source": [
    "# Duration\n",
    "indiegogo_selected_cols_df['duration'] = indiegogo_selected_cols_df['deadline'] - indiegogo_selected_cols_df['launched'] \n",
    "indiegogo_selected_cols_df['duration'] = indiegogo_selected_cols_df['duration'].dt.days\n",
    "\n",
    "# Daily Goal \n",
    "indiegogo_selected_cols_df['daily_goal'] = round(indiegogo_selected_cols_df['usd_goal_real'] / indiegogo_selected_cols_df['duration'],2)\n",
    "\n",
    "# Daily Pledged\n",
    "indiegogo_selected_cols_df['daily_pledged'] = round(indiegogo_selected_cols_df['usd_pledged_real'] / indiegogo_selected_cols_df['duration'],2)\n",
    "\n",
    "# Funded Percentage\n",
    "indiegogo_selected_cols_df['funded_percent'] = round(indiegogo_selected_cols_df['usd_pledged_real'] / indiegogo_selected_cols_df['usd_goal_real'],4)\n",
    "\n",
    "# Fix types\n",
    "indiegogo_selected_cols_df = indiegogo_selected_cols_df.astype({\"funded_percent\": 'float'})"
   ],
   "outputs": [],
   "metadata": {}
  },
  {
   "cell_type": "markdown",
   "source": [
    "## Reorder cols"
   ],
   "metadata": {}
  },
  {
   "cell_type": "code",
   "execution_count": null,
   "source": [
    "# Base column names for reordering\n",
    "base_order = ['name', 'main_category', 'currency', 'usd_goal_real', 'usd_pledged_real', 'deadline', 'launched', 'state', 'funded_percent','duration', 'daily_goal', 'daily_pledged']\n",
    "small_kickstarter_order = ['name', 'main_category', 'currency', 'usd_goal_real', 'usd_pledged_real', 'location', 'backers', 'num.backers.tier', 'pledge.tier']\n",
    "kickstarter_order = base_order + ['country', 'avg_backer_per_day', 'pledged_per_person']\n",
    "indiegogo_order = base_order\n",
    "\n",
    "# Reorder each df\n",
    "kickstarter_selected_cols_large_recent_df = kickstarter_selected_cols_large_recent_df[kickstarter_order]\n",
    "kickstarter_selected_cols_small_most_backed_df = kickstarter_selected_cols_small_most_backed_df[small_kickstarter_order]\n",
    "indiegogo_selected_cols_df = indiegogo_selected_cols_df[indiegogo_order]"
   ],
   "outputs": [],
   "metadata": {}
  },
  {
   "cell_type": "markdown",
   "source": [
    "## Write clean data to files"
   ],
   "metadata": {}
  },
  {
   "cell_type": "code",
   "execution_count": null,
   "source": [
    "kickstarter_selected_cols_large_recent_df.to_csv('./Resources/kickstarter_data_clean/ks-projects-large.csv')\n",
    "kickstarter_selected_cols_small_most_backed_df.to_csv('./Resources/kickstarter_data_clean/ks-projects-small.csv')\n",
    "indiegogo_selected_cols_df.to_csv('./Resources/kickstarter_data_clean/indiegogo-projects.csv')"
   ],
   "outputs": [],
   "metadata": {}
  }
 ],
 "metadata": {
  "orig_nbformat": 4,
  "language_info": {
   "name": "python"
  }
 },
 "nbformat": 4,
 "nbformat_minor": 2
}