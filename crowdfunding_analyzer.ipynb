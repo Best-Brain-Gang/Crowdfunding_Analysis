{
 "cells": [
  {
   "cell_type": "code",
   "execution_count": null,
   "source": [
    "# Import the required libraries and dependencies\n",
    "import os\n",
    "import pandas as pd\n",
    "import plotly.express as px\n",
    "import hvplot.pandas\n",
    "from pathlib import Path\n",
    "from dotenv import load_dotenv"
   ],
   "outputs": [],
   "metadata": {}
  },
  {
   "cell_type": "markdown",
   "source": [
    "## Enable your Mapbox API access token"
   ],
   "metadata": {}
  },
  {
   "cell_type": "code",
   "execution_count": null,
   "source": [
    "# Load the .env file into the notebook\n",
    "load_dotenv()\n",
    "\n",
    "# Read in your MAPBOX_API_KEY\n",
    "mapbox_api_access_token = os.getenv('MAPBOX_API_ACCESS_TOKEN')\n",
    "\n",
    "# Confirm the availability of your Mapbox API access token by checking its type\n",
    "display(type(mapbox_api_access_token))\n",
    "\n",
    "# Set your Mapbox API access token\n",
    "px.set_mapbox_access_token(mapbox_api_access_token)"
   ],
   "outputs": [],
   "metadata": {}
  },
  {
   "cell_type": "markdown",
   "source": [
    "## Import the data "
   ],
   "metadata": {}
  },
  {
   "cell_type": "code",
   "execution_count": null,
   "source": [],
   "outputs": [],
   "metadata": {}
  }
 ],
 "metadata": {
  "kernelspec": {
   "display_name": "Python 3",
   "language": "python",
   "name": "python3"
  },
  "language_info": {
   "codemirror_mode": {
    "name": "ipython",
    "version": 3
   },
   "file_extension": ".py",
   "mimetype": "text/x-python",
   "name": "python",
   "nbconvert_exporter": "python",
   "pygments_lexer": "ipython3",
   "version": "3.8.5"
  }
 },
 "nbformat": 4,
 "nbformat_minor": 4
}