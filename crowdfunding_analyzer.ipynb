{
 "cells": [
  {
   "cell_type": "code",
   "execution_count": 15,
   "source": [
    "# Import the required libraries and dependencies\n",
    "import os\n",
    "import pandas as pd\n",
    "from pathlib import Path\n",
    "from dotenv import load_dotenv\n",
    "import sqlalchemy\n",
    "\n",
    "# Add viz libs\n",
    "import matplotlib.pyplot as plt\n",
    "import seaborn as sns\n",
    "import plotly.express as px\n",
    "import hvplot.pandas\n",
    "import altair as alt \n",
    "from bokeh.plotting import figure, show\n",
    "import folium"
   ],
   "outputs": [],
   "metadata": {}
  },
  {
   "cell_type": "markdown",
   "source": [
    "## Clean data"
   ],
   "metadata": {}
  },
  {
   "cell_type": "code",
   "execution_count": 16,
   "source": [
    "# Force clean vars\n",
    "force_clean_large_kickstarter = False\n",
    "force_clean_small_kickstarter = False\n",
    "force_clean_indiegogo = False\n",
    "\n",
    "# Clean large kickstarter\n",
    "my_kickstarter_large_file = Path('./Resources/kickstarter_data_clean/ks-projects-large.csv')\n",
    "if not my_kickstarter_large_file.is_file() or force_clean_large_kickstarter:\n",
    "    %run ./clean_kickstarter_large.ipynb\n",
    "\n",
    "# Clean small kickstarter\n",
    "my_kickstarter_small_file = Path('./Resources/kickstarter_data_clean/ks-projects-small.csv')\n",
    "if not my_kickstarter_small_file.is_file() or force_clean_small_kickstarter:\n",
    "    %run ./clean_kickstarter_small.ipynb\n",
    "\n",
    "# Clean indiegogo kickstarter\n",
    "my_indiegogo_file = Path('./Resources/indiegogo_data_clean/indiegogo-projects.csv')\n",
    "if not my_indiegogo_file.is_file() or force_clean_indiegogo:\n",
    "    %run ./clean_indiegogo.ipynb"
   ],
   "outputs": [],
   "metadata": {}
  },
  {
   "cell_type": "markdown",
   "source": [
    "## Enable Mapbox API access token"
   ],
   "metadata": {}
  },
  {
   "cell_type": "code",
   "execution_count": 17,
   "source": [
    "# Load the .env file into the notebook\n",
    "load_dotenv()\n",
    "\n",
    "# Read in your MAPBOX_API_KEY\n",
    "mapbox_api_access_token = os.getenv('MAPBOX_API_ACCESS_TOKEN')\n",
    "\n",
    "# Confirm the availability of your Mapbox API access token by checking its type\n",
    "display(type(mapbox_api_access_token))\n",
    "\n",
    "# Set your Mapbox API access token\n",
    "px.set_mapbox_access_token(mapbox_api_access_token)"
   ],
   "outputs": [
    {
     "output_type": "display_data",
     "data": {
      "text/plain": "str"
     },
     "metadata": {}
    }
   ],
   "metadata": {}
  },
  {
   "cell_type": "markdown",
   "source": [
    "## Read kickstarter large"
   ],
   "metadata": {}
  },
  {
   "cell_type": "code",
   "execution_count": 18,
   "source": [
    "# Import small kickstarter most backed dataset\n",
    "kickstarter_large_clean_df = pd.read_csv(\n",
    "    Path('./Resources/kickstarter_data_clean/ks-projects-large.csv')\n",
    ")\n",
    "\n",
    "# Fix dates\n",
    "kickstarter_large_clean_df['launched'] = pd.to_datetime(kickstarter_large_clean_df['launched'])\n",
    "kickstarter_large_clean_df['deadline'] = pd.to_datetime(kickstarter_large_clean_df['deadline'])\n",
    "\n",
    "# View head\n",
    "kickstarter_large_clean_df.head(2)"
   ],
   "outputs": [
    {
     "output_type": "execute_result",
     "data": {
      "text/plain": [
       "           ID                                           name main_category  \\\n",
       "0  1000002330                The Songs of Adelaide & Abullah    Publishing   \n",
       "1  1000003930  Greeting From Earth: ZGAC Arts Capsule For ET  Film & Video   \n",
       "\n",
       "  currency  usd_goal_real  usd_pledged_real   deadline            launched  \\\n",
       "0      GBP        1533.95               0.0 2015-10-09 2015-08-11 12:12:28   \n",
       "1      USD       30000.00            2421.0 2017-11-01 2017-09-02 04:43:57   \n",
       "\n",
       "   state  funded_percent  duration  daily_goal  daily_pledged country  \\\n",
       "0      0          0.0000        58       26.45           0.00      GB   \n",
       "1      0          0.0807        59      508.47          41.03      US   \n",
       "\n",
       "   avg_backer_per_day  pledged_per_person  \n",
       "0                0.00                 0.0  \n",
       "1                0.25               161.4  "
      ],
      "text/html": "<div>\n<style scoped>\n    .dataframe tbody tr th:only-of-type {\n        vertical-align: middle;\n    }\n\n    .dataframe tbody tr th {\n        vertical-align: top;\n    }\n\n    .dataframe thead th {\n        text-align: right;\n    }\n</style>\n<table border=\"1\" class=\"dataframe\">\n  <thead>\n    <tr style=\"text-align: right;\">\n      <th></th>\n      <th>ID</th>\n      <th>name</th>\n      <th>main_category</th>\n      <th>currency</th>\n      <th>usd_goal_real</th>\n      <th>usd_pledged_real</th>\n      <th>deadline</th>\n      <th>launched</th>\n      <th>state</th>\n      <th>funded_percent</th>\n      <th>duration</th>\n      <th>daily_goal</th>\n      <th>daily_pledged</th>\n      <th>country</th>\n      <th>avg_backer_per_day</th>\n      <th>pledged_per_person</th>\n    </tr>\n  </thead>\n  <tbody>\n    <tr>\n      <th>0</th>\n      <td>1000002330</td>\n      <td>The Songs of Adelaide &amp; Abullah</td>\n      <td>Publishing</td>\n      <td>GBP</td>\n      <td>1533.95</td>\n      <td>0.0</td>\n      <td>2015-10-09</td>\n      <td>2015-08-11 12:12:28</td>\n      <td>0</td>\n      <td>0.0000</td>\n      <td>58</td>\n      <td>26.45</td>\n      <td>0.00</td>\n      <td>GB</td>\n      <td>0.00</td>\n      <td>0.0</td>\n    </tr>\n    <tr>\n      <th>1</th>\n      <td>1000003930</td>\n      <td>Greeting From Earth: ZGAC Arts Capsule For ET</td>\n      <td>Film &amp; Video</td>\n      <td>USD</td>\n      <td>30000.00</td>\n      <td>2421.0</td>\n      <td>2017-11-01</td>\n      <td>2017-09-02 04:43:57</td>\n      <td>0</td>\n      <td>0.0807</td>\n      <td>59</td>\n      <td>508.47</td>\n      <td>41.03</td>\n      <td>US</td>\n      <td>0.25</td>\n      <td>161.4</td>\n    </tr>\n  </tbody>\n</table>\n</div>"
     },
     "metadata": {},
     "execution_count": 18
    }
   ],
   "metadata": {}
  },
  {
   "cell_type": "markdown",
   "source": [
    "## Read kickstarter small"
   ],
   "metadata": {}
  },
  {
   "cell_type": "code",
   "execution_count": 19,
   "source": [
    "# Import small kickstarter most backed dataset\n",
    "kickstarter_small_clean_df = pd.read_csv(\n",
    "    Path('./Resources/kickstarter_data_clean/ks-projects-small.csv')\n",
    ")\n",
    "\n",
    "# View head\n",
    "kickstarter_small_clean_df.head(2)"
   ],
   "outputs": [
    {
     "output_type": "execute_result",
     "data": {
      "text/plain": [
       "   ID                           name   main_category currency  usd_goal_real  \\\n",
       "0   0              Exploding Kittens  Tabletop Games      USD        10000.0   \n",
       "1   1  Fidget Cube: A Vinyl Desk Toy  Product Design      USD        15000.0   \n",
       "\n",
       "   usd_pledged_real         location  backers  \\\n",
       "0         8782571.0  Los Angeles, CA   219382   \n",
       "1         6465690.0       Denver, CO   154926   \n",
       "\n",
       "                                    num.backers.tier  \\\n",
       "0                            [15505, 202934, 200, 5]   \n",
       "1  [788, 250, 43073, 21796, 41727, 21627, 12215, ...   \n",
       "\n",
       "                                         pledge.tier  \n",
       "0                         [20.0, 35.0, 100.0, 500.0]  \n",
       "1  [1.0, 14.0, 19.0, 19.0, 35.0, 35.0, 79.0, 79.0...  "
      ],
      "text/html": "<div>\n<style scoped>\n    .dataframe tbody tr th:only-of-type {\n        vertical-align: middle;\n    }\n\n    .dataframe tbody tr th {\n        vertical-align: top;\n    }\n\n    .dataframe thead th {\n        text-align: right;\n    }\n</style>\n<table border=\"1\" class=\"dataframe\">\n  <thead>\n    <tr style=\"text-align: right;\">\n      <th></th>\n      <th>ID</th>\n      <th>name</th>\n      <th>main_category</th>\n      <th>currency</th>\n      <th>usd_goal_real</th>\n      <th>usd_pledged_real</th>\n      <th>location</th>\n      <th>backers</th>\n      <th>num.backers.tier</th>\n      <th>pledge.tier</th>\n    </tr>\n  </thead>\n  <tbody>\n    <tr>\n      <th>0</th>\n      <td>0</td>\n      <td>Exploding Kittens</td>\n      <td>Tabletop Games</td>\n      <td>USD</td>\n      <td>10000.0</td>\n      <td>8782571.0</td>\n      <td>Los Angeles, CA</td>\n      <td>219382</td>\n      <td>[15505, 202934, 200, 5]</td>\n      <td>[20.0, 35.0, 100.0, 500.0]</td>\n    </tr>\n    <tr>\n      <th>1</th>\n      <td>1</td>\n      <td>Fidget Cube: A Vinyl Desk Toy</td>\n      <td>Product Design</td>\n      <td>USD</td>\n      <td>15000.0</td>\n      <td>6465690.0</td>\n      <td>Denver, CO</td>\n      <td>154926</td>\n      <td>[788, 250, 43073, 21796, 41727, 21627, 12215, ...</td>\n      <td>[1.0, 14.0, 19.0, 19.0, 35.0, 35.0, 79.0, 79.0...</td>\n    </tr>\n  </tbody>\n</table>\n</div>"
     },
     "metadata": {},
     "execution_count": 19
    }
   ],
   "metadata": {}
  },
  {
   "cell_type": "markdown",
   "source": [
    "## Read indiegogo"
   ],
   "metadata": {}
  },
  {
   "cell_type": "code",
   "execution_count": 20,
   "source": [
    "# Import indiegogo dataset\n",
    "indiegogo_clean_df = pd.read_csv(\n",
    "    Path('./Resources/indiegogo_data_clean/indiegogo-projects.csv')\n",
    ")\n",
    "\n",
    "# Fix dates\n",
    "indiegogo_clean_df['launched'] = pd.to_datetime(indiegogo_clean_df['launched'])\n",
    "indiegogo_clean_df['deadline'] = pd.to_datetime(indiegogo_clean_df['deadline'])\n",
    "\n",
    "# View head\n",
    "indiegogo_clean_df.head(2)"
   ],
   "outputs": [
    {
     "output_type": "execute_result",
     "data": {
      "text/plain": [
       "     ID                             name   main_category currency  \\\n",
       "0  3936  Join the Electric Revolution!!!  Transportation      USD   \n",
       "1  5109             Relief Trip to Haiti    Human Rights      USD   \n",
       "\n",
       "   usd_goal_real  usd_pledged_real            deadline            launched  \\\n",
       "0         5000.0             840.0 2010-05-12 23:59:00 2010-04-21 22:38:42   \n",
       "1         1200.0             250.0 2010-07-02 23:59:00 2010-06-10 17:47:35   \n",
       "\n",
       "   state  funded_percent  duration  daily_goal  daily_pledged country  \n",
       "0      0          0.1680        21      238.10          40.00      US  \n",
       "1      0          0.2083        22       54.55          11.36      US  "
      ],
      "text/html": "<div>\n<style scoped>\n    .dataframe tbody tr th:only-of-type {\n        vertical-align: middle;\n    }\n\n    .dataframe tbody tr th {\n        vertical-align: top;\n    }\n\n    .dataframe thead th {\n        text-align: right;\n    }\n</style>\n<table border=\"1\" class=\"dataframe\">\n  <thead>\n    <tr style=\"text-align: right;\">\n      <th></th>\n      <th>ID</th>\n      <th>name</th>\n      <th>main_category</th>\n      <th>currency</th>\n      <th>usd_goal_real</th>\n      <th>usd_pledged_real</th>\n      <th>deadline</th>\n      <th>launched</th>\n      <th>state</th>\n      <th>funded_percent</th>\n      <th>duration</th>\n      <th>daily_goal</th>\n      <th>daily_pledged</th>\n      <th>country</th>\n    </tr>\n  </thead>\n  <tbody>\n    <tr>\n      <th>0</th>\n      <td>3936</td>\n      <td>Join the Electric Revolution!!!</td>\n      <td>Transportation</td>\n      <td>USD</td>\n      <td>5000.0</td>\n      <td>840.0</td>\n      <td>2010-05-12 23:59:00</td>\n      <td>2010-04-21 22:38:42</td>\n      <td>0</td>\n      <td>0.1680</td>\n      <td>21</td>\n      <td>238.10</td>\n      <td>40.00</td>\n      <td>US</td>\n    </tr>\n    <tr>\n      <th>1</th>\n      <td>5109</td>\n      <td>Relief Trip to Haiti</td>\n      <td>Human Rights</td>\n      <td>USD</td>\n      <td>1200.0</td>\n      <td>250.0</td>\n      <td>2010-07-02 23:59:00</td>\n      <td>2010-06-10 17:47:35</td>\n      <td>0</td>\n      <td>0.2083</td>\n      <td>22</td>\n      <td>54.55</td>\n      <td>11.36</td>\n      <td>US</td>\n    </tr>\n  </tbody>\n</table>\n</div>"
     },
     "metadata": {},
     "execution_count": 20
    }
   ],
   "metadata": {}
  },
  {
   "cell_type": "markdown",
   "source": [
    "## Add SQL database and simple functions to load and access tables in that database"
   ],
   "metadata": {}
  },
  {
   "cell_type": "code",
   "execution_count": 35,
   "source": [
    "# Establishes Database Connection with a temporary SQL db (we can update to give it a name later)\n",
    "database_connection_string = \"sqlite:///\"\n",
    "\n",
    "engine = sqlalchemy.create_engine(database_connection_string)\n",
    "\n",
    "# Function to load table into DB\n",
    "# data is the dataframe we want to save, \n",
    "# table name is the name of the new table (as a string value), \n",
    "# and engine is the engine input established earlier\n",
    "def new_table(data, table_name):\n",
    "    data.to_sql(f\"{table_name}\", engine, index=True, if_exists=\"replace\")\n",
    "\n",
    "\n",
    "# Lets us load the table of our choice from the database, just set the function equal to a new dataframe variable and run \n",
    "# must set the table name as a string value\n",
    "def load_full_table(table_name):\n",
    "    new_df = pd.read_sql_table(f\"{table_name}\", con=engine )\n",
    "    return new_df\n",
    "\n",
    "new_table(kickstarter_large_clean_df, \"kickstarter_large\")\n",
    "new_table(kickstarter_small_clean_df, \"kickstarter_small\")\n",
    "new_table(indiegogo_clean_df, \"indie_gogo\")"
   ],
   "outputs": [],
   "metadata": {}
  },
  {
   "cell_type": "code",
   "execution_count": 47,
   "metadata": {},
   "outputs": [
    {
     "output_type": "execute_result",
     "data": {
      "text/plain": [
       "       main_category  duration\n",
       "0         Publishing        58\n",
       "1       Film & Video        59\n",
       "2       Film & Video        44\n",
       "3              Music        29\n",
       "4               Food        34\n",
       "...              ...       ...\n",
       "331548          Food        29\n",
       "331549  Film & Video        26\n",
       "331550  Film & Video        45\n",
       "331551    Technology        30\n",
       "331552           Art        27\n",
       "\n",
       "[331553 rows x 2 columns]"
      ],
      "text/html": "<div>\n<style scoped>\n    .dataframe tbody tr th:only-of-type {\n        vertical-align: middle;\n    }\n\n    .dataframe tbody tr th {\n        vertical-align: top;\n    }\n\n    .dataframe thead th {\n        text-align: right;\n    }\n</style>\n<table border=\"1\" class=\"dataframe\">\n  <thead>\n    <tr style=\"text-align: right;\">\n      <th></th>\n      <th>main_category</th>\n      <th>duration</th>\n    </tr>\n  </thead>\n  <tbody>\n    <tr>\n      <th>0</th>\n      <td>Publishing</td>\n      <td>58</td>\n    </tr>\n    <tr>\n      <th>1</th>\n      <td>Film &amp; Video</td>\n      <td>59</td>\n    </tr>\n    <tr>\n      <th>2</th>\n      <td>Film &amp; Video</td>\n      <td>44</td>\n    </tr>\n    <tr>\n      <th>3</th>\n      <td>Music</td>\n      <td>29</td>\n    </tr>\n    <tr>\n      <th>4</th>\n      <td>Food</td>\n      <td>34</td>\n    </tr>\n    <tr>\n      <th>...</th>\n      <td>...</td>\n      <td>...</td>\n    </tr>\n    <tr>\n      <th>331548</th>\n      <td>Food</td>\n      <td>29</td>\n    </tr>\n    <tr>\n      <th>331549</th>\n      <td>Film &amp; Video</td>\n      <td>26</td>\n    </tr>\n    <tr>\n      <th>331550</th>\n      <td>Film &amp; Video</td>\n      <td>45</td>\n    </tr>\n    <tr>\n      <th>331551</th>\n      <td>Technology</td>\n      <td>30</td>\n    </tr>\n    <tr>\n      <th>331552</th>\n      <td>Art</td>\n      <td>27</td>\n    </tr>\n  </tbody>\n</table>\n<p>331553 rows × 2 columns</p>\n</div>"
     },
     "metadata": {},
     "execution_count": 47
    }
   ],
   "source": [
    "# Create a SQL query to get the main_category and duration of the Kickstarter Large dataframe.\n",
    "query = \"\"\"\n",
    "SELECT main_category, duration\n",
    "FROM kickstarter_large\n",
    "\"\"\"\n",
    "\n",
    "# This will let us read the query we applied earlier to create a dataframe.\n",
    "kickstarter_large_duration_dataframe = pd.read_sql_query(\n",
    "    query, \n",
    "    con= engine)\n",
    "kickstarter_large_duration_dataframe"
   ]
  },
  {
   "cell_type": "code",
   "execution_count": 93,
   "metadata": {},
   "outputs": [
    {
     "output_type": "execute_result",
     "data": {
      "text/plain": [
       "   main_category  average_duration_days\n",
       "0          Music              34.304318\n",
       "1     Technology              34.263891\n",
       "2   Film & Video              34.009856\n",
       "3     Journalism              33.250482\n",
       "4         Design              33.138903\n",
       "5           Food              32.896073\n",
       "6         Comics              32.846629\n",
       "7     Publishing              32.728632\n",
       "8    Photography              32.514914\n",
       "9        Theater              32.313122\n",
       "10         Dance              31.813322\n",
       "11       Fashion              31.613027\n",
       "12           Art              31.332670\n",
       "13         Games              31.218295\n",
       "14        Crafts              30.447429"
      ],
      "text/html": "<div>\n<style scoped>\n    .dataframe tbody tr th:only-of-type {\n        vertical-align: middle;\n    }\n\n    .dataframe tbody tr th {\n        vertical-align: top;\n    }\n\n    .dataframe thead th {\n        text-align: right;\n    }\n</style>\n<table border=\"1\" class=\"dataframe\">\n  <thead>\n    <tr style=\"text-align: right;\">\n      <th></th>\n      <th>main_category</th>\n      <th>average_duration_days</th>\n    </tr>\n  </thead>\n  <tbody>\n    <tr>\n      <th>0</th>\n      <td>Music</td>\n      <td>34.304318</td>\n    </tr>\n    <tr>\n      <th>1</th>\n      <td>Technology</td>\n      <td>34.263891</td>\n    </tr>\n    <tr>\n      <th>2</th>\n      <td>Film &amp; Video</td>\n      <td>34.009856</td>\n    </tr>\n    <tr>\n      <th>3</th>\n      <td>Journalism</td>\n      <td>33.250482</td>\n    </tr>\n    <tr>\n      <th>4</th>\n      <td>Design</td>\n      <td>33.138903</td>\n    </tr>\n    <tr>\n      <th>5</th>\n      <td>Food</td>\n      <td>32.896073</td>\n    </tr>\n    <tr>\n      <th>6</th>\n      <td>Comics</td>\n      <td>32.846629</td>\n    </tr>\n    <tr>\n      <th>7</th>\n      <td>Publishing</td>\n      <td>32.728632</td>\n    </tr>\n    <tr>\n      <th>8</th>\n      <td>Photography</td>\n      <td>32.514914</td>\n    </tr>\n    <tr>\n      <th>9</th>\n      <td>Theater</td>\n      <td>32.313122</td>\n    </tr>\n    <tr>\n      <th>10</th>\n      <td>Dance</td>\n      <td>31.813322</td>\n    </tr>\n    <tr>\n      <th>11</th>\n      <td>Fashion</td>\n      <td>31.613027</td>\n    </tr>\n    <tr>\n      <th>12</th>\n      <td>Art</td>\n      <td>31.332670</td>\n    </tr>\n    <tr>\n      <th>13</th>\n      <td>Games</td>\n      <td>31.218295</td>\n    </tr>\n    <tr>\n      <th>14</th>\n      <td>Crafts</td>\n      <td>30.447429</td>\n    </tr>\n  </tbody>\n</table>\n</div>"
     },
     "metadata": {},
     "execution_count": 93
    }
   ],
   "source": [
    "# Create a SQL query to get the main_category and \n",
    "# duration of the Kickstarter Large dataframe and \n",
    "# group them by main_category and get its average duration days.\n",
    "query=\"\"\"SELECT\n",
    "   main_category, AVG(duration) AS average_duration_days\n",
    "FROM\n",
    "  kickstarter_large\n",
    "GROUP BY\n",
    "  main_category\n",
    "ORDER BY \n",
    "    AVG(duration) DESC,\n",
    "    main_category DESC;\n",
    "\"\"\"\n",
    "# This will let us read the query we applied earlier to create a dataframe.\n",
    "kickstarter_large_groupby_maincategory_df = pd.read_sql_query(\n",
    "    query, \n",
    "    con= engine)\n",
    "kickstarter_large_groupby_maincategory_df\n"
   ]
  },
  {
   "cell_type": "code",
   "execution_count": 95,
   "metadata": {},
   "outputs": [
    {
     "output_type": "display_data",
     "data": {},
     "metadata": {}
    },
    {
     "output_type": "execute_result",
     "data": {
      "text/html": "<div id='3190'>\n\n\n\n\n\n  <div class=\"bk-root\" id=\"9a425b5a-e2fe-4c18-98ca-53fd8c470bd7\" data-root-id=\"3190\"></div>\n</div>\n<script type=\"application/javascript\">(function(root) {\n  function embed_document(root) {\n    var docs_json = {\"e8f28181-0e30-4000-90d3-017cee604cf0\":{\"roots\":{\"references\":[{\"attributes\":{\"axis\":{\"id\":\"3204\"},\"grid_line_color\":null,\"ticker\":null},\"id\":\"3206\",\"type\":\"Grid\"},{\"attributes\":{},\"id\":\"3205\",\"type\":\"CategoricalTicker\"},{\"attributes\":{},\"id\":\"3244\",\"type\":\"UnionRenderers\"},{\"attributes\":{\"end\":35.0,\"reset_end\":35.0,\"reset_start\":30.0,\"start\":30.0,\"tags\":[[[\"average_duration_days\",\"average_duration_days\",null]]]},\"id\":\"3193\",\"type\":\"Range1d\"},{\"attributes\":{},\"id\":\"3235\",\"type\":\"BasicTickFormatter\"},{\"attributes\":{\"below\":[{\"id\":\"3204\"}],\"center\":[{\"id\":\"3206\"},{\"id\":\"3210\"}],\"left\":[{\"id\":\"3207\"}],\"margin\":[5,5,5,5],\"min_border_bottom\":10,\"min_border_left\":10,\"min_border_right\":10,\"min_border_top\":10,\"plot_height\":300,\"plot_width\":700,\"renderers\":[{\"id\":\"3231\"}],\"sizing_mode\":\"fixed\",\"title\":{\"id\":\"3196\"},\"toolbar\":{\"id\":\"3217\"},\"x_range\":{\"id\":\"3192\"},\"x_scale\":{\"id\":\"3200\"},\"y_range\":{\"id\":\"3193\"},\"y_scale\":{\"id\":\"3202\"}},\"id\":\"3195\",\"subtype\":\"Figure\",\"type\":\"Plot\"},{\"attributes\":{\"axis_label\":\"main_category\",\"bounds\":\"auto\",\"formatter\":{\"id\":\"3233\"},\"major_label_orientation\":1.0471975511965976,\"ticker\":{\"id\":\"3205\"}},\"id\":\"3204\",\"type\":\"CategoricalAxis\"},{\"attributes\":{\"axis\":{\"id\":\"3207\"},\"dimension\":1,\"grid_line_color\":null,\"ticker\":null},\"id\":\"3210\",\"type\":\"Grid\"},{\"attributes\":{},\"id\":\"3212\",\"type\":\"PanTool\"},{\"attributes\":{},\"id\":\"3202\",\"type\":\"LinearScale\"},{\"attributes\":{\"axis_label\":\"average_duration_days\",\"bounds\":\"auto\",\"formatter\":{\"id\":\"3235\"},\"major_label_orientation\":\"horizontal\",\"ticker\":{\"id\":\"3208\"}},\"id\":\"3207\",\"type\":\"LinearAxis\"},{\"attributes\":{},\"id\":\"3208\",\"type\":\"BasicTicker\"},{\"attributes\":{},\"id\":\"3213\",\"type\":\"WheelZoomTool\"},{\"attributes\":{},\"id\":\"3211\",\"type\":\"SaveTool\"},{\"attributes\":{\"overlay\":{\"id\":\"3216\"}},\"id\":\"3214\",\"type\":\"BoxZoomTool\"},{\"attributes\":{\"fill_alpha\":{\"value\":0.2},\"fill_color\":{\"value\":\"#30a2da\"},\"line_alpha\":{\"value\":0.2},\"top\":{\"field\":\"average_duration_days\"},\"width\":{\"value\":0.8},\"x\":{\"field\":\"main_category\"}},\"id\":\"3230\",\"type\":\"VBar\"},{\"attributes\":{},\"id\":\"3215\",\"type\":\"ResetTool\"},{\"attributes\":{},\"id\":\"3233\",\"type\":\"CategoricalTickFormatter\"},{\"attributes\":{\"active_drag\":\"auto\",\"active_inspect\":\"auto\",\"active_multi\":null,\"active_scroll\":\"auto\",\"active_tap\":\"auto\",\"tools\":[{\"id\":\"3194\"},{\"id\":\"3211\"},{\"id\":\"3212\"},{\"id\":\"3213\"},{\"id\":\"3214\"},{\"id\":\"3215\"}]},\"id\":\"3217\",\"type\":\"Toolbar\"},{\"attributes\":{\"margin\":[5,5,5,5],\"name\":\"HSpacer04792\",\"sizing_mode\":\"stretch_width\"},\"id\":\"3253\",\"type\":\"Spacer\"},{\"attributes\":{\"fill_color\":{\"value\":\"#30a2da\"},\"top\":{\"field\":\"average_duration_days\"},\"width\":{\"value\":0.8},\"x\":{\"field\":\"main_category\"}},\"id\":\"3227\",\"type\":\"VBar\"},{\"attributes\":{\"fill_alpha\":{\"value\":0.1},\"fill_color\":{\"value\":\"#30a2da\"},\"line_alpha\":{\"value\":0.1},\"top\":{\"field\":\"average_duration_days\"},\"width\":{\"value\":0.8},\"x\":{\"field\":\"main_category\"}},\"id\":\"3228\",\"type\":\"VBar\"},{\"attributes\":{\"data\":{\"average_duration_days\":{\"__ndarray__\":\"63sD6PMmQUCmIvsxxyFBQMNx0/VCAUFAo+GmzA+gQECHCOGTx5FAQCjOcIeyckBAHxC7VV5sQEA407jSQ11AQO8jMLLoQUBAvFRhZRQoQECY7zDhNdA/QNyH31nvnD9AJCsH4ilVP0D/hkAz4jc/QP0hJbWKcj5A\",\"dtype\":\"float64\",\"order\":\"little\",\"shape\":[15]},\"main_category\":[\"Music\",\"Technology\",\"Film & Video\",\"Journalism\",\"Design\",\"Food\",\"Comics\",\"Publishing\",\"Photography\",\"Theater\",\"Dance\",\"Fashion\",\"Art\",\"Games\",\"Crafts\"]},\"selected\":{\"id\":\"3225\"},\"selection_policy\":{\"id\":\"3244\"}},\"id\":\"3224\",\"type\":\"ColumnDataSource\"},{\"attributes\":{\"factors\":[\"Music\",\"Technology\",\"Film & Video\",\"Journalism\",\"Design\",\"Food\",\"Comics\",\"Publishing\",\"Photography\",\"Theater\",\"Dance\",\"Fashion\",\"Art\",\"Games\",\"Crafts\"],\"tags\":[[[\"main_category\",\"main_category\",null]]]},\"id\":\"3192\",\"type\":\"FactorRange\"},{\"attributes\":{},\"id\":\"3225\",\"type\":\"Selection\"},{\"attributes\":{\"data_source\":{\"id\":\"3224\"},\"glyph\":{\"id\":\"3227\"},\"hover_glyph\":{\"id\":\"3229\"},\"muted_glyph\":{\"id\":\"3230\"},\"nonselection_glyph\":{\"id\":\"3228\"},\"selection_glyph\":null,\"view\":{\"id\":\"3232\"}},\"id\":\"3231\",\"type\":\"GlyphRenderer\"},{\"attributes\":{\"text\":\"Kickstarter's Average Duration Days of Each Main Category\",\"text_color\":{\"value\":\"black\"},\"text_font_size\":{\"value\":\"12pt\"}},\"id\":\"3196\",\"type\":\"Title\"},{\"attributes\":{\"fill_color\":{\"value\":\"orange\"},\"line_color\":{\"value\":\"orange\"},\"top\":{\"field\":\"average_duration_days\"},\"width\":{\"value\":0.8},\"x\":{\"field\":\"main_category\"}},\"id\":\"3229\",\"type\":\"VBar\"},{\"attributes\":{\"children\":[{\"id\":\"3191\"},{\"id\":\"3195\"},{\"id\":\"3253\"}],\"margin\":[0,0,0,0],\"name\":\"Row04787\",\"tags\":[\"embedded\"]},\"id\":\"3190\",\"type\":\"Row\"},{\"attributes\":{\"source\":{\"id\":\"3224\"}},\"id\":\"3232\",\"type\":\"CDSView\"},{\"attributes\":{\"margin\":[5,5,5,5],\"name\":\"HSpacer04791\",\"sizing_mode\":\"stretch_width\"},\"id\":\"3191\",\"type\":\"Spacer\"},{\"attributes\":{},\"id\":\"3200\",\"type\":\"CategoricalScale\"},{\"attributes\":{\"callback\":null,\"renderers\":[{\"id\":\"3231\"}],\"tags\":[\"hv_created\"],\"tooltips\":[[\"main_category\",\"@{main_category}\"],[\"average_duration_days\",\"@{average_duration_days}\"]]},\"id\":\"3194\",\"type\":\"HoverTool\"},{\"attributes\":{\"bottom_units\":\"screen\",\"fill_alpha\":0.5,\"fill_color\":\"lightgrey\",\"left_units\":\"screen\",\"level\":\"overlay\",\"line_alpha\":1.0,\"line_color\":\"black\",\"line_dash\":[4,4],\"line_width\":2,\"right_units\":\"screen\",\"top_units\":\"screen\"},\"id\":\"3216\",\"type\":\"BoxAnnotation\"}],\"root_ids\":[\"3190\"]},\"title\":\"Bokeh Application\",\"version\":\"2.2.3\"}};\n    var render_items = [{\"docid\":\"e8f28181-0e30-4000-90d3-017cee604cf0\",\"root_ids\":[\"3190\"],\"roots\":{\"3190\":\"9a425b5a-e2fe-4c18-98ca-53fd8c470bd7\"}}];\n    root.Bokeh.embed.embed_items_notebook(docs_json, render_items);\n  }\n  if (root.Bokeh !== undefined && root.Bokeh.Panel !== undefined) {\n    embed_document(root);\n  } else {\n    var attempts = 0;\n    var timer = setInterval(function(root) {\n      if (root.Bokeh !== undefined && root.Bokeh.Panel !== undefined) {\n        clearInterval(timer);\n        embed_document(root);\n      } else if (document.readyState == \"complete\") {\n        attempts++;\n        if (attempts > 100) {\n          clearInterval(timer);\n          console.log(\"Bokeh: ERROR: Unable to run BokehJS code because BokehJS library is missing\");\n        }\n      }\n    }, 10, root)\n  }\n})(window);</script>",
      "application/vnd.holoviews_exec.v0+json": "",
      "text/plain": [
       ":Bars   [main_category]   (average_duration_days)"
      ]
     },
     "metadata": {
      "application/vnd.holoviews_exec.v0+json": {
       "id": "3190"
      }
     },
     "execution_count": 95
    }
   ],
   "source": [
    "\n",
    "ks_lrg_duration_plot = kickstarter_large_groupby_maincategory_df.hvplot(kind='bar',\n",
    "                                            x='main_category',\n",
    "                                            ylim=(30.0,35.0),\n",
    "                                            rot=60,\n",
    "                                            title=\"Kickstarter's Average Duration Days of Each Main Category\",\n",
    "                                            hover_color= 'orange'\n",
    "                                            )"
   ]
  },
  {
   "cell_type": "code",
   "execution_count": null,
   "metadata": {},
   "outputs": [],
   "source": []
  }
 ],
 "metadata": {
  "kernelspec": {
   "name": "python3",
   "display_name": "Python 3.8.5 64-bit ('dev': conda)"
  },
  "language_info": {
   "codemirror_mode": {
    "name": "ipython",
    "version": 3
   },
   "file_extension": ".py",
   "mimetype": "text/x-python",
   "name": "python",
   "nbconvert_exporter": "python",
   "pygments_lexer": "ipython3",
   "version": "3.8.5"
  },
  "interpreter": {
   "hash": "addff9a14612e1ccdd62f03aa26fa97b81eff9be4644ddf6081913d03b4e098f"
  }
 },
 "nbformat": 4,
 "nbformat_minor": 4
}