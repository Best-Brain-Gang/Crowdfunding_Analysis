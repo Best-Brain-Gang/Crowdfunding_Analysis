{
 "cells": [
  {
   "cell_type": "code",
   "execution_count": 16,
   "source": [
    "# Import the required libraries and dependencies\n",
    "import os\n",
    "import pandas as pd\n",
    "from pathlib import Path\n",
    "from dotenv import load_dotenv\n",
    "import sqlalchemy\n",
    "\n",
    "# Add viz libs\n",
    "import matplotlib.pyplot as plt\n",
    "import seaborn as sns\n",
    "import plotly.express as px\n",
    "import hvplot.pandas\n",
    "import altair as alt \n",
    "from bokeh.plotting import figure, show\n",
    "import folium"
   ],
   "outputs": [],
   "metadata": {}
  },
  {
   "cell_type": "markdown",
   "source": [
    "## Clean data"
   ],
   "metadata": {}
  },
  {
   "cell_type": "code",
   "execution_count": 9,
   "source": [
    "# Force clean vars\n",
    "force_clean_large_kickstarter = False\n",
    "force_clean_small_kickstarter = False\n",
    "force_clean_indiegogo = False\n",
    "\n",
    "# Clean large kickstarter\n",
    "my_kickstarter_large_file = Path('./Resources/kickstarter_data_clean/ks-projects-large.csv')\n",
    "if not my_kickstarter_large_file.is_file() or force_clean_large_kickstarter:\n",
    "    %run ./clean_kickstarter_large.ipynb\n",
    "\n",
    "# Clean small kickstarter\n",
    "my_kickstarter_small_file = Path('./Resources/kickstarter_data_clean/ks-projects-small.csv')\n",
    "if not my_kickstarter_small_file.is_file() or force_clean_small_kickstarter:\n",
    "    %run ./clean_kickstarter_small.ipynb\n",
    "\n",
    "# Clean indiegogo kickstarter\n",
    "my_indiegogo_file = Path('./Resources/indiegogo_data_clean/indiegogo-projects.csv')\n",
    "if not my_indiegogo_file.is_file() or force_clean_indiegogo:\n",
    "    %run ./clean_indiegogo.ipynb"
   ],
   "outputs": [],
   "metadata": {}
  },
  {
   "cell_type": "markdown",
   "source": [
    "## Enable Mapbox API access token"
   ],
   "metadata": {}
  },
  {
   "cell_type": "code",
   "execution_count": 4,
   "source": [
    "# Load the .env file into the notebook\n",
    "load_dotenv()\n",
    "\n",
    "# Read in your MAPBOX_API_KEY\n",
    "mapbox_api_access_token = os.getenv('MAPBOX_API_ACCESS_TOKEN')\n",
    "\n",
    "# Confirm the availability of your Mapbox API access token by checking its type\n",
    "display(type(mapbox_api_access_token))\n",
    "\n",
    "# Set your Mapbox API access token\n",
    "px.set_mapbox_access_token(mapbox_api_access_token)"
   ],
   "outputs": [
    {
     "output_type": "display_data",
     "data": {
      "text/plain": [
       "str"
      ]
     },
     "metadata": {}
    }
   ],
   "metadata": {}
  },
  {
   "cell_type": "markdown",
   "source": [
    "## Read kickstarter large"
   ],
   "metadata": {}
  },
  {
   "cell_type": "code",
   "execution_count": 5,
   "source": [
    "# Import small kickstarter most backed dataset\n",
    "kickstarter_large_clean_df = pd.read_csv(\n",
    "    Path('./Resources/kickstarter_data_clean/ks-projects-large.csv')\n",
    ")\n",
    "\n",
    "# Fix dates\n",
    "kickstarter_large_clean_df['launched'] = pd.to_datetime(kickstarter_large_clean_df['launched'])\n",
    "kickstarter_large_clean_df['deadline'] = pd.to_datetime(kickstarter_large_clean_df['deadline'])\n",
    "\n",
    "# View head\n",
    "kickstarter_large_clean_df.head(2)"
   ],
   "outputs": [
    {
     "output_type": "execute_result",
     "data": {
      "text/plain": [
       "           ID                                           name main_category  \\\n",
       "0  1000002330                The Songs of Adelaide & Abullah    Publishing   \n",
       "1  1000003930  Greeting From Earth: ZGAC Arts Capsule For ET  Film & Video   \n",
       "\n",
       "  currency  usd_goal_real  usd_pledged_real             deadline  \\\n",
       "0      GBP        1533.95               0.0  2015-10-09 00:00:00   \n",
       "1      USD       30000.00            2421.0  2017-11-01 00:00:00   \n",
       "\n",
       "              launched  state  funded_percent  duration  daily_goal  \\\n",
       "0  2015-08-11 12:12:28      0          0.0000        58       26.45   \n",
       "1  2017-09-02 04:43:57      0          0.0807        59      508.47   \n",
       "\n",
       "   daily_pledged country  avg_backer_per_day  pledged_per_person  \n",
       "0           0.00      GB                0.00                 0.0  \n",
       "1          41.03      US                0.25               161.4  "
      ],
      "text/html": [
       "<div>\n",
       "<style scoped>\n",
       "    .dataframe tbody tr th:only-of-type {\n",
       "        vertical-align: middle;\n",
       "    }\n",
       "\n",
       "    .dataframe tbody tr th {\n",
       "        vertical-align: top;\n",
       "    }\n",
       "\n",
       "    .dataframe thead th {\n",
       "        text-align: right;\n",
       "    }\n",
       "</style>\n",
       "<table border=\"1\" class=\"dataframe\">\n",
       "  <thead>\n",
       "    <tr style=\"text-align: right;\">\n",
       "      <th></th>\n",
       "      <th>ID</th>\n",
       "      <th>name</th>\n",
       "      <th>main_category</th>\n",
       "      <th>currency</th>\n",
       "      <th>usd_goal_real</th>\n",
       "      <th>usd_pledged_real</th>\n",
       "      <th>deadline</th>\n",
       "      <th>launched</th>\n",
       "      <th>state</th>\n",
       "      <th>funded_percent</th>\n",
       "      <th>duration</th>\n",
       "      <th>daily_goal</th>\n",
       "      <th>daily_pledged</th>\n",
       "      <th>country</th>\n",
       "      <th>avg_backer_per_day</th>\n",
       "      <th>pledged_per_person</th>\n",
       "    </tr>\n",
       "  </thead>\n",
       "  <tbody>\n",
       "    <tr>\n",
       "      <th>0</th>\n",
       "      <td>1000002330</td>\n",
       "      <td>The Songs of Adelaide &amp; Abullah</td>\n",
       "      <td>Publishing</td>\n",
       "      <td>GBP</td>\n",
       "      <td>1533.95</td>\n",
       "      <td>0.0</td>\n",
       "      <td>2015-10-09 00:00:00</td>\n",
       "      <td>2015-08-11 12:12:28</td>\n",
       "      <td>0</td>\n",
       "      <td>0.0000</td>\n",
       "      <td>58</td>\n",
       "      <td>26.45</td>\n",
       "      <td>0.00</td>\n",
       "      <td>GB</td>\n",
       "      <td>0.00</td>\n",
       "      <td>0.0</td>\n",
       "    </tr>\n",
       "    <tr>\n",
       "      <th>1</th>\n",
       "      <td>1000003930</td>\n",
       "      <td>Greeting From Earth: ZGAC Arts Capsule For ET</td>\n",
       "      <td>Film &amp; Video</td>\n",
       "      <td>USD</td>\n",
       "      <td>30000.00</td>\n",
       "      <td>2421.0</td>\n",
       "      <td>2017-11-01 00:00:00</td>\n",
       "      <td>2017-09-02 04:43:57</td>\n",
       "      <td>0</td>\n",
       "      <td>0.0807</td>\n",
       "      <td>59</td>\n",
       "      <td>508.47</td>\n",
       "      <td>41.03</td>\n",
       "      <td>US</td>\n",
       "      <td>0.25</td>\n",
       "      <td>161.4</td>\n",
       "    </tr>\n",
       "  </tbody>\n",
       "</table>\n",
       "</div>"
      ]
     },
     "metadata": {},
     "execution_count": 5
    }
   ],
   "metadata": {}
  },
  {
   "cell_type": "markdown",
   "source": [
    "## Read kickstarter small"
   ],
   "metadata": {}
  },
  {
   "cell_type": "code",
   "execution_count": 6,
   "source": [
    "# Import small kickstarter most backed dataset\n",
    "kickstarter_small_clean_df = pd.read_csv(\n",
    "    Path('./Resources/kickstarter_data_clean/ks-projects-small.csv')\n",
    ")\n",
    "\n",
    "# View head\n",
    "kickstarter_small_clean_df.head(2)"
   ],
   "outputs": [
    {
     "output_type": "execute_result",
     "data": {
      "text/plain": [
       "   ID                           name   main_category currency  usd_goal_real  \\\n",
       "0   0              Exploding Kittens  Tabletop Games      usd        10000.0   \n",
       "1   1  Fidget Cube: A Vinyl Desk Toy  Product Design      usd        15000.0   \n",
       "\n",
       "   usd_pledged_real         location  backers  \\\n",
       "0         8782571.0  Los Angeles, CA   219382   \n",
       "1         6465690.0       Denver, CO   154926   \n",
       "\n",
       "                                    num.backers.tier  \\\n",
       "0                            [15505, 202934, 200, 5]   \n",
       "1  [788, 250, 43073, 21796, 41727, 21627, 12215, ...   \n",
       "\n",
       "                                         pledge.tier  \n",
       "0                         [20.0, 35.0, 100.0, 500.0]  \n",
       "1  [1.0, 14.0, 19.0, 19.0, 35.0, 35.0, 79.0, 79.0...  "
      ],
      "text/html": [
       "<div>\n",
       "<style scoped>\n",
       "    .dataframe tbody tr th:only-of-type {\n",
       "        vertical-align: middle;\n",
       "    }\n",
       "\n",
       "    .dataframe tbody tr th {\n",
       "        vertical-align: top;\n",
       "    }\n",
       "\n",
       "    .dataframe thead th {\n",
       "        text-align: right;\n",
       "    }\n",
       "</style>\n",
       "<table border=\"1\" class=\"dataframe\">\n",
       "  <thead>\n",
       "    <tr style=\"text-align: right;\">\n",
       "      <th></th>\n",
       "      <th>ID</th>\n",
       "      <th>name</th>\n",
       "      <th>main_category</th>\n",
       "      <th>currency</th>\n",
       "      <th>usd_goal_real</th>\n",
       "      <th>usd_pledged_real</th>\n",
       "      <th>location</th>\n",
       "      <th>backers</th>\n",
       "      <th>num.backers.tier</th>\n",
       "      <th>pledge.tier</th>\n",
       "    </tr>\n",
       "  </thead>\n",
       "  <tbody>\n",
       "    <tr>\n",
       "      <th>0</th>\n",
       "      <td>0</td>\n",
       "      <td>Exploding Kittens</td>\n",
       "      <td>Tabletop Games</td>\n",
       "      <td>usd</td>\n",
       "      <td>10000.0</td>\n",
       "      <td>8782571.0</td>\n",
       "      <td>Los Angeles, CA</td>\n",
       "      <td>219382</td>\n",
       "      <td>[15505, 202934, 200, 5]</td>\n",
       "      <td>[20.0, 35.0, 100.0, 500.0]</td>\n",
       "    </tr>\n",
       "    <tr>\n",
       "      <th>1</th>\n",
       "      <td>1</td>\n",
       "      <td>Fidget Cube: A Vinyl Desk Toy</td>\n",
       "      <td>Product Design</td>\n",
       "      <td>usd</td>\n",
       "      <td>15000.0</td>\n",
       "      <td>6465690.0</td>\n",
       "      <td>Denver, CO</td>\n",
       "      <td>154926</td>\n",
       "      <td>[788, 250, 43073, 21796, 41727, 21627, 12215, ...</td>\n",
       "      <td>[1.0, 14.0, 19.0, 19.0, 35.0, 35.0, 79.0, 79.0...</td>\n",
       "    </tr>\n",
       "  </tbody>\n",
       "</table>\n",
       "</div>"
      ]
     },
     "metadata": {},
     "execution_count": 6
    }
   ],
   "metadata": {}
  },
  {
   "cell_type": "markdown",
   "source": [
    "## Read indiegogo"
   ],
   "metadata": {}
  },
  {
   "cell_type": "code",
   "execution_count": 7,
   "source": [
    "# Import indiegogo dataset\n",
    "indiegogo_clean_df = pd.read_csv(\n",
    "    Path('./Resources/indiegogo_data_clean/indiegogo-projects.csv')\n",
    ")\n",
    "\n",
    "# Fix dates\n",
    "indiegogo_clean_df['launched'] = pd.to_datetime(indiegogo_clean_df['launched'])\n",
    "indiegogo_clean_df['deadline'] = pd.to_datetime(indiegogo_clean_df['deadline'])\n",
    "\n",
    "# View head\n",
    "indiegogo_clean_df.head(2)"
   ],
   "outputs": [
    {
     "output_type": "execute_result",
     "data": {
      "text/plain": [
       "     ID                             name   main_category currency  \\\n",
       "0  3936  Join the Electric Revolution!!!  Transportation      USD   \n",
       "1  5109             Relief Trip to Haiti    Human Rights      USD   \n",
       "\n",
       "   usd_goal_real  usd_pledged_real            deadline            launched  \\\n",
       "0         5000.0             840.0 2010-05-12 23:59:00 2010-04-21 22:38:42   \n",
       "1         1200.0             250.0 2010-07-02 23:59:00 2010-06-10 17:47:35   \n",
       "\n",
       "   state  funded_percent  duration  daily_goal  daily_pledged  \n",
       "0      0          0.1680        21      238.10          40.00  \n",
       "1      0          0.2083        22       54.55          11.36  "
      ],
      "text/html": [
       "<div>\n",
       "<style scoped>\n",
       "    .dataframe tbody tr th:only-of-type {\n",
       "        vertical-align: middle;\n",
       "    }\n",
       "\n",
       "    .dataframe tbody tr th {\n",
       "        vertical-align: top;\n",
       "    }\n",
       "\n",
       "    .dataframe thead th {\n",
       "        text-align: right;\n",
       "    }\n",
       "</style>\n",
       "<table border=\"1\" class=\"dataframe\">\n",
       "  <thead>\n",
       "    <tr style=\"text-align: right;\">\n",
       "      <th></th>\n",
       "      <th>ID</th>\n",
       "      <th>name</th>\n",
       "      <th>main_category</th>\n",
       "      <th>currency</th>\n",
       "      <th>usd_goal_real</th>\n",
       "      <th>usd_pledged_real</th>\n",
       "      <th>deadline</th>\n",
       "      <th>launched</th>\n",
       "      <th>state</th>\n",
       "      <th>funded_percent</th>\n",
       "      <th>duration</th>\n",
       "      <th>daily_goal</th>\n",
       "      <th>daily_pledged</th>\n",
       "    </tr>\n",
       "  </thead>\n",
       "  <tbody>\n",
       "    <tr>\n",
       "      <th>0</th>\n",
       "      <td>3936</td>\n",
       "      <td>Join the Electric Revolution!!!</td>\n",
       "      <td>Transportation</td>\n",
       "      <td>USD</td>\n",
       "      <td>5000.0</td>\n",
       "      <td>840.0</td>\n",
       "      <td>2010-05-12 23:59:00</td>\n",
       "      <td>2010-04-21 22:38:42</td>\n",
       "      <td>0</td>\n",
       "      <td>0.1680</td>\n",
       "      <td>21</td>\n",
       "      <td>238.10</td>\n",
       "      <td>40.00</td>\n",
       "    </tr>\n",
       "    <tr>\n",
       "      <th>1</th>\n",
       "      <td>5109</td>\n",
       "      <td>Relief Trip to Haiti</td>\n",
       "      <td>Human Rights</td>\n",
       "      <td>USD</td>\n",
       "      <td>1200.0</td>\n",
       "      <td>250.0</td>\n",
       "      <td>2010-07-02 23:59:00</td>\n",
       "      <td>2010-06-10 17:47:35</td>\n",
       "      <td>0</td>\n",
       "      <td>0.2083</td>\n",
       "      <td>22</td>\n",
       "      <td>54.55</td>\n",
       "      <td>11.36</td>\n",
       "    </tr>\n",
       "  </tbody>\n",
       "</table>\n",
       "</div>"
      ]
     },
     "metadata": {},
     "execution_count": 7
    }
   ],
   "metadata": {}
  },
  {
   "cell_type": "markdown",
   "source": [
    "## Add SQL database and simple functions to load and access tables in that database"
   ],
   "metadata": {}
  },
  {
   "cell_type": "code",
   "execution_count": 8,
   "source": [
    "# Establishes Database Connection with a temporary SQL db (we can update to give it a name later)\n",
    "database_connection_string = \"sqlite:///\"\n",
    "\n",
    "engine = sqlalchemy.create_engine(database_connection_string)\n",
    "\n",
    "# Function to load table into DB\n",
    "# data is the dataframe we want to save, \n",
    "# table name is the name of the new table (as a string value), \n",
    "# and engine is the engine input established earlier\n",
    "def new_table(data, table_name):\n",
    "    data.to_sql(f\"{table_name}\", engine, index=True, if_exists=\"replace\")\n",
    "\n",
    "\n",
    "# Lets us load the table of our choice from the database, just set the function equal to a new dataframe variable and run \n",
    "# must set the table name as a string value\n",
    "def load_full_table(table_name):\n",
    "    new_df = pd.read_sql_table(f\"{table_name}\", con=engine )\n",
    "    return new_df\n",
    "\n",
    "new_table(kickstarter_large_clean_df, \"kickstarter_large\")\n",
    "new_table(kickstarter_small_clean_df, \"kickstarter_small\")\n",
    "new_table(indiegogo_clean_df, \"indie_gogo\")"
   ],
   "outputs": [],
   "metadata": {}
  }
 ],
 "metadata": {
  "kernelspec": {
   "display_name": "Python 3",
   "language": "python",
   "name": "python3"
  },
  "language_info": {
   "codemirror_mode": {
    "name": "ipython",
    "version": 3
   },
   "file_extension": ".py",
   "mimetype": "text/x-python",
   "name": "python",
   "nbconvert_exporter": "python",
   "pygments_lexer": "ipython3",
   "version": "3.8.5"
  }
 },
 "nbformat": 4,
 "nbformat_minor": 4
}