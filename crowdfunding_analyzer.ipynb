{
 "cells": [
  {
   "cell_type": "code",
   "execution_count": 336,
   "source": [
    "# Import the required libraries and dependencies\n",
    "import os\n",
    "import pandas as pd\n",
    "from pathlib import Path\n",
    "from dotenv import load_dotenv\n",
    "import sqlalchemy\n",
    "\n",
    "# Add viz libs\n",
    "import matplotlib.pyplot as plt\n",
    "import seaborn as sns\n",
    "import plotly.express as px\n",
    "import hvplot.pandas\n",
    "import altair as alt \n",
    "from bokeh.plotting import figure, show\n",
    "import folium\n",
    "from wordcloud import WordCloud, STOPWORDS, ImageColorGenerator\n",
    "import numpy as np\n",
    "from PIL import Image\n",
    "from plotnine import ggplot, aes, geom_line"
   ],
   "outputs": [],
   "metadata": {}
  },
  {
   "cell_type": "markdown",
   "source": [
    "## Clean data"
   ],
   "metadata": {}
  },
  {
   "cell_type": "code",
   "execution_count": 312,
   "source": [
    "# Force clean vars\n",
    "force_clean_large_kickstarter = True\n",
    "force_clean_small_kickstarter = True\n",
    "force_clean_indiegogo = True\n",
    "\n",
    "# Clean large kickstarter\n",
    "my_kickstarter_large_file = Path('./Resources/kickstarter_data_clean/ks-projects-large.csv')\n",
    "if not my_kickstarter_large_file.is_file() or force_clean_large_kickstarter:\n",
    "    %run ./Resources/Utils/clean_kickstarter_large.ipynb\n",
    "\n",
    "# Clean small kickstarter\n",
    "my_kickstarter_small_file = Path('./Resources/kickstarter_data_clean/ks-projects-small.csv')\n",
    "if not my_kickstarter_small_file.is_file() or force_clean_small_kickstarter:\n",
    "    %run ./Resources/Utils/clean_kickstarter_small.ipynb\n",
    "\n",
    "# Clean indiegogo kickstarter\n",
    "my_indiegogo_file = Path('./Resources/indiegogo_data_clean/indiegogo-projects.csv')\n",
    "if not my_indiegogo_file.is_file() or force_clean_indiegogo:\n",
    "    %run ./Resources/Utils/clean_indiegogo.ipynb"
   ],
   "outputs": [],
   "metadata": {}
  },
  {
   "cell_type": "markdown",
   "source": [
    "## Enable Mapbox API access token"
   ],
   "metadata": {}
  },
  {
   "cell_type": "code",
   "execution_count": 313,
   "source": [
    "# Load the .env file into the notebook\n",
    "load_dotenv()\n",
    "\n",
    "# Read in your MAPBOX_API_KEY\n",
    "mapbox_api_access_token = os.getenv('MAPBOX_API_ACCESS_TOKEN')\n",
    "\n",
    "# Confirm the availability of your Mapbox API access token by checking its type\n",
    "display(type(mapbox_api_access_token))\n",
    "\n",
    "# Set your Mapbox API access token\n",
    "px.set_mapbox_access_token(mapbox_api_access_token)"
   ],
   "outputs": [
    {
     "output_type": "display_data",
     "data": {
      "text/plain": [
       "str"
      ]
     },
     "metadata": {}
    }
   ],
   "metadata": {}
  },
  {
   "cell_type": "markdown",
   "source": [
    "## Read kickstarter large"
   ],
   "metadata": {}
  },
  {
   "cell_type": "code",
   "execution_count": 314,
   "source": [
    "# Import small kickstarter most backed dataset\n",
    "kickstarter_large_clean_df = pd.read_csv(\n",
    "    Path('./Resources/kickstarter_data_clean/ks-projects-large.csv')\n",
    ")\n",
    "\n",
    "# Fix dates\n",
    "kickstarter_large_clean_df['launched'] = pd.to_datetime(kickstarter_large_clean_df['launched'])\n",
    "kickstarter_large_clean_df['deadline'] = pd.to_datetime(kickstarter_large_clean_df['deadline'])\n",
    "\n",
    "# View head\n",
    "kickstarter_large_clean_df = kickstarter_large_clean_df.sort_values('launched')\n",
    "display(kickstarter_large_clean_df.head(2))\n",
    "display(kickstarter_large_clean_df.tail(2))"
   ],
   "outputs": [
    {
     "output_type": "display_data",
     "data": {
      "text/plain": [
       "                ID                                               name  \\\n",
       "17325   1100882558  Get Among Criminals Up and Touring Green This ...   \n",
       "170959  2002086943                            Missed Connections Live   \n",
       "\n",
       "       main_category currency  usd_goal_real  usd_pledged_real   deadline  \\\n",
       "17325          Music      USD         3000.0             100.0 2010-06-04   \n",
       "170959  Film & Video      USD         8000.0            8215.0 2010-06-20   \n",
       "\n",
       "                  launched  state  funded_percent  duration  daily_goal  \\\n",
       "17325  2010-04-21 00:22:04      0          0.0333        43       69.77   \n",
       "170959 2010-04-21 00:34:33      1          1.0269        59      135.59   \n",
       "\n",
       "        daily_pledged country full_country_names       lat       long  \\\n",
       "17325            2.33      US      United States  37.09024 -95.712891   \n",
       "170959         139.24      US      United States  37.09024 -95.712891   \n",
       "\n",
       "        avg_backer_per_day  pledged_per_person  \n",
       "17325                 0.09               25.00  \n",
       "170959                2.07               67.34  "
      ],
      "text/html": [
       "<div>\n",
       "<style scoped>\n",
       "    .dataframe tbody tr th:only-of-type {\n",
       "        vertical-align: middle;\n",
       "    }\n",
       "\n",
       "    .dataframe tbody tr th {\n",
       "        vertical-align: top;\n",
       "    }\n",
       "\n",
       "    .dataframe thead th {\n",
       "        text-align: right;\n",
       "    }\n",
       "</style>\n",
       "<table border=\"1\" class=\"dataframe\">\n",
       "  <thead>\n",
       "    <tr style=\"text-align: right;\">\n",
       "      <th></th>\n",
       "      <th>ID</th>\n",
       "      <th>name</th>\n",
       "      <th>main_category</th>\n",
       "      <th>currency</th>\n",
       "      <th>usd_goal_real</th>\n",
       "      <th>usd_pledged_real</th>\n",
       "      <th>deadline</th>\n",
       "      <th>launched</th>\n",
       "      <th>state</th>\n",
       "      <th>funded_percent</th>\n",
       "      <th>duration</th>\n",
       "      <th>daily_goal</th>\n",
       "      <th>daily_pledged</th>\n",
       "      <th>country</th>\n",
       "      <th>full_country_names</th>\n",
       "      <th>lat</th>\n",
       "      <th>long</th>\n",
       "      <th>avg_backer_per_day</th>\n",
       "      <th>pledged_per_person</th>\n",
       "    </tr>\n",
       "  </thead>\n",
       "  <tbody>\n",
       "    <tr>\n",
       "      <th>17325</th>\n",
       "      <td>1100882558</td>\n",
       "      <td>Get Among Criminals Up and Touring Green This ...</td>\n",
       "      <td>Music</td>\n",
       "      <td>USD</td>\n",
       "      <td>3000.0</td>\n",
       "      <td>100.0</td>\n",
       "      <td>2010-06-04</td>\n",
       "      <td>2010-04-21 00:22:04</td>\n",
       "      <td>0</td>\n",
       "      <td>0.0333</td>\n",
       "      <td>43</td>\n",
       "      <td>69.77</td>\n",
       "      <td>2.33</td>\n",
       "      <td>US</td>\n",
       "      <td>United States</td>\n",
       "      <td>37.09024</td>\n",
       "      <td>-95.712891</td>\n",
       "      <td>0.09</td>\n",
       "      <td>25.00</td>\n",
       "    </tr>\n",
       "    <tr>\n",
       "      <th>170959</th>\n",
       "      <td>2002086943</td>\n",
       "      <td>Missed Connections Live</td>\n",
       "      <td>Film &amp; Video</td>\n",
       "      <td>USD</td>\n",
       "      <td>8000.0</td>\n",
       "      <td>8215.0</td>\n",
       "      <td>2010-06-20</td>\n",
       "      <td>2010-04-21 00:34:33</td>\n",
       "      <td>1</td>\n",
       "      <td>1.0269</td>\n",
       "      <td>59</td>\n",
       "      <td>135.59</td>\n",
       "      <td>139.24</td>\n",
       "      <td>US</td>\n",
       "      <td>United States</td>\n",
       "      <td>37.09024</td>\n",
       "      <td>-95.712891</td>\n",
       "      <td>2.07</td>\n",
       "      <td>67.34</td>\n",
       "    </tr>\n",
       "  </tbody>\n",
       "</table>\n",
       "</div>"
      ]
     },
     "metadata": {}
    },
    {
     "output_type": "display_data",
     "data": {
      "text/plain": [
       "               ID                  name main_category currency  usd_goal_real  \\\n",
       "70419  1411606124  The CHAMPS Are Here!       Fashion      USD          200.0   \n",
       "97219   156799983        Kill Them All!         Games      USD          250.0   \n",
       "\n",
       "       usd_pledged_real   deadline            launched  state  funded_percent  \\\n",
       "70419             202.0 2017-12-31 2017-12-27 03:52:38      1            1.01   \n",
       "97219             265.0 2017-12-30 2017-12-28 01:48:58      1            1.06   \n",
       "\n",
       "       duration  daily_goal  daily_pledged country full_country_names  \\\n",
       "70419         3       66.67          67.33      US      United States   \n",
       "97219         1      250.00         265.00      US      United States   \n",
       "\n",
       "            lat       long  avg_backer_per_day  pledged_per_person  \n",
       "70419  37.09024 -95.712891                 2.0               33.67  \n",
       "97219  37.09024 -95.712891                 7.0               37.86  "
      ],
      "text/html": [
       "<div>\n",
       "<style scoped>\n",
       "    .dataframe tbody tr th:only-of-type {\n",
       "        vertical-align: middle;\n",
       "    }\n",
       "\n",
       "    .dataframe tbody tr th {\n",
       "        vertical-align: top;\n",
       "    }\n",
       "\n",
       "    .dataframe thead th {\n",
       "        text-align: right;\n",
       "    }\n",
       "</style>\n",
       "<table border=\"1\" class=\"dataframe\">\n",
       "  <thead>\n",
       "    <tr style=\"text-align: right;\">\n",
       "      <th></th>\n",
       "      <th>ID</th>\n",
       "      <th>name</th>\n",
       "      <th>main_category</th>\n",
       "      <th>currency</th>\n",
       "      <th>usd_goal_real</th>\n",
       "      <th>usd_pledged_real</th>\n",
       "      <th>deadline</th>\n",
       "      <th>launched</th>\n",
       "      <th>state</th>\n",
       "      <th>funded_percent</th>\n",
       "      <th>duration</th>\n",
       "      <th>daily_goal</th>\n",
       "      <th>daily_pledged</th>\n",
       "      <th>country</th>\n",
       "      <th>full_country_names</th>\n",
       "      <th>lat</th>\n",
       "      <th>long</th>\n",
       "      <th>avg_backer_per_day</th>\n",
       "      <th>pledged_per_person</th>\n",
       "    </tr>\n",
       "  </thead>\n",
       "  <tbody>\n",
       "    <tr>\n",
       "      <th>70419</th>\n",
       "      <td>1411606124</td>\n",
       "      <td>The CHAMPS Are Here!</td>\n",
       "      <td>Fashion</td>\n",
       "      <td>USD</td>\n",
       "      <td>200.0</td>\n",
       "      <td>202.0</td>\n",
       "      <td>2017-12-31</td>\n",
       "      <td>2017-12-27 03:52:38</td>\n",
       "      <td>1</td>\n",
       "      <td>1.01</td>\n",
       "      <td>3</td>\n",
       "      <td>66.67</td>\n",
       "      <td>67.33</td>\n",
       "      <td>US</td>\n",
       "      <td>United States</td>\n",
       "      <td>37.09024</td>\n",
       "      <td>-95.712891</td>\n",
       "      <td>2.0</td>\n",
       "      <td>33.67</td>\n",
       "    </tr>\n",
       "    <tr>\n",
       "      <th>97219</th>\n",
       "      <td>156799983</td>\n",
       "      <td>Kill Them All!</td>\n",
       "      <td>Games</td>\n",
       "      <td>USD</td>\n",
       "      <td>250.0</td>\n",
       "      <td>265.0</td>\n",
       "      <td>2017-12-30</td>\n",
       "      <td>2017-12-28 01:48:58</td>\n",
       "      <td>1</td>\n",
       "      <td>1.06</td>\n",
       "      <td>1</td>\n",
       "      <td>250.00</td>\n",
       "      <td>265.00</td>\n",
       "      <td>US</td>\n",
       "      <td>United States</td>\n",
       "      <td>37.09024</td>\n",
       "      <td>-95.712891</td>\n",
       "      <td>7.0</td>\n",
       "      <td>37.86</td>\n",
       "    </tr>\n",
       "  </tbody>\n",
       "</table>\n",
       "</div>"
      ]
     },
     "metadata": {}
    }
   ],
   "metadata": {}
  },
  {
   "cell_type": "markdown",
   "source": [
    "## Read kickstarter small"
   ],
   "metadata": {}
  },
  {
   "cell_type": "code",
   "execution_count": 315,
   "source": [
    "# Import small kickstarter most backed dataset\n",
    "kickstarter_small_clean_df = pd.read_csv(\n",
    "    Path('./Resources/kickstarter_data_clean/ks-projects-small.csv')\n",
    ")\n",
    "\n",
    "# View head\n",
    "kickstarter_small_clean_df.head(2)"
   ],
   "outputs": [
    {
     "output_type": "execute_result",
     "data": {
      "text/plain": [
       "   ID                           name   main_category currency  usd_goal_real  \\\n",
       "0   0              Exploding Kittens  Tabletop Games      USD        10000.0   \n",
       "1   1  Fidget Cube: A Vinyl Desk Toy  Product Design      USD        15000.0   \n",
       "\n",
       "   usd_pledged_real         location  backers  \\\n",
       "0         8782571.0  Los Angeles, CA   219382   \n",
       "1         6465690.0       Denver, CO   154926   \n",
       "\n",
       "                                    num.backers.tier  \\\n",
       "0                            [15505, 202934, 200, 5]   \n",
       "1  [788, 250, 43073, 21796, 41727, 21627, 12215, ...   \n",
       "\n",
       "                                         pledge.tier  \n",
       "0                         [20.0, 35.0, 100.0, 500.0]  \n",
       "1  [1.0, 14.0, 19.0, 19.0, 35.0, 35.0, 79.0, 79.0...  "
      ],
      "text/html": [
       "<div>\n",
       "<style scoped>\n",
       "    .dataframe tbody tr th:only-of-type {\n",
       "        vertical-align: middle;\n",
       "    }\n",
       "\n",
       "    .dataframe tbody tr th {\n",
       "        vertical-align: top;\n",
       "    }\n",
       "\n",
       "    .dataframe thead th {\n",
       "        text-align: right;\n",
       "    }\n",
       "</style>\n",
       "<table border=\"1\" class=\"dataframe\">\n",
       "  <thead>\n",
       "    <tr style=\"text-align: right;\">\n",
       "      <th></th>\n",
       "      <th>ID</th>\n",
       "      <th>name</th>\n",
       "      <th>main_category</th>\n",
       "      <th>currency</th>\n",
       "      <th>usd_goal_real</th>\n",
       "      <th>usd_pledged_real</th>\n",
       "      <th>location</th>\n",
       "      <th>backers</th>\n",
       "      <th>num.backers.tier</th>\n",
       "      <th>pledge.tier</th>\n",
       "    </tr>\n",
       "  </thead>\n",
       "  <tbody>\n",
       "    <tr>\n",
       "      <th>0</th>\n",
       "      <td>0</td>\n",
       "      <td>Exploding Kittens</td>\n",
       "      <td>Tabletop Games</td>\n",
       "      <td>USD</td>\n",
       "      <td>10000.0</td>\n",
       "      <td>8782571.0</td>\n",
       "      <td>Los Angeles, CA</td>\n",
       "      <td>219382</td>\n",
       "      <td>[15505, 202934, 200, 5]</td>\n",
       "      <td>[20.0, 35.0, 100.0, 500.0]</td>\n",
       "    </tr>\n",
       "    <tr>\n",
       "      <th>1</th>\n",
       "      <td>1</td>\n",
       "      <td>Fidget Cube: A Vinyl Desk Toy</td>\n",
       "      <td>Product Design</td>\n",
       "      <td>USD</td>\n",
       "      <td>15000.0</td>\n",
       "      <td>6465690.0</td>\n",
       "      <td>Denver, CO</td>\n",
       "      <td>154926</td>\n",
       "      <td>[788, 250, 43073, 21796, 41727, 21627, 12215, ...</td>\n",
       "      <td>[1.0, 14.0, 19.0, 19.0, 35.0, 35.0, 79.0, 79.0...</td>\n",
       "    </tr>\n",
       "  </tbody>\n",
       "</table>\n",
       "</div>"
      ]
     },
     "metadata": {},
     "execution_count": 315
    }
   ],
   "metadata": {}
  },
  {
   "cell_type": "markdown",
   "source": [
    "## Read indiegogo"
   ],
   "metadata": {}
  },
  {
   "cell_type": "code",
   "execution_count": 403,
   "source": [
    "# Import indiegogo dataset\n",
    "indiegogo_clean_df = pd.read_csv(\n",
    "    Path('./Resources/indiegogo_data_clean/indiegogo-projects.csv')\n",
    ")\n",
    "\n",
    "# Fix dates\n",
    "indiegogo_clean_df['launched'] = pd.to_datetime(indiegogo_clean_df['launched'])\n",
    "indiegogo_clean_df['deadline'] = pd.to_datetime(indiegogo_clean_df['deadline'])\n",
    "\n",
    "# View head\n",
    "indiegogo_clean_df = indiegogo_clean_df.sort_values('launched')\n",
    "display(indiegogo_clean_df.head(2))\n",
    "display(indiegogo_clean_df.tail(2))\n"
   ],
   "outputs": [
    {
     "output_type": "display_data",
     "data": {
      "text/plain": [
       "     ID                             name main_category        category  \\\n",
       "0  3936  Join the Electric Revolution!!!    Technology  Transportation   \n",
       "1  5109             Relief Trip to Haiti    Journalism    Human Rights   \n",
       "\n",
       "  currency  usd_goal_real  usd_pledged_real            deadline  \\\n",
       "0      USD         5000.0             840.0 2010-05-12 23:59:00   \n",
       "1      USD         1200.0             250.0 2010-07-02 23:59:00   \n",
       "\n",
       "             launched  state  funded_percent  duration  daily_goal  \\\n",
       "0 2010-04-21 22:38:42      0          0.1680        21      238.10   \n",
       "1 2010-06-10 17:47:35      0          0.2083        22       54.55   \n",
       "\n",
       "   daily_pledged country full_country_names       lat       long  \n",
       "0          40.00      US      United States  37.09024 -95.712891  \n",
       "1          11.36      US      United States  37.09024 -95.712891  "
      ],
      "text/html": [
       "<div>\n",
       "<style scoped>\n",
       "    .dataframe tbody tr th:only-of-type {\n",
       "        vertical-align: middle;\n",
       "    }\n",
       "\n",
       "    .dataframe tbody tr th {\n",
       "        vertical-align: top;\n",
       "    }\n",
       "\n",
       "    .dataframe thead th {\n",
       "        text-align: right;\n",
       "    }\n",
       "</style>\n",
       "<table border=\"1\" class=\"dataframe\">\n",
       "  <thead>\n",
       "    <tr style=\"text-align: right;\">\n",
       "      <th></th>\n",
       "      <th>ID</th>\n",
       "      <th>name</th>\n",
       "      <th>main_category</th>\n",
       "      <th>category</th>\n",
       "      <th>currency</th>\n",
       "      <th>usd_goal_real</th>\n",
       "      <th>usd_pledged_real</th>\n",
       "      <th>deadline</th>\n",
       "      <th>launched</th>\n",
       "      <th>state</th>\n",
       "      <th>funded_percent</th>\n",
       "      <th>duration</th>\n",
       "      <th>daily_goal</th>\n",
       "      <th>daily_pledged</th>\n",
       "      <th>country</th>\n",
       "      <th>full_country_names</th>\n",
       "      <th>lat</th>\n",
       "      <th>long</th>\n",
       "    </tr>\n",
       "  </thead>\n",
       "  <tbody>\n",
       "    <tr>\n",
       "      <th>0</th>\n",
       "      <td>3936</td>\n",
       "      <td>Join the Electric Revolution!!!</td>\n",
       "      <td>Technology</td>\n",
       "      <td>Transportation</td>\n",
       "      <td>USD</td>\n",
       "      <td>5000.0</td>\n",
       "      <td>840.0</td>\n",
       "      <td>2010-05-12 23:59:00</td>\n",
       "      <td>2010-04-21 22:38:42</td>\n",
       "      <td>0</td>\n",
       "      <td>0.1680</td>\n",
       "      <td>21</td>\n",
       "      <td>238.10</td>\n",
       "      <td>40.00</td>\n",
       "      <td>US</td>\n",
       "      <td>United States</td>\n",
       "      <td>37.09024</td>\n",
       "      <td>-95.712891</td>\n",
       "    </tr>\n",
       "    <tr>\n",
       "      <th>1</th>\n",
       "      <td>5109</td>\n",
       "      <td>Relief Trip to Haiti</td>\n",
       "      <td>Journalism</td>\n",
       "      <td>Human Rights</td>\n",
       "      <td>USD</td>\n",
       "      <td>1200.0</td>\n",
       "      <td>250.0</td>\n",
       "      <td>2010-07-02 23:59:00</td>\n",
       "      <td>2010-06-10 17:47:35</td>\n",
       "      <td>0</td>\n",
       "      <td>0.2083</td>\n",
       "      <td>22</td>\n",
       "      <td>54.55</td>\n",
       "      <td>11.36</td>\n",
       "      <td>US</td>\n",
       "      <td>United States</td>\n",
       "      <td>37.09024</td>\n",
       "      <td>-95.712891</td>\n",
       "    </tr>\n",
       "  </tbody>\n",
       "</table>\n",
       "</div>"
      ]
     },
     "metadata": {}
    },
    {
     "output_type": "display_data",
     "data": {
      "text/plain": [
       "           ID                         name main_category  \\\n",
       "9307  2305069  Clarity Marketing: The Book    Journalism   \n",
       "9308  2288408                Change Makers   Photography   \n",
       "\n",
       "                  category currency  usd_goal_real  usd_pledged_real  \\\n",
       "9307  Writing & Publishing      USD        12000.0            6706.0   \n",
       "9308           Photography      USD        15000.0             175.0   \n",
       "\n",
       "                deadline            launched  state  funded_percent  duration  \\\n",
       "9307 2018-01-11 23:59:59 2017-12-28 07:10:13      0          0.5588        14   \n",
       "9308 2018-02-26 23:59:59 2017-12-28 17:38:27      0          0.0117        60   \n",
       "\n",
       "      daily_goal  daily_pledged country full_country_names       lat  \\\n",
       "9307      857.14         479.00      US      United States  37.09024   \n",
       "9308      250.00           2.92      US      United States  37.09024   \n",
       "\n",
       "           long  \n",
       "9307 -95.712891  \n",
       "9308 -95.712891  "
      ],
      "text/html": [
       "<div>\n",
       "<style scoped>\n",
       "    .dataframe tbody tr th:only-of-type {\n",
       "        vertical-align: middle;\n",
       "    }\n",
       "\n",
       "    .dataframe tbody tr th {\n",
       "        vertical-align: top;\n",
       "    }\n",
       "\n",
       "    .dataframe thead th {\n",
       "        text-align: right;\n",
       "    }\n",
       "</style>\n",
       "<table border=\"1\" class=\"dataframe\">\n",
       "  <thead>\n",
       "    <tr style=\"text-align: right;\">\n",
       "      <th></th>\n",
       "      <th>ID</th>\n",
       "      <th>name</th>\n",
       "      <th>main_category</th>\n",
       "      <th>category</th>\n",
       "      <th>currency</th>\n",
       "      <th>usd_goal_real</th>\n",
       "      <th>usd_pledged_real</th>\n",
       "      <th>deadline</th>\n",
       "      <th>launched</th>\n",
       "      <th>state</th>\n",
       "      <th>funded_percent</th>\n",
       "      <th>duration</th>\n",
       "      <th>daily_goal</th>\n",
       "      <th>daily_pledged</th>\n",
       "      <th>country</th>\n",
       "      <th>full_country_names</th>\n",
       "      <th>lat</th>\n",
       "      <th>long</th>\n",
       "    </tr>\n",
       "  </thead>\n",
       "  <tbody>\n",
       "    <tr>\n",
       "      <th>9307</th>\n",
       "      <td>2305069</td>\n",
       "      <td>Clarity Marketing: The Book</td>\n",
       "      <td>Journalism</td>\n",
       "      <td>Writing &amp; Publishing</td>\n",
       "      <td>USD</td>\n",
       "      <td>12000.0</td>\n",
       "      <td>6706.0</td>\n",
       "      <td>2018-01-11 23:59:59</td>\n",
       "      <td>2017-12-28 07:10:13</td>\n",
       "      <td>0</td>\n",
       "      <td>0.5588</td>\n",
       "      <td>14</td>\n",
       "      <td>857.14</td>\n",
       "      <td>479.00</td>\n",
       "      <td>US</td>\n",
       "      <td>United States</td>\n",
       "      <td>37.09024</td>\n",
       "      <td>-95.712891</td>\n",
       "    </tr>\n",
       "    <tr>\n",
       "      <th>9308</th>\n",
       "      <td>2288408</td>\n",
       "      <td>Change Makers</td>\n",
       "      <td>Photography</td>\n",
       "      <td>Photography</td>\n",
       "      <td>USD</td>\n",
       "      <td>15000.0</td>\n",
       "      <td>175.0</td>\n",
       "      <td>2018-02-26 23:59:59</td>\n",
       "      <td>2017-12-28 17:38:27</td>\n",
       "      <td>0</td>\n",
       "      <td>0.0117</td>\n",
       "      <td>60</td>\n",
       "      <td>250.00</td>\n",
       "      <td>2.92</td>\n",
       "      <td>US</td>\n",
       "      <td>United States</td>\n",
       "      <td>37.09024</td>\n",
       "      <td>-95.712891</td>\n",
       "    </tr>\n",
       "  </tbody>\n",
       "</table>\n",
       "</div>"
      ]
     },
     "metadata": {}
    }
   ],
   "metadata": {}
  },
  {
   "cell_type": "markdown",
   "source": [
    "## Add SQL database and simple functions to load and access tables in that database"
   ],
   "metadata": {}
  },
  {
   "cell_type": "code",
   "execution_count": 320,
   "source": [
    "# Establishes Database Connection with a temporary SQL db (we can update to give it a name later)\n",
    "database_connection_string = \"sqlite:///\"\n",
    "\n",
    "engine = sqlalchemy.create_engine(database_connection_string)\n",
    "\n",
    "# Function to load table into DB\n",
    "# data is the dataframe we want to save, \n",
    "# table name is the name of the new table (as a string value), \n",
    "# and engine is the engine input established earlier\n",
    "def new_table(data, table_name):\n",
    "    data.to_sql(f\"{table_name}\", engine, index=True, if_exists=\"replace\")\n",
    "\n",
    "\n",
    "# Lets us load the table of our choice from the database, just set the function equal to a new dataframe variable and run \n",
    "# must set the table name as a string value\n",
    "def load_full_table(table_name):\n",
    "    new_df = pd.read_sql_table(f\"{table_name}\", con=engine )\n",
    "    return new_df\n",
    "\n",
    "new_table(kickstarter_large_clean_df, \"kickstarter_large\")\n",
    "new_table(kickstarter_small_clean_df, \"kickstarter_small\")\n",
    "new_table(indiegogo_clean_df, \"indie_gogo\")"
   ],
   "outputs": [],
   "metadata": {}
  },
  {
   "cell_type": "markdown",
   "source": [
    "\n",
    "## Add SQL query to access main_category and mean of duration of projects for Kickstarter and Indiegogo."
   ],
   "metadata": {}
  },
  {
   "cell_type": "code",
   "execution_count": 321,
   "source": [
    "# Create a SQL query to get the main_category and duration of the Kickstarter Large dataframe.\n",
    "query_ks = \"\"\"\n",
    "SELECT main_category, duration\n",
    "FROM kickstarter_large\n",
    "\"\"\"\n",
    "query_indiegogo = \"\"\"\n",
    "SELECT main_category, duration\n",
    "FROM indie_gogo\n",
    "\"\"\"\n",
    "\n",
    "# This will let us read the query we applied earlier to create a dataframe.\n",
    "ks_large_duration_dataframe = pd.read_sql_query(\n",
    "    query_ks, \n",
    "    con= engine)\n",
    "display(ks_large_duration_dataframe)\n",
    "\n",
    "indiegogo_duration_dataframe = pd.read_sql_query(\n",
    "    query_indiegogo, \n",
    "    con= engine)\n",
    "display(indiegogo_duration_dataframe)"
   ],
   "outputs": [
    {
     "output_type": "display_data",
     "data": {
      "text/plain": [
       "       main_category  duration\n",
       "0              Music        43\n",
       "1       Film & Video        59\n",
       "2       Film & Video         9\n",
       "3       Film & Video        40\n",
       "4            Theater        70\n",
       "...              ...       ...\n",
       "328941         Games         1\n",
       "328942         Games         2\n",
       "328943         Games         4\n",
       "328944       Fashion         3\n",
       "328945         Games         1\n",
       "\n",
       "[328946 rows x 2 columns]"
      ],
      "text/html": [
       "<div>\n",
       "<style scoped>\n",
       "    .dataframe tbody tr th:only-of-type {\n",
       "        vertical-align: middle;\n",
       "    }\n",
       "\n",
       "    .dataframe tbody tr th {\n",
       "        vertical-align: top;\n",
       "    }\n",
       "\n",
       "    .dataframe thead th {\n",
       "        text-align: right;\n",
       "    }\n",
       "</style>\n",
       "<table border=\"1\" class=\"dataframe\">\n",
       "  <thead>\n",
       "    <tr style=\"text-align: right;\">\n",
       "      <th></th>\n",
       "      <th>main_category</th>\n",
       "      <th>duration</th>\n",
       "    </tr>\n",
       "  </thead>\n",
       "  <tbody>\n",
       "    <tr>\n",
       "      <th>0</th>\n",
       "      <td>Music</td>\n",
       "      <td>43</td>\n",
       "    </tr>\n",
       "    <tr>\n",
       "      <th>1</th>\n",
       "      <td>Film &amp; Video</td>\n",
       "      <td>59</td>\n",
       "    </tr>\n",
       "    <tr>\n",
       "      <th>2</th>\n",
       "      <td>Film &amp; Video</td>\n",
       "      <td>9</td>\n",
       "    </tr>\n",
       "    <tr>\n",
       "      <th>3</th>\n",
       "      <td>Film &amp; Video</td>\n",
       "      <td>40</td>\n",
       "    </tr>\n",
       "    <tr>\n",
       "      <th>4</th>\n",
       "      <td>Theater</td>\n",
       "      <td>70</td>\n",
       "    </tr>\n",
       "    <tr>\n",
       "      <th>...</th>\n",
       "      <td>...</td>\n",
       "      <td>...</td>\n",
       "    </tr>\n",
       "    <tr>\n",
       "      <th>328941</th>\n",
       "      <td>Games</td>\n",
       "      <td>1</td>\n",
       "    </tr>\n",
       "    <tr>\n",
       "      <th>328942</th>\n",
       "      <td>Games</td>\n",
       "      <td>2</td>\n",
       "    </tr>\n",
       "    <tr>\n",
       "      <th>328943</th>\n",
       "      <td>Games</td>\n",
       "      <td>4</td>\n",
       "    </tr>\n",
       "    <tr>\n",
       "      <th>328944</th>\n",
       "      <td>Fashion</td>\n",
       "      <td>3</td>\n",
       "    </tr>\n",
       "    <tr>\n",
       "      <th>328945</th>\n",
       "      <td>Games</td>\n",
       "      <td>1</td>\n",
       "    </tr>\n",
       "  </tbody>\n",
       "</table>\n",
       "<p>328946 rows × 2 columns</p>\n",
       "</div>"
      ]
     },
     "metadata": {}
    },
    {
     "output_type": "display_data",
     "data": {
      "text/plain": [
       "     main_category  duration\n",
       "0       Technology        21\n",
       "1       Journalism        22\n",
       "2       Journalism        22\n",
       "3      Photography        30\n",
       "4       Journalism       120\n",
       "...            ...       ...\n",
       "9304          Food        40\n",
       "9305    Technology        34\n",
       "9306    Technology         7\n",
       "9307    Journalism        14\n",
       "9308   Photography        60\n",
       "\n",
       "[9309 rows x 2 columns]"
      ],
      "text/html": [
       "<div>\n",
       "<style scoped>\n",
       "    .dataframe tbody tr th:only-of-type {\n",
       "        vertical-align: middle;\n",
       "    }\n",
       "\n",
       "    .dataframe tbody tr th {\n",
       "        vertical-align: top;\n",
       "    }\n",
       "\n",
       "    .dataframe thead th {\n",
       "        text-align: right;\n",
       "    }\n",
       "</style>\n",
       "<table border=\"1\" class=\"dataframe\">\n",
       "  <thead>\n",
       "    <tr style=\"text-align: right;\">\n",
       "      <th></th>\n",
       "      <th>main_category</th>\n",
       "      <th>duration</th>\n",
       "    </tr>\n",
       "  </thead>\n",
       "  <tbody>\n",
       "    <tr>\n",
       "      <th>0</th>\n",
       "      <td>Technology</td>\n",
       "      <td>21</td>\n",
       "    </tr>\n",
       "    <tr>\n",
       "      <th>1</th>\n",
       "      <td>Journalism</td>\n",
       "      <td>22</td>\n",
       "    </tr>\n",
       "    <tr>\n",
       "      <th>2</th>\n",
       "      <td>Journalism</td>\n",
       "      <td>22</td>\n",
       "    </tr>\n",
       "    <tr>\n",
       "      <th>3</th>\n",
       "      <td>Photography</td>\n",
       "      <td>30</td>\n",
       "    </tr>\n",
       "    <tr>\n",
       "      <th>4</th>\n",
       "      <td>Journalism</td>\n",
       "      <td>120</td>\n",
       "    </tr>\n",
       "    <tr>\n",
       "      <th>...</th>\n",
       "      <td>...</td>\n",
       "      <td>...</td>\n",
       "    </tr>\n",
       "    <tr>\n",
       "      <th>9304</th>\n",
       "      <td>Food</td>\n",
       "      <td>40</td>\n",
       "    </tr>\n",
       "    <tr>\n",
       "      <th>9305</th>\n",
       "      <td>Technology</td>\n",
       "      <td>34</td>\n",
       "    </tr>\n",
       "    <tr>\n",
       "      <th>9306</th>\n",
       "      <td>Technology</td>\n",
       "      <td>7</td>\n",
       "    </tr>\n",
       "    <tr>\n",
       "      <th>9307</th>\n",
       "      <td>Journalism</td>\n",
       "      <td>14</td>\n",
       "    </tr>\n",
       "    <tr>\n",
       "      <th>9308</th>\n",
       "      <td>Photography</td>\n",
       "      <td>60</td>\n",
       "    </tr>\n",
       "  </tbody>\n",
       "</table>\n",
       "<p>9309 rows × 2 columns</p>\n",
       "</div>"
      ]
     },
     "metadata": {}
    }
   ],
   "metadata": {}
  },
  {
   "cell_type": "code",
   "execution_count": 322,
   "source": [
    "# Create a SQL query to get the main_category and \n",
    "# duration of the Kickstarter Large dataframe and \n",
    "# group them by main_category and get its average duration days.\n",
    "query=\"\"\"SELECT\n",
    "   main_category, AVG(duration) AS average_duration_days\n",
    "FROM\n",
    "  kickstarter_large\n",
    "GROUP BY\n",
    "  main_category\n",
    "ORDER BY \n",
    "    AVG(duration) DESC,\n",
    "    main_category DESC;\n",
    "\"\"\"\n",
    "# This will let us read the query we applied earlier to create a dataframe.\n",
    "ks_large_groupby_maincategory_df = pd.read_sql_query(\n",
    "    query, \n",
    "    con= engine)\n",
    "ks_large_groupby_maincategory_df\n"
   ],
   "outputs": [
    {
     "output_type": "execute_result",
     "data": {
      "text/plain": [
       "   main_category  average_duration_days\n",
       "0     Technology              34.203560\n",
       "1          Music              33.978123\n",
       "2   Film & Video              33.656602\n",
       "3         Design              33.095785\n",
       "4     Journalism              32.861840\n",
       "5           Food              32.844168\n",
       "6         Comics              32.639670\n",
       "7     Publishing              32.559309\n",
       "8    Photography              32.257829\n",
       "9        Theater              31.995545\n",
       "10         Dance              31.655872\n",
       "11       Fashion              31.556530\n",
       "12         Games              31.160263\n",
       "13           Art              31.062123\n",
       "14        Crafts              30.376459"
      ],
      "text/html": [
       "<div>\n",
       "<style scoped>\n",
       "    .dataframe tbody tr th:only-of-type {\n",
       "        vertical-align: middle;\n",
       "    }\n",
       "\n",
       "    .dataframe tbody tr th {\n",
       "        vertical-align: top;\n",
       "    }\n",
       "\n",
       "    .dataframe thead th {\n",
       "        text-align: right;\n",
       "    }\n",
       "</style>\n",
       "<table border=\"1\" class=\"dataframe\">\n",
       "  <thead>\n",
       "    <tr style=\"text-align: right;\">\n",
       "      <th></th>\n",
       "      <th>main_category</th>\n",
       "      <th>average_duration_days</th>\n",
       "    </tr>\n",
       "  </thead>\n",
       "  <tbody>\n",
       "    <tr>\n",
       "      <th>0</th>\n",
       "      <td>Technology</td>\n",
       "      <td>34.203560</td>\n",
       "    </tr>\n",
       "    <tr>\n",
       "      <th>1</th>\n",
       "      <td>Music</td>\n",
       "      <td>33.978123</td>\n",
       "    </tr>\n",
       "    <tr>\n",
       "      <th>2</th>\n",
       "      <td>Film &amp; Video</td>\n",
       "      <td>33.656602</td>\n",
       "    </tr>\n",
       "    <tr>\n",
       "      <th>3</th>\n",
       "      <td>Design</td>\n",
       "      <td>33.095785</td>\n",
       "    </tr>\n",
       "    <tr>\n",
       "      <th>4</th>\n",
       "      <td>Journalism</td>\n",
       "      <td>32.861840</td>\n",
       "    </tr>\n",
       "    <tr>\n",
       "      <th>5</th>\n",
       "      <td>Food</td>\n",
       "      <td>32.844168</td>\n",
       "    </tr>\n",
       "    <tr>\n",
       "      <th>6</th>\n",
       "      <td>Comics</td>\n",
       "      <td>32.639670</td>\n",
       "    </tr>\n",
       "    <tr>\n",
       "      <th>7</th>\n",
       "      <td>Publishing</td>\n",
       "      <td>32.559309</td>\n",
       "    </tr>\n",
       "    <tr>\n",
       "      <th>8</th>\n",
       "      <td>Photography</td>\n",
       "      <td>32.257829</td>\n",
       "    </tr>\n",
       "    <tr>\n",
       "      <th>9</th>\n",
       "      <td>Theater</td>\n",
       "      <td>31.995545</td>\n",
       "    </tr>\n",
       "    <tr>\n",
       "      <th>10</th>\n",
       "      <td>Dance</td>\n",
       "      <td>31.655872</td>\n",
       "    </tr>\n",
       "    <tr>\n",
       "      <th>11</th>\n",
       "      <td>Fashion</td>\n",
       "      <td>31.556530</td>\n",
       "    </tr>\n",
       "    <tr>\n",
       "      <th>12</th>\n",
       "      <td>Games</td>\n",
       "      <td>31.160263</td>\n",
       "    </tr>\n",
       "    <tr>\n",
       "      <th>13</th>\n",
       "      <td>Art</td>\n",
       "      <td>31.062123</td>\n",
       "    </tr>\n",
       "    <tr>\n",
       "      <th>14</th>\n",
       "      <td>Crafts</td>\n",
       "      <td>30.376459</td>\n",
       "    </tr>\n",
       "  </tbody>\n",
       "</table>\n",
       "</div>"
      ]
     },
     "metadata": {},
     "execution_count": 322
    }
   ],
   "metadata": {}
  },
  {
   "cell_type": "code",
   "execution_count": 323,
   "source": [
    "# This will create a bar plot to visualize the average duration of \n",
    "# the projects per main category in Kickstarter.\n",
    "\n",
    "ks_lrg_duration_hvplot = ks_large_groupby_maincategory_df.hvplot(kind='bar',\n",
    "                                            x='main_category',\n",
    "                                            ylim=(30.0,35.0),\n",
    "                                            rot=60,\n",
    "                                            title=\"Kickstarter's Average Duration Days of Each Main Category\",\n",
    "                                            hover_color= 'orange',\n",
    "                                            color = 'green'\n",
    "                                            )\n",
    "ks_lrg_duration_hvplot"
   ],
   "outputs": [
    {
     "output_type": "display_data",
     "data": {},
     "metadata": {}
    },
    {
     "output_type": "execute_result",
     "data": {
      "application/vnd.holoviews_exec.v0+json": "",
      "text/plain": [
       ":Bars   [main_category]   (average_duration_days)"
      ],
      "text/html": [
       "<div id='1441'>\n",
       "\n",
       "\n",
       "\n",
       "\n",
       "\n",
       "  <div class=\"bk-root\" id=\"2c9c2136-1bce-40cd-9dd7-d581e25ae2b2\" data-root-id=\"1441\"></div>\n",
       "</div>\n",
       "<script type=\"application/javascript\">(function(root) {\n",
       "  function embed_document(root) {\n",
       "    var docs_json = {\"99c2c535-b725-4eb3-815c-f34eea4313f8\":{\"roots\":{\"references\":[{\"attributes\":{\"text\":\"Kickstarter's Average Duration Days of Each Main Category\",\"text_color\":{\"value\":\"black\"},\"text_font_size\":{\"value\":\"12pt\"}},\"id\":\"1447\",\"type\":\"Title\"},{\"attributes\":{},\"id\":\"1484\",\"type\":\"CategoricalTickFormatter\"},{\"attributes\":{\"fill_color\":{\"value\":\"orange\"},\"line_color\":{\"value\":\"orange\"},\"top\":{\"field\":\"average_duration_days\"},\"width\":{\"value\":0.8},\"x\":{\"field\":\"main_category\"}},\"id\":\"1480\",\"type\":\"VBar\"},{\"attributes\":{},\"id\":\"1456\",\"type\":\"CategoricalTicker\"},{\"attributes\":{\"axis\":{\"id\":\"1455\"},\"grid_line_color\":null,\"ticker\":null},\"id\":\"1457\",\"type\":\"Grid\"},{\"attributes\":{\"margin\":[5,5,5,5],\"name\":\"HSpacer02334\",\"sizing_mode\":\"stretch_width\"},\"id\":\"1504\",\"type\":\"Spacer\"},{\"attributes\":{},\"id\":\"1459\",\"type\":\"BasicTicker\"},{\"attributes\":{\"axis_label\":\"average_duration_days\",\"bounds\":\"auto\",\"formatter\":{\"id\":\"1486\"},\"major_label_orientation\":\"horizontal\",\"ticker\":{\"id\":\"1459\"}},\"id\":\"1458\",\"type\":\"LinearAxis\"},{\"attributes\":{\"active_drag\":\"auto\",\"active_inspect\":\"auto\",\"active_multi\":null,\"active_scroll\":\"auto\",\"active_tap\":\"auto\",\"tools\":[{\"id\":\"1445\"},{\"id\":\"1462\"},{\"id\":\"1463\"},{\"id\":\"1464\"},{\"id\":\"1465\"},{\"id\":\"1466\"}]},\"id\":\"1468\",\"type\":\"Toolbar\"},{\"attributes\":{\"margin\":[5,5,5,5],\"name\":\"HSpacer02333\",\"sizing_mode\":\"stretch_width\"},\"id\":\"1442\",\"type\":\"Spacer\"},{\"attributes\":{\"axis\":{\"id\":\"1458\"},\"dimension\":1,\"grid_line_color\":null,\"ticker\":null},\"id\":\"1461\",\"type\":\"Grid\"},{\"attributes\":{\"bottom_units\":\"screen\",\"fill_alpha\":0.5,\"fill_color\":\"lightgrey\",\"left_units\":\"screen\",\"level\":\"overlay\",\"line_alpha\":1.0,\"line_color\":\"black\",\"line_dash\":[4,4],\"line_width\":2,\"right_units\":\"screen\",\"top_units\":\"screen\"},\"id\":\"1467\",\"type\":\"BoxAnnotation\"},{\"attributes\":{},\"id\":\"1476\",\"type\":\"Selection\"},{\"attributes\":{\"children\":[{\"id\":\"1442\"},{\"id\":\"1446\"},{\"id\":\"1504\"}],\"margin\":[0,0,0,0],\"name\":\"Row02329\",\"tags\":[\"embedded\"]},\"id\":\"1441\",\"type\":\"Row\"},{\"attributes\":{\"callback\":null,\"renderers\":[{\"id\":\"1482\"}],\"tags\":[\"hv_created\"],\"tooltips\":[[\"main_category\",\"@{main_category}\"],[\"average_duration_days\",\"@{average_duration_days}\"]]},\"id\":\"1445\",\"type\":\"HoverTool\"},{\"attributes\":{},\"id\":\"1486\",\"type\":\"BasicTickFormatter\"},{\"attributes\":{\"below\":[{\"id\":\"1455\"}],\"center\":[{\"id\":\"1457\"},{\"id\":\"1461\"}],\"left\":[{\"id\":\"1458\"}],\"margin\":[5,5,5,5],\"min_border_bottom\":10,\"min_border_left\":10,\"min_border_right\":10,\"min_border_top\":10,\"plot_height\":300,\"plot_width\":700,\"renderers\":[{\"id\":\"1482\"}],\"sizing_mode\":\"fixed\",\"title\":{\"id\":\"1447\"},\"toolbar\":{\"id\":\"1468\"},\"x_range\":{\"id\":\"1443\"},\"x_scale\":{\"id\":\"1451\"},\"y_range\":{\"id\":\"1444\"},\"y_scale\":{\"id\":\"1453\"}},\"id\":\"1446\",\"subtype\":\"Figure\",\"type\":\"Plot\"},{\"attributes\":{\"fill_alpha\":{\"value\":0.2},\"fill_color\":{\"value\":\"green\"},\"line_alpha\":{\"value\":0.2},\"top\":{\"field\":\"average_duration_days\"},\"width\":{\"value\":0.8},\"x\":{\"field\":\"main_category\"}},\"id\":\"1481\",\"type\":\"VBar\"},{\"attributes\":{\"fill_alpha\":{\"value\":0.1},\"fill_color\":{\"value\":\"green\"},\"line_alpha\":{\"value\":0.1},\"top\":{\"field\":\"average_duration_days\"},\"width\":{\"value\":0.8},\"x\":{\"field\":\"main_category\"}},\"id\":\"1479\",\"type\":\"VBar\"},{\"attributes\":{\"source\":{\"id\":\"1475\"}},\"id\":\"1483\",\"type\":\"CDSView\"},{\"attributes\":{},\"id\":\"1451\",\"type\":\"CategoricalScale\"},{\"attributes\":{},\"id\":\"1462\",\"type\":\"SaveTool\"},{\"attributes\":{},\"id\":\"1463\",\"type\":\"PanTool\"},{\"attributes\":{\"end\":35.0,\"reset_end\":35.0,\"reset_start\":30.0,\"start\":30.0,\"tags\":[[[\"average_duration_days\",\"average_duration_days\",null]]]},\"id\":\"1444\",\"type\":\"Range1d\"},{\"attributes\":{},\"id\":\"1464\",\"type\":\"WheelZoomTool\"},{\"attributes\":{\"overlay\":{\"id\":\"1467\"}},\"id\":\"1465\",\"type\":\"BoxZoomTool\"},{\"attributes\":{\"data\":{\"average_duration_days\":{\"__ndarray__\":\"kVbwPA4aQUDnlWYiM/1AQGG5noYL1EBA1m6DskKMQEAKLAnKUG5AQNz9g68NbEBAWplDtOBRQEAKQ0psl0dAQM2A0YgAIUBAAKfTENz+P0Dr9kEz56c/QAqrgLp4jj9AsRMM/gYpP0D4aA5M5w8/QJ4W6ZVfYD5A\",\"dtype\":\"float64\",\"order\":\"little\",\"shape\":[15]},\"main_category\":[\"Technology\",\"Music\",\"Film & Video\",\"Design\",\"Journalism\",\"Food\",\"Comics\",\"Publishing\",\"Photography\",\"Theater\",\"Dance\",\"Fashion\",\"Games\",\"Art\",\"Crafts\"]},\"selected\":{\"id\":\"1476\"},\"selection_policy\":{\"id\":\"1495\"}},\"id\":\"1475\",\"type\":\"ColumnDataSource\"},{\"attributes\":{\"fill_color\":{\"value\":\"green\"},\"top\":{\"field\":\"average_duration_days\"},\"width\":{\"value\":0.8},\"x\":{\"field\":\"main_category\"}},\"id\":\"1478\",\"type\":\"VBar\"},{\"attributes\":{\"axis_label\":\"main_category\",\"bounds\":\"auto\",\"formatter\":{\"id\":\"1484\"},\"major_label_orientation\":1.0471975511965976,\"ticker\":{\"id\":\"1456\"}},\"id\":\"1455\",\"type\":\"CategoricalAxis\"},{\"attributes\":{\"factors\":[\"Technology\",\"Music\",\"Film & Video\",\"Design\",\"Journalism\",\"Food\",\"Comics\",\"Publishing\",\"Photography\",\"Theater\",\"Dance\",\"Fashion\",\"Games\",\"Art\",\"Crafts\"],\"tags\":[[[\"main_category\",\"main_category\",null]]]},\"id\":\"1443\",\"type\":\"FactorRange\"},{\"attributes\":{\"data_source\":{\"id\":\"1475\"},\"glyph\":{\"id\":\"1478\"},\"hover_glyph\":{\"id\":\"1480\"},\"muted_glyph\":{\"id\":\"1481\"},\"nonselection_glyph\":{\"id\":\"1479\"},\"selection_glyph\":null,\"view\":{\"id\":\"1483\"}},\"id\":\"1482\",\"type\":\"GlyphRenderer\"},{\"attributes\":{},\"id\":\"1495\",\"type\":\"UnionRenderers\"},{\"attributes\":{},\"id\":\"1466\",\"type\":\"ResetTool\"},{\"attributes\":{},\"id\":\"1453\",\"type\":\"LinearScale\"}],\"root_ids\":[\"1441\"]},\"title\":\"Bokeh Application\",\"version\":\"2.2.3\"}};\n",
       "    var render_items = [{\"docid\":\"99c2c535-b725-4eb3-815c-f34eea4313f8\",\"root_ids\":[\"1441\"],\"roots\":{\"1441\":\"2c9c2136-1bce-40cd-9dd7-d581e25ae2b2\"}}];\n",
       "    root.Bokeh.embed.embed_items_notebook(docs_json, render_items);\n",
       "  }\n",
       "  if (root.Bokeh !== undefined && root.Bokeh.Panel !== undefined) {\n",
       "    embed_document(root);\n",
       "  } else {\n",
       "    var attempts = 0;\n",
       "    var timer = setInterval(function(root) {\n",
       "      if (root.Bokeh !== undefined && root.Bokeh.Panel !== undefined) {\n",
       "        clearInterval(timer);\n",
       "        embed_document(root);\n",
       "      } else if (document.readyState == \"complete\") {\n",
       "        attempts++;\n",
       "        if (attempts > 100) {\n",
       "          clearInterval(timer);\n",
       "          console.log(\"Bokeh: ERROR: Unable to run BokehJS code because BokehJS library is missing\");\n",
       "        }\n",
       "      }\n",
       "    }, 10, root)\n",
       "  }\n",
       "})(window);</script>"
      ]
     },
     "metadata": {
      "application/vnd.holoviews_exec.v0+json": {
       "id": "1441"
      }
     },
     "execution_count": 323
    }
   ],
   "metadata": {}
  },
  {
   "cell_type": "code",
   "execution_count": 324,
   "source": [
    "# Create a SQL query to get the main_category and \n",
    "# duration of the Indiegogo  dataframe and \n",
    "# group them by main_category and get its average duration days.\n",
    "query=\"\"\"SELECT\n",
    "   main_category, AVG(duration) AS average_duration_days\n",
    "FROM\n",
    "  indie_gogo\n",
    "GROUP BY\n",
    "  main_category\n",
    "ORDER BY \n",
    "    AVG(duration) DESC,\n",
    "    main_category DESC;\n",
    "\"\"\"\n",
    "# This will let us read the query we applied earlier to create a dataframe.\n",
    "indiegogo_groupby_maincategory_df = pd.read_sql_query(\n",
    "    query, \n",
    "    con= engine)\n",
    "indiegogo_groupby_maincategory_df"
   ],
   "outputs": [
    {
     "output_type": "execute_result",
     "data": {
      "text/plain": [
       "  main_category  average_duration_days\n",
       "0          Food              44.834425\n",
       "1         Music              44.610644\n",
       "2           Art              43.418966\n",
       "3       Theater              43.300000\n",
       "4  Film & Video              43.038050\n",
       "5   Photography              42.939837\n",
       "6    Journalism              42.801370\n",
       "7    Technology              42.169352\n",
       "8         Games              40.861176"
      ],
      "text/html": [
       "<div>\n",
       "<style scoped>\n",
       "    .dataframe tbody tr th:only-of-type {\n",
       "        vertical-align: middle;\n",
       "    }\n",
       "\n",
       "    .dataframe tbody tr th {\n",
       "        vertical-align: top;\n",
       "    }\n",
       "\n",
       "    .dataframe thead th {\n",
       "        text-align: right;\n",
       "    }\n",
       "</style>\n",
       "<table border=\"1\" class=\"dataframe\">\n",
       "  <thead>\n",
       "    <tr style=\"text-align: right;\">\n",
       "      <th></th>\n",
       "      <th>main_category</th>\n",
       "      <th>average_duration_days</th>\n",
       "    </tr>\n",
       "  </thead>\n",
       "  <tbody>\n",
       "    <tr>\n",
       "      <th>0</th>\n",
       "      <td>Food</td>\n",
       "      <td>44.834425</td>\n",
       "    </tr>\n",
       "    <tr>\n",
       "      <th>1</th>\n",
       "      <td>Music</td>\n",
       "      <td>44.610644</td>\n",
       "    </tr>\n",
       "    <tr>\n",
       "      <th>2</th>\n",
       "      <td>Art</td>\n",
       "      <td>43.418966</td>\n",
       "    </tr>\n",
       "    <tr>\n",
       "      <th>3</th>\n",
       "      <td>Theater</td>\n",
       "      <td>43.300000</td>\n",
       "    </tr>\n",
       "    <tr>\n",
       "      <th>4</th>\n",
       "      <td>Film &amp; Video</td>\n",
       "      <td>43.038050</td>\n",
       "    </tr>\n",
       "    <tr>\n",
       "      <th>5</th>\n",
       "      <td>Photography</td>\n",
       "      <td>42.939837</td>\n",
       "    </tr>\n",
       "    <tr>\n",
       "      <th>6</th>\n",
       "      <td>Journalism</td>\n",
       "      <td>42.801370</td>\n",
       "    </tr>\n",
       "    <tr>\n",
       "      <th>7</th>\n",
       "      <td>Technology</td>\n",
       "      <td>42.169352</td>\n",
       "    </tr>\n",
       "    <tr>\n",
       "      <th>8</th>\n",
       "      <td>Games</td>\n",
       "      <td>40.861176</td>\n",
       "    </tr>\n",
       "  </tbody>\n",
       "</table>\n",
       "</div>"
      ]
     },
     "metadata": {},
     "execution_count": 324
    }
   ],
   "metadata": {}
  },
  {
   "cell_type": "code",
   "execution_count": 325,
   "source": [
    "# This will create a bar plot to visualize the average duration of the\n",
    "# projects per main category in Indiegogo.\n",
    "\n",
    "indiegogo_duration_hvplot = indiegogo_groupby_maincategory_df.hvplot(kind='bar',\n",
    "                                            x='main_category',\n",
    "                                            ylim=(20,46.0),\n",
    "                                            rot=60,\n",
    "                                            title=\"Indiegogo's Average Duration Days of Each Main Category\",\n",
    "                                            hover_color= 'orange',\n",
    "                                            color = 'magenta'\n",
    "                                            )\n",
    "indiegogo_duration_hvplot"
   ],
   "outputs": [
    {
     "output_type": "display_data",
     "data": {},
     "metadata": {}
    },
    {
     "output_type": "execute_result",
     "data": {
      "application/vnd.holoviews_exec.v0+json": "",
      "text/plain": [
       ":Bars   [main_category]   (average_duration_days)"
      ],
      "text/html": [
       "<div id='1546'>\n",
       "\n",
       "\n",
       "\n",
       "\n",
       "\n",
       "  <div class=\"bk-root\" id=\"d36bd7a4-be0e-4d3b-ac1b-ec571332208e\" data-root-id=\"1546\"></div>\n",
       "</div>\n",
       "<script type=\"application/javascript\">(function(root) {\n",
       "  function embed_document(root) {\n",
       "    var docs_json = {\"48aa3b30-c9b4-4c56-a52d-9b816c13858c\":{\"roots\":{\"references\":[{\"attributes\":{\"below\":[{\"id\":\"1560\"}],\"center\":[{\"id\":\"1562\"},{\"id\":\"1566\"}],\"left\":[{\"id\":\"1563\"}],\"margin\":[5,5,5,5],\"min_border_bottom\":10,\"min_border_left\":10,\"min_border_right\":10,\"min_border_top\":10,\"plot_height\":300,\"plot_width\":700,\"renderers\":[{\"id\":\"1587\"}],\"sizing_mode\":\"fixed\",\"title\":{\"id\":\"1552\"},\"toolbar\":{\"id\":\"1573\"},\"x_range\":{\"id\":\"1548\"},\"x_scale\":{\"id\":\"1556\"},\"y_range\":{\"id\":\"1549\"},\"y_scale\":{\"id\":\"1558\"}},\"id\":\"1551\",\"subtype\":\"Figure\",\"type\":\"Plot\"},{\"attributes\":{\"bottom_units\":\"screen\",\"fill_alpha\":0.5,\"fill_color\":\"lightgrey\",\"left_units\":\"screen\",\"level\":\"overlay\",\"line_alpha\":1.0,\"line_color\":\"black\",\"line_dash\":[4,4],\"line_width\":2,\"right_units\":\"screen\",\"top_units\":\"screen\"},\"id\":\"1572\",\"type\":\"BoxAnnotation\"},{\"attributes\":{\"source\":{\"id\":\"1580\"}},\"id\":\"1588\",\"type\":\"CDSView\"},{\"attributes\":{},\"id\":\"1567\",\"type\":\"SaveTool\"},{\"attributes\":{\"children\":[{\"id\":\"1547\"},{\"id\":\"1551\"},{\"id\":\"1609\"}],\"margin\":[0,0,0,0],\"name\":\"Row02479\",\"tags\":[\"embedded\"]},\"id\":\"1546\",\"type\":\"Row\"},{\"attributes\":{\"active_drag\":\"auto\",\"active_inspect\":\"auto\",\"active_multi\":null,\"active_scroll\":\"auto\",\"active_tap\":\"auto\",\"tools\":[{\"id\":\"1550\"},{\"id\":\"1567\"},{\"id\":\"1568\"},{\"id\":\"1569\"},{\"id\":\"1570\"},{\"id\":\"1571\"}]},\"id\":\"1573\",\"type\":\"Toolbar\"},{\"attributes\":{\"factors\":[\"Food\",\"Music\",\"Art\",\"Theater\",\"Film & Video\",\"Photography\",\"Journalism\",\"Technology\",\"Games\"],\"tags\":[[[\"main_category\",\"main_category\",null]]]},\"id\":\"1548\",\"type\":\"FactorRange\"},{\"attributes\":{\"fill_color\":{\"value\":\"magenta\"},\"top\":{\"field\":\"average_duration_days\"},\"width\":{\"value\":0.8},\"x\":{\"field\":\"main_category\"}},\"id\":\"1583\",\"type\":\"VBar\"},{\"attributes\":{},\"id\":\"1600\",\"type\":\"UnionRenderers\"},{\"attributes\":{\"data\":{\"average_duration_days\":{\"__ndarray__\":\"Yhmubc5qRkCXKU6XKU5GQAtafamgtUVAZmZmZmamRUDKIQnS3oRFQHjJhJdMeEVAadKkSZNmRUAzHAJSrRVFQG6h1Ac7bkRA\",\"dtype\":\"float64\",\"order\":\"little\",\"shape\":[9]},\"main_category\":[\"Food\",\"Music\",\"Art\",\"Theater\",\"Film & Video\",\"Photography\",\"Journalism\",\"Technology\",\"Games\"]},\"selected\":{\"id\":\"1581\"},\"selection_policy\":{\"id\":\"1600\"}},\"id\":\"1580\",\"type\":\"ColumnDataSource\"},{\"attributes\":{},\"id\":\"1568\",\"type\":\"PanTool\"},{\"attributes\":{\"margin\":[5,5,5,5],\"name\":\"HSpacer02483\",\"sizing_mode\":\"stretch_width\"},\"id\":\"1547\",\"type\":\"Spacer\"},{\"attributes\":{},\"id\":\"1569\",\"type\":\"WheelZoomTool\"},{\"attributes\":{},\"id\":\"1589\",\"type\":\"CategoricalTickFormatter\"},{\"attributes\":{\"fill_color\":{\"value\":\"orange\"},\"line_color\":{\"value\":\"orange\"},\"top\":{\"field\":\"average_duration_days\"},\"width\":{\"value\":0.8},\"x\":{\"field\":\"main_category\"}},\"id\":\"1585\",\"type\":\"VBar\"},{\"attributes\":{},\"id\":\"1591\",\"type\":\"BasicTickFormatter\"},{\"attributes\":{\"overlay\":{\"id\":\"1572\"}},\"id\":\"1570\",\"type\":\"BoxZoomTool\"},{\"attributes\":{},\"id\":\"1558\",\"type\":\"LinearScale\"},{\"attributes\":{},\"id\":\"1571\",\"type\":\"ResetTool\"},{\"attributes\":{\"axis_label\":\"main_category\",\"bounds\":\"auto\",\"formatter\":{\"id\":\"1589\"},\"major_label_orientation\":1.0471975511965976,\"ticker\":{\"id\":\"1561\"}},\"id\":\"1560\",\"type\":\"CategoricalAxis\"},{\"attributes\":{\"margin\":[5,5,5,5],\"name\":\"HSpacer02484\",\"sizing_mode\":\"stretch_width\"},\"id\":\"1609\",\"type\":\"Spacer\"},{\"attributes\":{},\"id\":\"1556\",\"type\":\"CategoricalScale\"},{\"attributes\":{\"fill_alpha\":{\"value\":0.1},\"fill_color\":{\"value\":\"magenta\"},\"line_alpha\":{\"value\":0.1},\"top\":{\"field\":\"average_duration_days\"},\"width\":{\"value\":0.8},\"x\":{\"field\":\"main_category\"}},\"id\":\"1584\",\"type\":\"VBar\"},{\"attributes\":{\"axis_label\":\"average_duration_days\",\"bounds\":\"auto\",\"formatter\":{\"id\":\"1591\"},\"major_label_orientation\":\"horizontal\",\"ticker\":{\"id\":\"1564\"}},\"id\":\"1563\",\"type\":\"LinearAxis\"},{\"attributes\":{},\"id\":\"1564\",\"type\":\"BasicTicker\"},{\"attributes\":{\"axis\":{\"id\":\"1560\"},\"grid_line_color\":null,\"ticker\":null},\"id\":\"1562\",\"type\":\"Grid\"},{\"attributes\":{\"end\":46.0,\"reset_end\":46.0,\"reset_start\":20,\"start\":20,\"tags\":[[[\"average_duration_days\",\"average_duration_days\",null]]]},\"id\":\"1549\",\"type\":\"Range1d\"},{\"attributes\":{\"callback\":null,\"renderers\":[{\"id\":\"1587\"}],\"tags\":[\"hv_created\"],\"tooltips\":[[\"main_category\",\"@{main_category}\"],[\"average_duration_days\",\"@{average_duration_days}\"]]},\"id\":\"1550\",\"type\":\"HoverTool\"},{\"attributes\":{},\"id\":\"1561\",\"type\":\"CategoricalTicker\"},{\"attributes\":{\"axis\":{\"id\":\"1563\"},\"dimension\":1,\"grid_line_color\":null,\"ticker\":null},\"id\":\"1566\",\"type\":\"Grid\"},{\"attributes\":{\"text\":\"Indiegogo's Average Duration Days of Each Main Category\",\"text_color\":{\"value\":\"black\"},\"text_font_size\":{\"value\":\"12pt\"}},\"id\":\"1552\",\"type\":\"Title\"},{\"attributes\":{\"fill_alpha\":{\"value\":0.2},\"fill_color\":{\"value\":\"magenta\"},\"line_alpha\":{\"value\":0.2},\"top\":{\"field\":\"average_duration_days\"},\"width\":{\"value\":0.8},\"x\":{\"field\":\"main_category\"}},\"id\":\"1586\",\"type\":\"VBar\"},{\"attributes\":{\"data_source\":{\"id\":\"1580\"},\"glyph\":{\"id\":\"1583\"},\"hover_glyph\":{\"id\":\"1585\"},\"muted_glyph\":{\"id\":\"1586\"},\"nonselection_glyph\":{\"id\":\"1584\"},\"selection_glyph\":null,\"view\":{\"id\":\"1588\"}},\"id\":\"1587\",\"type\":\"GlyphRenderer\"},{\"attributes\":{},\"id\":\"1581\",\"type\":\"Selection\"}],\"root_ids\":[\"1546\"]},\"title\":\"Bokeh Application\",\"version\":\"2.2.3\"}};\n",
       "    var render_items = [{\"docid\":\"48aa3b30-c9b4-4c56-a52d-9b816c13858c\",\"root_ids\":[\"1546\"],\"roots\":{\"1546\":\"d36bd7a4-be0e-4d3b-ac1b-ec571332208e\"}}];\n",
       "    root.Bokeh.embed.embed_items_notebook(docs_json, render_items);\n",
       "  }\n",
       "  if (root.Bokeh !== undefined && root.Bokeh.Panel !== undefined) {\n",
       "    embed_document(root);\n",
       "  } else {\n",
       "    var attempts = 0;\n",
       "    var timer = setInterval(function(root) {\n",
       "      if (root.Bokeh !== undefined && root.Bokeh.Panel !== undefined) {\n",
       "        clearInterval(timer);\n",
       "        embed_document(root);\n",
       "      } else if (document.readyState == \"complete\") {\n",
       "        attempts++;\n",
       "        if (attempts > 100) {\n",
       "          clearInterval(timer);\n",
       "          console.log(\"Bokeh: ERROR: Unable to run BokehJS code because BokehJS library is missing\");\n",
       "        }\n",
       "      }\n",
       "    }, 10, root)\n",
       "  }\n",
       "})(window);</script>"
      ]
     },
     "metadata": {
      "application/vnd.holoviews_exec.v0+json": {
       "id": "1546"
      }
     },
     "execution_count": 325
    }
   ],
   "metadata": {}
  },
  {
   "cell_type": "markdown",
   "source": [
    "## Add SQL query to get the countries of Kickstarter and Indiegogo and get total the number of projects per country"
   ],
   "metadata": {}
  },
  {
   "cell_type": "code",
   "execution_count": 326,
   "source": [
    "# Create a SQL query to get the total number of projects in Kickstarter Large dataframe per country.\n",
    "query_ks_country = \"\"\"\n",
    "SELECT full_country_names AS Country, COUNT (*) AS Total_number_of_projects, lat, long \n",
    "FROM kickstarter_large\n",
    "GROUP BY full_country_names\n",
    "ORDER BY\n",
    "    total_number_of_projects DESC;\n",
    "\"\"\"\n",
    "\n",
    "# This will let us read the query we applied earlier to create a dataframe.\n",
    "ks_country_total_df = pd.read_sql_query(\n",
    "    query_ks_country, \n",
    "    con= engine)\n",
    "ks_country_total_df"
   ],
   "outputs": [
    {
     "output_type": "execute_result",
     "data": {
      "text/plain": [
       "           Country  Total_number_of_projects        lat        long\n",
       "0    United States                    258825  37.090240  -95.712891\n",
       "1   United Kingdom                     29462  55.378051   -3.435973\n",
       "2           Canada                     12372  56.130366 -106.346771\n",
       "3        Australia                      6619 -25.274398  133.775136\n",
       "4          Germany                      3436  51.165691   10.451526\n",
       "5           France                      2520  46.227638    2.213749\n",
       "6      Netherlands                      2411  52.132633    5.291266\n",
       "7            Italy                      2369  41.871940   12.567380\n",
       "8            Spain                      1873  40.463667   -3.749220\n",
       "9           Sweden                      1510  60.128161   18.643501\n",
       "10          Mexico                      1411  23.634501 -102.552784\n",
       "11     New Zealand                      1274 -40.900557  174.885971\n",
       "12         Denmark                       927  56.263920    9.501785\n",
       "13         Ireland                       683  53.412910   -8.243890\n",
       "14     Switzerland                       652  46.818188    8.227512\n",
       "15          Norway                       583  60.472024    8.468946\n",
       "16         Belgium                       523  50.503887    4.469936\n",
       "17         Austria                       485  47.516231   14.550072\n",
       "18       Hong Kong                       477  22.396428  114.109497\n",
       "19       Singapore                       454   1.352083  103.819836\n",
       "20      Luxembourg                        57  49.815273    6.129583\n",
       "21           Japan                        23  36.204824  138.252924"
      ],
      "text/html": [
       "<div>\n",
       "<style scoped>\n",
       "    .dataframe tbody tr th:only-of-type {\n",
       "        vertical-align: middle;\n",
       "    }\n",
       "\n",
       "    .dataframe tbody tr th {\n",
       "        vertical-align: top;\n",
       "    }\n",
       "\n",
       "    .dataframe thead th {\n",
       "        text-align: right;\n",
       "    }\n",
       "</style>\n",
       "<table border=\"1\" class=\"dataframe\">\n",
       "  <thead>\n",
       "    <tr style=\"text-align: right;\">\n",
       "      <th></th>\n",
       "      <th>Country</th>\n",
       "      <th>Total_number_of_projects</th>\n",
       "      <th>lat</th>\n",
       "      <th>long</th>\n",
       "    </tr>\n",
       "  </thead>\n",
       "  <tbody>\n",
       "    <tr>\n",
       "      <th>0</th>\n",
       "      <td>United States</td>\n",
       "      <td>258825</td>\n",
       "      <td>37.090240</td>\n",
       "      <td>-95.712891</td>\n",
       "    </tr>\n",
       "    <tr>\n",
       "      <th>1</th>\n",
       "      <td>United Kingdom</td>\n",
       "      <td>29462</td>\n",
       "      <td>55.378051</td>\n",
       "      <td>-3.435973</td>\n",
       "    </tr>\n",
       "    <tr>\n",
       "      <th>2</th>\n",
       "      <td>Canada</td>\n",
       "      <td>12372</td>\n",
       "      <td>56.130366</td>\n",
       "      <td>-106.346771</td>\n",
       "    </tr>\n",
       "    <tr>\n",
       "      <th>3</th>\n",
       "      <td>Australia</td>\n",
       "      <td>6619</td>\n",
       "      <td>-25.274398</td>\n",
       "      <td>133.775136</td>\n",
       "    </tr>\n",
       "    <tr>\n",
       "      <th>4</th>\n",
       "      <td>Germany</td>\n",
       "      <td>3436</td>\n",
       "      <td>51.165691</td>\n",
       "      <td>10.451526</td>\n",
       "    </tr>\n",
       "    <tr>\n",
       "      <th>5</th>\n",
       "      <td>France</td>\n",
       "      <td>2520</td>\n",
       "      <td>46.227638</td>\n",
       "      <td>2.213749</td>\n",
       "    </tr>\n",
       "    <tr>\n",
       "      <th>6</th>\n",
       "      <td>Netherlands</td>\n",
       "      <td>2411</td>\n",
       "      <td>52.132633</td>\n",
       "      <td>5.291266</td>\n",
       "    </tr>\n",
       "    <tr>\n",
       "      <th>7</th>\n",
       "      <td>Italy</td>\n",
       "      <td>2369</td>\n",
       "      <td>41.871940</td>\n",
       "      <td>12.567380</td>\n",
       "    </tr>\n",
       "    <tr>\n",
       "      <th>8</th>\n",
       "      <td>Spain</td>\n",
       "      <td>1873</td>\n",
       "      <td>40.463667</td>\n",
       "      <td>-3.749220</td>\n",
       "    </tr>\n",
       "    <tr>\n",
       "      <th>9</th>\n",
       "      <td>Sweden</td>\n",
       "      <td>1510</td>\n",
       "      <td>60.128161</td>\n",
       "      <td>18.643501</td>\n",
       "    </tr>\n",
       "    <tr>\n",
       "      <th>10</th>\n",
       "      <td>Mexico</td>\n",
       "      <td>1411</td>\n",
       "      <td>23.634501</td>\n",
       "      <td>-102.552784</td>\n",
       "    </tr>\n",
       "    <tr>\n",
       "      <th>11</th>\n",
       "      <td>New Zealand</td>\n",
       "      <td>1274</td>\n",
       "      <td>-40.900557</td>\n",
       "      <td>174.885971</td>\n",
       "    </tr>\n",
       "    <tr>\n",
       "      <th>12</th>\n",
       "      <td>Denmark</td>\n",
       "      <td>927</td>\n",
       "      <td>56.263920</td>\n",
       "      <td>9.501785</td>\n",
       "    </tr>\n",
       "    <tr>\n",
       "      <th>13</th>\n",
       "      <td>Ireland</td>\n",
       "      <td>683</td>\n",
       "      <td>53.412910</td>\n",
       "      <td>-8.243890</td>\n",
       "    </tr>\n",
       "    <tr>\n",
       "      <th>14</th>\n",
       "      <td>Switzerland</td>\n",
       "      <td>652</td>\n",
       "      <td>46.818188</td>\n",
       "      <td>8.227512</td>\n",
       "    </tr>\n",
       "    <tr>\n",
       "      <th>15</th>\n",
       "      <td>Norway</td>\n",
       "      <td>583</td>\n",
       "      <td>60.472024</td>\n",
       "      <td>8.468946</td>\n",
       "    </tr>\n",
       "    <tr>\n",
       "      <th>16</th>\n",
       "      <td>Belgium</td>\n",
       "      <td>523</td>\n",
       "      <td>50.503887</td>\n",
       "      <td>4.469936</td>\n",
       "    </tr>\n",
       "    <tr>\n",
       "      <th>17</th>\n",
       "      <td>Austria</td>\n",
       "      <td>485</td>\n",
       "      <td>47.516231</td>\n",
       "      <td>14.550072</td>\n",
       "    </tr>\n",
       "    <tr>\n",
       "      <th>18</th>\n",
       "      <td>Hong Kong</td>\n",
       "      <td>477</td>\n",
       "      <td>22.396428</td>\n",
       "      <td>114.109497</td>\n",
       "    </tr>\n",
       "    <tr>\n",
       "      <th>19</th>\n",
       "      <td>Singapore</td>\n",
       "      <td>454</td>\n",
       "      <td>1.352083</td>\n",
       "      <td>103.819836</td>\n",
       "    </tr>\n",
       "    <tr>\n",
       "      <th>20</th>\n",
       "      <td>Luxembourg</td>\n",
       "      <td>57</td>\n",
       "      <td>49.815273</td>\n",
       "      <td>6.129583</td>\n",
       "    </tr>\n",
       "    <tr>\n",
       "      <th>21</th>\n",
       "      <td>Japan</td>\n",
       "      <td>23</td>\n",
       "      <td>36.204824</td>\n",
       "      <td>138.252924</td>\n",
       "    </tr>\n",
       "  </tbody>\n",
       "</table>\n",
       "</div>"
      ]
     },
     "metadata": {},
     "execution_count": 326
    }
   ],
   "metadata": {}
  },
  {
   "cell_type": "code",
   "execution_count": 327,
   "source": [
    "# Create a SQL query to get the total number of projects in Kickstarter Large dataframe per country.\n",
    "query_indiegogo_country = \"\"\"\n",
    "SELECT full_country_names AS Country, COUNT (*) AS Total_number_of_projects, lat, long \n",
    "FROM indie_gogo\n",
    "GROUP BY full_country_names\n",
    "ORDER BY\n",
    "    total_number_of_projects DESC;\n",
    "\"\"\"\n",
    "\n",
    "# This will let us read the query we applied earlier to create a dataframe.\n",
    "indiegogo_country_total_df = pd.read_sql_query(\n",
    "    query_indiegogo_country, \n",
    "    con= engine)\n",
    "indiegogo_country_total_df"
   ],
   "outputs": [
    {
     "output_type": "execute_result",
     "data": {
      "text/plain": [
       "          Country  Total_number_of_projects        lat        long\n",
       "0   United States                      7456  37.090240  -95.712891\n",
       "1      Luxembourg                       686  49.815273    6.129583\n",
       "2  United Kingdom                       679  55.378051   -3.435973\n",
       "3          Canada                       384  56.130366 -106.346771\n",
       "4       Australia                       104 -25.274398  133.775136"
      ],
      "text/html": [
       "<div>\n",
       "<style scoped>\n",
       "    .dataframe tbody tr th:only-of-type {\n",
       "        vertical-align: middle;\n",
       "    }\n",
       "\n",
       "    .dataframe tbody tr th {\n",
       "        vertical-align: top;\n",
       "    }\n",
       "\n",
       "    .dataframe thead th {\n",
       "        text-align: right;\n",
       "    }\n",
       "</style>\n",
       "<table border=\"1\" class=\"dataframe\">\n",
       "  <thead>\n",
       "    <tr style=\"text-align: right;\">\n",
       "      <th></th>\n",
       "      <th>Country</th>\n",
       "      <th>Total_number_of_projects</th>\n",
       "      <th>lat</th>\n",
       "      <th>long</th>\n",
       "    </tr>\n",
       "  </thead>\n",
       "  <tbody>\n",
       "    <tr>\n",
       "      <th>0</th>\n",
       "      <td>United States</td>\n",
       "      <td>7456</td>\n",
       "      <td>37.090240</td>\n",
       "      <td>-95.712891</td>\n",
       "    </tr>\n",
       "    <tr>\n",
       "      <th>1</th>\n",
       "      <td>Luxembourg</td>\n",
       "      <td>686</td>\n",
       "      <td>49.815273</td>\n",
       "      <td>6.129583</td>\n",
       "    </tr>\n",
       "    <tr>\n",
       "      <th>2</th>\n",
       "      <td>United Kingdom</td>\n",
       "      <td>679</td>\n",
       "      <td>55.378051</td>\n",
       "      <td>-3.435973</td>\n",
       "    </tr>\n",
       "    <tr>\n",
       "      <th>3</th>\n",
       "      <td>Canada</td>\n",
       "      <td>384</td>\n",
       "      <td>56.130366</td>\n",
       "      <td>-106.346771</td>\n",
       "    </tr>\n",
       "    <tr>\n",
       "      <th>4</th>\n",
       "      <td>Australia</td>\n",
       "      <td>104</td>\n",
       "      <td>-25.274398</td>\n",
       "      <td>133.775136</td>\n",
       "    </tr>\n",
       "  </tbody>\n",
       "</table>\n",
       "</div>"
      ]
     },
     "metadata": {},
     "execution_count": 327
    }
   ],
   "metadata": {}
  },
  {
   "cell_type": "markdown",
   "source": [
    "## Create scatter mapbox plot for Kickstarter and Indiegogo countries and their respective total number of projects."
   ],
   "metadata": {}
  },
  {
   "cell_type": "code",
   "execution_count": 328,
   "source": [
    "# This will create a scatter mapbox plot for Kickstarter and  their respective longitude and latitude plotted in with total number of projects.\n",
    "ks_mapbox_plot = px.scatter_mapbox(\n",
    "    ks_country_total_df,\n",
    "    title='Kickstarter Total Projects per Country',\n",
    "    lat='lat',\n",
    "    lon='long',\n",
    "    size='Total_number_of_projects',\n",
    "    hover_name='Country',\n",
    "    size_max=60,\n",
    "    zoom= 11, center = {\"lat\": 37.090240, \"lon\": -95.712891},\n",
    "    color_discrete_sequence=[\"green\"],\n",
    "    height=500,\n",
    "    width=900\n",
    "   \n",
    ")\n",
    "ks_mapbox_plot"
   ],
   "outputs": [
    {
     "output_type": "display_data",
     "data": {
      "application/vnd.plotly.v1+json": {
       "config": {
        "plotlyServerURL": "https://plot.ly"
       },
       "data": [
        {
         "hovertemplate": "<b>%{hovertext}</b><br><br>Total_number_of_projects=%{marker.size}<br>lat=%{lat}<br>long=%{lon}<extra></extra>",
         "hovertext": [
          "United States",
          "United Kingdom",
          "Canada",
          "Australia",
          "Germany",
          "France",
          "Netherlands",
          "Italy",
          "Spain",
          "Sweden",
          "Mexico",
          "New Zealand",
          "Denmark",
          "Ireland",
          "Switzerland",
          "Norway",
          "Belgium",
          "Austria",
          "Hong Kong",
          "Singapore",
          "Luxembourg",
          "Japan"
         ],
         "lat": [
          37.09024,
          55.378051,
          56.130366,
          -25.274398,
          51.165691,
          46.227638,
          52.132633,
          41.87194,
          40.463667,
          60.128161,
          23.634501,
          -40.900557,
          56.26392,
          53.41291,
          46.818188,
          60.472024,
          50.503887,
          47.516231,
          22.396428,
          1.352083,
          49.815273,
          36.204824
         ],
         "legendgroup": "",
         "lon": [
          -95.712891,
          -3.435973,
          -106.346771,
          133.775136,
          10.451526,
          2.213749,
          5.291266,
          12.56738,
          -3.74922,
          18.643501,
          -102.552784,
          174.885971,
          9.501785,
          -8.24389,
          8.227512,
          8.468946,
          4.469936,
          14.550072,
          114.109497,
          103.819836,
          6.129583,
          138.252924
         ],
         "marker": {
          "color": "green",
          "size": [
           258825,
           29462,
           12372,
           6619,
           3436,
           2520,
           2411,
           2369,
           1873,
           1510,
           1411,
           1274,
           927,
           683,
           652,
           583,
           523,
           485,
           477,
           454,
           57,
           23
          ],
          "sizemode": "area",
          "sizeref": 71.89583333333333
         },
         "mode": "markers",
         "name": "",
         "showlegend": false,
         "subplot": "mapbox",
         "type": "scattermapbox"
        }
       ],
       "layout": {
        "height": 500,
        "legend": {
         "itemsizing": "constant",
         "tracegroupgap": 0
        },
        "mapbox": {
         "accesstoken": "pk.eyJ1IjoibjhwYXR0ZXJzb24iLCJhIjoiY2txM2llbjNhMGoxbDJ2cGc0cHlob3V1aiJ9.8LrCxNxRAtu5Hhcqfu5QhA",
         "center": {
          "lat": 37.09024,
          "lon": -95.712891
         },
         "domain": {
          "x": [
           0,
           1
          ],
          "y": [
           0,
           1
          ]
         },
         "zoom": 11
        },
        "template": {
         "data": {
          "bar": [
           {
            "error_x": {
             "color": "#2a3f5f"
            },
            "error_y": {
             "color": "#2a3f5f"
            },
            "marker": {
             "line": {
              "color": "#E5ECF6",
              "width": 0.5
             }
            },
            "type": "bar"
           }
          ],
          "barpolar": [
           {
            "marker": {
             "line": {
              "color": "#E5ECF6",
              "width": 0.5
             }
            },
            "type": "barpolar"
           }
          ],
          "carpet": [
           {
            "aaxis": {
             "endlinecolor": "#2a3f5f",
             "gridcolor": "white",
             "linecolor": "white",
             "minorgridcolor": "white",
             "startlinecolor": "#2a3f5f"
            },
            "baxis": {
             "endlinecolor": "#2a3f5f",
             "gridcolor": "white",
             "linecolor": "white",
             "minorgridcolor": "white",
             "startlinecolor": "#2a3f5f"
            },
            "type": "carpet"
           }
          ],
          "choropleth": [
           {
            "colorbar": {
             "outlinewidth": 0,
             "ticks": ""
            },
            "type": "choropleth"
           }
          ],
          "contour": [
           {
            "colorbar": {
             "outlinewidth": 0,
             "ticks": ""
            },
            "colorscale": [
             [
              0,
              "#0d0887"
             ],
             [
              0.1111111111111111,
              "#46039f"
             ],
             [
              0.2222222222222222,
              "#7201a8"
             ],
             [
              0.3333333333333333,
              "#9c179e"
             ],
             [
              0.4444444444444444,
              "#bd3786"
             ],
             [
              0.5555555555555556,
              "#d8576b"
             ],
             [
              0.6666666666666666,
              "#ed7953"
             ],
             [
              0.7777777777777778,
              "#fb9f3a"
             ],
             [
              0.8888888888888888,
              "#fdca26"
             ],
             [
              1,
              "#f0f921"
             ]
            ],
            "type": "contour"
           }
          ],
          "contourcarpet": [
           {
            "colorbar": {
             "outlinewidth": 0,
             "ticks": ""
            },
            "type": "contourcarpet"
           }
          ],
          "heatmap": [
           {
            "colorbar": {
             "outlinewidth": 0,
             "ticks": ""
            },
            "colorscale": [
             [
              0,
              "#0d0887"
             ],
             [
              0.1111111111111111,
              "#46039f"
             ],
             [
              0.2222222222222222,
              "#7201a8"
             ],
             [
              0.3333333333333333,
              "#9c179e"
             ],
             [
              0.4444444444444444,
              "#bd3786"
             ],
             [
              0.5555555555555556,
              "#d8576b"
             ],
             [
              0.6666666666666666,
              "#ed7953"
             ],
             [
              0.7777777777777778,
              "#fb9f3a"
             ],
             [
              0.8888888888888888,
              "#fdca26"
             ],
             [
              1,
              "#f0f921"
             ]
            ],
            "type": "heatmap"
           }
          ],
          "heatmapgl": [
           {
            "colorbar": {
             "outlinewidth": 0,
             "ticks": ""
            },
            "colorscale": [
             [
              0,
              "#0d0887"
             ],
             [
              0.1111111111111111,
              "#46039f"
             ],
             [
              0.2222222222222222,
              "#7201a8"
             ],
             [
              0.3333333333333333,
              "#9c179e"
             ],
             [
              0.4444444444444444,
              "#bd3786"
             ],
             [
              0.5555555555555556,
              "#d8576b"
             ],
             [
              0.6666666666666666,
              "#ed7953"
             ],
             [
              0.7777777777777778,
              "#fb9f3a"
             ],
             [
              0.8888888888888888,
              "#fdca26"
             ],
             [
              1,
              "#f0f921"
             ]
            ],
            "type": "heatmapgl"
           }
          ],
          "histogram": [
           {
            "marker": {
             "colorbar": {
              "outlinewidth": 0,
              "ticks": ""
             }
            },
            "type": "histogram"
           }
          ],
          "histogram2d": [
           {
            "colorbar": {
             "outlinewidth": 0,
             "ticks": ""
            },
            "colorscale": [
             [
              0,
              "#0d0887"
             ],
             [
              0.1111111111111111,
              "#46039f"
             ],
             [
              0.2222222222222222,
              "#7201a8"
             ],
             [
              0.3333333333333333,
              "#9c179e"
             ],
             [
              0.4444444444444444,
              "#bd3786"
             ],
             [
              0.5555555555555556,
              "#d8576b"
             ],
             [
              0.6666666666666666,
              "#ed7953"
             ],
             [
              0.7777777777777778,
              "#fb9f3a"
             ],
             [
              0.8888888888888888,
              "#fdca26"
             ],
             [
              1,
              "#f0f921"
             ]
            ],
            "type": "histogram2d"
           }
          ],
          "histogram2dcontour": [
           {
            "colorbar": {
             "outlinewidth": 0,
             "ticks": ""
            },
            "colorscale": [
             [
              0,
              "#0d0887"
             ],
             [
              0.1111111111111111,
              "#46039f"
             ],
             [
              0.2222222222222222,
              "#7201a8"
             ],
             [
              0.3333333333333333,
              "#9c179e"
             ],
             [
              0.4444444444444444,
              "#bd3786"
             ],
             [
              0.5555555555555556,
              "#d8576b"
             ],
             [
              0.6666666666666666,
              "#ed7953"
             ],
             [
              0.7777777777777778,
              "#fb9f3a"
             ],
             [
              0.8888888888888888,
              "#fdca26"
             ],
             [
              1,
              "#f0f921"
             ]
            ],
            "type": "histogram2dcontour"
           }
          ],
          "mesh3d": [
           {
            "colorbar": {
             "outlinewidth": 0,
             "ticks": ""
            },
            "type": "mesh3d"
           }
          ],
          "parcoords": [
           {
            "line": {
             "colorbar": {
              "outlinewidth": 0,
              "ticks": ""
             }
            },
            "type": "parcoords"
           }
          ],
          "pie": [
           {
            "automargin": true,
            "type": "pie"
           }
          ],
          "scatter": [
           {
            "marker": {
             "colorbar": {
              "outlinewidth": 0,
              "ticks": ""
             }
            },
            "type": "scatter"
           }
          ],
          "scatter3d": [
           {
            "line": {
             "colorbar": {
              "outlinewidth": 0,
              "ticks": ""
             }
            },
            "marker": {
             "colorbar": {
              "outlinewidth": 0,
              "ticks": ""
             }
            },
            "type": "scatter3d"
           }
          ],
          "scattercarpet": [
           {
            "marker": {
             "colorbar": {
              "outlinewidth": 0,
              "ticks": ""
             }
            },
            "type": "scattercarpet"
           }
          ],
          "scattergeo": [
           {
            "marker": {
             "colorbar": {
              "outlinewidth": 0,
              "ticks": ""
             }
            },
            "type": "scattergeo"
           }
          ],
          "scattergl": [
           {
            "marker": {
             "colorbar": {
              "outlinewidth": 0,
              "ticks": ""
             }
            },
            "type": "scattergl"
           }
          ],
          "scattermapbox": [
           {
            "marker": {
             "colorbar": {
              "outlinewidth": 0,
              "ticks": ""
             }
            },
            "type": "scattermapbox"
           }
          ],
          "scatterpolar": [
           {
            "marker": {
             "colorbar": {
              "outlinewidth": 0,
              "ticks": ""
             }
            },
            "type": "scatterpolar"
           }
          ],
          "scatterpolargl": [
           {
            "marker": {
             "colorbar": {
              "outlinewidth": 0,
              "ticks": ""
             }
            },
            "type": "scatterpolargl"
           }
          ],
          "scatterternary": [
           {
            "marker": {
             "colorbar": {
              "outlinewidth": 0,
              "ticks": ""
             }
            },
            "type": "scatterternary"
           }
          ],
          "surface": [
           {
            "colorbar": {
             "outlinewidth": 0,
             "ticks": ""
            },
            "colorscale": [
             [
              0,
              "#0d0887"
             ],
             [
              0.1111111111111111,
              "#46039f"
             ],
             [
              0.2222222222222222,
              "#7201a8"
             ],
             [
              0.3333333333333333,
              "#9c179e"
             ],
             [
              0.4444444444444444,
              "#bd3786"
             ],
             [
              0.5555555555555556,
              "#d8576b"
             ],
             [
              0.6666666666666666,
              "#ed7953"
             ],
             [
              0.7777777777777778,
              "#fb9f3a"
             ],
             [
              0.8888888888888888,
              "#fdca26"
             ],
             [
              1,
              "#f0f921"
             ]
            ],
            "type": "surface"
           }
          ],
          "table": [
           {
            "cells": {
             "fill": {
              "color": "#EBF0F8"
             },
             "line": {
              "color": "white"
             }
            },
            "header": {
             "fill": {
              "color": "#C8D4E3"
             },
             "line": {
              "color": "white"
             }
            },
            "type": "table"
           }
          ]
         },
         "layout": {
          "annotationdefaults": {
           "arrowcolor": "#2a3f5f",
           "arrowhead": 0,
           "arrowwidth": 1
          },
          "coloraxis": {
           "colorbar": {
            "outlinewidth": 0,
            "ticks": ""
           }
          },
          "colorscale": {
           "diverging": [
            [
             0,
             "#8e0152"
            ],
            [
             0.1,
             "#c51b7d"
            ],
            [
             0.2,
             "#de77ae"
            ],
            [
             0.3,
             "#f1b6da"
            ],
            [
             0.4,
             "#fde0ef"
            ],
            [
             0.5,
             "#f7f7f7"
            ],
            [
             0.6,
             "#e6f5d0"
            ],
            [
             0.7,
             "#b8e186"
            ],
            [
             0.8,
             "#7fbc41"
            ],
            [
             0.9,
             "#4d9221"
            ],
            [
             1,
             "#276419"
            ]
           ],
           "sequential": [
            [
             0,
             "#0d0887"
            ],
            [
             0.1111111111111111,
             "#46039f"
            ],
            [
             0.2222222222222222,
             "#7201a8"
            ],
            [
             0.3333333333333333,
             "#9c179e"
            ],
            [
             0.4444444444444444,
             "#bd3786"
            ],
            [
             0.5555555555555556,
             "#d8576b"
            ],
            [
             0.6666666666666666,
             "#ed7953"
            ],
            [
             0.7777777777777778,
             "#fb9f3a"
            ],
            [
             0.8888888888888888,
             "#fdca26"
            ],
            [
             1,
             "#f0f921"
            ]
           ],
           "sequentialminus": [
            [
             0,
             "#0d0887"
            ],
            [
             0.1111111111111111,
             "#46039f"
            ],
            [
             0.2222222222222222,
             "#7201a8"
            ],
            [
             0.3333333333333333,
             "#9c179e"
            ],
            [
             0.4444444444444444,
             "#bd3786"
            ],
            [
             0.5555555555555556,
             "#d8576b"
            ],
            [
             0.6666666666666666,
             "#ed7953"
            ],
            [
             0.7777777777777778,
             "#fb9f3a"
            ],
            [
             0.8888888888888888,
             "#fdca26"
            ],
            [
             1,
             "#f0f921"
            ]
           ]
          },
          "colorway": [
           "#636efa",
           "#EF553B",
           "#00cc96",
           "#ab63fa",
           "#FFA15A",
           "#19d3f3",
           "#FF6692",
           "#B6E880",
           "#FF97FF",
           "#FECB52"
          ],
          "font": {
           "color": "#2a3f5f"
          },
          "geo": {
           "bgcolor": "white",
           "lakecolor": "white",
           "landcolor": "#E5ECF6",
           "showlakes": true,
           "showland": true,
           "subunitcolor": "white"
          },
          "hoverlabel": {
           "align": "left"
          },
          "hovermode": "closest",
          "mapbox": {
           "style": "light"
          },
          "paper_bgcolor": "white",
          "plot_bgcolor": "#E5ECF6",
          "polar": {
           "angularaxis": {
            "gridcolor": "white",
            "linecolor": "white",
            "ticks": ""
           },
           "bgcolor": "#E5ECF6",
           "radialaxis": {
            "gridcolor": "white",
            "linecolor": "white",
            "ticks": ""
           }
          },
          "scene": {
           "xaxis": {
            "backgroundcolor": "#E5ECF6",
            "gridcolor": "white",
            "gridwidth": 2,
            "linecolor": "white",
            "showbackground": true,
            "ticks": "",
            "zerolinecolor": "white"
           },
           "yaxis": {
            "backgroundcolor": "#E5ECF6",
            "gridcolor": "white",
            "gridwidth": 2,
            "linecolor": "white",
            "showbackground": true,
            "ticks": "",
            "zerolinecolor": "white"
           },
           "zaxis": {
            "backgroundcolor": "#E5ECF6",
            "gridcolor": "white",
            "gridwidth": 2,
            "linecolor": "white",
            "showbackground": true,
            "ticks": "",
            "zerolinecolor": "white"
           }
          },
          "shapedefaults": {
           "line": {
            "color": "#2a3f5f"
           }
          },
          "ternary": {
           "aaxis": {
            "gridcolor": "white",
            "linecolor": "white",
            "ticks": ""
           },
           "baxis": {
            "gridcolor": "white",
            "linecolor": "white",
            "ticks": ""
           },
           "bgcolor": "#E5ECF6",
           "caxis": {
            "gridcolor": "white",
            "linecolor": "white",
            "ticks": ""
           }
          },
          "title": {
           "x": 0.05
          },
          "xaxis": {
           "automargin": true,
           "gridcolor": "white",
           "linecolor": "white",
           "ticks": "",
           "title": {
            "standoff": 15
           },
           "zerolinecolor": "white",
           "zerolinewidth": 2
          },
          "yaxis": {
           "automargin": true,
           "gridcolor": "white",
           "linecolor": "white",
           "ticks": "",
           "title": {
            "standoff": 15
           },
           "zerolinecolor": "white",
           "zerolinewidth": 2
          }
         }
        },
        "title": {
         "text": "Kickstarter Total Projects per Country"
        },
        "width": 900
       }
      }
     },
     "metadata": {}
    }
   ],
   "metadata": {}
  },
  {
   "cell_type": "code",
   "execution_count": 329,
   "source": [
    "# This will create a scatter mapbox plot for Indiegogo and  their respective longitude and latitude plotted in with total number of projects.\n",
    "indiegogo_mapbox_plot = px.scatter_mapbox(\n",
    "    indiegogo_country_total_df,\n",
    "    title='Indiegogo Total Projects per Country',\n",
    "    lat='lat',\n",
    "    lon='long',\n",
    "    size='Total_number_of_projects',\n",
    "    hover_name='Country',\n",
    "    size_max=60,\n",
    "    zoom= 11, center = {\"lat\": 37.090240, \"lon\": -95.712891},\n",
    "    color_discrete_sequence=[\"fuchsia\"],\n",
    "    height=500,\n",
    "    width=900\n",
    "   \n",
    ")\n",
    "indiegogo_mapbox_plot"
   ],
   "outputs": [
    {
     "output_type": "display_data",
     "data": {
      "application/vnd.plotly.v1+json": {
       "config": {
        "plotlyServerURL": "https://plot.ly"
       },
       "data": [
        {
         "hovertemplate": "<b>%{hovertext}</b><br><br>Total_number_of_projects=%{marker.size}<br>lat=%{lat}<br>long=%{lon}<extra></extra>",
         "hovertext": [
          "United States",
          "Luxembourg",
          "United Kingdom",
          "Canada",
          "Australia"
         ],
         "lat": [
          37.09024,
          49.815273,
          55.378051,
          56.130366,
          -25.274398
         ],
         "legendgroup": "",
         "lon": [
          -95.712891,
          6.129583,
          -3.435973,
          -106.346771,
          133.775136
         ],
         "marker": {
          "color": "fuchsia",
          "size": [
           7456,
           686,
           679,
           384,
           104
          ],
          "sizemode": "area",
          "sizeref": 2.071111111111111
         },
         "mode": "markers",
         "name": "",
         "showlegend": false,
         "subplot": "mapbox",
         "type": "scattermapbox"
        }
       ],
       "layout": {
        "height": 500,
        "legend": {
         "itemsizing": "constant",
         "tracegroupgap": 0
        },
        "mapbox": {
         "accesstoken": "pk.eyJ1IjoibjhwYXR0ZXJzb24iLCJhIjoiY2txM2llbjNhMGoxbDJ2cGc0cHlob3V1aiJ9.8LrCxNxRAtu5Hhcqfu5QhA",
         "center": {
          "lat": 37.09024,
          "lon": -95.712891
         },
         "domain": {
          "x": [
           0,
           1
          ],
          "y": [
           0,
           1
          ]
         },
         "zoom": 11
        },
        "template": {
         "data": {
          "bar": [
           {
            "error_x": {
             "color": "#2a3f5f"
            },
            "error_y": {
             "color": "#2a3f5f"
            },
            "marker": {
             "line": {
              "color": "#E5ECF6",
              "width": 0.5
             }
            },
            "type": "bar"
           }
          ],
          "barpolar": [
           {
            "marker": {
             "line": {
              "color": "#E5ECF6",
              "width": 0.5
             }
            },
            "type": "barpolar"
           }
          ],
          "carpet": [
           {
            "aaxis": {
             "endlinecolor": "#2a3f5f",
             "gridcolor": "white",
             "linecolor": "white",
             "minorgridcolor": "white",
             "startlinecolor": "#2a3f5f"
            },
            "baxis": {
             "endlinecolor": "#2a3f5f",
             "gridcolor": "white",
             "linecolor": "white",
             "minorgridcolor": "white",
             "startlinecolor": "#2a3f5f"
            },
            "type": "carpet"
           }
          ],
          "choropleth": [
           {
            "colorbar": {
             "outlinewidth": 0,
             "ticks": ""
            },
            "type": "choropleth"
           }
          ],
          "contour": [
           {
            "colorbar": {
             "outlinewidth": 0,
             "ticks": ""
            },
            "colorscale": [
             [
              0,
              "#0d0887"
             ],
             [
              0.1111111111111111,
              "#46039f"
             ],
             [
              0.2222222222222222,
              "#7201a8"
             ],
             [
              0.3333333333333333,
              "#9c179e"
             ],
             [
              0.4444444444444444,
              "#bd3786"
             ],
             [
              0.5555555555555556,
              "#d8576b"
             ],
             [
              0.6666666666666666,
              "#ed7953"
             ],
             [
              0.7777777777777778,
              "#fb9f3a"
             ],
             [
              0.8888888888888888,
              "#fdca26"
             ],
             [
              1,
              "#f0f921"
             ]
            ],
            "type": "contour"
           }
          ],
          "contourcarpet": [
           {
            "colorbar": {
             "outlinewidth": 0,
             "ticks": ""
            },
            "type": "contourcarpet"
           }
          ],
          "heatmap": [
           {
            "colorbar": {
             "outlinewidth": 0,
             "ticks": ""
            },
            "colorscale": [
             [
              0,
              "#0d0887"
             ],
             [
              0.1111111111111111,
              "#46039f"
             ],
             [
              0.2222222222222222,
              "#7201a8"
             ],
             [
              0.3333333333333333,
              "#9c179e"
             ],
             [
              0.4444444444444444,
              "#bd3786"
             ],
             [
              0.5555555555555556,
              "#d8576b"
             ],
             [
              0.6666666666666666,
              "#ed7953"
             ],
             [
              0.7777777777777778,
              "#fb9f3a"
             ],
             [
              0.8888888888888888,
              "#fdca26"
             ],
             [
              1,
              "#f0f921"
             ]
            ],
            "type": "heatmap"
           }
          ],
          "heatmapgl": [
           {
            "colorbar": {
             "outlinewidth": 0,
             "ticks": ""
            },
            "colorscale": [
             [
              0,
              "#0d0887"
             ],
             [
              0.1111111111111111,
              "#46039f"
             ],
             [
              0.2222222222222222,
              "#7201a8"
             ],
             [
              0.3333333333333333,
              "#9c179e"
             ],
             [
              0.4444444444444444,
              "#bd3786"
             ],
             [
              0.5555555555555556,
              "#d8576b"
             ],
             [
              0.6666666666666666,
              "#ed7953"
             ],
             [
              0.7777777777777778,
              "#fb9f3a"
             ],
             [
              0.8888888888888888,
              "#fdca26"
             ],
             [
              1,
              "#f0f921"
             ]
            ],
            "type": "heatmapgl"
           }
          ],
          "histogram": [
           {
            "marker": {
             "colorbar": {
              "outlinewidth": 0,
              "ticks": ""
             }
            },
            "type": "histogram"
           }
          ],
          "histogram2d": [
           {
            "colorbar": {
             "outlinewidth": 0,
             "ticks": ""
            },
            "colorscale": [
             [
              0,
              "#0d0887"
             ],
             [
              0.1111111111111111,
              "#46039f"
             ],
             [
              0.2222222222222222,
              "#7201a8"
             ],
             [
              0.3333333333333333,
              "#9c179e"
             ],
             [
              0.4444444444444444,
              "#bd3786"
             ],
             [
              0.5555555555555556,
              "#d8576b"
             ],
             [
              0.6666666666666666,
              "#ed7953"
             ],
             [
              0.7777777777777778,
              "#fb9f3a"
             ],
             [
              0.8888888888888888,
              "#fdca26"
             ],
             [
              1,
              "#f0f921"
             ]
            ],
            "type": "histogram2d"
           }
          ],
          "histogram2dcontour": [
           {
            "colorbar": {
             "outlinewidth": 0,
             "ticks": ""
            },
            "colorscale": [
             [
              0,
              "#0d0887"
             ],
             [
              0.1111111111111111,
              "#46039f"
             ],
             [
              0.2222222222222222,
              "#7201a8"
             ],
             [
              0.3333333333333333,
              "#9c179e"
             ],
             [
              0.4444444444444444,
              "#bd3786"
             ],
             [
              0.5555555555555556,
              "#d8576b"
             ],
             [
              0.6666666666666666,
              "#ed7953"
             ],
             [
              0.7777777777777778,
              "#fb9f3a"
             ],
             [
              0.8888888888888888,
              "#fdca26"
             ],
             [
              1,
              "#f0f921"
             ]
            ],
            "type": "histogram2dcontour"
           }
          ],
          "mesh3d": [
           {
            "colorbar": {
             "outlinewidth": 0,
             "ticks": ""
            },
            "type": "mesh3d"
           }
          ],
          "parcoords": [
           {
            "line": {
             "colorbar": {
              "outlinewidth": 0,
              "ticks": ""
             }
            },
            "type": "parcoords"
           }
          ],
          "pie": [
           {
            "automargin": true,
            "type": "pie"
           }
          ],
          "scatter": [
           {
            "marker": {
             "colorbar": {
              "outlinewidth": 0,
              "ticks": ""
             }
            },
            "type": "scatter"
           }
          ],
          "scatter3d": [
           {
            "line": {
             "colorbar": {
              "outlinewidth": 0,
              "ticks": ""
             }
            },
            "marker": {
             "colorbar": {
              "outlinewidth": 0,
              "ticks": ""
             }
            },
            "type": "scatter3d"
           }
          ],
          "scattercarpet": [
           {
            "marker": {
             "colorbar": {
              "outlinewidth": 0,
              "ticks": ""
             }
            },
            "type": "scattercarpet"
           }
          ],
          "scattergeo": [
           {
            "marker": {
             "colorbar": {
              "outlinewidth": 0,
              "ticks": ""
             }
            },
            "type": "scattergeo"
           }
          ],
          "scattergl": [
           {
            "marker": {
             "colorbar": {
              "outlinewidth": 0,
              "ticks": ""
             }
            },
            "type": "scattergl"
           }
          ],
          "scattermapbox": [
           {
            "marker": {
             "colorbar": {
              "outlinewidth": 0,
              "ticks": ""
             }
            },
            "type": "scattermapbox"
           }
          ],
          "scatterpolar": [
           {
            "marker": {
             "colorbar": {
              "outlinewidth": 0,
              "ticks": ""
             }
            },
            "type": "scatterpolar"
           }
          ],
          "scatterpolargl": [
           {
            "marker": {
             "colorbar": {
              "outlinewidth": 0,
              "ticks": ""
             }
            },
            "type": "scatterpolargl"
           }
          ],
          "scatterternary": [
           {
            "marker": {
             "colorbar": {
              "outlinewidth": 0,
              "ticks": ""
             }
            },
            "type": "scatterternary"
           }
          ],
          "surface": [
           {
            "colorbar": {
             "outlinewidth": 0,
             "ticks": ""
            },
            "colorscale": [
             [
              0,
              "#0d0887"
             ],
             [
              0.1111111111111111,
              "#46039f"
             ],
             [
              0.2222222222222222,
              "#7201a8"
             ],
             [
              0.3333333333333333,
              "#9c179e"
             ],
             [
              0.4444444444444444,
              "#bd3786"
             ],
             [
              0.5555555555555556,
              "#d8576b"
             ],
             [
              0.6666666666666666,
              "#ed7953"
             ],
             [
              0.7777777777777778,
              "#fb9f3a"
             ],
             [
              0.8888888888888888,
              "#fdca26"
             ],
             [
              1,
              "#f0f921"
             ]
            ],
            "type": "surface"
           }
          ],
          "table": [
           {
            "cells": {
             "fill": {
              "color": "#EBF0F8"
             },
             "line": {
              "color": "white"
             }
            },
            "header": {
             "fill": {
              "color": "#C8D4E3"
             },
             "line": {
              "color": "white"
             }
            },
            "type": "table"
           }
          ]
         },
         "layout": {
          "annotationdefaults": {
           "arrowcolor": "#2a3f5f",
           "arrowhead": 0,
           "arrowwidth": 1
          },
          "coloraxis": {
           "colorbar": {
            "outlinewidth": 0,
            "ticks": ""
           }
          },
          "colorscale": {
           "diverging": [
            [
             0,
             "#8e0152"
            ],
            [
             0.1,
             "#c51b7d"
            ],
            [
             0.2,
             "#de77ae"
            ],
            [
             0.3,
             "#f1b6da"
            ],
            [
             0.4,
             "#fde0ef"
            ],
            [
             0.5,
             "#f7f7f7"
            ],
            [
             0.6,
             "#e6f5d0"
            ],
            [
             0.7,
             "#b8e186"
            ],
            [
             0.8,
             "#7fbc41"
            ],
            [
             0.9,
             "#4d9221"
            ],
            [
             1,
             "#276419"
            ]
           ],
           "sequential": [
            [
             0,
             "#0d0887"
            ],
            [
             0.1111111111111111,
             "#46039f"
            ],
            [
             0.2222222222222222,
             "#7201a8"
            ],
            [
             0.3333333333333333,
             "#9c179e"
            ],
            [
             0.4444444444444444,
             "#bd3786"
            ],
            [
             0.5555555555555556,
             "#d8576b"
            ],
            [
             0.6666666666666666,
             "#ed7953"
            ],
            [
             0.7777777777777778,
             "#fb9f3a"
            ],
            [
             0.8888888888888888,
             "#fdca26"
            ],
            [
             1,
             "#f0f921"
            ]
           ],
           "sequentialminus": [
            [
             0,
             "#0d0887"
            ],
            [
             0.1111111111111111,
             "#46039f"
            ],
            [
             0.2222222222222222,
             "#7201a8"
            ],
            [
             0.3333333333333333,
             "#9c179e"
            ],
            [
             0.4444444444444444,
             "#bd3786"
            ],
            [
             0.5555555555555556,
             "#d8576b"
            ],
            [
             0.6666666666666666,
             "#ed7953"
            ],
            [
             0.7777777777777778,
             "#fb9f3a"
            ],
            [
             0.8888888888888888,
             "#fdca26"
            ],
            [
             1,
             "#f0f921"
            ]
           ]
          },
          "colorway": [
           "#636efa",
           "#EF553B",
           "#00cc96",
           "#ab63fa",
           "#FFA15A",
           "#19d3f3",
           "#FF6692",
           "#B6E880",
           "#FF97FF",
           "#FECB52"
          ],
          "font": {
           "color": "#2a3f5f"
          },
          "geo": {
           "bgcolor": "white",
           "lakecolor": "white",
           "landcolor": "#E5ECF6",
           "showlakes": true,
           "showland": true,
           "subunitcolor": "white"
          },
          "hoverlabel": {
           "align": "left"
          },
          "hovermode": "closest",
          "mapbox": {
           "style": "light"
          },
          "paper_bgcolor": "white",
          "plot_bgcolor": "#E5ECF6",
          "polar": {
           "angularaxis": {
            "gridcolor": "white",
            "linecolor": "white",
            "ticks": ""
           },
           "bgcolor": "#E5ECF6",
           "radialaxis": {
            "gridcolor": "white",
            "linecolor": "white",
            "ticks": ""
           }
          },
          "scene": {
           "xaxis": {
            "backgroundcolor": "#E5ECF6",
            "gridcolor": "white",
            "gridwidth": 2,
            "linecolor": "white",
            "showbackground": true,
            "ticks": "",
            "zerolinecolor": "white"
           },
           "yaxis": {
            "backgroundcolor": "#E5ECF6",
            "gridcolor": "white",
            "gridwidth": 2,
            "linecolor": "white",
            "showbackground": true,
            "ticks": "",
            "zerolinecolor": "white"
           },
           "zaxis": {
            "backgroundcolor": "#E5ECF6",
            "gridcolor": "white",
            "gridwidth": 2,
            "linecolor": "white",
            "showbackground": true,
            "ticks": "",
            "zerolinecolor": "white"
           }
          },
          "shapedefaults": {
           "line": {
            "color": "#2a3f5f"
           }
          },
          "ternary": {
           "aaxis": {
            "gridcolor": "white",
            "linecolor": "white",
            "ticks": ""
           },
           "baxis": {
            "gridcolor": "white",
            "linecolor": "white",
            "ticks": ""
           },
           "bgcolor": "#E5ECF6",
           "caxis": {
            "gridcolor": "white",
            "linecolor": "white",
            "ticks": ""
           }
          },
          "title": {
           "x": 0.05
          },
          "xaxis": {
           "automargin": true,
           "gridcolor": "white",
           "linecolor": "white",
           "ticks": "",
           "title": {
            "standoff": 15
           },
           "zerolinecolor": "white",
           "zerolinewidth": 2
          },
          "yaxis": {
           "automargin": true,
           "gridcolor": "white",
           "linecolor": "white",
           "ticks": "",
           "title": {
            "standoff": 15
           },
           "zerolinecolor": "white",
           "zerolinewidth": 2
          }
         }
        },
        "title": {
         "text": "Indiegogo Total Projects per Country"
        },
        "width": 900
       }
      }
     },
     "metadata": {}
    }
   ],
   "metadata": {}
  },
  {
   "cell_type": "markdown",
   "source": [
    "## SQL query to get the main_category and percent of successful vs failed projects for Kickstarter"
   ],
   "metadata": {}
  },
  {
   "cell_type": "code",
   "execution_count": 330,
   "source": [
    "query = \"\"\"\n",
    "SELECT main_category, COUNT (*) AS Total_number_of_projects, AVG(funded_percent) AS average_fund_percentage\n",
    "FROM kickstarter_large\n",
    "GROUP BY main_category\n",
    "ORDER BY\n",
    "    total_number_of_projects DESC;\n",
    "\"\"\"\n",
    "\n",
    "ks_main_category_total = pd.read_sql_query(\n",
    "    query, \n",
    "    con= engine)\n",
    "ks_main_category_total"
   ],
   "outputs": [
    {
     "output_type": "execute_result",
     "data": {
      "text/plain": [
       "   main_category  Total_number_of_projects  average_fund_percentage\n",
       "0   Film & Video                     55705                 1.635011\n",
       "1          Music                     45253                 8.931210\n",
       "2     Publishing                     35231                 1.923070\n",
       "3          Games                     28447                 8.318282\n",
       "4     Technology                     26970                 3.057622\n",
       "5            Art                     25369                 2.313705\n",
       "6         Design                     25317                 2.288109\n",
       "7           Food                     21998                 0.916486\n",
       "8        Fashion                     19733                 1.048001\n",
       "9        Theater                     10102                 1.063231\n",
       "10        Comics                      9816                 6.986441\n",
       "11   Photography                      9580                 0.633917\n",
       "12        Crafts                      7799                 2.722808\n",
       "13    Journalism                      4075                 0.563299\n",
       "14         Dance                      3551                 0.847063"
      ],
      "text/html": [
       "<div>\n",
       "<style scoped>\n",
       "    .dataframe tbody tr th:only-of-type {\n",
       "        vertical-align: middle;\n",
       "    }\n",
       "\n",
       "    .dataframe tbody tr th {\n",
       "        vertical-align: top;\n",
       "    }\n",
       "\n",
       "    .dataframe thead th {\n",
       "        text-align: right;\n",
       "    }\n",
       "</style>\n",
       "<table border=\"1\" class=\"dataframe\">\n",
       "  <thead>\n",
       "    <tr style=\"text-align: right;\">\n",
       "      <th></th>\n",
       "      <th>main_category</th>\n",
       "      <th>Total_number_of_projects</th>\n",
       "      <th>average_fund_percentage</th>\n",
       "    </tr>\n",
       "  </thead>\n",
       "  <tbody>\n",
       "    <tr>\n",
       "      <th>0</th>\n",
       "      <td>Film &amp; Video</td>\n",
       "      <td>55705</td>\n",
       "      <td>1.635011</td>\n",
       "    </tr>\n",
       "    <tr>\n",
       "      <th>1</th>\n",
       "      <td>Music</td>\n",
       "      <td>45253</td>\n",
       "      <td>8.931210</td>\n",
       "    </tr>\n",
       "    <tr>\n",
       "      <th>2</th>\n",
       "      <td>Publishing</td>\n",
       "      <td>35231</td>\n",
       "      <td>1.923070</td>\n",
       "    </tr>\n",
       "    <tr>\n",
       "      <th>3</th>\n",
       "      <td>Games</td>\n",
       "      <td>28447</td>\n",
       "      <td>8.318282</td>\n",
       "    </tr>\n",
       "    <tr>\n",
       "      <th>4</th>\n",
       "      <td>Technology</td>\n",
       "      <td>26970</td>\n",
       "      <td>3.057622</td>\n",
       "    </tr>\n",
       "    <tr>\n",
       "      <th>5</th>\n",
       "      <td>Art</td>\n",
       "      <td>25369</td>\n",
       "      <td>2.313705</td>\n",
       "    </tr>\n",
       "    <tr>\n",
       "      <th>6</th>\n",
       "      <td>Design</td>\n",
       "      <td>25317</td>\n",
       "      <td>2.288109</td>\n",
       "    </tr>\n",
       "    <tr>\n",
       "      <th>7</th>\n",
       "      <td>Food</td>\n",
       "      <td>21998</td>\n",
       "      <td>0.916486</td>\n",
       "    </tr>\n",
       "    <tr>\n",
       "      <th>8</th>\n",
       "      <td>Fashion</td>\n",
       "      <td>19733</td>\n",
       "      <td>1.048001</td>\n",
       "    </tr>\n",
       "    <tr>\n",
       "      <th>9</th>\n",
       "      <td>Theater</td>\n",
       "      <td>10102</td>\n",
       "      <td>1.063231</td>\n",
       "    </tr>\n",
       "    <tr>\n",
       "      <th>10</th>\n",
       "      <td>Comics</td>\n",
       "      <td>9816</td>\n",
       "      <td>6.986441</td>\n",
       "    </tr>\n",
       "    <tr>\n",
       "      <th>11</th>\n",
       "      <td>Photography</td>\n",
       "      <td>9580</td>\n",
       "      <td>0.633917</td>\n",
       "    </tr>\n",
       "    <tr>\n",
       "      <th>12</th>\n",
       "      <td>Crafts</td>\n",
       "      <td>7799</td>\n",
       "      <td>2.722808</td>\n",
       "    </tr>\n",
       "    <tr>\n",
       "      <th>13</th>\n",
       "      <td>Journalism</td>\n",
       "      <td>4075</td>\n",
       "      <td>0.563299</td>\n",
       "    </tr>\n",
       "    <tr>\n",
       "      <th>14</th>\n",
       "      <td>Dance</td>\n",
       "      <td>3551</td>\n",
       "      <td>0.847063</td>\n",
       "    </tr>\n",
       "  </tbody>\n",
       "</table>\n",
       "</div>"
      ]
     },
     "metadata": {},
     "execution_count": 330
    }
   ],
   "metadata": {}
  },
  {
   "cell_type": "code",
   "execution_count": 331,
   "source": [
    "# Created a for loop statement to get the percent success and percent failed of each main_category for Kickstarter and added it on the dataframe.\n",
    "\n",
    "category_list = ks_main_category_total[\"main_category\"]\n",
    "list_of_percent_success = []\n",
    "\n",
    "i=0\n",
    "\n",
    "for category in category_list:\n",
    "    query =  f\"\"\"\n",
    "    SELECT main_category, funded_percent, usd_pledged_real, usd_goal_real\n",
    "    FROM kickstarter_large\n",
    "    WHERE main_category == \"{category}\"\n",
    "    AND usd_pledged_real >= usd_goal_real\n",
    "    ORDER BY funded_percent DESC\n",
    "    \"\"\"\n",
    "\n",
    "    ks_main_category_success = pd.read_sql_query(\n",
    "        query, \n",
    "        con= engine)\n",
    "    percent_success_main_category = ks_main_category_success[\"main_category\"].count() / ks_main_category_total.loc[i, 'Total_number_of_projects']\n",
    "    \n",
    "    list_of_percent_success.append(percent_success_main_category)\n",
    "    i= i+1\n",
    "    \n",
    "ks_main_category_total[\"percent_success\"] = list_of_percent_success\n",
    "ks_main_category_total[\"percent_fail\"] = 1 - ks_main_category_total[\"percent_success\"]\n",
    "ks_main_category_total\n"
   ],
   "outputs": [
    {
     "output_type": "execute_result",
     "data": {
      "text/plain": [
       "   main_category  Total_number_of_projects  average_fund_percentage  \\\n",
       "0   Film & Video                     55705                 1.635011   \n",
       "1          Music                     45253                 8.931210   \n",
       "2     Publishing                     35231                 1.923070   \n",
       "3          Games                     28447                 8.318282   \n",
       "4     Technology                     26970                 3.057622   \n",
       "5            Art                     25369                 2.313705   \n",
       "6         Design                     25317                 2.288109   \n",
       "7           Food                     21998                 0.916486   \n",
       "8        Fashion                     19733                 1.048001   \n",
       "9        Theater                     10102                 1.063231   \n",
       "10        Comics                      9816                 6.986441   \n",
       "11   Photography                      9580                 0.633917   \n",
       "12        Crafts                      7799                 2.722808   \n",
       "13    Journalism                      4075                 0.563299   \n",
       "14         Dance                      3551                 0.847063   \n",
       "\n",
       "    percent_success  percent_fail  \n",
       "0          0.417198      0.582802  \n",
       "1          0.524739      0.475261  \n",
       "2          0.346428      0.653572  \n",
       "3          0.438675      0.561325  \n",
       "4          0.237301      0.762699  \n",
       "5          0.448027      0.551973  \n",
       "6          0.416045      0.583955  \n",
       "7          0.274934      0.725066  \n",
       "8          0.283079      0.716921  \n",
       "9          0.638784      0.361216  \n",
       "10         0.592298      0.407702  \n",
       "11         0.338727      0.661273  \n",
       "12         0.270163      0.729837  \n",
       "13         0.238773      0.761227  \n",
       "14         0.655027      0.344973  "
      ],
      "text/html": [
       "<div>\n",
       "<style scoped>\n",
       "    .dataframe tbody tr th:only-of-type {\n",
       "        vertical-align: middle;\n",
       "    }\n",
       "\n",
       "    .dataframe tbody tr th {\n",
       "        vertical-align: top;\n",
       "    }\n",
       "\n",
       "    .dataframe thead th {\n",
       "        text-align: right;\n",
       "    }\n",
       "</style>\n",
       "<table border=\"1\" class=\"dataframe\">\n",
       "  <thead>\n",
       "    <tr style=\"text-align: right;\">\n",
       "      <th></th>\n",
       "      <th>main_category</th>\n",
       "      <th>Total_number_of_projects</th>\n",
       "      <th>average_fund_percentage</th>\n",
       "      <th>percent_success</th>\n",
       "      <th>percent_fail</th>\n",
       "    </tr>\n",
       "  </thead>\n",
       "  <tbody>\n",
       "    <tr>\n",
       "      <th>0</th>\n",
       "      <td>Film &amp; Video</td>\n",
       "      <td>55705</td>\n",
       "      <td>1.635011</td>\n",
       "      <td>0.417198</td>\n",
       "      <td>0.582802</td>\n",
       "    </tr>\n",
       "    <tr>\n",
       "      <th>1</th>\n",
       "      <td>Music</td>\n",
       "      <td>45253</td>\n",
       "      <td>8.931210</td>\n",
       "      <td>0.524739</td>\n",
       "      <td>0.475261</td>\n",
       "    </tr>\n",
       "    <tr>\n",
       "      <th>2</th>\n",
       "      <td>Publishing</td>\n",
       "      <td>35231</td>\n",
       "      <td>1.923070</td>\n",
       "      <td>0.346428</td>\n",
       "      <td>0.653572</td>\n",
       "    </tr>\n",
       "    <tr>\n",
       "      <th>3</th>\n",
       "      <td>Games</td>\n",
       "      <td>28447</td>\n",
       "      <td>8.318282</td>\n",
       "      <td>0.438675</td>\n",
       "      <td>0.561325</td>\n",
       "    </tr>\n",
       "    <tr>\n",
       "      <th>4</th>\n",
       "      <td>Technology</td>\n",
       "      <td>26970</td>\n",
       "      <td>3.057622</td>\n",
       "      <td>0.237301</td>\n",
       "      <td>0.762699</td>\n",
       "    </tr>\n",
       "    <tr>\n",
       "      <th>5</th>\n",
       "      <td>Art</td>\n",
       "      <td>25369</td>\n",
       "      <td>2.313705</td>\n",
       "      <td>0.448027</td>\n",
       "      <td>0.551973</td>\n",
       "    </tr>\n",
       "    <tr>\n",
       "      <th>6</th>\n",
       "      <td>Design</td>\n",
       "      <td>25317</td>\n",
       "      <td>2.288109</td>\n",
       "      <td>0.416045</td>\n",
       "      <td>0.583955</td>\n",
       "    </tr>\n",
       "    <tr>\n",
       "      <th>7</th>\n",
       "      <td>Food</td>\n",
       "      <td>21998</td>\n",
       "      <td>0.916486</td>\n",
       "      <td>0.274934</td>\n",
       "      <td>0.725066</td>\n",
       "    </tr>\n",
       "    <tr>\n",
       "      <th>8</th>\n",
       "      <td>Fashion</td>\n",
       "      <td>19733</td>\n",
       "      <td>1.048001</td>\n",
       "      <td>0.283079</td>\n",
       "      <td>0.716921</td>\n",
       "    </tr>\n",
       "    <tr>\n",
       "      <th>9</th>\n",
       "      <td>Theater</td>\n",
       "      <td>10102</td>\n",
       "      <td>1.063231</td>\n",
       "      <td>0.638784</td>\n",
       "      <td>0.361216</td>\n",
       "    </tr>\n",
       "    <tr>\n",
       "      <th>10</th>\n",
       "      <td>Comics</td>\n",
       "      <td>9816</td>\n",
       "      <td>6.986441</td>\n",
       "      <td>0.592298</td>\n",
       "      <td>0.407702</td>\n",
       "    </tr>\n",
       "    <tr>\n",
       "      <th>11</th>\n",
       "      <td>Photography</td>\n",
       "      <td>9580</td>\n",
       "      <td>0.633917</td>\n",
       "      <td>0.338727</td>\n",
       "      <td>0.661273</td>\n",
       "    </tr>\n",
       "    <tr>\n",
       "      <th>12</th>\n",
       "      <td>Crafts</td>\n",
       "      <td>7799</td>\n",
       "      <td>2.722808</td>\n",
       "      <td>0.270163</td>\n",
       "      <td>0.729837</td>\n",
       "    </tr>\n",
       "    <tr>\n",
       "      <th>13</th>\n",
       "      <td>Journalism</td>\n",
       "      <td>4075</td>\n",
       "      <td>0.563299</td>\n",
       "      <td>0.238773</td>\n",
       "      <td>0.761227</td>\n",
       "    </tr>\n",
       "    <tr>\n",
       "      <th>14</th>\n",
       "      <td>Dance</td>\n",
       "      <td>3551</td>\n",
       "      <td>0.847063</td>\n",
       "      <td>0.655027</td>\n",
       "      <td>0.344973</td>\n",
       "    </tr>\n",
       "  </tbody>\n",
       "</table>\n",
       "</div>"
      ]
     },
     "metadata": {},
     "execution_count": 331
    }
   ],
   "metadata": {}
  },
  {
   "cell_type": "markdown",
   "source": [
    "## SQL query to get the main_category and percent of successful vs failed projects for Indiegogo"
   ],
   "metadata": {}
  },
  {
   "cell_type": "code",
   "execution_count": 332,
   "source": [
    "query = \"\"\"\n",
    "SELECT main_category, COUNT (*) AS Total_number_of_projects, AVG(funded_percent) AS average_fund_percentage\n",
    "FROM indie_gogo\n",
    "GROUP BY main_category\n",
    "ORDER BY\n",
    "    total_number_of_projects DESC;\n",
    "\"\"\"\n",
    "\n",
    "indiegogo_main_category_total = pd.read_sql_query(\n",
    "    query, \n",
    "    con= engine)\n",
    "indiegogo_main_category_total"
   ],
   "outputs": [
    {
     "output_type": "execute_result",
     "data": {
      "text/plain": [
       "  main_category  Total_number_of_projects  average_fund_percentage\n",
       "0    Technology                      2669                 1.467151\n",
       "1    Journalism                      1168                 0.361738\n",
       "2           Art                      1160                 0.307663\n",
       "3          Food                      1069                 0.460620\n",
       "4         Games                       850                 0.718670\n",
       "5  Film & Video                       841                 1.109117\n",
       "6   Photography                       615                 0.504233\n",
       "7       Theater                       580                 0.298527\n",
       "8         Music                       357                 0.308475"
      ],
      "text/html": [
       "<div>\n",
       "<style scoped>\n",
       "    .dataframe tbody tr th:only-of-type {\n",
       "        vertical-align: middle;\n",
       "    }\n",
       "\n",
       "    .dataframe tbody tr th {\n",
       "        vertical-align: top;\n",
       "    }\n",
       "\n",
       "    .dataframe thead th {\n",
       "        text-align: right;\n",
       "    }\n",
       "</style>\n",
       "<table border=\"1\" class=\"dataframe\">\n",
       "  <thead>\n",
       "    <tr style=\"text-align: right;\">\n",
       "      <th></th>\n",
       "      <th>main_category</th>\n",
       "      <th>Total_number_of_projects</th>\n",
       "      <th>average_fund_percentage</th>\n",
       "    </tr>\n",
       "  </thead>\n",
       "  <tbody>\n",
       "    <tr>\n",
       "      <th>0</th>\n",
       "      <td>Technology</td>\n",
       "      <td>2669</td>\n",
       "      <td>1.467151</td>\n",
       "    </tr>\n",
       "    <tr>\n",
       "      <th>1</th>\n",
       "      <td>Journalism</td>\n",
       "      <td>1168</td>\n",
       "      <td>0.361738</td>\n",
       "    </tr>\n",
       "    <tr>\n",
       "      <th>2</th>\n",
       "      <td>Art</td>\n",
       "      <td>1160</td>\n",
       "      <td>0.307663</td>\n",
       "    </tr>\n",
       "    <tr>\n",
       "      <th>3</th>\n",
       "      <td>Food</td>\n",
       "      <td>1069</td>\n",
       "      <td>0.460620</td>\n",
       "    </tr>\n",
       "    <tr>\n",
       "      <th>4</th>\n",
       "      <td>Games</td>\n",
       "      <td>850</td>\n",
       "      <td>0.718670</td>\n",
       "    </tr>\n",
       "    <tr>\n",
       "      <th>5</th>\n",
       "      <td>Film &amp; Video</td>\n",
       "      <td>841</td>\n",
       "      <td>1.109117</td>\n",
       "    </tr>\n",
       "    <tr>\n",
       "      <th>6</th>\n",
       "      <td>Photography</td>\n",
       "      <td>615</td>\n",
       "      <td>0.504233</td>\n",
       "    </tr>\n",
       "    <tr>\n",
       "      <th>7</th>\n",
       "      <td>Theater</td>\n",
       "      <td>580</td>\n",
       "      <td>0.298527</td>\n",
       "    </tr>\n",
       "    <tr>\n",
       "      <th>8</th>\n",
       "      <td>Music</td>\n",
       "      <td>357</td>\n",
       "      <td>0.308475</td>\n",
       "    </tr>\n",
       "  </tbody>\n",
       "</table>\n",
       "</div>"
      ]
     },
     "metadata": {},
     "execution_count": 332
    }
   ],
   "metadata": {}
  },
  {
   "cell_type": "code",
   "execution_count": 335,
   "source": [
    "# Created a for loop statement to get the percent success and percent failed of each main_category for Kickstarter and added it on the dataframe.\n",
    "\n",
    "category_list = indiegogo_main_category_total[\"main_category\"]\n",
    "list_of_percent_success = []\n",
    "\n",
    "i=0\n",
    "\n",
    "for category in category_list:\n",
    "    query =  f\"\"\"\n",
    "    SELECT main_category, funded_percent, usd_pledged_real, usd_goal_real\n",
    "    FROM indie_gogo\n",
    "    WHERE main_category == \"{category}\"\n",
    "    AND usd_pledged_real >= usd_goal_real\n",
    "    ORDER BY funded_percent DESC\n",
    "    \"\"\"\n",
    "\n",
    "    indiegogo_main_category_success = pd.read_sql_query(\n",
    "        query, \n",
    "        con= engine)\n",
    "    percent_success_main_category = indiegogo_main_category_success[\"main_category\"].count() / indiegogo_main_category_total.loc[i, 'Total_number_of_projects']\n",
    "    \n",
    "    list_of_percent_success.append(percent_success_main_category)\n",
    "    i= i+1\n",
    "    \n",
    "\n",
    "indiegogo_main_category_total[\"percent_success\"] = list_of_percent_success\n",
    "\n",
    "indiegogo_main_category_total[\"percent_fail\"] = 1 - indiegogo_main_category_total[\"percent_success\"]\n",
    "\n",
    "display(indiegogo_main_category_total)"
   ],
   "outputs": [
    {
     "output_type": "display_data",
     "data": {
      "text/plain": [
       "  main_category  Total_number_of_projects  average_fund_percentage  \\\n",
       "0    Technology                      2669                 1.467151   \n",
       "1    Journalism                      1168                 0.361738   \n",
       "2           Art                      1160                 0.307663   \n",
       "3          Food                      1069                 0.460620   \n",
       "4         Games                       850                 0.718670   \n",
       "5  Film & Video                       841                 1.109117   \n",
       "6   Photography                       615                 0.504233   \n",
       "7       Theater                       580                 0.298527   \n",
       "8         Music                       357                 0.308475   \n",
       "\n",
       "   percent_success  percent_fail  \n",
       "0         0.193706      0.806294  \n",
       "1         0.117295      0.882705  \n",
       "2         0.057759      0.942241  \n",
       "3         0.054256      0.945744  \n",
       "4         0.135294      0.864706  \n",
       "5         0.167658      0.832342  \n",
       "6         0.156098      0.843902  \n",
       "7         0.000000      1.000000  \n",
       "8         0.005602      0.994398  "
      ],
      "text/html": [
       "<div>\n",
       "<style scoped>\n",
       "    .dataframe tbody tr th:only-of-type {\n",
       "        vertical-align: middle;\n",
       "    }\n",
       "\n",
       "    .dataframe tbody tr th {\n",
       "        vertical-align: top;\n",
       "    }\n",
       "\n",
       "    .dataframe thead th {\n",
       "        text-align: right;\n",
       "    }\n",
       "</style>\n",
       "<table border=\"1\" class=\"dataframe\">\n",
       "  <thead>\n",
       "    <tr style=\"text-align: right;\">\n",
       "      <th></th>\n",
       "      <th>main_category</th>\n",
       "      <th>Total_number_of_projects</th>\n",
       "      <th>average_fund_percentage</th>\n",
       "      <th>percent_success</th>\n",
       "      <th>percent_fail</th>\n",
       "    </tr>\n",
       "  </thead>\n",
       "  <tbody>\n",
       "    <tr>\n",
       "      <th>0</th>\n",
       "      <td>Technology</td>\n",
       "      <td>2669</td>\n",
       "      <td>1.467151</td>\n",
       "      <td>0.193706</td>\n",
       "      <td>0.806294</td>\n",
       "    </tr>\n",
       "    <tr>\n",
       "      <th>1</th>\n",
       "      <td>Journalism</td>\n",
       "      <td>1168</td>\n",
       "      <td>0.361738</td>\n",
       "      <td>0.117295</td>\n",
       "      <td>0.882705</td>\n",
       "    </tr>\n",
       "    <tr>\n",
       "      <th>2</th>\n",
       "      <td>Art</td>\n",
       "      <td>1160</td>\n",
       "      <td>0.307663</td>\n",
       "      <td>0.057759</td>\n",
       "      <td>0.942241</td>\n",
       "    </tr>\n",
       "    <tr>\n",
       "      <th>3</th>\n",
       "      <td>Food</td>\n",
       "      <td>1069</td>\n",
       "      <td>0.460620</td>\n",
       "      <td>0.054256</td>\n",
       "      <td>0.945744</td>\n",
       "    </tr>\n",
       "    <tr>\n",
       "      <th>4</th>\n",
       "      <td>Games</td>\n",
       "      <td>850</td>\n",
       "      <td>0.718670</td>\n",
       "      <td>0.135294</td>\n",
       "      <td>0.864706</td>\n",
       "    </tr>\n",
       "    <tr>\n",
       "      <th>5</th>\n",
       "      <td>Film &amp; Video</td>\n",
       "      <td>841</td>\n",
       "      <td>1.109117</td>\n",
       "      <td>0.167658</td>\n",
       "      <td>0.832342</td>\n",
       "    </tr>\n",
       "    <tr>\n",
       "      <th>6</th>\n",
       "      <td>Photography</td>\n",
       "      <td>615</td>\n",
       "      <td>0.504233</td>\n",
       "      <td>0.156098</td>\n",
       "      <td>0.843902</td>\n",
       "    </tr>\n",
       "    <tr>\n",
       "      <th>7</th>\n",
       "      <td>Theater</td>\n",
       "      <td>580</td>\n",
       "      <td>0.298527</td>\n",
       "      <td>0.000000</td>\n",
       "      <td>1.000000</td>\n",
       "    </tr>\n",
       "    <tr>\n",
       "      <th>8</th>\n",
       "      <td>Music</td>\n",
       "      <td>357</td>\n",
       "      <td>0.308475</td>\n",
       "      <td>0.005602</td>\n",
       "      <td>0.994398</td>\n",
       "    </tr>\n",
       "  </tbody>\n",
       "</table>\n",
       "</div>"
      ]
     },
     "metadata": {}
    }
   ],
   "metadata": {}
  },
  {
   "cell_type": "markdown",
   "source": [
    "## Plot and analyze success vs fail for Kickstarter."
   ],
   "metadata": {}
  },
  {
   "cell_type": "code",
   "execution_count": 23,
   "source": [
    "# Create an hvplot bar to show the success and failed projects of each main category of Kickstarter.\n",
    "ks_main_category_total.hvplot.bar(stacked= True,\n",
    "                                  y=['percent_fail', 'percent_success'],\n",
    "                                  x= 'main_category',\n",
    "                                  rot= 60,\n",
    "                                 title='Kickstarter Main Category Success vs Failed Project',\n",
    "                                  cmap=['pink', 'green']\n",
    "                                 )"
   ],
   "outputs": [
    {
     "output_type": "display_data",
     "data": {},
     "metadata": {}
    },
    {
     "output_type": "execute_result",
     "data": {
      "application/vnd.holoviews_exec.v0+json": "",
      "text/plain": [
       ":Bars   [main_category,Variable]   (value)"
      ],
      "text/html": [
       "<div id='1211'>\n",
       "\n",
       "\n",
       "\n",
       "\n",
       "\n",
       "  <div class=\"bk-root\" id=\"d3e83db8-3157-4c49-990b-7fd8dc58641c\" data-root-id=\"1211\"></div>\n",
       "</div>\n",
       "<script type=\"application/javascript\">(function(root) {\n",
       "  function embed_document(root) {\n",
       "    var docs_json = {\"d07d23e7-6064-4021-83e3-6f81d7ee5b17\":{\"roots\":{\"references\":[{\"attributes\":{\"items\":[{\"id\":\"1263\"}],\"location\":[0,0]},\"id\":\"1262\",\"type\":\"Legend\"},{\"attributes\":{\"margin\":[5,5,5,5],\"name\":\"HSpacer01827\",\"sizing_mode\":\"stretch_width\"},\"id\":\"1212\",\"type\":\"Spacer\"},{\"attributes\":{\"label\":{\"field\":\"Variable\"},\"renderers\":[{\"id\":\"1252\"}]},\"id\":\"1263\",\"type\":\"LegendItem\"},{\"attributes\":{\"data\":{\"Variable\":[\"percent_fail\",\"percent_fail\",\"percent_fail\",\"percent_fail\",\"percent_fail\",\"percent_fail\",\"percent_fail\",\"percent_fail\",\"percent_fail\",\"percent_fail\",\"percent_fail\",\"percent_fail\",\"percent_fail\",\"percent_fail\",\"percent_fail\",\"percent_success\",\"percent_success\",\"percent_success\",\"percent_success\",\"percent_success\",\"percent_success\",\"percent_success\",\"percent_success\",\"percent_success\",\"percent_success\",\"percent_success\",\"percent_success\",\"percent_success\",\"percent_success\",\"percent_success\"],\"bottom\":{\"__ndarray__\":\"AAAAAAAAAAAAAAAAAAAAAAAAAAAAAAAAAAAAAAAAAAAAAAAAAAAAAAAAAAAAAAAAAAAAAAAAAAAAAAAAAAAAAAAAAAAAAAAAAAAAAAAAAAAAAAAAAAAAAAAAAAAAAAAAAAAAAAAAAAAAAAAAAAAAAAAAAAAAAAAAKr9Fa9JX5z/ND7quoxXlP2D1RpVAJto/SkSqsgoq1z+af0Cb7PLmPx7LQRq3K+c/9rdJM3704T/wAkoTVKPhP6AMuka3Y+g/YnOVQYfk5D9OAzgIoFneP9i5P0Z2oeI/ZByBiV8x6D8ExurMxrDiPwwQoG4YH9Y/\",\"dtype\":\"float64\",\"order\":\"little\",\"shape\":[30]},\"main_category\":[\"Film & Video\",\"Journalism\",\"Crafts\",\"Photography\",\"Comics\",\"Theater\",\"Fashion\",\"Dance\",\"Design\",\"Art\",\"Technology\",\"Games\",\"Publishing\",\"Music\",\"Food\",\"Crafts\",\"Photography\",\"Comics\",\"Theater\",\"Fashion\",\"Food\",\"Games\",\"Art\",\"Technology\",\"Publishing\",\"Music\",\"Film & Video\",\"Journalism\",\"Design\",\"Dance\"],\"top\":{\"__ndarray__\":\"2Lk/Rnah4j9kHIGJXzHoPyq/RWvSV+c/zQ+6rqMV5T9g9UaVQCbaP0pEqrIKKtc/mn9Am+zy5j8MEKBuGB/WPwTG6szGsOI/8AJKE1Sj4T+gDLpGt2PoP/a3STN+9OE/YnOVQYfk5D9OAzgIoFnePx7LQRq3K+c/AAAAAAAA8D8AAAAAAADwPwAAAAAAAPA/AAAAAAAA8D8AAAAAAADwPwAAAAAAAPA/AAAAAAAA8D8AAAAAAADwPwAAAAAAAPA/AAAAAAAA8D8AAAAAAADwPwAAAAAAAPA/AAAAAAAA8D8AAAAAAADwPwAAAAAAAPA/\",\"dtype\":\"float64\",\"order\":\"little\",\"shape\":[30]},\"value\":{\"__ndarray__\":\"2Lk/Rnah4j9kHIGJXzHoPyq/RWvSV+c/zQ+6rqMV5T9g9UaVQCbaP0pEqrIKKtc/mn9Am+zy5j8MEKBuGB/WPwTG6szGsOI/8AJKE1Sj4T+gDLpGt2PoP/a3STN+9OE/YnOVQYfk5D9OAzgIoFnePx7LQRq3K+c/rIF0KVtQ0T9m4IuiuNTVP1CFXLXf7OI/292qpvpq5D/NAH/JJhrSP8VpfMuRqNE/FZBsmQMX3D8h+mvZV7ncP4DNF+Uicc4/OxnVfPE21j9Z/uP7L9PgP1GMgHMTvdo/cY772YE6zz/5cypmcp7aP/r3r8hz8OQ/\",\"dtype\":\"float64\",\"order\":\"little\",\"shape\":[30]}},\"selected\":{\"id\":\"1247\"},\"selection_policy\":{\"id\":\"1261\"}},\"id\":\"1246\",\"type\":\"ColumnDataSource\"},{\"attributes\":{\"margin\":[5,5,5,5],\"name\":\"HSpacer01828\",\"sizing_mode\":\"stretch_width\"},\"id\":\"1284\",\"type\":\"Spacer\"},{\"attributes\":{\"factors\":[\"percent_fail\",\"percent_success\"],\"palette\":[\"pink\",\"green\"]},\"id\":\"1245\",\"type\":\"CategoricalColorMapper\"},{\"attributes\":{\"callback\":null,\"renderers\":[{\"id\":\"1252\"}],\"tags\":[\"hv_created\"],\"tooltips\":[[\"main_category\",\"@{main_category}\"],[\"Variable\",\"@{Variable}\"],[\"value\",\"@{value}\"]]},\"id\":\"1215\",\"type\":\"HoverTool\"},{\"attributes\":{\"bottom_units\":\"screen\",\"fill_alpha\":0.5,\"fill_color\":\"lightgrey\",\"left_units\":\"screen\",\"level\":\"overlay\",\"line_alpha\":1.0,\"line_color\":\"black\",\"line_dash\":[4,4],\"line_width\":2,\"right_units\":\"screen\",\"top_units\":\"screen\"},\"id\":\"1237\",\"type\":\"BoxAnnotation\"},{\"attributes\":{\"below\":[{\"id\":\"1225\"}],\"center\":[{\"id\":\"1227\"},{\"id\":\"1231\"},{\"id\":\"1262\"}],\"left\":[{\"id\":\"1228\"}],\"margin\":[5,5,5,5],\"min_border_bottom\":10,\"min_border_left\":10,\"min_border_right\":10,\"min_border_top\":10,\"plot_height\":300,\"plot_width\":700,\"renderers\":[{\"id\":\"1252\"}],\"right\":[{\"id\":\"1262\"}],\"sizing_mode\":\"fixed\",\"title\":{\"id\":\"1217\"},\"toolbar\":{\"id\":\"1238\"},\"x_range\":{\"id\":\"1213\"},\"x_scale\":{\"id\":\"1221\"},\"y_range\":{\"id\":\"1214\"},\"y_scale\":{\"id\":\"1223\"}},\"id\":\"1216\",\"subtype\":\"Figure\",\"type\":\"Plot\"},{\"attributes\":{\"bottom\":{\"field\":\"bottom\"},\"fill_color\":{\"field\":\"Variable\",\"transform\":{\"id\":\"1245\"}},\"top\":{\"field\":\"top\"},\"width\":{\"value\":0.8},\"x\":{\"field\":\"main_category\"}},\"id\":\"1249\",\"type\":\"VBar\"},{\"attributes\":{},\"id\":\"1247\",\"type\":\"Selection\"},{\"attributes\":{\"text\":\"Kickstarter Main Category Success vs Failed Project\",\"text_color\":{\"value\":\"black\"},\"text_font_size\":{\"value\":\"12pt\"}},\"id\":\"1217\",\"type\":\"Title\"},{\"attributes\":{},\"id\":\"1255\",\"type\":\"BasicTickFormatter\"},{\"attributes\":{\"active_drag\":\"auto\",\"active_inspect\":\"auto\",\"active_multi\":null,\"active_scroll\":\"auto\",\"active_tap\":\"auto\",\"tools\":[{\"id\":\"1215\"},{\"id\":\"1232\"},{\"id\":\"1233\"},{\"id\":\"1234\"},{\"id\":\"1235\"},{\"id\":\"1236\"}]},\"id\":\"1238\",\"type\":\"Toolbar\"},{\"attributes\":{\"axis_label\":\"\",\"bounds\":\"auto\",\"formatter\":{\"id\":\"1255\"},\"major_label_orientation\":\"horizontal\",\"ticker\":{\"id\":\"1229\"}},\"id\":\"1228\",\"type\":\"LinearAxis\"},{\"attributes\":{\"children\":[{\"id\":\"1212\"},{\"id\":\"1216\"},{\"id\":\"1284\"}],\"margin\":[0,0,0,0],\"name\":\"Row01823\",\"tags\":[\"embedded\"]},\"id\":\"1211\",\"type\":\"Row\"},{\"attributes\":{\"reset_end\":1.0,\"reset_start\":0.0,\"tags\":[[[\"value\",\"value\",null]]]},\"id\":\"1214\",\"type\":\"Range1d\"},{\"attributes\":{},\"id\":\"1223\",\"type\":\"LinearScale\"},{\"attributes\":{\"overlay\":{\"id\":\"1237\"}},\"id\":\"1235\",\"type\":\"BoxZoomTool\"},{\"attributes\":{\"bottom\":{\"field\":\"bottom\"},\"fill_alpha\":{\"value\":0.1},\"fill_color\":{\"field\":\"Variable\",\"transform\":{\"id\":\"1245\"}},\"line_alpha\":{\"value\":0.1},\"top\":{\"field\":\"top\"},\"width\":{\"value\":0.8},\"x\":{\"field\":\"main_category\"}},\"id\":\"1250\",\"type\":\"VBar\"},{\"attributes\":{},\"id\":\"1229\",\"type\":\"BasicTicker\"},{\"attributes\":{\"axis\":{\"id\":\"1228\"},\"dimension\":1,\"grid_line_color\":null,\"ticker\":null},\"id\":\"1231\",\"type\":\"Grid\"},{\"attributes\":{\"factors\":[\"Film & Video\",\"Music\",\"Publishing\",\"Games\",\"Technology\",\"Art\",\"Design\",\"Food\",\"Fashion\",\"Theater\",\"Comics\",\"Photography\",\"Crafts\",\"Journalism\",\"Dance\"],\"tags\":[[[\"main_category\",\"main_category\",null]]]},\"id\":\"1213\",\"type\":\"FactorRange\"},{\"attributes\":{},\"id\":\"1233\",\"type\":\"PanTool\"},{\"attributes\":{\"bottom\":{\"field\":\"bottom\"},\"fill_alpha\":{\"value\":0.2},\"fill_color\":{\"field\":\"Variable\",\"transform\":{\"id\":\"1245\"}},\"line_alpha\":{\"value\":0.2},\"top\":{\"field\":\"top\"},\"width\":{\"value\":0.8},\"x\":{\"field\":\"main_category\"}},\"id\":\"1251\",\"type\":\"VBar\"},{\"attributes\":{},\"id\":\"1221\",\"type\":\"CategoricalScale\"},{\"attributes\":{\"axis_label\":\"main_category\",\"bounds\":\"auto\",\"formatter\":{\"id\":\"1257\"},\"major_label_orientation\":1.0471975511965976,\"ticker\":{\"id\":\"1226\"}},\"id\":\"1225\",\"type\":\"CategoricalAxis\"},{\"attributes\":{},\"id\":\"1232\",\"type\":\"SaveTool\"},{\"attributes\":{\"axis\":{\"id\":\"1225\"},\"grid_line_color\":null,\"ticker\":null},\"id\":\"1227\",\"type\":\"Grid\"},{\"attributes\":{\"source\":{\"id\":\"1246\"}},\"id\":\"1253\",\"type\":\"CDSView\"},{\"attributes\":{},\"id\":\"1257\",\"type\":\"CategoricalTickFormatter\"},{\"attributes\":{},\"id\":\"1236\",\"type\":\"ResetTool\"},{\"attributes\":{\"data_source\":{\"id\":\"1246\"},\"glyph\":{\"id\":\"1249\"},\"hover_glyph\":null,\"muted_glyph\":{\"id\":\"1251\"},\"nonselection_glyph\":{\"id\":\"1250\"},\"selection_glyph\":null,\"view\":{\"id\":\"1253\"}},\"id\":\"1252\",\"type\":\"GlyphRenderer\"},{\"attributes\":{},\"id\":\"1261\",\"type\":\"UnionRenderers\"},{\"attributes\":{},\"id\":\"1226\",\"type\":\"CategoricalTicker\"},{\"attributes\":{},\"id\":\"1234\",\"type\":\"WheelZoomTool\"}],\"root_ids\":[\"1211\"]},\"title\":\"Bokeh Application\",\"version\":\"2.2.3\"}};\n",
       "    var render_items = [{\"docid\":\"d07d23e7-6064-4021-83e3-6f81d7ee5b17\",\"root_ids\":[\"1211\"],\"roots\":{\"1211\":\"d3e83db8-3157-4c49-990b-7fd8dc58641c\"}}];\n",
       "    root.Bokeh.embed.embed_items_notebook(docs_json, render_items);\n",
       "  }\n",
       "  if (root.Bokeh !== undefined && root.Bokeh.Panel !== undefined) {\n",
       "    embed_document(root);\n",
       "  } else {\n",
       "    var attempts = 0;\n",
       "    var timer = setInterval(function(root) {\n",
       "      if (root.Bokeh !== undefined && root.Bokeh.Panel !== undefined) {\n",
       "        clearInterval(timer);\n",
       "        embed_document(root);\n",
       "      } else if (document.readyState == \"complete\") {\n",
       "        attempts++;\n",
       "        if (attempts > 100) {\n",
       "          clearInterval(timer);\n",
       "          console.log(\"Bokeh: ERROR: Unable to run BokehJS code because BokehJS library is missing\");\n",
       "        }\n",
       "      }\n",
       "    }, 10, root)\n",
       "  }\n",
       "})(window);</script>"
      ]
     },
     "metadata": {
      "application/vnd.holoviews_exec.v0+json": {
       "id": "1211"
      }
     },
     "execution_count": 23
    }
   ],
   "metadata": {}
  },
  {
   "cell_type": "markdown",
   "source": [
    "## Plot and analyze success vs fail for Indiegogo."
   ],
   "metadata": {}
  },
  {
   "cell_type": "code",
   "execution_count": 24,
   "source": [
    "# Create an hvplot bar to show the success and failed projects of each main category of Indiegogo.\n",
    "indiegogo_main_category_total.hvplot.bar(stacked= True,\n",
    "                                  y=['percent_fail', 'percent_success'],\n",
    "                                  x= 'main_category',\n",
    "                                  rot= 60,\n",
    "                                 title='Indiegogo Main Category Success vs Failed Project',\n",
    "                                  cmap=['pink', 'green']\n",
    "                                 )"
   ],
   "outputs": [
    {
     "output_type": "display_data",
     "data": {},
     "metadata": {}
    },
    {
     "output_type": "execute_result",
     "data": {
      "application/vnd.holoviews_exec.v0+json": "",
      "text/plain": [
       ":Bars   [main_category,Variable]   (value)"
      ],
      "text/html": [
       "<div id='1326'>\n",
       "\n",
       "\n",
       "\n",
       "\n",
       "\n",
       "  <div class=\"bk-root\" id=\"ac62887f-6819-4728-8974-0b7272fed632\" data-root-id=\"1326\"></div>\n",
       "</div>\n",
       "<script type=\"application/javascript\">(function(root) {\n",
       "  function embed_document(root) {\n",
       "    var docs_json = {\"388ec196-dbfe-4e58-aac1-905355180353\":{\"roots\":{\"references\":[{\"attributes\":{\"children\":[{\"id\":\"1327\"},{\"id\":\"1331\"},{\"id\":\"1399\"}],\"margin\":[0,0,0,0],\"name\":\"Row02071\",\"tags\":[\"embedded\"]},\"id\":\"1326\",\"type\":\"Row\"},{\"attributes\":{\"active_drag\":\"auto\",\"active_inspect\":\"auto\",\"active_multi\":null,\"active_scroll\":\"auto\",\"active_tap\":\"auto\",\"tools\":[{\"id\":\"1330\"},{\"id\":\"1347\"},{\"id\":\"1348\"},{\"id\":\"1349\"},{\"id\":\"1350\"},{\"id\":\"1351\"}]},\"id\":\"1353\",\"type\":\"Toolbar\"},{\"attributes\":{\"axis_label\":\"main_category\",\"bounds\":\"auto\",\"formatter\":{\"id\":\"1372\"},\"major_label_orientation\":1.0471975511965976,\"ticker\":{\"id\":\"1341\"}},\"id\":\"1340\",\"type\":\"CategoricalAxis\"},{\"attributes\":{\"below\":[{\"id\":\"1340\"}],\"center\":[{\"id\":\"1342\"},{\"id\":\"1346\"},{\"id\":\"1377\"}],\"left\":[{\"id\":\"1343\"}],\"margin\":[5,5,5,5],\"min_border_bottom\":10,\"min_border_left\":10,\"min_border_right\":10,\"min_border_top\":10,\"plot_height\":300,\"plot_width\":700,\"renderers\":[{\"id\":\"1367\"}],\"right\":[{\"id\":\"1377\"}],\"sizing_mode\":\"fixed\",\"title\":{\"id\":\"1332\"},\"toolbar\":{\"id\":\"1353\"},\"x_range\":{\"id\":\"1328\"},\"x_scale\":{\"id\":\"1336\"},\"y_range\":{\"id\":\"1329\"},\"y_scale\":{\"id\":\"1338\"}},\"id\":\"1331\",\"subtype\":\"Figure\",\"type\":\"Plot\"},{\"attributes\":{},\"id\":\"1347\",\"type\":\"SaveTool\"},{\"attributes\":{},\"id\":\"1338\",\"type\":\"LinearScale\"},{\"attributes\":{},\"id\":\"1362\",\"type\":\"Selection\"},{\"attributes\":{},\"id\":\"1348\",\"type\":\"PanTool\"},{\"attributes\":{},\"id\":\"1341\",\"type\":\"CategoricalTicker\"},{\"attributes\":{},\"id\":\"1349\",\"type\":\"WheelZoomTool\"},{\"attributes\":{\"axis\":{\"id\":\"1340\"},\"grid_line_color\":null,\"ticker\":null},\"id\":\"1342\",\"type\":\"Grid\"},{\"attributes\":{\"overlay\":{\"id\":\"1352\"}},\"id\":\"1350\",\"type\":\"BoxZoomTool\"},{\"attributes\":{\"bottom\":{\"field\":\"bottom\"},\"fill_alpha\":{\"value\":0.1},\"fill_color\":{\"field\":\"Variable\",\"transform\":{\"id\":\"1360\"}},\"line_alpha\":{\"value\":0.1},\"top\":{\"field\":\"top\"},\"width\":{\"value\":0.8},\"x\":{\"field\":\"main_category\"}},\"id\":\"1365\",\"type\":\"VBar\"},{\"attributes\":{\"source\":{\"id\":\"1361\"}},\"id\":\"1368\",\"type\":\"CDSView\"},{\"attributes\":{},\"id\":\"1376\",\"type\":\"UnionRenderers\"},{\"attributes\":{\"margin\":[5,5,5,5],\"name\":\"HSpacer02075\",\"sizing_mode\":\"stretch_width\"},\"id\":\"1327\",\"type\":\"Spacer\"},{\"attributes\":{\"items\":[{\"id\":\"1378\"}],\"location\":[0,0]},\"id\":\"1377\",\"type\":\"Legend\"},{\"attributes\":{\"data_source\":{\"id\":\"1361\"},\"glyph\":{\"id\":\"1364\"},\"hover_glyph\":null,\"muted_glyph\":{\"id\":\"1366\"},\"nonselection_glyph\":{\"id\":\"1365\"},\"selection_glyph\":null,\"view\":{\"id\":\"1368\"}},\"id\":\"1367\",\"type\":\"GlyphRenderer\"},{\"attributes\":{},\"id\":\"1351\",\"type\":\"ResetTool\"},{\"attributes\":{},\"id\":\"1372\",\"type\":\"CategoricalTickFormatter\"},{\"attributes\":{\"axis_label\":\"\",\"bounds\":\"auto\",\"formatter\":{\"id\":\"1370\"},\"major_label_orientation\":\"horizontal\",\"ticker\":{\"id\":\"1344\"}},\"id\":\"1343\",\"type\":\"LinearAxis\"},{\"attributes\":{\"callback\":null,\"renderers\":[{\"id\":\"1367\"}],\"tags\":[\"hv_created\"],\"tooltips\":[[\"main_category\",\"@{main_category}\"],[\"Variable\",\"@{Variable}\"],[\"value\",\"@{value}\"]]},\"id\":\"1330\",\"type\":\"HoverTool\"},{\"attributes\":{},\"id\":\"1344\",\"type\":\"BasicTicker\"},{\"attributes\":{\"factors\":[\"Technology\",\"Art\",\"Food\",\"Film & Video\",\"Journalism\",\"Games\",\"Music\",\"Theater\",\"Photography\"],\"tags\":[[[\"main_category\",\"main_category\",null]]]},\"id\":\"1328\",\"type\":\"FactorRange\"},{\"attributes\":{},\"id\":\"1336\",\"type\":\"CategoricalScale\"},{\"attributes\":{\"margin\":[5,5,5,5],\"name\":\"HSpacer02076\",\"sizing_mode\":\"stretch_width\"},\"id\":\"1399\",\"type\":\"Spacer\"},{\"attributes\":{\"reset_end\":1.0,\"reset_start\":0.0,\"tags\":[[[\"value\",\"value\",null]]]},\"id\":\"1329\",\"type\":\"Range1d\"},{\"attributes\":{},\"id\":\"1370\",\"type\":\"BasicTickFormatter\"},{\"attributes\":{\"factors\":[\"percent_fail\",\"percent_success\"],\"palette\":[\"pink\",\"green\"]},\"id\":\"1360\",\"type\":\"CategoricalColorMapper\"},{\"attributes\":{\"bottom\":{\"field\":\"bottom\"},\"fill_color\":{\"field\":\"Variable\",\"transform\":{\"id\":\"1360\"}},\"top\":{\"field\":\"top\"},\"width\":{\"value\":0.8},\"x\":{\"field\":\"main_category\"}},\"id\":\"1364\",\"type\":\"VBar\"},{\"attributes\":{\"axis\":{\"id\":\"1343\"},\"dimension\":1,\"grid_line_color\":null,\"ticker\":null},\"id\":\"1346\",\"type\":\"Grid\"},{\"attributes\":{\"data\":{\"Variable\":[\"percent_fail\",\"percent_fail\",\"percent_fail\",\"percent_fail\",\"percent_fail\",\"percent_fail\",\"percent_fail\",\"percent_fail\",\"percent_fail\",\"percent_success\",\"percent_success\",\"percent_success\",\"percent_success\",\"percent_success\",\"percent_success\",\"percent_success\",\"percent_success\",\"percent_success\"],\"bottom\":{\"__ndarray__\":\"AAAAAAAAAAAAAAAAAAAAAAAAAAAAAAAAAAAAAAAAAAAAAAAAAAAAAAAAAAAAAAAAAAAAAAAAAAAAAAAAAAAAAAAAAAAAAAAAWbuWXuYL7z9qXU6QuGnlP3mIudAqMOo/IgjpTw8g6z8eYtDLEazpPzjgBWTP2+o/ULRfDs9y5z8tE7mgcB7sPw4dloe8eOo/\",\"dtype\":\"float64\",\"order\":\"little\",\"shape\":[18]},\"main_category\":[\"Technology\",\"Theater\",\"Music\",\"Games\",\"Photography\",\"Film & Video\",\"Food\",\"Art\",\"Journalism\",\"Theater\",\"Technology\",\"Art\",\"Food\",\"Film & Video\",\"Journalism\",\"Games\",\"Music\",\"Photography\"],\"top\":{\"__ndarray__\":\"al1OkLhp5T9Zu5Ze5gvvPy0TuaBwHuw/ULRfDs9y5z8OHZaHvHjqPx5i0MsRrOk/IgjpTw8g6z95iLnQKjDqPzjgBWTP2+o/AAAAAAAA8D8AAAAAAADwPwAAAAAAAPA/AAAAAAAA8D8AAAAAAADwPwAAAAAAAPA/AAAAAAAA8D8AAAAAAADwPwAAAAAAAPA/\",\"dtype\":\"float64\",\"order\":\"little\",\"shape\":[18]},\"value\":{\"__ndarray__\":\"al1OkLhp5T9Zu5Ze5gvvPy0TuaBwHuw/ULRfDs9y5z8OHZaHvHjqPx5i0MsRrOk/IgjpTw8g6z95iLnQKjDqPzjgBWTP2+o/55QoLTSDnj8rRWPfjizVPxveGb1UP8c/dt9bwMJ/wz+Gd77QuE/JPyJ/6G/CkMQ/YZdA42Ea0T+VZjf6egy/P8iLp+ENHcY/\",\"dtype\":\"float64\",\"order\":\"little\",\"shape\":[18]}},\"selected\":{\"id\":\"1362\"},\"selection_policy\":{\"id\":\"1376\"}},\"id\":\"1361\",\"type\":\"ColumnDataSource\"},{\"attributes\":{\"bottom\":{\"field\":\"bottom\"},\"fill_alpha\":{\"value\":0.2},\"fill_color\":{\"field\":\"Variable\",\"transform\":{\"id\":\"1360\"}},\"line_alpha\":{\"value\":0.2},\"top\":{\"field\":\"top\"},\"width\":{\"value\":0.8},\"x\":{\"field\":\"main_category\"}},\"id\":\"1366\",\"type\":\"VBar\"},{\"attributes\":{\"bottom_units\":\"screen\",\"fill_alpha\":0.5,\"fill_color\":\"lightgrey\",\"left_units\":\"screen\",\"level\":\"overlay\",\"line_alpha\":1.0,\"line_color\":\"black\",\"line_dash\":[4,4],\"line_width\":2,\"right_units\":\"screen\",\"top_units\":\"screen\"},\"id\":\"1352\",\"type\":\"BoxAnnotation\"},{\"attributes\":{\"text\":\"Indiegogo Main Category Success vs Failed Project\",\"text_color\":{\"value\":\"black\"},\"text_font_size\":{\"value\":\"12pt\"}},\"id\":\"1332\",\"type\":\"Title\"},{\"attributes\":{\"label\":{\"field\":\"Variable\"},\"renderers\":[{\"id\":\"1367\"}]},\"id\":\"1378\",\"type\":\"LegendItem\"}],\"root_ids\":[\"1326\"]},\"title\":\"Bokeh Application\",\"version\":\"2.2.3\"}};\n",
       "    var render_items = [{\"docid\":\"388ec196-dbfe-4e58-aac1-905355180353\",\"root_ids\":[\"1326\"],\"roots\":{\"1326\":\"ac62887f-6819-4728-8974-0b7272fed632\"}}];\n",
       "    root.Bokeh.embed.embed_items_notebook(docs_json, render_items);\n",
       "  }\n",
       "  if (root.Bokeh !== undefined && root.Bokeh.Panel !== undefined) {\n",
       "    embed_document(root);\n",
       "  } else {\n",
       "    var attempts = 0;\n",
       "    var timer = setInterval(function(root) {\n",
       "      if (root.Bokeh !== undefined && root.Bokeh.Panel !== undefined) {\n",
       "        clearInterval(timer);\n",
       "        embed_document(root);\n",
       "      } else if (document.readyState == \"complete\") {\n",
       "        attempts++;\n",
       "        if (attempts > 100) {\n",
       "          clearInterval(timer);\n",
       "          console.log(\"Bokeh: ERROR: Unable to run BokehJS code because BokehJS library is missing\");\n",
       "        }\n",
       "      }\n",
       "    }, 10, root)\n",
       "  }\n",
       "})(window);</script>"
      ]
     },
     "metadata": {
      "application/vnd.holoviews_exec.v0+json": {
       "id": "1326"
      }
     },
     "execution_count": 24
    }
   ],
   "metadata": {}
  },
  {
   "cell_type": "markdown",
   "source": [
    "## General Summary Stats for Indiegogo"
   ],
   "metadata": {}
  },
  {
   "cell_type": "code",
   "execution_count": 406,
   "source": [
    "# Generate summary stats for indiegogo\n",
    "indiegog_data_df = load_full_table('indie_gogo')\n",
    "indiegogo_summary_df = indiegog_data_df.drop(columns=['ID', 'name', 'index', 'deadline', 'launched', 'state', 'lat', 'long']).describe()\n",
    "\n",
    "# View head\n",
    "indiegogo_summary_df"
   ],
   "outputs": [
    {
     "output_type": "execute_result",
     "data": {
      "text/plain": [
       "       usd_goal_real  usd_pledged_real  funded_percent     duration  \\\n",
       "count    9309.000000      9.309000e+03     9309.000000  9309.000000   \n",
       "mean    26653.296548      2.334331e+04        0.786834    42.884413   \n",
       "std     50055.500815      1.680333e+05        4.581792    20.841792   \n",
       "min       375.037800      1.000000e+00        0.000000     0.000000   \n",
       "25%      3200.000000      1.955490e+02        0.020700    30.000000   \n",
       "50%     10000.000000      7.220000e+02        0.123900    45.000000   \n",
       "75%     25000.000000      2.753383e+03        0.446600    60.000000   \n",
       "max    500000.000000      6.051571e+06      207.054000   720.000000   \n",
       "\n",
       "       daily_goal  daily_pledged  \n",
       "count     9309.00        9309.00  \n",
       "mean          inf            inf  \n",
       "std           NaN            NaN  \n",
       "min          0.94           0.02  \n",
       "25%         83.33           4.58  \n",
       "50%        234.38          18.33  \n",
       "75%        681.82          71.96  \n",
       "max           inf            inf  "
      ],
      "text/html": [
       "<div>\n",
       "<style scoped>\n",
       "    .dataframe tbody tr th:only-of-type {\n",
       "        vertical-align: middle;\n",
       "    }\n",
       "\n",
       "    .dataframe tbody tr th {\n",
       "        vertical-align: top;\n",
       "    }\n",
       "\n",
       "    .dataframe thead th {\n",
       "        text-align: right;\n",
       "    }\n",
       "</style>\n",
       "<table border=\"1\" class=\"dataframe\">\n",
       "  <thead>\n",
       "    <tr style=\"text-align: right;\">\n",
       "      <th></th>\n",
       "      <th>usd_goal_real</th>\n",
       "      <th>usd_pledged_real</th>\n",
       "      <th>funded_percent</th>\n",
       "      <th>duration</th>\n",
       "      <th>daily_goal</th>\n",
       "      <th>daily_pledged</th>\n",
       "    </tr>\n",
       "  </thead>\n",
       "  <tbody>\n",
       "    <tr>\n",
       "      <th>count</th>\n",
       "      <td>9309.000000</td>\n",
       "      <td>9.309000e+03</td>\n",
       "      <td>9309.000000</td>\n",
       "      <td>9309.000000</td>\n",
       "      <td>9309.00</td>\n",
       "      <td>9309.00</td>\n",
       "    </tr>\n",
       "    <tr>\n",
       "      <th>mean</th>\n",
       "      <td>26653.296548</td>\n",
       "      <td>2.334331e+04</td>\n",
       "      <td>0.786834</td>\n",
       "      <td>42.884413</td>\n",
       "      <td>inf</td>\n",
       "      <td>inf</td>\n",
       "    </tr>\n",
       "    <tr>\n",
       "      <th>std</th>\n",
       "      <td>50055.500815</td>\n",
       "      <td>1.680333e+05</td>\n",
       "      <td>4.581792</td>\n",
       "      <td>20.841792</td>\n",
       "      <td>NaN</td>\n",
       "      <td>NaN</td>\n",
       "    </tr>\n",
       "    <tr>\n",
       "      <th>min</th>\n",
       "      <td>375.037800</td>\n",
       "      <td>1.000000e+00</td>\n",
       "      <td>0.000000</td>\n",
       "      <td>0.000000</td>\n",
       "      <td>0.94</td>\n",
       "      <td>0.02</td>\n",
       "    </tr>\n",
       "    <tr>\n",
       "      <th>25%</th>\n",
       "      <td>3200.000000</td>\n",
       "      <td>1.955490e+02</td>\n",
       "      <td>0.020700</td>\n",
       "      <td>30.000000</td>\n",
       "      <td>83.33</td>\n",
       "      <td>4.58</td>\n",
       "    </tr>\n",
       "    <tr>\n",
       "      <th>50%</th>\n",
       "      <td>10000.000000</td>\n",
       "      <td>7.220000e+02</td>\n",
       "      <td>0.123900</td>\n",
       "      <td>45.000000</td>\n",
       "      <td>234.38</td>\n",
       "      <td>18.33</td>\n",
       "    </tr>\n",
       "    <tr>\n",
       "      <th>75%</th>\n",
       "      <td>25000.000000</td>\n",
       "      <td>2.753383e+03</td>\n",
       "      <td>0.446600</td>\n",
       "      <td>60.000000</td>\n",
       "      <td>681.82</td>\n",
       "      <td>71.96</td>\n",
       "    </tr>\n",
       "    <tr>\n",
       "      <th>max</th>\n",
       "      <td>500000.000000</td>\n",
       "      <td>6.051571e+06</td>\n",
       "      <td>207.054000</td>\n",
       "      <td>720.000000</td>\n",
       "      <td>inf</td>\n",
       "      <td>inf</td>\n",
       "    </tr>\n",
       "  </tbody>\n",
       "</table>\n",
       "</div>"
      ]
     },
     "metadata": {},
     "execution_count": 406
    }
   ],
   "metadata": {}
  },
  {
   "cell_type": "code",
   "execution_count": 407,
   "source": [
    "# Violin plot of duration by state\n",
    "sns.set(rc={'figure.figsize':(11.7,8.27)})\n",
    "ax = sns.violinplot(\n",
    "    x=\"duration\",\n",
    "    y=\"main_category\",\n",
    "    hue=\"state\",\n",
    "    data=indiegog_data_df,\n",
    "    scale=\"width\",\n",
    "    palette=\"muted\"\n",
    "    )"
   ],
   "outputs": [
    {
     "output_type": "display_data",
     "data": {
      "text/plain": [
       "<Figure size 842.4x595.44 with 1 Axes>"
      ],
      "image/png": "[encoded data removed]"
     },
     "metadata": {}
    }
   ],
   "metadata": {}
  },
  {
   "cell_type": "code",
   "execution_count": 408,
   "source": [
    "# Violin plot of pledged with success true\n",
    "indiegogo_clean_success_df = indiegog_data_df[indiegog_data_df['state'] == 1]\n",
    "ax = sns.violinplot(\n",
    "    x=\"usd_pledged_real\",\n",
    "    y=\"main_category\",\n",
    "    data=indiegogo_clean_success_df,\n",
    "    scale=\"width\",\n",
    "    palette=\"muted\"\n",
    "    )"
   ],
   "outputs": [
    {
     "output_type": "display_data",
     "data": {
      "text/plain": [
       "<Figure size 842.4x595.44 with 1 Axes>"
      ],
      "image/png": "[encoded data removed]"
     },
     "metadata": {}
    }
   ],
   "metadata": {}
  },
  {
   "cell_type": "markdown",
   "source": [
    "## General Summary Stats for Kickstarter"
   ],
   "metadata": {}
  },
  {
   "cell_type": "code",
   "execution_count": 31,
   "source": [
    "# Generate summary stats for indiegogo\n",
    "kickstarter_summary_df_test = load_full_table('kickstarter_large').drop(columns=['ID', 'name', 'index', 'deadline', 'launched', 'state', 'lat', 'long', 'avg_backer_per_day', 'pledged_per_person']).describe()\n",
    "\n",
    "# View head\n",
    "kickstarter_summary_df_test"
   ],
   "outputs": [
    {
     "output_type": "execute_result",
     "data": {
      "text/plain": [
       "       usd_goal_real  usd_pledged_real  funded_percent       duration  \\\n",
       "count   3.315530e+05      3.315530e+05   331553.000000  331553.000000   \n",
       "mean    4.152304e+04      9.937370e+03        3.511277      32.955585   \n",
       "std     1.109133e+06      9.663247e+04      282.586882      12.714186   \n",
       "min     1.000000e-02      0.000000e+00        0.000000       0.000000   \n",
       "25%     2.000000e+03      5.000000e+01        0.007500      29.000000   \n",
       "50%     5.000000e+03      7.862900e+02        0.200000      29.000000   \n",
       "75%     1.500000e+04      4.606000e+03        1.095000      35.000000   \n",
       "max     1.663614e+08      2.033899e+07   104277.890000      91.000000   \n",
       "\n",
       "       daily_goal  daily_pledged  \n",
       "count   331553.00     331519.000  \n",
       "mean          inf            inf  \n",
       "std           NaN            NaN  \n",
       "min          0.00          0.000  \n",
       "25%         66.67          1.470  \n",
       "50%        172.41         26.340  \n",
       "75%        500.00        155.055  \n",
       "max           inf            inf  "
      ],
      "text/html": [
       "<div>\n",
       "<style scoped>\n",
       "    .dataframe tbody tr th:only-of-type {\n",
       "        vertical-align: middle;\n",
       "    }\n",
       "\n",
       "    .dataframe tbody tr th {\n",
       "        vertical-align: top;\n",
       "    }\n",
       "\n",
       "    .dataframe thead th {\n",
       "        text-align: right;\n",
       "    }\n",
       "</style>\n",
       "<table border=\"1\" class=\"dataframe\">\n",
       "  <thead>\n",
       "    <tr style=\"text-align: right;\">\n",
       "      <th></th>\n",
       "      <th>usd_goal_real</th>\n",
       "      <th>usd_pledged_real</th>\n",
       "      <th>funded_percent</th>\n",
       "      <th>duration</th>\n",
       "      <th>daily_goal</th>\n",
       "      <th>daily_pledged</th>\n",
       "    </tr>\n",
       "  </thead>\n",
       "  <tbody>\n",
       "    <tr>\n",
       "      <th>count</th>\n",
       "      <td>3.315530e+05</td>\n",
       "      <td>3.315530e+05</td>\n",
       "      <td>331553.000000</td>\n",
       "      <td>331553.000000</td>\n",
       "      <td>331553.00</td>\n",
       "      <td>331519.000</td>\n",
       "    </tr>\n",
       "    <tr>\n",
       "      <th>mean</th>\n",
       "      <td>4.152304e+04</td>\n",
       "      <td>9.937370e+03</td>\n",
       "      <td>3.511277</td>\n",
       "      <td>32.955585</td>\n",
       "      <td>inf</td>\n",
       "      <td>inf</td>\n",
       "    </tr>\n",
       "    <tr>\n",
       "      <th>std</th>\n",
       "      <td>1.109133e+06</td>\n",
       "      <td>9.663247e+04</td>\n",
       "      <td>282.586882</td>\n",
       "      <td>12.714186</td>\n",
       "      <td>NaN</td>\n",
       "      <td>NaN</td>\n",
       "    </tr>\n",
       "    <tr>\n",
       "      <th>min</th>\n",
       "      <td>1.000000e-02</td>\n",
       "      <td>0.000000e+00</td>\n",
       "      <td>0.000000</td>\n",
       "      <td>0.000000</td>\n",
       "      <td>0.00</td>\n",
       "      <td>0.000</td>\n",
       "    </tr>\n",
       "    <tr>\n",
       "      <th>25%</th>\n",
       "      <td>2.000000e+03</td>\n",
       "      <td>5.000000e+01</td>\n",
       "      <td>0.007500</td>\n",
       "      <td>29.000000</td>\n",
       "      <td>66.67</td>\n",
       "      <td>1.470</td>\n",
       "    </tr>\n",
       "    <tr>\n",
       "      <th>50%</th>\n",
       "      <td>5.000000e+03</td>\n",
       "      <td>7.862900e+02</td>\n",
       "      <td>0.200000</td>\n",
       "      <td>29.000000</td>\n",
       "      <td>172.41</td>\n",
       "      <td>26.340</td>\n",
       "    </tr>\n",
       "    <tr>\n",
       "      <th>75%</th>\n",
       "      <td>1.500000e+04</td>\n",
       "      <td>4.606000e+03</td>\n",
       "      <td>1.095000</td>\n",
       "      <td>35.000000</td>\n",
       "      <td>500.00</td>\n",
       "      <td>155.055</td>\n",
       "    </tr>\n",
       "    <tr>\n",
       "      <th>max</th>\n",
       "      <td>1.663614e+08</td>\n",
       "      <td>2.033899e+07</td>\n",
       "      <td>104277.890000</td>\n",
       "      <td>91.000000</td>\n",
       "      <td>inf</td>\n",
       "      <td>inf</td>\n",
       "    </tr>\n",
       "  </tbody>\n",
       "</table>\n",
       "</div>"
      ]
     },
     "metadata": {},
     "execution_count": 31
    }
   ],
   "metadata": {}
  },
  {
   "cell_type": "markdown",
   "source": [
    "## Create a WordCloud to show the main categories for Kickstarter"
   ],
   "metadata": {}
  },
  {
   "cell_type": "code",
   "execution_count": 24,
   "source": [
    "# Create a WordCloud to show the main categories for Kickstarter.\n",
    "\n",
    "# Create a list of word\n",
    "ks_cat = kickstarter_large_clean_df['main_category']\n",
    "ks_string = \" \".join(ks_cat)\n",
    "mask = np.array(Image.open('./Resources/Images/K.png'))\n",
    "\n",
    "# Create the wordcloud object\n",
    "wordcloud = WordCloud(width=50, height=50, margin=0, max_words=200, max_font_size= 100, colormap='summer', random_state= 10, mask=mask).generate(ks_string)\n",
    "\n",
    "# Display the generated image:\n",
    "plt.figure(figsize=(10,10))\n",
    "plt.imshow(wordcloud, interpolation='bilinear')\n",
    "plt.axis(\"off\")\n",
    "plt.margins(x=0, y=0)\n",
    "plt.show()\n"
   ],
   "outputs": [
    {
     "output_type": "display_data",
     "data": {
      "text/plain": [
       "<Figure size 720x720 with 1 Axes>"
      ],
      "image/png": "[encoded data removed]"
     },
     "metadata": {
      "needs_background": "light"
     }
    }
   ],
   "metadata": {}
  },
  {
   "cell_type": "markdown",
   "source": [
    "## Create a WordCloud to show the main categories for Indiegogo"
   ],
   "metadata": {}
  },
  {
   "cell_type": "code",
   "execution_count": 39,
   "source": [
    "# Create a WordCloud to show the main categories for Indiegogo.\n",
    "\n",
    "# Create a list of word\n",
    "indie_cat = indiegogo_clean_df['main_category']\n",
    "indie_string = \" \".join(indie_cat)\n",
    "\n",
    "mask = np.array(Image.open('./Resources/Images/I.png'))\n",
    "\n",
    "# Create the wordcloud object\n",
    "wordcloud = WordCloud(width=100, height=100, margin=0, max_words=200, max_font_size=100, colormap='spring', random_state=6, mask=mask).generate(indie_string)\n",
    "\n",
    "# Display the generated image:\n",
    "plt.figure(figsize=(10,10))\n",
    "plt.imshow(wordcloud, interpolation='bilinear')\n",
    "plt.axis(\"off\")\n",
    "plt.margins(x=0, y=0)\n",
    "plt.show()\n",
    "\n"
   ],
   "outputs": [
    {
     "output_type": "display_data",
     "data": {
      "text/plain": [
       "<Figure size 720x720 with 1 Axes>"
      ],
      "image/png": "[encoded data removed]"
     },
     "metadata": {
      "needs_background": "light"
     }
    }
   ],
   "metadata": {}
  },
  {
   "cell_type": "code",
   "execution_count": null,
   "source": [],
   "outputs": [],
   "metadata": {}
  }
 ],
 "metadata": {
  "interpreter": {
   "hash": "930eee74a1f2acacbb765ecf4f41bca31b45440fd68d4dff19855f34b00f2967"
  },
  "kernelspec": {
   "name": "python3",
   "display_name": "Python 3.7.9 64-bit ('dev': conda)"
  },
  "language_info": {
   "codemirror_mode": {
    "name": "ipython",
    "version": 3
   },
   "file_extension": ".py",
   "mimetype": "text/x-python",
   "name": "python",
   "nbconvert_exporter": "python",
   "pygments_lexer": "ipython3",
   "version": "3.7.9"
  }
 },
 "nbformat": 4,
 "nbformat_minor": 4
}