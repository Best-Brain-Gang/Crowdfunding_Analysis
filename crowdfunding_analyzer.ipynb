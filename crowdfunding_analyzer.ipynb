{
 "cells": [
  {
   "cell_type": "code",
   "execution_count": 5,
   "metadata": {},
   "outputs": [],
   "source": [
    "# Import the required libraries and dependencies\n",
    "import os\n",
    "import pandas as pd\n",
    "from pathlib import Path\n",
    "from dotenv import load_dotenv\n",
    "import sqlalchemy\n",
    "\n",
    "# Add viz libs\n",
    "import matplotlib.pyplot as plt\n",
    "import seaborn as sns\n",
    "import plotly.express as px\n",
    "import hvplot.pandas\n",
    "import altair as alt \n",
    "from bokeh.plotting import figure, show\n",
    "import folium"
   ]
  },
  {
   "cell_type": "markdown",
   "metadata": {},
   "source": [
    "## Clean data"
   ]
  },
  {
   "cell_type": "code",
   "execution_count": 6,
   "metadata": {},
   "outputs": [],
   "source": [
    "# Force clean vars\n",
    "force_clean_large_kickstarter = True\n",
    "force_clean_small_kickstarter = True\n",
    "force_clean_indiegogo = True\n",
    "\n",
    "# Clean large kickstarter\n",
    "my_kickstarter_large_file = Path('./Resources/kickstarter_data_clean/ks-projects-large.csv')\n",
    "if not my_kickstarter_large_file.is_file() or force_clean_large_kickstarter:\n",
    "    %run ./Resources/Utils/clean_kickstarter_large.ipynb\n",
    "\n",
    "# Clean small kickstarter\n",
    "my_kickstarter_small_file = Path('./Resources/kickstarter_data_clean/ks-projects-small.csv')\n",
    "if not my_kickstarter_small_file.is_file() or force_clean_small_kickstarter:\n",
    "    %run ./Resources/Utils/clean_kickstarter_small.ipynb\n",
    "\n",
    "# Clean indiegogo kickstarter\n",
    "my_indiegogo_file = Path('./Resources/indiegogo_data_clean/indiegogo-projects.csv')\n",
    "if not my_indiegogo_file.is_file() or force_clean_indiegogo:\n",
    "    %run ./Resources/Utils/clean_indiegogo.ipynb"
   ]
  },
  {
   "cell_type": "markdown",
   "metadata": {},
   "source": [
    "## Enable Mapbox API access token"
   ]
  },
  {
   "cell_type": "code",
   "execution_count": 7,
   "metadata": {},
   "outputs": [
    {
     "output_type": "display_data",
     "data": {
      "text/plain": "NoneType"
     },
     "metadata": {}
    }
   ],
   "source": [
    "# Load the .env file into the notebook\n",
    "load_dotenv()\n",
    "\n",
    "# Read in your MAPBOX_API_KEY\n",
    "mapbox_api_access_token = os.getenv('MAPBOX_API_ACCESS_TOKEN')\n",
    "\n",
    "# Confirm the availability of your Mapbox API access token by checking its type\n",
    "display(type(mapbox_api_access_token))\n",
    "\n",
    "# Set your Mapbox API access token\n",
    "px.set_mapbox_access_token(mapbox_api_access_token)"
   ]
  },
  {
   "cell_type": "markdown",
   "metadata": {},
   "source": [
    "## Read kickstarter large"
   ]
  },
  {
   "cell_type": "code",
   "execution_count": 8,
   "metadata": {},
   "outputs": [
    {
     "output_type": "execute_result",
     "data": {
      "text/plain": [
       "           ID                                           name main_category  \\\n",
       "0  1000002330                The Songs of Adelaide & Abullah    Publishing   \n",
       "1  1000003930  Greeting From Earth: ZGAC Arts Capsule For ET  Film & Video   \n",
       "\n",
       "  currency  usd_goal_real  usd_pledged_real   deadline            launched  \\\n",
       "0      GBP        1533.95               0.0 2015-10-09 2015-08-11 12:12:28   \n",
       "1      USD       30000.00            2421.0 2017-11-01 2017-09-02 04:43:57   \n",
       "\n",
       "   state  funded_percent  duration  daily_goal  daily_pledged country  \\\n",
       "0      0          0.0000        58       26.45           0.00      GB   \n",
       "1      0          0.0807        59      508.47          41.03      US   \n",
       "\n",
       "  full_country_names        lat       long  avg_backer_per_day  \\\n",
       "0     United Kingdom  55.378051  -3.435973                0.00   \n",
       "1      United States  37.090240 -95.712891                0.25   \n",
       "\n",
       "   pledged_per_person  \n",
       "0                 0.0  \n",
       "1               161.4  "
      ],
      "text/html": "<div>\n<style scoped>\n    .dataframe tbody tr th:only-of-type {\n        vertical-align: middle;\n    }\n\n    .dataframe tbody tr th {\n        vertical-align: top;\n    }\n\n    .dataframe thead th {\n        text-align: right;\n    }\n</style>\n<table border=\"1\" class=\"dataframe\">\n  <thead>\n    <tr style=\"text-align: right;\">\n      <th></th>\n      <th>ID</th>\n      <th>name</th>\n      <th>main_category</th>\n      <th>currency</th>\n      <th>usd_goal_real</th>\n      <th>usd_pledged_real</th>\n      <th>deadline</th>\n      <th>launched</th>\n      <th>state</th>\n      <th>funded_percent</th>\n      <th>duration</th>\n      <th>daily_goal</th>\n      <th>daily_pledged</th>\n      <th>country</th>\n      <th>full_country_names</th>\n      <th>lat</th>\n      <th>long</th>\n      <th>avg_backer_per_day</th>\n      <th>pledged_per_person</th>\n    </tr>\n  </thead>\n  <tbody>\n    <tr>\n      <th>0</th>\n      <td>1000002330</td>\n      <td>The Songs of Adelaide &amp; Abullah</td>\n      <td>Publishing</td>\n      <td>GBP</td>\n      <td>1533.95</td>\n      <td>0.0</td>\n      <td>2015-10-09</td>\n      <td>2015-08-11 12:12:28</td>\n      <td>0</td>\n      <td>0.0000</td>\n      <td>58</td>\n      <td>26.45</td>\n      <td>0.00</td>\n      <td>GB</td>\n      <td>United Kingdom</td>\n      <td>55.378051</td>\n      <td>-3.435973</td>\n      <td>0.00</td>\n      <td>0.0</td>\n    </tr>\n    <tr>\n      <th>1</th>\n      <td>1000003930</td>\n      <td>Greeting From Earth: ZGAC Arts Capsule For ET</td>\n      <td>Film &amp; Video</td>\n      <td>USD</td>\n      <td>30000.00</td>\n      <td>2421.0</td>\n      <td>2017-11-01</td>\n      <td>2017-09-02 04:43:57</td>\n      <td>0</td>\n      <td>0.0807</td>\n      <td>59</td>\n      <td>508.47</td>\n      <td>41.03</td>\n      <td>US</td>\n      <td>United States</td>\n      <td>37.090240</td>\n      <td>-95.712891</td>\n      <td>0.25</td>\n      <td>161.4</td>\n    </tr>\n  </tbody>\n</table>\n</div>"
     },
     "metadata": {},
     "execution_count": 8
    }
   ],
   "source": [
    "# Import small kickstarter most backed dataset\n",
    "kickstarter_large_clean_df = pd.read_csv(\n",
    "    Path('./Resources/kickstarter_data_clean/ks-projects-large.csv')\n",
    ")\n",
    "\n",
    "# Fix dates\n",
    "kickstarter_large_clean_df['launched'] = pd.to_datetime(kickstarter_large_clean_df['launched'])\n",
    "kickstarter_large_clean_df['deadline'] = pd.to_datetime(kickstarter_large_clean_df['deadline'])\n",
    "\n",
    "# View head\n",
    "kickstarter_large_clean_df.head(2)"
   ]
  },
  {
   "cell_type": "markdown",
   "metadata": {},
   "source": [
    "## Read kickstarter small"
   ]
  },
  {
   "cell_type": "code",
   "execution_count": 9,
   "metadata": {},
   "outputs": [
    {
     "output_type": "execute_result",
     "data": {
      "text/plain": [
       "   ID                           name   main_category currency  usd_goal_real  \\\n",
       "0   0              Exploding Kittens  Tabletop Games      USD        10000.0   \n",
       "1   1  Fidget Cube: A Vinyl Desk Toy  Product Design      USD        15000.0   \n",
       "\n",
       "   usd_pledged_real         location  backers  \\\n",
       "0         8782571.0  Los Angeles, CA   219382   \n",
       "1         6465690.0       Denver, CO   154926   \n",
       "\n",
       "                                    num.backers.tier  \\\n",
       "0                            [15505, 202934, 200, 5]   \n",
       "1  [788, 250, 43073, 21796, 41727, 21627, 12215, ...   \n",
       "\n",
       "                                         pledge.tier  \n",
       "0                         [20.0, 35.0, 100.0, 500.0]  \n",
       "1  [1.0, 14.0, 19.0, 19.0, 35.0, 35.0, 79.0, 79.0...  "
      ],
      "text/html": "<div>\n<style scoped>\n    .dataframe tbody tr th:only-of-type {\n        vertical-align: middle;\n    }\n\n    .dataframe tbody tr th {\n        vertical-align: top;\n    }\n\n    .dataframe thead th {\n        text-align: right;\n    }\n</style>\n<table border=\"1\" class=\"dataframe\">\n  <thead>\n    <tr style=\"text-align: right;\">\n      <th></th>\n      <th>ID</th>\n      <th>name</th>\n      <th>main_category</th>\n      <th>currency</th>\n      <th>usd_goal_real</th>\n      <th>usd_pledged_real</th>\n      <th>location</th>\n      <th>backers</th>\n      <th>num.backers.tier</th>\n      <th>pledge.tier</th>\n    </tr>\n  </thead>\n  <tbody>\n    <tr>\n      <th>0</th>\n      <td>0</td>\n      <td>Exploding Kittens</td>\n      <td>Tabletop Games</td>\n      <td>USD</td>\n      <td>10000.0</td>\n      <td>8782571.0</td>\n      <td>Los Angeles, CA</td>\n      <td>219382</td>\n      <td>[15505, 202934, 200, 5]</td>\n      <td>[20.0, 35.0, 100.0, 500.0]</td>\n    </tr>\n    <tr>\n      <th>1</th>\n      <td>1</td>\n      <td>Fidget Cube: A Vinyl Desk Toy</td>\n      <td>Product Design</td>\n      <td>USD</td>\n      <td>15000.0</td>\n      <td>6465690.0</td>\n      <td>Denver, CO</td>\n      <td>154926</td>\n      <td>[788, 250, 43073, 21796, 41727, 21627, 12215, ...</td>\n      <td>[1.0, 14.0, 19.0, 19.0, 35.0, 35.0, 79.0, 79.0...</td>\n    </tr>\n  </tbody>\n</table>\n</div>"
     },
     "metadata": {},
     "execution_count": 9
    }
   ],
   "source": [
    "# Import small kickstarter most backed dataset\n",
    "kickstarter_small_clean_df = pd.read_csv(\n",
    "    Path('./Resources/kickstarter_data_clean/ks-projects-small.csv')\n",
    ")\n",
    "\n",
    "# View head\n",
    "kickstarter_small_clean_df.head(2)"
   ]
  },
  {
   "cell_type": "markdown",
   "metadata": {},
   "source": [
    "## Read indiegogo"
   ]
  },
  {
   "cell_type": "code",
   "execution_count": 10,
   "metadata": {},
   "outputs": [
    {
     "output_type": "execute_result",
     "data": {
      "text/plain": [
       "     ID                             name main_category        category  \\\n",
       "0  3936  Join the Electric Revolution!!!    Technology  Transportation   \n",
       "1  5109             Relief Trip to Haiti    Journalism    Human Rights   \n",
       "\n",
       "  currency  usd_goal_real  usd_pledged_real            deadline  \\\n",
       "0      USD         5000.0             840.0 2010-05-12 23:59:00   \n",
       "1      USD         1200.0             250.0 2010-07-02 23:59:00   \n",
       "\n",
       "             launched  state  funded_percent  duration  daily_goal  \\\n",
       "0 2010-04-21 22:38:42      0          0.1680        21      238.10   \n",
       "1 2010-06-10 17:47:35      0          0.2083        22       54.55   \n",
       "\n",
       "   daily_pledged country full_country_names       lat       long  \n",
       "0          40.00      US      United States  37.09024 -95.712891  \n",
       "1          11.36      US      United States  37.09024 -95.712891  "
      ],
      "text/html": "<div>\n<style scoped>\n    .dataframe tbody tr th:only-of-type {\n        vertical-align: middle;\n    }\n\n    .dataframe tbody tr th {\n        vertical-align: top;\n    }\n\n    .dataframe thead th {\n        text-align: right;\n    }\n</style>\n<table border=\"1\" class=\"dataframe\">\n  <thead>\n    <tr style=\"text-align: right;\">\n      <th></th>\n      <th>ID</th>\n      <th>name</th>\n      <th>main_category</th>\n      <th>category</th>\n      <th>currency</th>\n      <th>usd_goal_real</th>\n      <th>usd_pledged_real</th>\n      <th>deadline</th>\n      <th>launched</th>\n      <th>state</th>\n      <th>funded_percent</th>\n      <th>duration</th>\n      <th>daily_goal</th>\n      <th>daily_pledged</th>\n      <th>country</th>\n      <th>full_country_names</th>\n      <th>lat</th>\n      <th>long</th>\n    </tr>\n  </thead>\n  <tbody>\n    <tr>\n      <th>0</th>\n      <td>3936</td>\n      <td>Join the Electric Revolution!!!</td>\n      <td>Technology</td>\n      <td>Transportation</td>\n      <td>USD</td>\n      <td>5000.0</td>\n      <td>840.0</td>\n      <td>2010-05-12 23:59:00</td>\n      <td>2010-04-21 22:38:42</td>\n      <td>0</td>\n      <td>0.1680</td>\n      <td>21</td>\n      <td>238.10</td>\n      <td>40.00</td>\n      <td>US</td>\n      <td>United States</td>\n      <td>37.09024</td>\n      <td>-95.712891</td>\n    </tr>\n    <tr>\n      <th>1</th>\n      <td>5109</td>\n      <td>Relief Trip to Haiti</td>\n      <td>Journalism</td>\n      <td>Human Rights</td>\n      <td>USD</td>\n      <td>1200.0</td>\n      <td>250.0</td>\n      <td>2010-07-02 23:59:00</td>\n      <td>2010-06-10 17:47:35</td>\n      <td>0</td>\n      <td>0.2083</td>\n      <td>22</td>\n      <td>54.55</td>\n      <td>11.36</td>\n      <td>US</td>\n      <td>United States</td>\n      <td>37.09024</td>\n      <td>-95.712891</td>\n    </tr>\n  </tbody>\n</table>\n</div>"
     },
     "metadata": {},
     "execution_count": 10
    }
   ],
   "source": [
    "# Import indiegogo dataset\n",
    "indiegogo_clean_df = pd.read_csv(\n",
    "    Path('./Resources/indiegogo_data_clean/indiegogo-projects.csv')\n",
    ")\n",
    "\n",
    "# Fix dates\n",
    "indiegogo_clean_df['launched'] = pd.to_datetime(indiegogo_clean_df['launched'])\n",
    "indiegogo_clean_df['deadline'] = pd.to_datetime(indiegogo_clean_df['deadline'])\n",
    "\n",
    "# View head\n",
    "indiegogo_clean_df.head(2)"
   ]
  },
  {
   "cell_type": "markdown",
   "metadata": {},
   "source": [
    "## Add SQL database and simple functions to load and access tables in that database"
   ]
  },
  {
   "cell_type": "code",
   "execution_count": 11,
   "metadata": {},
   "outputs": [],
   "source": [
    "# Establishes Database Connection with a temporary SQL db (we can update to give it a name later)\n",
    "database_connection_string = \"sqlite:///\"\n",
    "\n",
    "engine = sqlalchemy.create_engine(database_connection_string)\n",
    "\n",
    "# Function to load table into DB\n",
    "# data is the dataframe we want to save, \n",
    "# table name is the name of the new table (as a string value), \n",
    "# and engine is the engine input established earlier\n",
    "def new_table(data, table_name):\n",
    "    data.to_sql(f\"{table_name}\", engine, index=True, if_exists=\"replace\")\n",
    "\n",
    "\n",
    "# Lets us load the table of our choice from the database, just set the function equal to a new dataframe variable and run \n",
    "# must set the table name as a string value\n",
    "def load_full_table(table_name):\n",
    "    new_df = pd.read_sql_table(f\"{table_name}\", con=engine )\n",
    "    return new_df\n",
    "\n",
    "new_table(kickstarter_large_clean_df, \"kickstarter_large\")\n",
    "new_table(kickstarter_small_clean_df, \"kickstarter_small\")\n",
    "new_table(indiegogo_clean_df, \"indie_gogo\")"
   ]
  },
  {
   "cell_type": "markdown",
   "metadata": {},
   "source": [
    "\n",
    "## Add SQL query to access main_category and mean of duration of projects for Kickstarter and Indiegogo."
   ]
  },
  {
   "cell_type": "code",
   "execution_count": 12,
   "metadata": {},
   "outputs": [
    {
     "output_type": "display_data",
     "data": {
      "text/plain": "       main_category  duration\n0         Publishing        58\n1       Film & Video        59\n2       Film & Video        44\n3              Music        29\n4               Food        34\n...              ...       ...\n331548          Food        29\n331549  Film & Video        26\n331550  Film & Video        45\n331551    Technology        30\n331552           Art        27\n\n[331553 rows x 2 columns]",
      "text/html": "<div>\n<style scoped>\n    .dataframe tbody tr th:only-of-type {\n        vertical-align: middle;\n    }\n\n    .dataframe tbody tr th {\n        vertical-align: top;\n    }\n\n    .dataframe thead th {\n        text-align: right;\n    }\n</style>\n<table border=\"1\" class=\"dataframe\">\n  <thead>\n    <tr style=\"text-align: right;\">\n      <th></th>\n      <th>main_category</th>\n      <th>duration</th>\n    </tr>\n  </thead>\n  <tbody>\n    <tr>\n      <th>0</th>\n      <td>Publishing</td>\n      <td>58</td>\n    </tr>\n    <tr>\n      <th>1</th>\n      <td>Film &amp; Video</td>\n      <td>59</td>\n    </tr>\n    <tr>\n      <th>2</th>\n      <td>Film &amp; Video</td>\n      <td>44</td>\n    </tr>\n    <tr>\n      <th>3</th>\n      <td>Music</td>\n      <td>29</td>\n    </tr>\n    <tr>\n      <th>4</th>\n      <td>Food</td>\n      <td>34</td>\n    </tr>\n    <tr>\n      <th>...</th>\n      <td>...</td>\n      <td>...</td>\n    </tr>\n    <tr>\n      <th>331548</th>\n      <td>Food</td>\n      <td>29</td>\n    </tr>\n    <tr>\n      <th>331549</th>\n      <td>Film &amp; Video</td>\n      <td>26</td>\n    </tr>\n    <tr>\n      <th>331550</th>\n      <td>Film &amp; Video</td>\n      <td>45</td>\n    </tr>\n    <tr>\n      <th>331551</th>\n      <td>Technology</td>\n      <td>30</td>\n    </tr>\n    <tr>\n      <th>331552</th>\n      <td>Art</td>\n      <td>27</td>\n    </tr>\n  </tbody>\n</table>\n<p>331553 rows × 2 columns</p>\n</div>"
     },
     "metadata": {}
    },
    {
     "output_type": "display_data",
     "data": {
      "text/plain": "      main_category  duration\n0        Technology        21\n1        Journalism        22\n2        Journalism        22\n3       Photography        30\n4        Journalism       120\n...             ...       ...\n16643  Film & Video        45\n16644         Music        30\n16645    Technology        60\n16646           Art        15\n16647           Art        15\n\n[16648 rows x 2 columns]",
      "text/html": "<div>\n<style scoped>\n    .dataframe tbody tr th:only-of-type {\n        vertical-align: middle;\n    }\n\n    .dataframe tbody tr th {\n        vertical-align: top;\n    }\n\n    .dataframe thead th {\n        text-align: right;\n    }\n</style>\n<table border=\"1\" class=\"dataframe\">\n  <thead>\n    <tr style=\"text-align: right;\">\n      <th></th>\n      <th>main_category</th>\n      <th>duration</th>\n    </tr>\n  </thead>\n  <tbody>\n    <tr>\n      <th>0</th>\n      <td>Technology</td>\n      <td>21</td>\n    </tr>\n    <tr>\n      <th>1</th>\n      <td>Journalism</td>\n      <td>22</td>\n    </tr>\n    <tr>\n      <th>2</th>\n      <td>Journalism</td>\n      <td>22</td>\n    </tr>\n    <tr>\n      <th>3</th>\n      <td>Photography</td>\n      <td>30</td>\n    </tr>\n    <tr>\n      <th>4</th>\n      <td>Journalism</td>\n      <td>120</td>\n    </tr>\n    <tr>\n      <th>...</th>\n      <td>...</td>\n      <td>...</td>\n    </tr>\n    <tr>\n      <th>16643</th>\n      <td>Film &amp; Video</td>\n      <td>45</td>\n    </tr>\n    <tr>\n      <th>16644</th>\n      <td>Music</td>\n      <td>30</td>\n    </tr>\n    <tr>\n      <th>16645</th>\n      <td>Technology</td>\n      <td>60</td>\n    </tr>\n    <tr>\n      <th>16646</th>\n      <td>Art</td>\n      <td>15</td>\n    </tr>\n    <tr>\n      <th>16647</th>\n      <td>Art</td>\n      <td>15</td>\n    </tr>\n  </tbody>\n</table>\n<p>16648 rows × 2 columns</p>\n</div>"
     },
     "metadata": {}
    }
   ],
   "source": [
    "# Create a SQL query to get the main_category and duration of the Kickstarter Large dataframe.\n",
    "query_ks = \"\"\"\n",
    "SELECT main_category, duration\n",
    "FROM kickstarter_large\n",
    "\"\"\"\n",
    "query_indiegogo = \"\"\"\n",
    "SELECT main_category, duration\n",
    "FROM indie_gogo\n",
    "\"\"\"\n",
    "\n",
    "# This will let us read the query we applied earlier to create a dataframe.\n",
    "ks_large_duration_dataframe = pd.read_sql_query(\n",
    "    query_ks, \n",
    "    con= engine)\n",
    "display(ks_large_duration_dataframe)\n",
    "\n",
    "indiegogo_duration_dataframe = pd.read_sql_query(\n",
    "    query_indiegogo, \n",
    "    con= engine)\n",
    "display(indiegogo_duration_dataframe)"
   ]
  },
  {
   "cell_type": "code",
   "execution_count": 13,
   "metadata": {},
   "outputs": [
    {
     "output_type": "execute_result",
     "data": {
      "text/plain": [
       "   main_category  average_duration_days\n",
       "0          Music              34.304318\n",
       "1     Technology              34.263891\n",
       "2   Film & Video              34.009856\n",
       "3     Journalism              33.250482\n",
       "4         Design              33.138903\n",
       "5           Food              32.896073\n",
       "6         Comics              32.846629\n",
       "7     Publishing              32.728632\n",
       "8    Photography              32.514914\n",
       "9        Theater              32.313122\n",
       "10         Dance              31.813322\n",
       "11       Fashion              31.613027\n",
       "12           Art              31.332670\n",
       "13         Games              31.218295\n",
       "14        Crafts              30.447429"
      ],
      "text/html": "<div>\n<style scoped>\n    .dataframe tbody tr th:only-of-type {\n        vertical-align: middle;\n    }\n\n    .dataframe tbody tr th {\n        vertical-align: top;\n    }\n\n    .dataframe thead th {\n        text-align: right;\n    }\n</style>\n<table border=\"1\" class=\"dataframe\">\n  <thead>\n    <tr style=\"text-align: right;\">\n      <th></th>\n      <th>main_category</th>\n      <th>average_duration_days</th>\n    </tr>\n  </thead>\n  <tbody>\n    <tr>\n      <th>0</th>\n      <td>Music</td>\n      <td>34.304318</td>\n    </tr>\n    <tr>\n      <th>1</th>\n      <td>Technology</td>\n      <td>34.263891</td>\n    </tr>\n    <tr>\n      <th>2</th>\n      <td>Film &amp; Video</td>\n      <td>34.009856</td>\n    </tr>\n    <tr>\n      <th>3</th>\n      <td>Journalism</td>\n      <td>33.250482</td>\n    </tr>\n    <tr>\n      <th>4</th>\n      <td>Design</td>\n      <td>33.138903</td>\n    </tr>\n    <tr>\n      <th>5</th>\n      <td>Food</td>\n      <td>32.896073</td>\n    </tr>\n    <tr>\n      <th>6</th>\n      <td>Comics</td>\n      <td>32.846629</td>\n    </tr>\n    <tr>\n      <th>7</th>\n      <td>Publishing</td>\n      <td>32.728632</td>\n    </tr>\n    <tr>\n      <th>8</th>\n      <td>Photography</td>\n      <td>32.514914</td>\n    </tr>\n    <tr>\n      <th>9</th>\n      <td>Theater</td>\n      <td>32.313122</td>\n    </tr>\n    <tr>\n      <th>10</th>\n      <td>Dance</td>\n      <td>31.813322</td>\n    </tr>\n    <tr>\n      <th>11</th>\n      <td>Fashion</td>\n      <td>31.613027</td>\n    </tr>\n    <tr>\n      <th>12</th>\n      <td>Art</td>\n      <td>31.332670</td>\n    </tr>\n    <tr>\n      <th>13</th>\n      <td>Games</td>\n      <td>31.218295</td>\n    </tr>\n    <tr>\n      <th>14</th>\n      <td>Crafts</td>\n      <td>30.447429</td>\n    </tr>\n  </tbody>\n</table>\n</div>"
     },
     "metadata": {},
     "execution_count": 13
    }
   ],
   "source": [
    "# Create a SQL query to get the main_category and \n",
    "# duration of the Kickstarter Large dataframe and \n",
    "# group them by main_category and get its average duration days.\n",
    "query=\"\"\"SELECT\n",
    "   main_category, AVG(duration) AS average_duration_days\n",
    "FROM\n",
    "  kickstarter_large\n",
    "GROUP BY\n",
    "  main_category\n",
    "ORDER BY \n",
    "    AVG(duration) DESC,\n",
    "    main_category DESC;\n",
    "\"\"\"\n",
    "# This will let us read the query we applied earlier to create a dataframe.\n",
    "ks_large_groupby_maincategory_df = pd.read_sql_query(\n",
    "    query, \n",
    "    con= engine)\n",
    "ks_large_groupby_maincategory_df\n"
   ]
  },
  {
   "cell_type": "code",
   "execution_count": 14,
   "metadata": {},
   "outputs": [
    {
     "output_type": "display_data",
     "data": {},
     "metadata": {}
    },
    {
     "output_type": "execute_result",
     "data": {
      "text/html": "<div id='1002'>\n\n\n\n\n\n  <div class=\"bk-root\" id=\"069a825e-c9d0-4129-a64b-49ea4021fde2\" data-root-id=\"1002\"></div>\n</div>\n<script type=\"application/javascript\">(function(root) {\n  function embed_document(root) {\n    var docs_json = {\"aecad1e0-5989-484b-a965-0e73bd1cf8c1\":{\"defs\":[],\"roots\":{\"references\":[{\"attributes\":{},\"id\":\"1048\",\"type\":\"CategoricalTickFormatter\"},{\"attributes\":{},\"id\":\"1060\",\"type\":\"UnionRenderers\"},{\"attributes\":{\"data_source\":{\"id\":\"1036\"},\"glyph\":{\"id\":\"1039\"},\"hover_glyph\":{\"id\":\"1041\"},\"muted_glyph\":{\"id\":\"1042\"},\"nonselection_glyph\":{\"id\":\"1040\"},\"selection_glyph\":{\"id\":\"1045\"},\"view\":{\"id\":\"1044\"}},\"id\":\"1043\",\"type\":\"GlyphRenderer\"},{\"attributes\":{},\"id\":\"1024\",\"type\":\"PanTool\"},{\"attributes\":{\"below\":[{\"id\":\"1016\"}],\"center\":[{\"id\":\"1018\"},{\"id\":\"1022\"}],\"height\":300,\"left\":[{\"id\":\"1019\"}],\"margin\":[5,5,5,5],\"min_border_bottom\":10,\"min_border_left\":10,\"min_border_right\":10,\"min_border_top\":10,\"renderers\":[{\"id\":\"1043\"}],\"sizing_mode\":\"fixed\",\"title\":{\"id\":\"1008\"},\"toolbar\":{\"id\":\"1029\"},\"width\":700,\"x_range\":{\"id\":\"1004\"},\"x_scale\":{\"id\":\"1012\"},\"y_range\":{\"id\":\"1005\"},\"y_scale\":{\"id\":\"1014\"}},\"id\":\"1007\",\"subtype\":\"Figure\",\"type\":\"Plot\"},{\"attributes\":{},\"id\":\"1020\",\"type\":\"BasicTicker\"},{\"attributes\":{\"margin\":[5,5,5,5],\"name\":\"HSpacer01629\",\"sizing_mode\":\"stretch_width\"},\"id\":\"1003\",\"type\":\"Spacer\"},{\"attributes\":{},\"id\":\"1027\",\"type\":\"ResetTool\"},{\"attributes\":{\"axis_label\":\"average_duration_days\",\"formatter\":{\"id\":\"1051\"},\"major_label_policy\":{\"id\":\"1050\"},\"ticker\":{\"id\":\"1020\"}},\"id\":\"1019\",\"type\":\"LinearAxis\"},{\"attributes\":{\"text\":\"Kickstarter's Average Duration Days of Each Main Category\",\"text_color\":\"black\",\"text_font_size\":\"12pt\"},\"id\":\"1008\",\"type\":\"Title\"},{\"attributes\":{\"bottom\":{\"value\":0},\"fill_alpha\":{\"value\":1.0},\"fill_color\":{\"value\":\"green\"},\"hatch_alpha\":{\"value\":1.0},\"hatch_color\":{\"value\":\"black\"},\"hatch_scale\":{\"value\":12.0},\"hatch_weight\":{\"value\":1.0},\"line_alpha\":{\"value\":1.0},\"line_cap\":{\"value\":\"butt\"},\"line_color\":{\"value\":\"black\"},\"line_dash\":{\"value\":[]},\"line_dash_offset\":{\"value\":0},\"line_join\":{\"value\":\"bevel\"},\"line_width\":{\"value\":1},\"top\":{\"field\":\"average_duration_days\"},\"width\":{\"value\":0.8},\"x\":{\"field\":\"main_category\"}},\"id\":\"1045\",\"type\":\"VBar\"},{\"attributes\":{\"end\":35.0,\"reset_end\":35.0,\"reset_start\":30.0,\"start\":30.0,\"tags\":[[[\"average_duration_days\",\"average_duration_days\",null]]]},\"id\":\"1005\",\"type\":\"Range1d\"},{\"attributes\":{},\"id\":\"1025\",\"type\":\"WheelZoomTool\"},{\"attributes\":{\"axis_label\":\"main_category\",\"formatter\":{\"id\":\"1048\"},\"major_label_orientation\":1.0471975511965976,\"major_label_policy\":{\"id\":\"1047\"},\"ticker\":{\"id\":\"1017\"}},\"id\":\"1016\",\"type\":\"CategoricalAxis\"},{\"attributes\":{\"fill_color\":{\"value\":\"orange\"},\"line_color\":{\"value\":\"orange\"},\"top\":{\"field\":\"average_duration_days\"},\"width\":{\"value\":0.8},\"x\":{\"field\":\"main_category\"}},\"id\":\"1041\",\"type\":\"VBar\"},{\"attributes\":{\"active_multi\":null,\"tools\":[{\"id\":\"1006\"},{\"id\":\"1023\"},{\"id\":\"1024\"},{\"id\":\"1025\"},{\"id\":\"1026\"},{\"id\":\"1027\"}]},\"id\":\"1029\",\"type\":\"Toolbar\"},{\"attributes\":{\"source\":{\"id\":\"1036\"}},\"id\":\"1044\",\"type\":\"CDSView\"},{\"attributes\":{\"overlay\":{\"id\":\"1028\"}},\"id\":\"1026\",\"type\":\"BoxZoomTool\"},{\"attributes\":{\"callback\":null,\"renderers\":[{\"id\":\"1043\"}],\"tags\":[\"hv_created\"],\"tooltips\":[[\"main_category\",\"@{main_category}\"],[\"average_duration_days\",\"@{average_duration_days}\"]]},\"id\":\"1006\",\"type\":\"HoverTool\"},{\"attributes\":{\"children\":[{\"id\":\"1003\"},{\"id\":\"1007\"},{\"id\":\"1072\"}],\"margin\":[0,0,0,0],\"name\":\"Row01625\",\"tags\":[\"embedded\"]},\"id\":\"1002\",\"type\":\"Row\"},{\"attributes\":{\"data\":{\"average_duration_days\":{\"__ndarray__\":\"63sD6PMmQUCmIvsxxyFBQMNx0/VCAUFAo+GmzA+gQECHCOGTx5FAQCjOcIeyckBAHxC7VV5sQEA407jSQ11AQO8jMLLoQUBAvFRhZRQoQECY7zDhNdA/QNyH31nvnD9AJCsH4ilVP0D/hkAz4jc/QP0hJbWKcj5A\",\"dtype\":\"float64\",\"order\":\"little\",\"shape\":[15]},\"main_category\":[\"Music\",\"Technology\",\"Film & Video\",\"Journalism\",\"Design\",\"Food\",\"Comics\",\"Publishing\",\"Photography\",\"Theater\",\"Dance\",\"Fashion\",\"Art\",\"Games\",\"Crafts\"]},\"selected\":{\"id\":\"1037\"},\"selection_policy\":{\"id\":\"1060\"}},\"id\":\"1036\",\"type\":\"ColumnDataSource\"},{\"attributes\":{\"bottom_units\":\"screen\",\"fill_alpha\":0.5,\"fill_color\":\"lightgrey\",\"left_units\":\"screen\",\"level\":\"overlay\",\"line_alpha\":1.0,\"line_color\":\"black\",\"line_dash\":[4,4],\"line_width\":2,\"right_units\":\"screen\",\"syncable\":false,\"top_units\":\"screen\"},\"id\":\"1028\",\"type\":\"BoxAnnotation\"},{\"attributes\":{\"axis\":{\"id\":\"1016\"},\"grid_line_color\":null,\"ticker\":null},\"id\":\"1018\",\"type\":\"Grid\"},{\"attributes\":{\"fill_alpha\":{\"value\":0.2},\"fill_color\":{\"value\":\"green\"},\"line_alpha\":{\"value\":0.2},\"top\":{\"field\":\"average_duration_days\"},\"width\":{\"value\":0.8},\"x\":{\"field\":\"main_category\"}},\"id\":\"1042\",\"type\":\"VBar\"},{\"attributes\":{},\"id\":\"1037\",\"type\":\"Selection\"},{\"attributes\":{\"factors\":[\"Music\",\"Technology\",\"Film & Video\",\"Journalism\",\"Design\",\"Food\",\"Comics\",\"Publishing\",\"Photography\",\"Theater\",\"Dance\",\"Fashion\",\"Art\",\"Games\",\"Crafts\"],\"tags\":[[[\"main_category\",\"main_category\",null]]]},\"id\":\"1004\",\"type\":\"FactorRange\"},{\"attributes\":{},\"id\":\"1014\",\"type\":\"LinearScale\"},{\"attributes\":{},\"id\":\"1047\",\"type\":\"AllLabels\"},{\"attributes\":{\"fill_alpha\":{\"value\":0.1},\"fill_color\":{\"value\":\"green\"},\"line_alpha\":{\"value\":0.1},\"top\":{\"field\":\"average_duration_days\"},\"width\":{\"value\":0.8},\"x\":{\"field\":\"main_category\"}},\"id\":\"1040\",\"type\":\"VBar\"},{\"attributes\":{},\"id\":\"1051\",\"type\":\"BasicTickFormatter\"},{\"attributes\":{},\"id\":\"1017\",\"type\":\"CategoricalTicker\"},{\"attributes\":{\"margin\":[5,5,5,5],\"name\":\"HSpacer01630\",\"sizing_mode\":\"stretch_width\"},\"id\":\"1072\",\"type\":\"Spacer\"},{\"attributes\":{\"fill_color\":{\"value\":\"green\"},\"top\":{\"field\":\"average_duration_days\"},\"width\":{\"value\":0.8},\"x\":{\"field\":\"main_category\"}},\"id\":\"1039\",\"type\":\"VBar\"},{\"attributes\":{},\"id\":\"1050\",\"type\":\"AllLabels\"},{\"attributes\":{},\"id\":\"1023\",\"type\":\"SaveTool\"},{\"attributes\":{},\"id\":\"1012\",\"type\":\"CategoricalScale\"},{\"attributes\":{\"axis\":{\"id\":\"1019\"},\"dimension\":1,\"grid_line_color\":null,\"ticker\":null},\"id\":\"1022\",\"type\":\"Grid\"}],\"root_ids\":[\"1002\"]},\"title\":\"Bokeh Application\",\"version\":\"2.3.2\"}};\n    var render_items = [{\"docid\":\"aecad1e0-5989-484b-a965-0e73bd1cf8c1\",\"root_ids\":[\"1002\"],\"roots\":{\"1002\":\"069a825e-c9d0-4129-a64b-49ea4021fde2\"}}];\n    root.Bokeh.embed.embed_items_notebook(docs_json, render_items);\n  }\n  if (root.Bokeh !== undefined && root.Bokeh.Panel !== undefined) {\n    embed_document(root);\n  } else {\n    var attempts = 0;\n    var timer = setInterval(function(root) {\n      if (root.Bokeh !== undefined && root.Bokeh.Panel !== undefined) {\n        clearInterval(timer);\n        embed_document(root);\n      } else if (document.readyState == \"complete\") {\n        attempts++;\n        if (attempts > 100) {\n          clearInterval(timer);\n          console.log(\"Bokeh: ERROR: Unable to run BokehJS code because BokehJS library is missing\");\n        }\n      }\n    }, 10, root)\n  }\n})(window);</script>",
      "application/vnd.holoviews_exec.v0+json": "",
      "text/plain": [
       ":Bars   [main_category]   (average_duration_days)"
      ]
     },
     "metadata": {
      "application/vnd.holoviews_exec.v0+json": {
       "id": "1002"
      }
     },
     "execution_count": 14
    }
   ],
   "source": [
    "# This will create a bar plot to visualize the average duration of \n",
    "# the projects per main category in Kickstarter.\n",
    "\n",
    "ks_lrg_duration_hvplot = ks_large_groupby_maincategory_df.hvplot(kind='bar',\n",
    "                                            x='main_category',\n",
    "                                            ylim=(30.0,35.0),\n",
    "                                            rot=60,\n",
    "                                            title=\"Kickstarter's Average Duration Days of Each Main Category\",\n",
    "                                            hover_color= 'orange',\n",
    "                                            color = 'green'\n",
    "                                            )\n",
    "ks_lrg_duration_hvplot"
   ]
  },
  {
   "cell_type": "code",
   "execution_count": 15,
   "metadata": {},
   "outputs": [
    {
     "output_type": "execute_result",
     "data": {
      "text/plain": [
       "  main_category  average_duration_days\n",
       "0         Music              44.907253\n",
       "1       Theater              43.449344\n",
       "2  Film & Video              43.047440\n",
       "3           Art              42.995209\n",
       "4          Food              42.957477\n",
       "5    Journalism              42.701617\n",
       "6   Photography              42.412358\n",
       "7    Technology              38.403406\n",
       "8         Games              36.235252"
      ],
      "text/html": "<div>\n<style scoped>\n    .dataframe tbody tr th:only-of-type {\n        vertical-align: middle;\n    }\n\n    .dataframe tbody tr th {\n        vertical-align: top;\n    }\n\n    .dataframe thead th {\n        text-align: right;\n    }\n</style>\n<table border=\"1\" class=\"dataframe\">\n  <thead>\n    <tr style=\"text-align: right;\">\n      <th></th>\n      <th>main_category</th>\n      <th>average_duration_days</th>\n    </tr>\n  </thead>\n  <tbody>\n    <tr>\n      <th>0</th>\n      <td>Music</td>\n      <td>44.907253</td>\n    </tr>\n    <tr>\n      <th>1</th>\n      <td>Theater</td>\n      <td>43.449344</td>\n    </tr>\n    <tr>\n      <th>2</th>\n      <td>Film &amp; Video</td>\n      <td>43.047440</td>\n    </tr>\n    <tr>\n      <th>3</th>\n      <td>Art</td>\n      <td>42.995209</td>\n    </tr>\n    <tr>\n      <th>4</th>\n      <td>Food</td>\n      <td>42.957477</td>\n    </tr>\n    <tr>\n      <th>5</th>\n      <td>Journalism</td>\n      <td>42.701617</td>\n    </tr>\n    <tr>\n      <th>6</th>\n      <td>Photography</td>\n      <td>42.412358</td>\n    </tr>\n    <tr>\n      <th>7</th>\n      <td>Technology</td>\n      <td>38.403406</td>\n    </tr>\n    <tr>\n      <th>8</th>\n      <td>Games</td>\n      <td>36.235252</td>\n    </tr>\n  </tbody>\n</table>\n</div>"
     },
     "metadata": {},
     "execution_count": 15
    }
   ],
   "source": [
    "# Create a SQL query to get the main_category and \n",
    "# duration of the Indiegogo  dataframe and \n",
    "# group them by main_category and get its average duration days.\n",
    "query=\"\"\"SELECT\n",
    "   main_category, AVG(duration) AS average_duration_days\n",
    "FROM\n",
    "  indie_gogo\n",
    "GROUP BY\n",
    "  main_category\n",
    "ORDER BY \n",
    "    AVG(duration) DESC,\n",
    "    main_category DESC;\n",
    "\"\"\"\n",
    "# This will let us read the query we applied earlier to create a dataframe.\n",
    "indiegogo_groupby_maincategory_df = pd.read_sql_query(\n",
    "    query, \n",
    "    con= engine)\n",
    "indiegogo_groupby_maincategory_df"
   ]
  },
  {
   "cell_type": "code",
   "execution_count": 16,
   "metadata": {},
   "outputs": [
    {
     "output_type": "display_data",
     "data": {},
     "metadata": {}
    },
    {
     "output_type": "execute_result",
     "data": {
      "text/html": "<div id='1124'>\n\n\n\n\n\n  <div class=\"bk-root\" id=\"59ff6f2c-1344-4e01-9bec-b7e7d8de3c7b\" data-root-id=\"1124\"></div>\n</div>\n<script type=\"application/javascript\">(function(root) {\n  function embed_document(root) {\n    var docs_json = {\"ad2536df-1297-402c-9642-93831f318136\":{\"defs\":[],\"roots\":{\"references\":[{\"attributes\":{},\"id\":\"1182\",\"type\":\"UnionRenderers\"},{\"attributes\":{},\"id\":\"1136\",\"type\":\"LinearScale\"},{\"attributes\":{\"text\":\"Indiegogo's Average Duration Days of Each Main Category\",\"text_color\":\"black\",\"text_font_size\":\"12pt\"},\"id\":\"1130\",\"type\":\"Title\"},{\"attributes\":{\"fill_color\":{\"value\":\"orange\"},\"line_color\":{\"value\":\"orange\"},\"top\":{\"field\":\"average_duration_days\"},\"width\":{\"value\":0.8},\"x\":{\"field\":\"main_category\"}},\"id\":\"1163\",\"type\":\"VBar\"},{\"attributes\":{},\"id\":\"1169\",\"type\":\"AllLabels\"},{\"attributes\":{\"fill_color\":{\"value\":\"magenta\"},\"top\":{\"field\":\"average_duration_days\"},\"width\":{\"value\":0.8},\"x\":{\"field\":\"main_category\"}},\"id\":\"1161\",\"type\":\"VBar\"},{\"attributes\":{},\"id\":\"1139\",\"type\":\"CategoricalTicker\"},{\"attributes\":{\"fill_alpha\":{\"value\":0.1},\"fill_color\":{\"value\":\"magenta\"},\"line_alpha\":{\"value\":0.1},\"top\":{\"field\":\"average_duration_days\"},\"width\":{\"value\":0.8},\"x\":{\"field\":\"main_category\"}},\"id\":\"1162\",\"type\":\"VBar\"},{\"attributes\":{\"below\":[{\"id\":\"1138\"}],\"center\":[{\"id\":\"1140\"},{\"id\":\"1144\"}],\"height\":300,\"left\":[{\"id\":\"1141\"}],\"margin\":[5,5,5,5],\"min_border_bottom\":10,\"min_border_left\":10,\"min_border_right\":10,\"min_border_top\":10,\"renderers\":[{\"id\":\"1165\"}],\"sizing_mode\":\"fixed\",\"title\":{\"id\":\"1130\"},\"toolbar\":{\"id\":\"1151\"},\"width\":700,\"x_range\":{\"id\":\"1126\"},\"x_scale\":{\"id\":\"1134\"},\"y_range\":{\"id\":\"1127\"},\"y_scale\":{\"id\":\"1136\"}},\"id\":\"1129\",\"subtype\":\"Figure\",\"type\":\"Plot\"},{\"attributes\":{\"axis\":{\"id\":\"1141\"},\"dimension\":1,\"grid_line_color\":null,\"ticker\":null},\"id\":\"1144\",\"type\":\"Grid\"},{\"attributes\":{},\"id\":\"1145\",\"type\":\"SaveTool\"},{\"attributes\":{},\"id\":\"1173\",\"type\":\"BasicTickFormatter\"},{\"attributes\":{\"end\":49.0,\"reset_end\":49.0,\"reset_start\":20,\"start\":20,\"tags\":[[[\"average_duration_days\",\"average_duration_days\",null]]]},\"id\":\"1127\",\"type\":\"Range1d\"},{\"attributes\":{},\"id\":\"1134\",\"type\":\"CategoricalScale\"},{\"attributes\":{},\"id\":\"1147\",\"type\":\"WheelZoomTool\"},{\"attributes\":{},\"id\":\"1142\",\"type\":\"BasicTicker\"},{\"attributes\":{},\"id\":\"1170\",\"type\":\"CategoricalTickFormatter\"},{\"attributes\":{\"margin\":[5,5,5,5],\"name\":\"HSpacer01779\",\"sizing_mode\":\"stretch_width\"},\"id\":\"1125\",\"type\":\"Spacer\"},{\"attributes\":{},\"id\":\"1146\",\"type\":\"PanTool\"},{\"attributes\":{\"axis_label\":\"average_duration_days\",\"formatter\":{\"id\":\"1173\"},\"major_label_policy\":{\"id\":\"1172\"},\"ticker\":{\"id\":\"1142\"}},\"id\":\"1141\",\"type\":\"LinearAxis\"},{\"attributes\":{\"active_multi\":null,\"tools\":[{\"id\":\"1128\"},{\"id\":\"1145\"},{\"id\":\"1146\"},{\"id\":\"1147\"},{\"id\":\"1148\"},{\"id\":\"1149\"}]},\"id\":\"1151\",\"type\":\"Toolbar\"},{\"attributes\":{},\"id\":\"1149\",\"type\":\"ResetTool\"},{\"attributes\":{\"overlay\":{\"id\":\"1150\"}},\"id\":\"1148\",\"type\":\"BoxZoomTool\"},{\"attributes\":{\"data\":{\"average_duration_days\":{\"__ndarray__\":\"pL0J4CB0RkAtNIMehLlFQEJYgoQShkVAmQutAmN/RUDBGyqYjnpFQBQH55bOWUVA3yy9Jsg0RUDZeXzSojNDQKieaL8cHkJA\",\"dtype\":\"float64\",\"order\":\"little\",\"shape\":[9]},\"main_category\":[\"Music\",\"Theater\",\"Film & Video\",\"Art\",\"Food\",\"Journalism\",\"Photography\",\"Technology\",\"Games\"]},\"selected\":{\"id\":\"1159\"},\"selection_policy\":{\"id\":\"1182\"}},\"id\":\"1158\",\"type\":\"ColumnDataSource\"},{\"attributes\":{},\"id\":\"1159\",\"type\":\"Selection\"},{\"attributes\":{\"axis_label\":\"main_category\",\"formatter\":{\"id\":\"1170\"},\"major_label_orientation\":1.0471975511965976,\"major_label_policy\":{\"id\":\"1169\"},\"ticker\":{\"id\":\"1139\"}},\"id\":\"1138\",\"type\":\"CategoricalAxis\"},{\"attributes\":{\"bottom\":{\"value\":0},\"fill_alpha\":{\"value\":1.0},\"fill_color\":{\"value\":\"magenta\"},\"hatch_alpha\":{\"value\":1.0},\"hatch_color\":{\"value\":\"black\"},\"hatch_scale\":{\"value\":12.0},\"hatch_weight\":{\"value\":1.0},\"line_alpha\":{\"value\":1.0},\"line_cap\":{\"value\":\"butt\"},\"line_color\":{\"value\":\"black\"},\"line_dash\":{\"value\":[]},\"line_dash_offset\":{\"value\":0},\"line_join\":{\"value\":\"bevel\"},\"line_width\":{\"value\":1},\"top\":{\"field\":\"average_duration_days\"},\"width\":{\"value\":0.8},\"x\":{\"field\":\"main_category\"}},\"id\":\"1167\",\"type\":\"VBar\"},{\"attributes\":{\"callback\":null,\"renderers\":[{\"id\":\"1165\"}],\"tags\":[\"hv_created\"],\"tooltips\":[[\"main_category\",\"@{main_category}\"],[\"average_duration_days\",\"@{average_duration_days}\"]]},\"id\":\"1128\",\"type\":\"HoverTool\"},{\"attributes\":{\"axis\":{\"id\":\"1138\"},\"grid_line_color\":null,\"ticker\":null},\"id\":\"1140\",\"type\":\"Grid\"},{\"attributes\":{\"source\":{\"id\":\"1158\"}},\"id\":\"1166\",\"type\":\"CDSView\"},{\"attributes\":{\"data_source\":{\"id\":\"1158\"},\"glyph\":{\"id\":\"1161\"},\"hover_glyph\":{\"id\":\"1163\"},\"muted_glyph\":{\"id\":\"1164\"},\"nonselection_glyph\":{\"id\":\"1162\"},\"selection_glyph\":{\"id\":\"1167\"},\"view\":{\"id\":\"1166\"}},\"id\":\"1165\",\"type\":\"GlyphRenderer\"},{\"attributes\":{\"children\":[{\"id\":\"1125\"},{\"id\":\"1129\"},{\"id\":\"1194\"}],\"margin\":[0,0,0,0],\"name\":\"Row01775\",\"tags\":[\"embedded\"]},\"id\":\"1124\",\"type\":\"Row\"},{\"attributes\":{\"margin\":[5,5,5,5],\"name\":\"HSpacer01780\",\"sizing_mode\":\"stretch_width\"},\"id\":\"1194\",\"type\":\"Spacer\"},{\"attributes\":{\"factors\":[\"Music\",\"Theater\",\"Film & Video\",\"Art\",\"Food\",\"Journalism\",\"Photography\",\"Technology\",\"Games\"],\"tags\":[[[\"main_category\",\"main_category\",null]]]},\"id\":\"1126\",\"type\":\"FactorRange\"},{\"attributes\":{\"fill_alpha\":{\"value\":0.2},\"fill_color\":{\"value\":\"magenta\"},\"line_alpha\":{\"value\":0.2},\"top\":{\"field\":\"average_duration_days\"},\"width\":{\"value\":0.8},\"x\":{\"field\":\"main_category\"}},\"id\":\"1164\",\"type\":\"VBar\"},{\"attributes\":{},\"id\":\"1172\",\"type\":\"AllLabels\"},{\"attributes\":{\"bottom_units\":\"screen\",\"fill_alpha\":0.5,\"fill_color\":\"lightgrey\",\"left_units\":\"screen\",\"level\":\"overlay\",\"line_alpha\":1.0,\"line_color\":\"black\",\"line_dash\":[4,4],\"line_width\":2,\"right_units\":\"screen\",\"syncable\":false,\"top_units\":\"screen\"},\"id\":\"1150\",\"type\":\"BoxAnnotation\"}],\"root_ids\":[\"1124\"]},\"title\":\"Bokeh Application\",\"version\":\"2.3.2\"}};\n    var render_items = [{\"docid\":\"ad2536df-1297-402c-9642-93831f318136\",\"root_ids\":[\"1124\"],\"roots\":{\"1124\":\"59ff6f2c-1344-4e01-9bec-b7e7d8de3c7b\"}}];\n    root.Bokeh.embed.embed_items_notebook(docs_json, render_items);\n  }\n  if (root.Bokeh !== undefined && root.Bokeh.Panel !== undefined) {\n    embed_document(root);\n  } else {\n    var attempts = 0;\n    var timer = setInterval(function(root) {\n      if (root.Bokeh !== undefined && root.Bokeh.Panel !== undefined) {\n        clearInterval(timer);\n        embed_document(root);\n      } else if (document.readyState == \"complete\") {\n        attempts++;\n        if (attempts > 100) {\n          clearInterval(timer);\n          console.log(\"Bokeh: ERROR: Unable to run BokehJS code because BokehJS library is missing\");\n        }\n      }\n    }, 10, root)\n  }\n})(window);</script>",
      "application/vnd.holoviews_exec.v0+json": "",
      "text/plain": [
       ":Bars   [main_category]   (average_duration_days)"
      ]
     },
     "metadata": {
      "application/vnd.holoviews_exec.v0+json": {
       "id": "1124"
      }
     },
     "execution_count": 16
    }
   ],
   "source": [
    "# This will create a bar plot to visualize the average duration of the\n",
    "# projects per main category in Indiegogo.\n",
    "\n",
    "indiegogo_duration_hvplot = indiegogo_groupby_maincategory_df.hvplot(kind='bar',\n",
    "                                            x='main_category',\n",
    "                                            ylim=(20,49.0),\n",
    "                                            rot=60,\n",
    "                                            title=\"Indiegogo's Average Duration Days of Each Main Category\",\n",
    "                                            hover_color= 'orange',\n",
    "                                            color = 'magenta'\n",
    "                                            )\n",
    "indiegogo_duration_hvplot"
   ]
  },
  {
   "cell_type": "markdown",
   "metadata": {},
   "source": [
    "## Add SQL query to get the countries of Kickstarter and Indiegogo and get total the number of projects per country"
   ]
  },
  {
   "cell_type": "code",
   "execution_count": 17,
   "metadata": {},
   "outputs": [
    {
     "output_type": "execute_result",
     "data": {
      "text/plain": [
       "           Country  Total_number_of_projects        lat        long\n",
       "0    United States                    261431  37.090240  -95.712891\n",
       "1   United Kingdom                     29462  55.378051   -3.435973\n",
       "2           Canada                     12372  56.130366 -106.346771\n",
       "3        Australia                      6620 -25.274398  133.775136\n",
       "4          Germany                      3436  51.165691   10.451526\n",
       "5           France                      2520  46.227638    2.213749\n",
       "6      Netherlands                      2411  52.132633    5.291266\n",
       "7            Italy                      2369  41.871940   12.567380\n",
       "8            Spain                      1873  40.463667   -3.749220\n",
       "9           Sweden                      1510  60.128161   18.643501\n",
       "10          Mexico                      1411  23.634501 -102.552784\n",
       "11     New Zealand                      1274 -40.900557  174.885971\n",
       "12         Denmark                       927  56.263920    9.501785\n",
       "13         Ireland                       683  53.412910   -8.243890\n",
       "14     Switzerland                       652  46.818188    8.227512\n",
       "15          Norway                       583  60.472024    8.468946\n",
       "16         Belgium                       523  50.503887    4.469936\n",
       "17         Austria                       485  47.516231   14.550072\n",
       "18       Hong Kong                       477  22.396428  114.109497\n",
       "19       Singapore                       454   1.352083  103.819836\n",
       "20      Luxembourg                        57  49.815273    6.129583\n",
       "21           Japan                        23  36.204824  138.252924"
      ],
      "text/html": "<div>\n<style scoped>\n    .dataframe tbody tr th:only-of-type {\n        vertical-align: middle;\n    }\n\n    .dataframe tbody tr th {\n        vertical-align: top;\n    }\n\n    .dataframe thead th {\n        text-align: right;\n    }\n</style>\n<table border=\"1\" class=\"dataframe\">\n  <thead>\n    <tr style=\"text-align: right;\">\n      <th></th>\n      <th>Country</th>\n      <th>Total_number_of_projects</th>\n      <th>lat</th>\n      <th>long</th>\n    </tr>\n  </thead>\n  <tbody>\n    <tr>\n      <th>0</th>\n      <td>United States</td>\n      <td>261431</td>\n      <td>37.090240</td>\n      <td>-95.712891</td>\n    </tr>\n    <tr>\n      <th>1</th>\n      <td>United Kingdom</td>\n      <td>29462</td>\n      <td>55.378051</td>\n      <td>-3.435973</td>\n    </tr>\n    <tr>\n      <th>2</th>\n      <td>Canada</td>\n      <td>12372</td>\n      <td>56.130366</td>\n      <td>-106.346771</td>\n    </tr>\n    <tr>\n      <th>3</th>\n      <td>Australia</td>\n      <td>6620</td>\n      <td>-25.274398</td>\n      <td>133.775136</td>\n    </tr>\n    <tr>\n      <th>4</th>\n      <td>Germany</td>\n      <td>3436</td>\n      <td>51.165691</td>\n      <td>10.451526</td>\n    </tr>\n    <tr>\n      <th>5</th>\n      <td>France</td>\n      <td>2520</td>\n      <td>46.227638</td>\n      <td>2.213749</td>\n    </tr>\n    <tr>\n      <th>6</th>\n      <td>Netherlands</td>\n      <td>2411</td>\n      <td>52.132633</td>\n      <td>5.291266</td>\n    </tr>\n    <tr>\n      <th>7</th>\n      <td>Italy</td>\n      <td>2369</td>\n      <td>41.871940</td>\n      <td>12.567380</td>\n    </tr>\n    <tr>\n      <th>8</th>\n      <td>Spain</td>\n      <td>1873</td>\n      <td>40.463667</td>\n      <td>-3.749220</td>\n    </tr>\n    <tr>\n      <th>9</th>\n      <td>Sweden</td>\n      <td>1510</td>\n      <td>60.128161</td>\n      <td>18.643501</td>\n    </tr>\n    <tr>\n      <th>10</th>\n      <td>Mexico</td>\n      <td>1411</td>\n      <td>23.634501</td>\n      <td>-102.552784</td>\n    </tr>\n    <tr>\n      <th>11</th>\n      <td>New Zealand</td>\n      <td>1274</td>\n      <td>-40.900557</td>\n      <td>174.885971</td>\n    </tr>\n    <tr>\n      <th>12</th>\n      <td>Denmark</td>\n      <td>927</td>\n      <td>56.263920</td>\n      <td>9.501785</td>\n    </tr>\n    <tr>\n      <th>13</th>\n      <td>Ireland</td>\n      <td>683</td>\n      <td>53.412910</td>\n      <td>-8.243890</td>\n    </tr>\n    <tr>\n      <th>14</th>\n      <td>Switzerland</td>\n      <td>652</td>\n      <td>46.818188</td>\n      <td>8.227512</td>\n    </tr>\n    <tr>\n      <th>15</th>\n      <td>Norway</td>\n      <td>583</td>\n      <td>60.472024</td>\n      <td>8.468946</td>\n    </tr>\n    <tr>\n      <th>16</th>\n      <td>Belgium</td>\n      <td>523</td>\n      <td>50.503887</td>\n      <td>4.469936</td>\n    </tr>\n    <tr>\n      <th>17</th>\n      <td>Austria</td>\n      <td>485</td>\n      <td>47.516231</td>\n      <td>14.550072</td>\n    </tr>\n    <tr>\n      <th>18</th>\n      <td>Hong Kong</td>\n      <td>477</td>\n      <td>22.396428</td>\n      <td>114.109497</td>\n    </tr>\n    <tr>\n      <th>19</th>\n      <td>Singapore</td>\n      <td>454</td>\n      <td>1.352083</td>\n      <td>103.819836</td>\n    </tr>\n    <tr>\n      <th>20</th>\n      <td>Luxembourg</td>\n      <td>57</td>\n      <td>49.815273</td>\n      <td>6.129583</td>\n    </tr>\n    <tr>\n      <th>21</th>\n      <td>Japan</td>\n      <td>23</td>\n      <td>36.204824</td>\n      <td>138.252924</td>\n    </tr>\n  </tbody>\n</table>\n</div>"
     },
     "metadata": {},
     "execution_count": 17
    }
   ],
   "source": [
    "# Create a SQL query to get the total number of projects in Kickstarter Large dataframe per country.\n",
    "query_ks_country = \"\"\"\n",
    "SELECT full_country_names AS Country, COUNT (*) AS Total_number_of_projects, lat, long \n",
    "FROM kickstarter_large\n",
    "GROUP BY full_country_names\n",
    "ORDER BY\n",
    "    total_number_of_projects DESC;\n",
    "\"\"\"\n",
    "\n",
    "# This will let us read the query we applied earlier to create a dataframe.\n",
    "ks_country_total_df = pd.read_sql_query(\n",
    "    query_ks_country, \n",
    "    con= engine)\n",
    "ks_country_total_df"
   ]
  },
  {
   "cell_type": "code",
   "execution_count": 18,
   "metadata": {},
   "outputs": [
    {
     "output_type": "execute_result",
     "data": {
      "text/plain": [
       "           Country  Total_number_of_projects        lat        long\n",
       "0    United States                     12908  37.090240  -95.712891\n",
       "1       Luxembourg                      1324  49.815273    6.129583\n",
       "2   United Kingdom                      1244  55.378051   -3.435973\n",
       "3           Canada                       728  56.130366 -106.346771\n",
       "4        Australia                       234 -25.274398  133.775136\n",
       "5        Hong Kong                       144  22.396428  114.109497\n",
       "6        Singapore                        32   1.352083  103.819836\n",
       "7      Switzerland                        14  46.818188    8.227512\n",
       "8          Denmark                        11  56.263920    9.501785\n",
       "9           Sweden                         8  60.128161   18.643501\n",
       "10          Norway                         1  60.472024    8.468946"
      ],
      "text/html": "<div>\n<style scoped>\n    .dataframe tbody tr th:only-of-type {\n        vertical-align: middle;\n    }\n\n    .dataframe tbody tr th {\n        vertical-align: top;\n    }\n\n    .dataframe thead th {\n        text-align: right;\n    }\n</style>\n<table border=\"1\" class=\"dataframe\">\n  <thead>\n    <tr style=\"text-align: right;\">\n      <th></th>\n      <th>Country</th>\n      <th>Total_number_of_projects</th>\n      <th>lat</th>\n      <th>long</th>\n    </tr>\n  </thead>\n  <tbody>\n    <tr>\n      <th>0</th>\n      <td>United States</td>\n      <td>12908</td>\n      <td>37.090240</td>\n      <td>-95.712891</td>\n    </tr>\n    <tr>\n      <th>1</th>\n      <td>Luxembourg</td>\n      <td>1324</td>\n      <td>49.815273</td>\n      <td>6.129583</td>\n    </tr>\n    <tr>\n      <th>2</th>\n      <td>United Kingdom</td>\n      <td>1244</td>\n      <td>55.378051</td>\n      <td>-3.435973</td>\n    </tr>\n    <tr>\n      <th>3</th>\n      <td>Canada</td>\n      <td>728</td>\n      <td>56.130366</td>\n      <td>-106.346771</td>\n    </tr>\n    <tr>\n      <th>4</th>\n      <td>Australia</td>\n      <td>234</td>\n      <td>-25.274398</td>\n      <td>133.775136</td>\n    </tr>\n    <tr>\n      <th>5</th>\n      <td>Hong Kong</td>\n      <td>144</td>\n      <td>22.396428</td>\n      <td>114.109497</td>\n    </tr>\n    <tr>\n      <th>6</th>\n      <td>Singapore</td>\n      <td>32</td>\n      <td>1.352083</td>\n      <td>103.819836</td>\n    </tr>\n    <tr>\n      <th>7</th>\n      <td>Switzerland</td>\n      <td>14</td>\n      <td>46.818188</td>\n      <td>8.227512</td>\n    </tr>\n    <tr>\n      <th>8</th>\n      <td>Denmark</td>\n      <td>11</td>\n      <td>56.263920</td>\n      <td>9.501785</td>\n    </tr>\n    <tr>\n      <th>9</th>\n      <td>Sweden</td>\n      <td>8</td>\n      <td>60.128161</td>\n      <td>18.643501</td>\n    </tr>\n    <tr>\n      <th>10</th>\n      <td>Norway</td>\n      <td>1</td>\n      <td>60.472024</td>\n      <td>8.468946</td>\n    </tr>\n  </tbody>\n</table>\n</div>"
     },
     "metadata": {},
     "execution_count": 18
    }
   ],
   "source": [
    "# Create a SQL query to get the total number of projects in Kickstarter Large dataframe per country.\n",
    "query_indiegogo_country = \"\"\"\n",
    "SELECT full_country_names AS Country, COUNT (*) AS Total_number_of_projects, lat, long \n",
    "FROM indie_gogo\n",
    "GROUP BY full_country_names\n",
    "ORDER BY\n",
    "    total_number_of_projects DESC;\n",
    "\"\"\"\n",
    "\n",
    "# This will let us read the query we applied earlier to create a dataframe.\n",
    "indiegogo_country_total_df = pd.read_sql_query(\n",
    "    query_indiegogo_country, \n",
    "    con= engine)\n",
    "indiegogo_country_total_df"
   ]
  },
  {
   "cell_type": "markdown",
   "metadata": {},
   "source": [
    "## Create scatter mapbox plot for Kickstarter and Indiegogo countries and their respective total number of projects."
   ]
  },
  {
   "cell_type": "code",
   "execution_count": 19,
   "metadata": {},
   "outputs": [
    {
     "output_type": "display_data",
     "data": {
      "application/vnd.plotly.v1+json": {
       "config": {
        "plotlyServerURL": "https://plot.ly"
       },
       "data": [
        {
         "hovertemplate": "<b>%{hovertext}</b><br><br>Total_number_of_projects=%{marker.size}<br>lat=%{lat}<br>long=%{lon}<extra></extra>",
         "hovertext": [
          "United States",
          "United Kingdom",
          "Canada",
          "Australia",
          "Germany",
          "France",
          "Netherlands",
          "Italy",
          "Spain",
          "Sweden",
          "Mexico",
          "New Zealand",
          "Denmark",
          "Ireland",
          "Switzerland",
          "Norway",
          "Belgium",
          "Austria",
          "Hong Kong",
          "Singapore",
          "Luxembourg",
          "Japan"
         ],
         "lat": [
          37.09024,
          55.378051,
          56.130366,
          -25.274398,
          51.165691,
          46.227638,
          52.132633,
          41.87194,
          40.463667,
          60.128161,
          23.634501,
          -40.900557,
          56.26392,
          53.41291,
          46.818188,
          60.472024,
          50.503887,
          47.516231,
          22.396428,
          1.352083,
          49.815273,
          36.204824
         ],
         "legendgroup": "",
         "lon": [
          -95.712891,
          -3.435973,
          -106.346771,
          133.775136,
          10.451526,
          2.213749,
          5.291266,
          12.56738,
          -3.74922,
          18.643501,
          -102.552784,
          174.885971,
          9.501785,
          -8.24389,
          8.227512,
          8.468946,
          4.469936,
          14.550072,
          114.109497,
          103.819836,
          6.129583,
          138.252924
         ],
         "marker": {
          "color": "green",
          "size": [
           261431,
           29462,
           12372,
           6620,
           3436,
           2520,
           2411,
           2369,
           1873,
           1510,
           1411,
           1274,
           927,
           683,
           652,
           583,
           523,
           485,
           477,
           454,
           57,
           23
          ],
          "sizemode": "area",
          "sizeref": 72.61972222222222
         },
         "mode": "markers",
         "name": "",
         "showlegend": false,
         "subplot": "mapbox",
         "type": "scattermapbox"
        }
       ],
       "layout": {
        "height": 500,
        "legend": {
         "itemsizing": "constant",
         "tracegroupgap": 0
        },
        "mapbox": {
         "center": {
          "lat": 37.09024,
          "lon": -95.712891
         },
         "domain": {
          "x": [
           0,
           1
          ],
          "y": [
           0,
           1
          ]
         },
         "zoom": 11
        },
        "template": {
         "data": {
          "bar": [
           {
            "error_x": {
             "color": "#2a3f5f"
            },
            "error_y": {
             "color": "#2a3f5f"
            },
            "marker": {
             "line": {
              "color": "#E5ECF6",
              "width": 0.5
             }
            },
            "type": "bar"
           }
          ],
          "barpolar": [
           {
            "marker": {
             "line": {
              "color": "#E5ECF6",
              "width": 0.5
             }
            },
            "type": "barpolar"
           }
          ],
          "carpet": [
           {
            "aaxis": {
             "endlinecolor": "#2a3f5f",
             "gridcolor": "white",
             "linecolor": "white",
             "minorgridcolor": "white",
             "startlinecolor": "#2a3f5f"
            },
            "baxis": {
             "endlinecolor": "#2a3f5f",
             "gridcolor": "white",
             "linecolor": "white",
             "minorgridcolor": "white",
             "startlinecolor": "#2a3f5f"
            },
            "type": "carpet"
           }
          ],
          "choropleth": [
           {
            "colorbar": {
             "outlinewidth": 0,
             "ticks": ""
            },
            "type": "choropleth"
           }
          ],
          "contour": [
           {
            "colorbar": {
             "outlinewidth": 0,
             "ticks": ""
            },
            "colorscale": [
             [
              0,
              "#0d0887"
             ],
             [
              0.1111111111111111,
              "#46039f"
             ],
             [
              0.2222222222222222,
              "#7201a8"
             ],
             [
              0.3333333333333333,
              "#9c179e"
             ],
             [
              0.4444444444444444,
              "#bd3786"
             ],
             [
              0.5555555555555556,
              "#d8576b"
             ],
             [
              0.6666666666666666,
              "#ed7953"
             ],
             [
              0.7777777777777778,
              "#fb9f3a"
             ],
             [
              0.8888888888888888,
              "#fdca26"
             ],
             [
              1,
              "#f0f921"
             ]
            ],
            "type": "contour"
           }
          ],
          "contourcarpet": [
           {
            "colorbar": {
             "outlinewidth": 0,
             "ticks": ""
            },
            "type": "contourcarpet"
           }
          ],
          "heatmap": [
           {
            "colorbar": {
             "outlinewidth": 0,
             "ticks": ""
            },
            "colorscale": [
             [
              0,
              "#0d0887"
             ],
             [
              0.1111111111111111,
              "#46039f"
             ],
             [
              0.2222222222222222,
              "#7201a8"
             ],
             [
              0.3333333333333333,
              "#9c179e"
             ],
             [
              0.4444444444444444,
              "#bd3786"
             ],
             [
              0.5555555555555556,
              "#d8576b"
             ],
             [
              0.6666666666666666,
              "#ed7953"
             ],
             [
              0.7777777777777778,
              "#fb9f3a"
             ],
             [
              0.8888888888888888,
              "#fdca26"
             ],
             [
              1,
              "#f0f921"
             ]
            ],
            "type": "heatmap"
           }
          ],
          "heatmapgl": [
           {
            "colorbar": {
             "outlinewidth": 0,
             "ticks": ""
            },
            "colorscale": [
             [
              0,
              "#0d0887"
             ],
             [
              0.1111111111111111,
              "#46039f"
             ],
             [
              0.2222222222222222,
              "#7201a8"
             ],
             [
              0.3333333333333333,
              "#9c179e"
             ],
             [
              0.4444444444444444,
              "#bd3786"
             ],
             [
              0.5555555555555556,
              "#d8576b"
             ],
             [
              0.6666666666666666,
              "#ed7953"
             ],
             [
              0.7777777777777778,
              "#fb9f3a"
             ],
             [
              0.8888888888888888,
              "#fdca26"
             ],
             [
              1,
              "#f0f921"
             ]
            ],
            "type": "heatmapgl"
           }
          ],
          "histogram": [
           {
            "marker": {
             "colorbar": {
              "outlinewidth": 0,
              "ticks": ""
             }
            },
            "type": "histogram"
           }
          ],
          "histogram2d": [
           {
            "colorbar": {
             "outlinewidth": 0,
             "ticks": ""
            },
            "colorscale": [
             [
              0,
              "#0d0887"
             ],
             [
              0.1111111111111111,
              "#46039f"
             ],
             [
              0.2222222222222222,
              "#7201a8"
             ],
             [
              0.3333333333333333,
              "#9c179e"
             ],
             [
              0.4444444444444444,
              "#bd3786"
             ],
             [
              0.5555555555555556,
              "#d8576b"
             ],
             [
              0.6666666666666666,
              "#ed7953"
             ],
             [
              0.7777777777777778,
              "#fb9f3a"
             ],
             [
              0.8888888888888888,
              "#fdca26"
             ],
             [
              1,
              "#f0f921"
             ]
            ],
            "type": "histogram2d"
           }
          ],
          "histogram2dcontour": [
           {
            "colorbar": {
             "outlinewidth": 0,
             "ticks": ""
            },
            "colorscale": [
             [
              0,
              "#0d0887"
             ],
             [
              0.1111111111111111,
              "#46039f"
             ],
             [
              0.2222222222222222,
              "#7201a8"
             ],
             [
              0.3333333333333333,
              "#9c179e"
             ],
             [
              0.4444444444444444,
              "#bd3786"
             ],
             [
              0.5555555555555556,
              "#d8576b"
             ],
             [
              0.6666666666666666,
              "#ed7953"
             ],
             [
              0.7777777777777778,
              "#fb9f3a"
             ],
             [
              0.8888888888888888,
              "#fdca26"
             ],
             [
              1,
              "#f0f921"
             ]
            ],
            "type": "histogram2dcontour"
           }
          ],
          "mesh3d": [
           {
            "colorbar": {
             "outlinewidth": 0,
             "ticks": ""
            },
            "type": "mesh3d"
           }
          ],
          "parcoords": [
           {
            "line": {
             "colorbar": {
              "outlinewidth": 0,
              "ticks": ""
             }
            },
            "type": "parcoords"
           }
          ],
          "pie": [
           {
            "automargin": true,
            "type": "pie"
           }
          ],
          "scatter": [
           {
            "marker": {
             "colorbar": {
              "outlinewidth": 0,
              "ticks": ""
             }
            },
            "type": "scatter"
           }
          ],
          "scatter3d": [
           {
            "line": {
             "colorbar": {
              "outlinewidth": 0,
              "ticks": ""
             }
            },
            "marker": {
             "colorbar": {
              "outlinewidth": 0,
              "ticks": ""
             }
            },
            "type": "scatter3d"
           }
          ],
          "scattercarpet": [
           {
            "marker": {
             "colorbar": {
              "outlinewidth": 0,
              "ticks": ""
             }
            },
            "type": "scattercarpet"
           }
          ],
          "scattergeo": [
           {
            "marker": {
             "colorbar": {
              "outlinewidth": 0,
              "ticks": ""
             }
            },
            "type": "scattergeo"
           }
          ],
          "scattergl": [
           {
            "marker": {
             "colorbar": {
              "outlinewidth": 0,
              "ticks": ""
             }
            },
            "type": "scattergl"
           }
          ],
          "scattermapbox": [
           {
            "marker": {
             "colorbar": {
              "outlinewidth": 0,
              "ticks": ""
             }
            },
            "type": "scattermapbox"
           }
          ],
          "scatterpolar": [
           {
            "marker": {
             "colorbar": {
              "outlinewidth": 0,
              "ticks": ""
             }
            },
            "type": "scatterpolar"
           }
          ],
          "scatterpolargl": [
           {
            "marker": {
             "colorbar": {
              "outlinewidth": 0,
              "ticks": ""
             }
            },
            "type": "scatterpolargl"
           }
          ],
          "scatterternary": [
           {
            "marker": {
             "colorbar": {
              "outlinewidth": 0,
              "ticks": ""
             }
            },
            "type": "scatterternary"
           }
          ],
          "surface": [
           {
            "colorbar": {
             "outlinewidth": 0,
             "ticks": ""
            },
            "colorscale": [
             [
              0,
              "#0d0887"
             ],
             [
              0.1111111111111111,
              "#46039f"
             ],
             [
              0.2222222222222222,
              "#7201a8"
             ],
             [
              0.3333333333333333,
              "#9c179e"
             ],
             [
              0.4444444444444444,
              "#bd3786"
             ],
             [
              0.5555555555555556,
              "#d8576b"
             ],
             [
              0.6666666666666666,
              "#ed7953"
             ],
             [
              0.7777777777777778,
              "#fb9f3a"
             ],
             [
              0.8888888888888888,
              "#fdca26"
             ],
             [
              1,
              "#f0f921"
             ]
            ],
            "type": "surface"
           }
          ],
          "table": [
           {
            "cells": {
             "fill": {
              "color": "#EBF0F8"
             },
             "line": {
              "color": "white"
             }
            },
            "header": {
             "fill": {
              "color": "#C8D4E3"
             },
             "line": {
              "color": "white"
             }
            },
            "type": "table"
           }
          ]
         },
         "layout": {
          "annotationdefaults": {
           "arrowcolor": "#2a3f5f",
           "arrowhead": 0,
           "arrowwidth": 1
          },
          "autotypenumbers": "strict",
          "coloraxis": {
           "colorbar": {
            "outlinewidth": 0,
            "ticks": ""
           }
          },
          "colorscale": {
           "diverging": [
            [
             0,
             "#8e0152"
            ],
            [
             0.1,
             "#c51b7d"
            ],
            [
             0.2,
             "#de77ae"
            ],
            [
             0.3,
             "#f1b6da"
            ],
            [
             0.4,
             "#fde0ef"
            ],
            [
             0.5,
             "#f7f7f7"
            ],
            [
             0.6,
             "#e6f5d0"
            ],
            [
             0.7,
             "#b8e186"
            ],
            [
             0.8,
             "#7fbc41"
            ],
            [
             0.9,
             "#4d9221"
            ],
            [
             1,
             "#276419"
            ]
           ],
           "sequential": [
            [
             0,
             "#0d0887"
            ],
            [
             0.1111111111111111,
             "#46039f"
            ],
            [
             0.2222222222222222,
             "#7201a8"
            ],
            [
             0.3333333333333333,
             "#9c179e"
            ],
            [
             0.4444444444444444,
             "#bd3786"
            ],
            [
             0.5555555555555556,
             "#d8576b"
            ],
            [
             0.6666666666666666,
             "#ed7953"
            ],
            [
             0.7777777777777778,
             "#fb9f3a"
            ],
            [
             0.8888888888888888,
             "#fdca26"
            ],
            [
             1,
             "#f0f921"
            ]
           ],
           "sequentialminus": [
            [
             0,
             "#0d0887"
            ],
            [
             0.1111111111111111,
             "#46039f"
            ],
            [
             0.2222222222222222,
             "#7201a8"
            ],
            [
             0.3333333333333333,
             "#9c179e"
            ],
            [
             0.4444444444444444,
             "#bd3786"
            ],
            [
             0.5555555555555556,
             "#d8576b"
            ],
            [
             0.6666666666666666,
             "#ed7953"
            ],
            [
             0.7777777777777778,
             "#fb9f3a"
            ],
            [
             0.8888888888888888,
             "#fdca26"
            ],
            [
             1,
             "#f0f921"
            ]
           ]
          },
          "colorway": [
           "#636efa",
           "#EF553B",
           "#00cc96",
           "#ab63fa",
           "#FFA15A",
           "#19d3f3",
           "#FF6692",
           "#B6E880",
           "#FF97FF",
           "#FECB52"
          ],
          "font": {
           "color": "#2a3f5f"
          },
          "geo": {
           "bgcolor": "white",
           "lakecolor": "white",
           "landcolor": "#E5ECF6",
           "showlakes": true,
           "showland": true,
           "subunitcolor": "white"
          },
          "hoverlabel": {
           "align": "left"
          },
          "hovermode": "closest",
          "mapbox": {
           "style": "light"
          },
          "paper_bgcolor": "white",
          "plot_bgcolor": "#E5ECF6",
          "polar": {
           "angularaxis": {
            "gridcolor": "white",
            "linecolor": "white",
            "ticks": ""
           },
           "bgcolor": "#E5ECF6",
           "radialaxis": {
            "gridcolor": "white",
            "linecolor": "white",
            "ticks": ""
           }
          },
          "scene": {
           "xaxis": {
            "backgroundcolor": "#E5ECF6",
            "gridcolor": "white",
            "gridwidth": 2,
            "linecolor": "white",
            "showbackground": true,
            "ticks": "",
            "zerolinecolor": "white"
           },
           "yaxis": {
            "backgroundcolor": "#E5ECF6",
            "gridcolor": "white",
            "gridwidth": 2,
            "linecolor": "white",
            "showbackground": true,
            "ticks": "",
            "zerolinecolor": "white"
           },
           "zaxis": {
            "backgroundcolor": "#E5ECF6",
            "gridcolor": "white",
            "gridwidth": 2,
            "linecolor": "white",
            "showbackground": true,
            "ticks": "",
            "zerolinecolor": "white"
           }
          },
          "shapedefaults": {
           "line": {
            "color": "#2a3f5f"
           }
          },
          "ternary": {
           "aaxis": {
            "gridcolor": "white",
            "linecolor": "white",
            "ticks": ""
           },
           "baxis": {
            "gridcolor": "white",
            "linecolor": "white",
            "ticks": ""
           },
           "bgcolor": "#E5ECF6",
           "caxis": {
            "gridcolor": "white",
            "linecolor": "white",
            "ticks": ""
           }
          },
          "title": {
           "x": 0.05
          },
          "xaxis": {
           "automargin": true,
           "gridcolor": "white",
           "linecolor": "white",
           "ticks": "",
           "title": {
            "standoff": 15
           },
           "zerolinecolor": "white",
           "zerolinewidth": 2
          },
          "yaxis": {
           "automargin": true,
           "gridcolor": "white",
           "linecolor": "white",
           "ticks": "",
           "title": {
            "standoff": 15
           },
           "zerolinecolor": "white",
           "zerolinewidth": 2
          }
         }
        },
        "title": {
         "text": "Kickstarter Total Projects per Country"
        },
        "width": 900
       }
      }
     },
     "metadata": {}
    }
   ],
   "source": [
    "# This will create a scatter mapbox plot for Kickstarter and  their respective longitude and latitude plotted in with total number of projects.\n",
    "ks_mapbox_plot = px.scatter_mapbox(\n",
    "    ks_country_total_df,\n",
    "    title='Kickstarter Total Projects per Country',\n",
    "    lat='lat',\n",
    "    lon='long',\n",
    "    size='Total_number_of_projects',\n",
    "    hover_name='Country',\n",
    "    size_max=60,\n",
    "    zoom= 11, center = {\"lat\": 37.090240, \"lon\": -95.712891},\n",
    "    color_discrete_sequence=[\"green\"],\n",
    "    height=500,\n",
    "    width=900\n",
    "   \n",
    ")\n",
    "ks_mapbox_plot"
   ]
  },
  {
   "cell_type": "code",
   "execution_count": 20,
   "metadata": {},
   "outputs": [
    {
     "output_type": "display_data",
     "data": {
      "application/vnd.plotly.v1+json": {
       "config": {
        "plotlyServerURL": "https://plot.ly"
       },
       "data": [
        {
         "hovertemplate": "<b>%{hovertext}</b><br><br>Total_number_of_projects=%{marker.size}<br>lat=%{lat}<br>long=%{lon}<extra></extra>",
         "hovertext": [
          "United States",
          "Luxembourg",
          "United Kingdom",
          "Canada",
          "Australia",
          "Hong Kong",
          "Singapore",
          "Switzerland",
          "Denmark",
          "Sweden",
          "Norway"
         ],
         "lat": [
          37.09024,
          49.815273,
          55.378051,
          56.130366,
          -25.274398,
          22.396428,
          1.352083,
          46.818188,
          56.26392,
          60.128161,
          60.472024
         ],
         "legendgroup": "",
         "lon": [
          -95.712891,
          6.129583,
          -3.435973,
          -106.346771,
          133.775136,
          114.109497,
          103.819836,
          8.227512,
          9.501785,
          18.643501,
          8.468946
         ],
         "marker": {
          "color": "fuchsia",
          "size": [
           12908,
           1324,
           1244,
           728,
           234,
           144,
           32,
           14,
           11,
           8,
           1
          ],
          "sizemode": "area",
          "sizeref": 3.5855555555555556
         },
         "mode": "markers",
         "name": "",
         "showlegend": false,
         "subplot": "mapbox",
         "type": "scattermapbox"
        }
       ],
       "layout": {
        "height": 500,
        "legend": {
         "itemsizing": "constant",
         "tracegroupgap": 0
        },
        "mapbox": {
         "center": {
          "lat": 37.09024,
          "lon": -95.712891
         },
         "domain": {
          "x": [
           0,
           1
          ],
          "y": [
           0,
           1
          ]
         },
         "zoom": 11
        },
        "template": {
         "data": {
          "bar": [
           {
            "error_x": {
             "color": "#2a3f5f"
            },
            "error_y": {
             "color": "#2a3f5f"
            },
            "marker": {
             "line": {
              "color": "#E5ECF6",
              "width": 0.5
             }
            },
            "type": "bar"
           }
          ],
          "barpolar": [
           {
            "marker": {
             "line": {
              "color": "#E5ECF6",
              "width": 0.5
             }
            },
            "type": "barpolar"
           }
          ],
          "carpet": [
           {
            "aaxis": {
             "endlinecolor": "#2a3f5f",
             "gridcolor": "white",
             "linecolor": "white",
             "minorgridcolor": "white",
             "startlinecolor": "#2a3f5f"
            },
            "baxis": {
             "endlinecolor": "#2a3f5f",
             "gridcolor": "white",
             "linecolor": "white",
             "minorgridcolor": "white",
             "startlinecolor": "#2a3f5f"
            },
            "type": "carpet"
           }
          ],
          "choropleth": [
           {
            "colorbar": {
             "outlinewidth": 0,
             "ticks": ""
            },
            "type": "choropleth"
           }
          ],
          "contour": [
           {
            "colorbar": {
             "outlinewidth": 0,
             "ticks": ""
            },
            "colorscale": [
             [
              0,
              "#0d0887"
             ],
             [
              0.1111111111111111,
              "#46039f"
             ],
             [
              0.2222222222222222,
              "#7201a8"
             ],
             [
              0.3333333333333333,
              "#9c179e"
             ],
             [
              0.4444444444444444,
              "#bd3786"
             ],
             [
              0.5555555555555556,
              "#d8576b"
             ],
             [
              0.6666666666666666,
              "#ed7953"
             ],
             [
              0.7777777777777778,
              "#fb9f3a"
             ],
             [
              0.8888888888888888,
              "#fdca26"
             ],
             [
              1,
              "#f0f921"
             ]
            ],
            "type": "contour"
           }
          ],
          "contourcarpet": [
           {
            "colorbar": {
             "outlinewidth": 0,
             "ticks": ""
            },
            "type": "contourcarpet"
           }
          ],
          "heatmap": [
           {
            "colorbar": {
             "outlinewidth": 0,
             "ticks": ""
            },
            "colorscale": [
             [
              0,
              "#0d0887"
             ],
             [
              0.1111111111111111,
              "#46039f"
             ],
             [
              0.2222222222222222,
              "#7201a8"
             ],
             [
              0.3333333333333333,
              "#9c179e"
             ],
             [
              0.4444444444444444,
              "#bd3786"
             ],
             [
              0.5555555555555556,
              "#d8576b"
             ],
             [
              0.6666666666666666,
              "#ed7953"
             ],
             [
              0.7777777777777778,
              "#fb9f3a"
             ],
             [
              0.8888888888888888,
              "#fdca26"
             ],
             [
              1,
              "#f0f921"
             ]
            ],
            "type": "heatmap"
           }
          ],
          "heatmapgl": [
           {
            "colorbar": {
             "outlinewidth": 0,
             "ticks": ""
            },
            "colorscale": [
             [
              0,
              "#0d0887"
             ],
             [
              0.1111111111111111,
              "#46039f"
             ],
             [
              0.2222222222222222,
              "#7201a8"
             ],
             [
              0.3333333333333333,
              "#9c179e"
             ],
             [
              0.4444444444444444,
              "#bd3786"
             ],
             [
              0.5555555555555556,
              "#d8576b"
             ],
             [
              0.6666666666666666,
              "#ed7953"
             ],
             [
              0.7777777777777778,
              "#fb9f3a"
             ],
             [
              0.8888888888888888,
              "#fdca26"
             ],
             [
              1,
              "#f0f921"
             ]
            ],
            "type": "heatmapgl"
           }
          ],
          "histogram": [
           {
            "marker": {
             "colorbar": {
              "outlinewidth": 0,
              "ticks": ""
             }
            },
            "type": "histogram"
           }
          ],
          "histogram2d": [
           {
            "colorbar": {
             "outlinewidth": 0,
             "ticks": ""
            },
            "colorscale": [
             [
              0,
              "#0d0887"
             ],
             [
              0.1111111111111111,
              "#46039f"
             ],
             [
              0.2222222222222222,
              "#7201a8"
             ],
             [
              0.3333333333333333,
              "#9c179e"
             ],
             [
              0.4444444444444444,
              "#bd3786"
             ],
             [
              0.5555555555555556,
              "#d8576b"
             ],
             [
              0.6666666666666666,
              "#ed7953"
             ],
             [
              0.7777777777777778,
              "#fb9f3a"
             ],
             [
              0.8888888888888888,
              "#fdca26"
             ],
             [
              1,
              "#f0f921"
             ]
            ],
            "type": "histogram2d"
           }
          ],
          "histogram2dcontour": [
           {
            "colorbar": {
             "outlinewidth": 0,
             "ticks": ""
            },
            "colorscale": [
             [
              0,
              "#0d0887"
             ],
             [
              0.1111111111111111,
              "#46039f"
             ],
             [
              0.2222222222222222,
              "#7201a8"
             ],
             [
              0.3333333333333333,
              "#9c179e"
             ],
             [
              0.4444444444444444,
              "#bd3786"
             ],
             [
              0.5555555555555556,
              "#d8576b"
             ],
             [
              0.6666666666666666,
              "#ed7953"
             ],
             [
              0.7777777777777778,
              "#fb9f3a"
             ],
             [
              0.8888888888888888,
              "#fdca26"
             ],
             [
              1,
              "#f0f921"
             ]
            ],
            "type": "histogram2dcontour"
           }
          ],
          "mesh3d": [
           {
            "colorbar": {
             "outlinewidth": 0,
             "ticks": ""
            },
            "type": "mesh3d"
           }
          ],
          "parcoords": [
           {
            "line": {
             "colorbar": {
              "outlinewidth": 0,
              "ticks": ""
             }
            },
            "type": "parcoords"
           }
          ],
          "pie": [
           {
            "automargin": true,
            "type": "pie"
           }
          ],
          "scatter": [
           {
            "marker": {
             "colorbar": {
              "outlinewidth": 0,
              "ticks": ""
             }
            },
            "type": "scatter"
           }
          ],
          "scatter3d": [
           {
            "line": {
             "colorbar": {
              "outlinewidth": 0,
              "ticks": ""
             }
            },
            "marker": {
             "colorbar": {
              "outlinewidth": 0,
              "ticks": ""
             }
            },
            "type": "scatter3d"
           }
          ],
          "scattercarpet": [
           {
            "marker": {
             "colorbar": {
              "outlinewidth": 0,
              "ticks": ""
             }
            },
            "type": "scattercarpet"
           }
          ],
          "scattergeo": [
           {
            "marker": {
             "colorbar": {
              "outlinewidth": 0,
              "ticks": ""
             }
            },
            "type": "scattergeo"
           }
          ],
          "scattergl": [
           {
            "marker": {
             "colorbar": {
              "outlinewidth": 0,
              "ticks": ""
             }
            },
            "type": "scattergl"
           }
          ],
          "scattermapbox": [
           {
            "marker": {
             "colorbar": {
              "outlinewidth": 0,
              "ticks": ""
             }
            },
            "type": "scattermapbox"
           }
          ],
          "scatterpolar": [
           {
            "marker": {
             "colorbar": {
              "outlinewidth": 0,
              "ticks": ""
             }
            },
            "type": "scatterpolar"
           }
          ],
          "scatterpolargl": [
           {
            "marker": {
             "colorbar": {
              "outlinewidth": 0,
              "ticks": ""
             }
            },
            "type": "scatterpolargl"
           }
          ],
          "scatterternary": [
           {
            "marker": {
             "colorbar": {
              "outlinewidth": 0,
              "ticks": ""
             }
            },
            "type": "scatterternary"
           }
          ],
          "surface": [
           {
            "colorbar": {
             "outlinewidth": 0,
             "ticks": ""
            },
            "colorscale": [
             [
              0,
              "#0d0887"
             ],
             [
              0.1111111111111111,
              "#46039f"
             ],
             [
              0.2222222222222222,
              "#7201a8"
             ],
             [
              0.3333333333333333,
              "#9c179e"
             ],
             [
              0.4444444444444444,
              "#bd3786"
             ],
             [
              0.5555555555555556,
              "#d8576b"
             ],
             [
              0.6666666666666666,
              "#ed7953"
             ],
             [
              0.7777777777777778,
              "#fb9f3a"
             ],
             [
              0.8888888888888888,
              "#fdca26"
             ],
             [
              1,
              "#f0f921"
             ]
            ],
            "type": "surface"
           }
          ],
          "table": [
           {
            "cells": {
             "fill": {
              "color": "#EBF0F8"
             },
             "line": {
              "color": "white"
             }
            },
            "header": {
             "fill": {
              "color": "#C8D4E3"
             },
             "line": {
              "color": "white"
             }
            },
            "type": "table"
           }
          ]
         },
         "layout": {
          "annotationdefaults": {
           "arrowcolor": "#2a3f5f",
           "arrowhead": 0,
           "arrowwidth": 1
          },
          "autotypenumbers": "strict",
          "coloraxis": {
           "colorbar": {
            "outlinewidth": 0,
            "ticks": ""
           }
          },
          "colorscale": {
           "diverging": [
            [
             0,
             "#8e0152"
            ],
            [
             0.1,
             "#c51b7d"
            ],
            [
             0.2,
             "#de77ae"
            ],
            [
             0.3,
             "#f1b6da"
            ],
            [
             0.4,
             "#fde0ef"
            ],
            [
             0.5,
             "#f7f7f7"
            ],
            [
             0.6,
             "#e6f5d0"
            ],
            [
             0.7,
             "#b8e186"
            ],
            [
             0.8,
             "#7fbc41"
            ],
            [
             0.9,
             "#4d9221"
            ],
            [
             1,
             "#276419"
            ]
           ],
           "sequential": [
            [
             0,
             "#0d0887"
            ],
            [
             0.1111111111111111,
             "#46039f"
            ],
            [
             0.2222222222222222,
             "#7201a8"
            ],
            [
             0.3333333333333333,
             "#9c179e"
            ],
            [
             0.4444444444444444,
             "#bd3786"
            ],
            [
             0.5555555555555556,
             "#d8576b"
            ],
            [
             0.6666666666666666,
             "#ed7953"
            ],
            [
             0.7777777777777778,
             "#fb9f3a"
            ],
            [
             0.8888888888888888,
             "#fdca26"
            ],
            [
             1,
             "#f0f921"
            ]
           ],
           "sequentialminus": [
            [
             0,
             "#0d0887"
            ],
            [
             0.1111111111111111,
             "#46039f"
            ],
            [
             0.2222222222222222,
             "#7201a8"
            ],
            [
             0.3333333333333333,
             "#9c179e"
            ],
            [
             0.4444444444444444,
             "#bd3786"
            ],
            [
             0.5555555555555556,
             "#d8576b"
            ],
            [
             0.6666666666666666,
             "#ed7953"
            ],
            [
             0.7777777777777778,
             "#fb9f3a"
            ],
            [
             0.8888888888888888,
             "#fdca26"
            ],
            [
             1,
             "#f0f921"
            ]
           ]
          },
          "colorway": [
           "#636efa",
           "#EF553B",
           "#00cc96",
           "#ab63fa",
           "#FFA15A",
           "#19d3f3",
           "#FF6692",
           "#B6E880",
           "#FF97FF",
           "#FECB52"
          ],
          "font": {
           "color": "#2a3f5f"
          },
          "geo": {
           "bgcolor": "white",
           "lakecolor": "white",
           "landcolor": "#E5ECF6",
           "showlakes": true,
           "showland": true,
           "subunitcolor": "white"
          },
          "hoverlabel": {
           "align": "left"
          },
          "hovermode": "closest",
          "mapbox": {
           "style": "light"
          },
          "paper_bgcolor": "white",
          "plot_bgcolor": "#E5ECF6",
          "polar": {
           "angularaxis": {
            "gridcolor": "white",
            "linecolor": "white",
            "ticks": ""
           },
           "bgcolor": "#E5ECF6",
           "radialaxis": {
            "gridcolor": "white",
            "linecolor": "white",
            "ticks": ""
           }
          },
          "scene": {
           "xaxis": {
            "backgroundcolor": "#E5ECF6",
            "gridcolor": "white",
            "gridwidth": 2,
            "linecolor": "white",
            "showbackground": true,
            "ticks": "",
            "zerolinecolor": "white"
           },
           "yaxis": {
            "backgroundcolor": "#E5ECF6",
            "gridcolor": "white",
            "gridwidth": 2,
            "linecolor": "white",
            "showbackground": true,
            "ticks": "",
            "zerolinecolor": "white"
           },
           "zaxis": {
            "backgroundcolor": "#E5ECF6",
            "gridcolor": "white",
            "gridwidth": 2,
            "linecolor": "white",
            "showbackground": true,
            "ticks": "",
            "zerolinecolor": "white"
           }
          },
          "shapedefaults": {
           "line": {
            "color": "#2a3f5f"
           }
          },
          "ternary": {
           "aaxis": {
            "gridcolor": "white",
            "linecolor": "white",
            "ticks": ""
           },
           "baxis": {
            "gridcolor": "white",
            "linecolor": "white",
            "ticks": ""
           },
           "bgcolor": "#E5ECF6",
           "caxis": {
            "gridcolor": "white",
            "linecolor": "white",
            "ticks": ""
           }
          },
          "title": {
           "x": 0.05
          },
          "xaxis": {
           "automargin": true,
           "gridcolor": "white",
           "linecolor": "white",
           "ticks": "",
           "title": {
            "standoff": 15
           },
           "zerolinecolor": "white",
           "zerolinewidth": 2
          },
          "yaxis": {
           "automargin": true,
           "gridcolor": "white",
           "linecolor": "white",
           "ticks": "",
           "title": {
            "standoff": 15
           },
           "zerolinecolor": "white",
           "zerolinewidth": 2
          }
         }
        },
        "title": {
         "text": "Indiegogo Total Projects per Country"
        },
        "width": 900
       }
      }
     },
     "metadata": {}
    }
   ],
   "source": [
    "# This will create a scatter mapbox plot for Indiegogo and  their respective longitude and latitude plotted in with total number of projects.\n",
    "indiegogo_mapbox_plot = px.scatter_mapbox(\n",
    "    indiegogo_country_total_df,\n",
    "    title='Indiegogo Total Projects per Country',\n",
    "    lat='lat',\n",
    "    lon='long',\n",
    "    size='Total_number_of_projects',\n",
    "    hover_name='Country',\n",
    "    size_max=60,\n",
    "    zoom= 11, center = {\"lat\": 37.090240, \"lon\": -95.712891},\n",
    "    color_discrete_sequence=[\"fuchsia\"],\n",
    "    height=500,\n",
    "    width=900\n",
    "   \n",
    ")\n",
    "indiegogo_mapbox_plot"
   ]
  },
  {
   "source": [
    "## General Summary Stats for Indiegogo"
   ],
   "cell_type": "markdown",
   "metadata": {}
  },
  {
   "cell_type": "code",
   "execution_count": 28,
   "metadata": {},
   "outputs": [
    {
     "output_type": "execute_result",
     "data": {
      "text/plain": [
       "       usd_goal_real  usd_pledged_real  funded_percent      duration  \\\n",
       "count   16648.000000      1.664800e+04    16648.000000  16648.000000   \n",
       "mean    24545.904951      4.336567e+04        2.429981     41.301478   \n",
       "std     46016.924042      3.270151e+05       20.556644     20.530643   \n",
       "min       100.269900      1.000000e+00        0.000000      0.000000   \n",
       "25%      3441.816550      3.080000e+02        0.039975     30.000000   \n",
       "50%     10000.000000      1.213676e+03        0.214350     41.000000   \n",
       "75%     25000.000000      5.225250e+03        0.750000     60.000000   \n",
       "max    500000.000000      1.759574e+07     1588.288400    720.000000   \n",
       "\n",
       "       daily_goal  daily_pledged  \n",
       "count    16648.00      16648.000  \n",
       "mean          inf            inf  \n",
       "std           NaN            NaN  \n",
       "min          0.94          0.020  \n",
       "25%         83.33          7.500  \n",
       "50%        247.97         30.875  \n",
       "75%        750.00        134.830  \n",
       "max           inf            inf  "
      ],
      "text/html": "<div>\n<style scoped>\n    .dataframe tbody tr th:only-of-type {\n        vertical-align: middle;\n    }\n\n    .dataframe tbody tr th {\n        vertical-align: top;\n    }\n\n    .dataframe thead th {\n        text-align: right;\n    }\n</style>\n<table border=\"1\" class=\"dataframe\">\n  <thead>\n    <tr style=\"text-align: right;\">\n      <th></th>\n      <th>usd_goal_real</th>\n      <th>usd_pledged_real</th>\n      <th>funded_percent</th>\n      <th>duration</th>\n      <th>daily_goal</th>\n      <th>daily_pledged</th>\n    </tr>\n  </thead>\n  <tbody>\n    <tr>\n      <th>count</th>\n      <td>16648.000000</td>\n      <td>1.664800e+04</td>\n      <td>16648.000000</td>\n      <td>16648.000000</td>\n      <td>16648.00</td>\n      <td>16648.000</td>\n    </tr>\n    <tr>\n      <th>mean</th>\n      <td>24545.904951</td>\n      <td>4.336567e+04</td>\n      <td>2.429981</td>\n      <td>41.301478</td>\n      <td>inf</td>\n      <td>inf</td>\n    </tr>\n    <tr>\n      <th>std</th>\n      <td>46016.924042</td>\n      <td>3.270151e+05</td>\n      <td>20.556644</td>\n      <td>20.530643</td>\n      <td>NaN</td>\n      <td>NaN</td>\n    </tr>\n    <tr>\n      <th>min</th>\n      <td>100.269900</td>\n      <td>1.000000e+00</td>\n      <td>0.000000</td>\n      <td>0.000000</td>\n      <td>0.94</td>\n      <td>0.020</td>\n    </tr>\n    <tr>\n      <th>25%</th>\n      <td>3441.816550</td>\n      <td>3.080000e+02</td>\n      <td>0.039975</td>\n      <td>30.000000</td>\n      <td>83.33</td>\n      <td>7.500</td>\n    </tr>\n    <tr>\n      <th>50%</th>\n      <td>10000.000000</td>\n      <td>1.213676e+03</td>\n      <td>0.214350</td>\n      <td>41.000000</td>\n      <td>247.97</td>\n      <td>30.875</td>\n    </tr>\n    <tr>\n      <th>75%</th>\n      <td>25000.000000</td>\n      <td>5.225250e+03</td>\n      <td>0.750000</td>\n      <td>60.000000</td>\n      <td>750.00</td>\n      <td>134.830</td>\n    </tr>\n    <tr>\n      <th>max</th>\n      <td>500000.000000</td>\n      <td>1.759574e+07</td>\n      <td>1588.288400</td>\n      <td>720.000000</td>\n      <td>inf</td>\n      <td>inf</td>\n    </tr>\n  </tbody>\n</table>\n</div>"
     },
     "metadata": {},
     "execution_count": 28
    }
   ],
   "source": [
    "indiegogo_summary_df = load_full_table(\"indie_gogo\")\n",
    "\n",
    "indiegogo_summary_df = indiegogo_summary_df.drop(columns=[\"ID\", \"name\", \"index\", \"deadline\", \"launched\", \"state\", \"lat\", \"long\"])\n",
    "\n",
    "indiegogo_summary_df = indiegogo_summary_df.describe()\n",
    "\n",
    "indiegogo_summary_df"
   ]
  },
  {
   "cell_type": "code",
   "execution_count": null,
   "metadata": {},
   "outputs": [],
   "source": []
  }
 ],
 "metadata": {
  "interpreter": {
   "hash": "18362060446936cc803381dd60b4543ff6484ba3a18f4ae09301fc4f233b839e"
  },
  "kernelspec": {
   "name": "python3",
   "display_name": "Python 3.7.10 64-bit ('dev': conda)"
  },
  "language_info": {
   "codemirror_mode": {
    "name": "ipython",
    "version": 3
   },
   "file_extension": ".py",
   "mimetype": "text/x-python",
   "name": "python",
   "nbconvert_exporter": "python",
   "pygments_lexer": "ipython3",
   "version": "3.7.10"
  }
 },
 "nbformat": 4,
 "nbformat_minor": 4
}