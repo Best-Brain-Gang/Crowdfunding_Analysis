{
 "cells": [
  {
   "cell_type": "code",
   "execution_count": 441,
   "source": [
    "# Import the required libraries and dependencies\n",
    "import os\n",
    "import pandas as pd\n",
    "from pathlib import Path\n",
    "from dotenv import load_dotenv\n",
    "import sqlalchemy\n",
    "\n",
    "# Add viz libs\n",
    "import matplotlib.pyplot as plt\n",
    "import seaborn as sns\n",
    "import plotly.express as px\n",
    "import hvplot.pandas\n",
    "import altair as alt \n",
    "from bokeh.plotting import figure, show\n",
    "import folium\n",
    "from wordcloud import WordCloud, STOPWORDS, ImageColorGenerator\n",
    "import numpy as np\n",
    "from PIL import Image\n",
    "from plotnine import ggplot, aes, geom_line"
   ],
   "outputs": [],
   "metadata": {}
  },
  {
   "cell_type": "markdown",
   "source": [
    "## Clean data"
   ],
   "metadata": {}
  },
  {
   "cell_type": "code",
   "execution_count": 442,
   "source": [
    "# Force clean vars\n",
    "force_clean_large_kickstarter = True\n",
    "force_clean_small_kickstarter = True\n",
    "force_clean_indiegogo = True\n",
    "\n",
    "# Clean large kickstarter\n",
    "my_kickstarter_large_file = Path('./Resources/kickstarter_data_clean/ks-projects-large.csv')\n",
    "if not my_kickstarter_large_file.is_file() or force_clean_large_kickstarter:\n",
    "    %run ./Resources/Utils/clean_kickstarter_large.ipynb\n",
    "\n",
    "# Clean small kickstarter\n",
    "my_kickstarter_small_file = Path('./Resources/kickstarter_data_clean/ks-projects-small.csv')\n",
    "if not my_kickstarter_small_file.is_file() or force_clean_small_kickstarter:\n",
    "    %run ./Resources/Utils/clean_kickstarter_small.ipynb\n",
    "\n",
    "# Clean indiegogo kickstarter\n",
    "my_indiegogo_file = Path('./Resources/indiegogo_data_clean/indiegogo-projects.csv')\n",
    "if not my_indiegogo_file.is_file() or force_clean_indiegogo:\n",
    "    %run ./Resources/Utils/clean_indiegogo.ipynb"
   ],
   "outputs": [],
   "metadata": {}
  },
  {
   "cell_type": "markdown",
   "source": [
    "## Enable Mapbox API access token"
   ],
   "metadata": {}
  },
  {
   "cell_type": "code",
   "execution_count": 443,
   "source": [
    "# Load the .env file into the notebook\n",
    "load_dotenv()\n",
    "\n",
    "# Read in your MAPBOX_API_KEY\n",
    "mapbox_api_access_token = os.getenv('MAPBOX_API_ACCESS_TOKEN')\n",
    "\n",
    "# Confirm the availability of your Mapbox API access token by checking its type\n",
    "display(type(mapbox_api_access_token))\n",
    "\n",
    "# Set your Mapbox API access token\n",
    "px.set_mapbox_access_token(mapbox_api_access_token)"
   ],
   "outputs": [
    {
     "output_type": "display_data",
     "data": {
      "text/plain": [
       "str"
      ]
     },
     "metadata": {}
    }
   ],
   "metadata": {}
  },
  {
   "cell_type": "markdown",
   "source": [
    "## Read kickstarter large"
   ],
   "metadata": {}
  },
  {
   "cell_type": "code",
   "execution_count": 444,
   "source": [
    "# Import small kickstarter most backed dataset\n",
    "kickstarter_large_clean_df = pd.read_csv(\n",
    "    Path('./Resources/kickstarter_data_clean/ks-projects-large.csv')\n",
    ")\n",
    "\n",
    "# Fix dates\n",
    "kickstarter_large_clean_df['launched'] = pd.to_datetime(kickstarter_large_clean_df['launched'])\n",
    "kickstarter_large_clean_df['deadline'] = pd.to_datetime(kickstarter_large_clean_df['deadline'])\n",
    "\n",
    "# View head\n",
    "kickstarter_large_clean_df = kickstarter_large_clean_df.sort_values('launched')\n",
    "display(kickstarter_large_clean_df.head(2))\n",
    "display(kickstarter_large_clean_df.tail(2))"
   ],
   "outputs": [
    {
     "output_type": "display_data",
     "data": {
      "text/plain": [
       "                ID                                               name  \\\n",
       "12072   1100882558  Get Among Criminals Up and Touring Green This ...   \n",
       "118172  2002086943                            Missed Connections Live   \n",
       "\n",
       "       main_category   category currency  usd_goal_real  usd_pledged_real  \\\n",
       "12072          Music      Music      USD         3000.0             100.0   \n",
       "118172  Film & Video  Webseries      USD         8000.0            8215.0   \n",
       "\n",
       "         deadline            launched  state  funded_percent  duration  \\\n",
       "12072  2010-06-04 2010-04-21 00:22:04      0          0.0333        43   \n",
       "118172 2010-06-20 2010-04-21 00:34:33      1          1.0269        59   \n",
       "\n",
       "        daily_goal  daily_pledged country full_country_names       lat  \\\n",
       "12072        69.77           2.33      US      United States  37.09024   \n",
       "118172      135.59         139.24      US      United States  37.09024   \n",
       "\n",
       "             long  avg_backer_per_day  pledged_per_person  \n",
       "12072  -95.712891                0.09               25.00  \n",
       "118172 -95.712891                2.07               67.34  "
      ],
      "text/html": [
       "<div>\n",
       "<style scoped>\n",
       "    .dataframe tbody tr th:only-of-type {\n",
       "        vertical-align: middle;\n",
       "    }\n",
       "\n",
       "    .dataframe tbody tr th {\n",
       "        vertical-align: top;\n",
       "    }\n",
       "\n",
       "    .dataframe thead th {\n",
       "        text-align: right;\n",
       "    }\n",
       "</style>\n",
       "<table border=\"1\" class=\"dataframe\">\n",
       "  <thead>\n",
       "    <tr style=\"text-align: right;\">\n",
       "      <th></th>\n",
       "      <th>ID</th>\n",
       "      <th>name</th>\n",
       "      <th>main_category</th>\n",
       "      <th>category</th>\n",
       "      <th>currency</th>\n",
       "      <th>usd_goal_real</th>\n",
       "      <th>usd_pledged_real</th>\n",
       "      <th>deadline</th>\n",
       "      <th>launched</th>\n",
       "      <th>state</th>\n",
       "      <th>funded_percent</th>\n",
       "      <th>duration</th>\n",
       "      <th>daily_goal</th>\n",
       "      <th>daily_pledged</th>\n",
       "      <th>country</th>\n",
       "      <th>full_country_names</th>\n",
       "      <th>lat</th>\n",
       "      <th>long</th>\n",
       "      <th>avg_backer_per_day</th>\n",
       "      <th>pledged_per_person</th>\n",
       "    </tr>\n",
       "  </thead>\n",
       "  <tbody>\n",
       "    <tr>\n",
       "      <th>12072</th>\n",
       "      <td>1100882558</td>\n",
       "      <td>Get Among Criminals Up and Touring Green This ...</td>\n",
       "      <td>Music</td>\n",
       "      <td>Music</td>\n",
       "      <td>USD</td>\n",
       "      <td>3000.0</td>\n",
       "      <td>100.0</td>\n",
       "      <td>2010-06-04</td>\n",
       "      <td>2010-04-21 00:22:04</td>\n",
       "      <td>0</td>\n",
       "      <td>0.0333</td>\n",
       "      <td>43</td>\n",
       "      <td>69.77</td>\n",
       "      <td>2.33</td>\n",
       "      <td>US</td>\n",
       "      <td>United States</td>\n",
       "      <td>37.09024</td>\n",
       "      <td>-95.712891</td>\n",
       "      <td>0.09</td>\n",
       "      <td>25.00</td>\n",
       "    </tr>\n",
       "    <tr>\n",
       "      <th>118172</th>\n",
       "      <td>2002086943</td>\n",
       "      <td>Missed Connections Live</td>\n",
       "      <td>Film &amp; Video</td>\n",
       "      <td>Webseries</td>\n",
       "      <td>USD</td>\n",
       "      <td>8000.0</td>\n",
       "      <td>8215.0</td>\n",
       "      <td>2010-06-20</td>\n",
       "      <td>2010-04-21 00:34:33</td>\n",
       "      <td>1</td>\n",
       "      <td>1.0269</td>\n",
       "      <td>59</td>\n",
       "      <td>135.59</td>\n",
       "      <td>139.24</td>\n",
       "      <td>US</td>\n",
       "      <td>United States</td>\n",
       "      <td>37.09024</td>\n",
       "      <td>-95.712891</td>\n",
       "      <td>2.07</td>\n",
       "      <td>67.34</td>\n",
       "    </tr>\n",
       "  </tbody>\n",
       "</table>\n",
       "</div>"
      ]
     },
     "metadata": {}
    },
    {
     "output_type": "display_data",
     "data": {
      "text/plain": [
       "               ID                                              name  \\\n",
       "26478  1223058036  The Cowboy and The Spaceman: Android Collective+   \n",
       "67185   156799983                                    Kill Them All!   \n",
       "\n",
       "      main_category        category currency  usd_goal_real  usd_pledged_real  \\\n",
       "26478         Games  Tabletop Games      GBP         271.03            544.77   \n",
       "67185         Games  Tabletop Games      USD         250.00            265.00   \n",
       "\n",
       "        deadline            launched  state  funded_percent  duration  \\\n",
       "26478 2017-12-31 2017-12-26 13:00:24      1            2.01         4   \n",
       "67185 2017-12-30 2017-12-28 01:48:58      1            1.06         1   \n",
       "\n",
       "       daily_goal  daily_pledged country full_country_names        lat  \\\n",
       "26478       67.76         136.19      GB     United Kingdom  55.378051   \n",
       "67185      250.00         265.00      US      United States  37.090240   \n",
       "\n",
       "            long  avg_backer_per_day  pledged_per_person  \n",
       "26478  -3.435973                6.25               21.79  \n",
       "67185 -95.712891                7.00               37.86  "
      ],
      "text/html": [
       "<div>\n",
       "<style scoped>\n",
       "    .dataframe tbody tr th:only-of-type {\n",
       "        vertical-align: middle;\n",
       "    }\n",
       "\n",
       "    .dataframe tbody tr th {\n",
       "        vertical-align: top;\n",
       "    }\n",
       "\n",
       "    .dataframe thead th {\n",
       "        text-align: right;\n",
       "    }\n",
       "</style>\n",
       "<table border=\"1\" class=\"dataframe\">\n",
       "  <thead>\n",
       "    <tr style=\"text-align: right;\">\n",
       "      <th></th>\n",
       "      <th>ID</th>\n",
       "      <th>name</th>\n",
       "      <th>main_category</th>\n",
       "      <th>category</th>\n",
       "      <th>currency</th>\n",
       "      <th>usd_goal_real</th>\n",
       "      <th>usd_pledged_real</th>\n",
       "      <th>deadline</th>\n",
       "      <th>launched</th>\n",
       "      <th>state</th>\n",
       "      <th>funded_percent</th>\n",
       "      <th>duration</th>\n",
       "      <th>daily_goal</th>\n",
       "      <th>daily_pledged</th>\n",
       "      <th>country</th>\n",
       "      <th>full_country_names</th>\n",
       "      <th>lat</th>\n",
       "      <th>long</th>\n",
       "      <th>avg_backer_per_day</th>\n",
       "      <th>pledged_per_person</th>\n",
       "    </tr>\n",
       "  </thead>\n",
       "  <tbody>\n",
       "    <tr>\n",
       "      <th>26478</th>\n",
       "      <td>1223058036</td>\n",
       "      <td>The Cowboy and The Spaceman: Android Collective+</td>\n",
       "      <td>Games</td>\n",
       "      <td>Tabletop Games</td>\n",
       "      <td>GBP</td>\n",
       "      <td>271.03</td>\n",
       "      <td>544.77</td>\n",
       "      <td>2017-12-31</td>\n",
       "      <td>2017-12-26 13:00:24</td>\n",
       "      <td>1</td>\n",
       "      <td>2.01</td>\n",
       "      <td>4</td>\n",
       "      <td>67.76</td>\n",
       "      <td>136.19</td>\n",
       "      <td>GB</td>\n",
       "      <td>United Kingdom</td>\n",
       "      <td>55.378051</td>\n",
       "      <td>-3.435973</td>\n",
       "      <td>6.25</td>\n",
       "      <td>21.79</td>\n",
       "    </tr>\n",
       "    <tr>\n",
       "      <th>67185</th>\n",
       "      <td>156799983</td>\n",
       "      <td>Kill Them All!</td>\n",
       "      <td>Games</td>\n",
       "      <td>Tabletop Games</td>\n",
       "      <td>USD</td>\n",
       "      <td>250.00</td>\n",
       "      <td>265.00</td>\n",
       "      <td>2017-12-30</td>\n",
       "      <td>2017-12-28 01:48:58</td>\n",
       "      <td>1</td>\n",
       "      <td>1.06</td>\n",
       "      <td>1</td>\n",
       "      <td>250.00</td>\n",
       "      <td>265.00</td>\n",
       "      <td>US</td>\n",
       "      <td>United States</td>\n",
       "      <td>37.090240</td>\n",
       "      <td>-95.712891</td>\n",
       "      <td>7.00</td>\n",
       "      <td>37.86</td>\n",
       "    </tr>\n",
       "  </tbody>\n",
       "</table>\n",
       "</div>"
      ]
     },
     "metadata": {}
    }
   ],
   "metadata": {}
  },
  {
   "cell_type": "markdown",
   "source": [
    "## Read kickstarter small"
   ],
   "metadata": {}
  },
  {
   "cell_type": "code",
   "execution_count": 445,
   "source": [
    "# Import small kickstarter most backed dataset\n",
    "kickstarter_small_clean_df = pd.read_csv(\n",
    "    Path('./Resources/kickstarter_data_clean/ks-projects-small.csv')\n",
    ")\n",
    "\n",
    "# View head\n",
    "kickstarter_small_clean_df.head(2)"
   ],
   "outputs": [
    {
     "output_type": "execute_result",
     "data": {
      "text/plain": [
       "   ID                           name   main_category currency  usd_goal_real  \\\n",
       "0   0              Exploding Kittens  Tabletop Games      USD        10000.0   \n",
       "1   1  Fidget Cube: A Vinyl Desk Toy  Product Design      USD        15000.0   \n",
       "\n",
       "   usd_pledged_real         location  backers  \\\n",
       "0         8782571.0  Los Angeles, CA   219382   \n",
       "1         6465690.0       Denver, CO   154926   \n",
       "\n",
       "                                    num.backers.tier  \\\n",
       "0                            [15505, 202934, 200, 5]   \n",
       "1  [788, 250, 43073, 21796, 41727, 21627, 12215, ...   \n",
       "\n",
       "                                         pledge.tier  \n",
       "0                         [20.0, 35.0, 100.0, 500.0]  \n",
       "1  [1.0, 14.0, 19.0, 19.0, 35.0, 35.0, 79.0, 79.0...  "
      ],
      "text/html": [
       "<div>\n",
       "<style scoped>\n",
       "    .dataframe tbody tr th:only-of-type {\n",
       "        vertical-align: middle;\n",
       "    }\n",
       "\n",
       "    .dataframe tbody tr th {\n",
       "        vertical-align: top;\n",
       "    }\n",
       "\n",
       "    .dataframe thead th {\n",
       "        text-align: right;\n",
       "    }\n",
       "</style>\n",
       "<table border=\"1\" class=\"dataframe\">\n",
       "  <thead>\n",
       "    <tr style=\"text-align: right;\">\n",
       "      <th></th>\n",
       "      <th>ID</th>\n",
       "      <th>name</th>\n",
       "      <th>main_category</th>\n",
       "      <th>currency</th>\n",
       "      <th>usd_goal_real</th>\n",
       "      <th>usd_pledged_real</th>\n",
       "      <th>location</th>\n",
       "      <th>backers</th>\n",
       "      <th>num.backers.tier</th>\n",
       "      <th>pledge.tier</th>\n",
       "    </tr>\n",
       "  </thead>\n",
       "  <tbody>\n",
       "    <tr>\n",
       "      <th>0</th>\n",
       "      <td>0</td>\n",
       "      <td>Exploding Kittens</td>\n",
       "      <td>Tabletop Games</td>\n",
       "      <td>USD</td>\n",
       "      <td>10000.0</td>\n",
       "      <td>8782571.0</td>\n",
       "      <td>Los Angeles, CA</td>\n",
       "      <td>219382</td>\n",
       "      <td>[15505, 202934, 200, 5]</td>\n",
       "      <td>[20.0, 35.0, 100.0, 500.0]</td>\n",
       "    </tr>\n",
       "    <tr>\n",
       "      <th>1</th>\n",
       "      <td>1</td>\n",
       "      <td>Fidget Cube: A Vinyl Desk Toy</td>\n",
       "      <td>Product Design</td>\n",
       "      <td>USD</td>\n",
       "      <td>15000.0</td>\n",
       "      <td>6465690.0</td>\n",
       "      <td>Denver, CO</td>\n",
       "      <td>154926</td>\n",
       "      <td>[788, 250, 43073, 21796, 41727, 21627, 12215, ...</td>\n",
       "      <td>[1.0, 14.0, 19.0, 19.0, 35.0, 35.0, 79.0, 79.0...</td>\n",
       "    </tr>\n",
       "  </tbody>\n",
       "</table>\n",
       "</div>"
      ]
     },
     "metadata": {},
     "execution_count": 445
    }
   ],
   "metadata": {}
  },
  {
   "cell_type": "markdown",
   "source": [
    "## Read indiegogo"
   ],
   "metadata": {}
  },
  {
   "cell_type": "code",
   "execution_count": 446,
   "source": [
    "# Import indiegogo dataset\n",
    "indiegogo_clean_df = pd.read_csv(\n",
    "    Path('./Resources/indiegogo_data_clean/indiegogo-projects.csv')\n",
    ")\n",
    "\n",
    "# Fix dates\n",
    "indiegogo_clean_df['launched'] = pd.to_datetime(indiegogo_clean_df['launched'])\n",
    "indiegogo_clean_df['deadline'] = pd.to_datetime(indiegogo_clean_df['deadline'])\n",
    "\n",
    "# View head\n",
    "indiegogo_clean_df = indiegogo_clean_df.sort_values('launched')\n",
    "display(indiegogo_clean_df.head(2))\n",
    "display(indiegogo_clean_df.tail(2))\n"
   ],
   "outputs": [
    {
     "output_type": "display_data",
     "data": {
      "text/plain": [
       "     ID                             name main_category        category  \\\n",
       "0  3936  Join the Electric Revolution!!!    Technology  Transportation   \n",
       "1  5109             Relief Trip to Haiti    Journalism    Human Rights   \n",
       "\n",
       "  currency  usd_goal_real  usd_pledged_real            deadline  \\\n",
       "0      USD         5000.0             840.0 2010-05-12 23:59:00   \n",
       "1      USD         1200.0             250.0 2010-07-02 23:59:00   \n",
       "\n",
       "             launched  state  funded_percent  duration  daily_goal  \\\n",
       "0 2010-04-21 22:38:42      0          0.1680        21      238.10   \n",
       "1 2010-06-10 17:47:35      0          0.2083        22       54.55   \n",
       "\n",
       "   daily_pledged country full_country_names       lat       long  \n",
       "0          40.00      US      United States  37.09024 -95.712891  \n",
       "1          11.36      US      United States  37.09024 -95.712891  "
      ],
      "text/html": [
       "<div>\n",
       "<style scoped>\n",
       "    .dataframe tbody tr th:only-of-type {\n",
       "        vertical-align: middle;\n",
       "    }\n",
       "\n",
       "    .dataframe tbody tr th {\n",
       "        vertical-align: top;\n",
       "    }\n",
       "\n",
       "    .dataframe thead th {\n",
       "        text-align: right;\n",
       "    }\n",
       "</style>\n",
       "<table border=\"1\" class=\"dataframe\">\n",
       "  <thead>\n",
       "    <tr style=\"text-align: right;\">\n",
       "      <th></th>\n",
       "      <th>ID</th>\n",
       "      <th>name</th>\n",
       "      <th>main_category</th>\n",
       "      <th>category</th>\n",
       "      <th>currency</th>\n",
       "      <th>usd_goal_real</th>\n",
       "      <th>usd_pledged_real</th>\n",
       "      <th>deadline</th>\n",
       "      <th>launched</th>\n",
       "      <th>state</th>\n",
       "      <th>funded_percent</th>\n",
       "      <th>duration</th>\n",
       "      <th>daily_goal</th>\n",
       "      <th>daily_pledged</th>\n",
       "      <th>country</th>\n",
       "      <th>full_country_names</th>\n",
       "      <th>lat</th>\n",
       "      <th>long</th>\n",
       "    </tr>\n",
       "  </thead>\n",
       "  <tbody>\n",
       "    <tr>\n",
       "      <th>0</th>\n",
       "      <td>3936</td>\n",
       "      <td>Join the Electric Revolution!!!</td>\n",
       "      <td>Technology</td>\n",
       "      <td>Transportation</td>\n",
       "      <td>USD</td>\n",
       "      <td>5000.0</td>\n",
       "      <td>840.0</td>\n",
       "      <td>2010-05-12 23:59:00</td>\n",
       "      <td>2010-04-21 22:38:42</td>\n",
       "      <td>0</td>\n",
       "      <td>0.1680</td>\n",
       "      <td>21</td>\n",
       "      <td>238.10</td>\n",
       "      <td>40.00</td>\n",
       "      <td>US</td>\n",
       "      <td>United States</td>\n",
       "      <td>37.09024</td>\n",
       "      <td>-95.712891</td>\n",
       "    </tr>\n",
       "    <tr>\n",
       "      <th>1</th>\n",
       "      <td>5109</td>\n",
       "      <td>Relief Trip to Haiti</td>\n",
       "      <td>Journalism</td>\n",
       "      <td>Human Rights</td>\n",
       "      <td>USD</td>\n",
       "      <td>1200.0</td>\n",
       "      <td>250.0</td>\n",
       "      <td>2010-07-02 23:59:00</td>\n",
       "      <td>2010-06-10 17:47:35</td>\n",
       "      <td>0</td>\n",
       "      <td>0.2083</td>\n",
       "      <td>22</td>\n",
       "      <td>54.55</td>\n",
       "      <td>11.36</td>\n",
       "      <td>US</td>\n",
       "      <td>United States</td>\n",
       "      <td>37.09024</td>\n",
       "      <td>-95.712891</td>\n",
       "    </tr>\n",
       "  </tbody>\n",
       "</table>\n",
       "</div>"
      ]
     },
     "metadata": {}
    },
    {
     "output_type": "display_data",
     "data": {
      "text/plain": [
       "           ID                         name main_category  \\\n",
       "9307  2305069  Clarity Marketing: The Book    Journalism   \n",
       "9308  2288408                Change Makers   Photography   \n",
       "\n",
       "                  category currency  usd_goal_real  usd_pledged_real  \\\n",
       "9307  Writing & Publishing      USD        12000.0            6706.0   \n",
       "9308           Photography      USD        15000.0             175.0   \n",
       "\n",
       "                deadline            launched  state  funded_percent  duration  \\\n",
       "9307 2018-01-11 23:59:59 2017-12-28 07:10:13      0          0.5588        14   \n",
       "9308 2018-02-26 23:59:59 2017-12-28 17:38:27      0          0.0117        60   \n",
       "\n",
       "      daily_goal  daily_pledged country full_country_names       lat  \\\n",
       "9307      857.14         479.00      US      United States  37.09024   \n",
       "9308      250.00           2.92      US      United States  37.09024   \n",
       "\n",
       "           long  \n",
       "9307 -95.712891  \n",
       "9308 -95.712891  "
      ],
      "text/html": [
       "<div>\n",
       "<style scoped>\n",
       "    .dataframe tbody tr th:only-of-type {\n",
       "        vertical-align: middle;\n",
       "    }\n",
       "\n",
       "    .dataframe tbody tr th {\n",
       "        vertical-align: top;\n",
       "    }\n",
       "\n",
       "    .dataframe thead th {\n",
       "        text-align: right;\n",
       "    }\n",
       "</style>\n",
       "<table border=\"1\" class=\"dataframe\">\n",
       "  <thead>\n",
       "    <tr style=\"text-align: right;\">\n",
       "      <th></th>\n",
       "      <th>ID</th>\n",
       "      <th>name</th>\n",
       "      <th>main_category</th>\n",
       "      <th>category</th>\n",
       "      <th>currency</th>\n",
       "      <th>usd_goal_real</th>\n",
       "      <th>usd_pledged_real</th>\n",
       "      <th>deadline</th>\n",
       "      <th>launched</th>\n",
       "      <th>state</th>\n",
       "      <th>funded_percent</th>\n",
       "      <th>duration</th>\n",
       "      <th>daily_goal</th>\n",
       "      <th>daily_pledged</th>\n",
       "      <th>country</th>\n",
       "      <th>full_country_names</th>\n",
       "      <th>lat</th>\n",
       "      <th>long</th>\n",
       "    </tr>\n",
       "  </thead>\n",
       "  <tbody>\n",
       "    <tr>\n",
       "      <th>9307</th>\n",
       "      <td>2305069</td>\n",
       "      <td>Clarity Marketing: The Book</td>\n",
       "      <td>Journalism</td>\n",
       "      <td>Writing &amp; Publishing</td>\n",
       "      <td>USD</td>\n",
       "      <td>12000.0</td>\n",
       "      <td>6706.0</td>\n",
       "      <td>2018-01-11 23:59:59</td>\n",
       "      <td>2017-12-28 07:10:13</td>\n",
       "      <td>0</td>\n",
       "      <td>0.5588</td>\n",
       "      <td>14</td>\n",
       "      <td>857.14</td>\n",
       "      <td>479.00</td>\n",
       "      <td>US</td>\n",
       "      <td>United States</td>\n",
       "      <td>37.09024</td>\n",
       "      <td>-95.712891</td>\n",
       "    </tr>\n",
       "    <tr>\n",
       "      <th>9308</th>\n",
       "      <td>2288408</td>\n",
       "      <td>Change Makers</td>\n",
       "      <td>Photography</td>\n",
       "      <td>Photography</td>\n",
       "      <td>USD</td>\n",
       "      <td>15000.0</td>\n",
       "      <td>175.0</td>\n",
       "      <td>2018-02-26 23:59:59</td>\n",
       "      <td>2017-12-28 17:38:27</td>\n",
       "      <td>0</td>\n",
       "      <td>0.0117</td>\n",
       "      <td>60</td>\n",
       "      <td>250.00</td>\n",
       "      <td>2.92</td>\n",
       "      <td>US</td>\n",
       "      <td>United States</td>\n",
       "      <td>37.09024</td>\n",
       "      <td>-95.712891</td>\n",
       "    </tr>\n",
       "  </tbody>\n",
       "</table>\n",
       "</div>"
      ]
     },
     "metadata": {}
    }
   ],
   "metadata": {}
  },
  {
   "cell_type": "markdown",
   "source": [
    "## Add SQL database and simple functions to load and access tables in that database"
   ],
   "metadata": {}
  },
  {
   "cell_type": "code",
   "execution_count": 447,
   "source": [
    "# Establishes Database Connection with a temporary SQL db (we can update to give it a name later)\n",
    "database_connection_string = \"sqlite:///\"\n",
    "\n",
    "engine = sqlalchemy.create_engine(database_connection_string)\n",
    "\n",
    "# Function to load table into DB\n",
    "# data is the dataframe we want to save, \n",
    "# table name is the name of the new table (as a string value), \n",
    "# and engine is the engine input established earlier\n",
    "def new_table(data, table_name):\n",
    "    data.to_sql(f\"{table_name}\", engine, index=True, if_exists=\"replace\")\n",
    "\n",
    "\n",
    "# Lets us load the table of our choice from the database, just set the function equal to a new dataframe variable and run \n",
    "# must set the table name as a string value\n",
    "def load_full_table(table_name):\n",
    "    new_df = pd.read_sql_table(f\"{table_name}\", con=engine )\n",
    "    return new_df\n",
    "\n",
    "new_table(kickstarter_large_clean_df, \"kickstarter_large\")\n",
    "new_table(kickstarter_small_clean_df, \"kickstarter_small\")\n",
    "new_table(indiegogo_clean_df, \"indie_gogo\")"
   ],
   "outputs": [],
   "metadata": {}
  },
  {
   "cell_type": "markdown",
   "source": [
    "\n",
    "## Add SQL query to access main_category and mean of duration of projects for Kickstarter and Indiegogo."
   ],
   "metadata": {}
  },
  {
   "cell_type": "code",
   "execution_count": 448,
   "source": [
    "# Create a SQL query to get the main_category and duration of the Kickstarter Large dataframe.\n",
    "query_ks = \"\"\"\n",
    "SELECT main_category, duration\n",
    "FROM kickstarter_large\n",
    "\"\"\"\n",
    "query_indiegogo = \"\"\"\n",
    "SELECT main_category, duration\n",
    "FROM indie_gogo\n",
    "\"\"\"\n",
    "\n",
    "# This will let us read the query we applied earlier to create a dataframe.\n",
    "ks_large_duration_dataframe = pd.read_sql_query(\n",
    "    query_ks, \n",
    "    con= engine)\n",
    "display(ks_large_duration_dataframe)\n",
    "\n",
    "indiegogo_duration_dataframe = pd.read_sql_query(\n",
    "    query_indiegogo, \n",
    "    con= engine)\n",
    "display(indiegogo_duration_dataframe)"
   ],
   "outputs": [
    {
     "output_type": "display_data",
     "data": {
      "text/plain": [
       "       main_category  duration\n",
       "0              Music        43\n",
       "1       Film & Video        59\n",
       "2       Film & Video         9\n",
       "3       Film & Video        40\n",
       "4            Theater        70\n",
       "...              ...       ...\n",
       "227494           Art         6\n",
       "227495         Games         1\n",
       "227496         Games         2\n",
       "227497         Games         4\n",
       "227498         Games         1\n",
       "\n",
       "[227499 rows x 2 columns]"
      ],
      "text/html": [
       "<div>\n",
       "<style scoped>\n",
       "    .dataframe tbody tr th:only-of-type {\n",
       "        vertical-align: middle;\n",
       "    }\n",
       "\n",
       "    .dataframe tbody tr th {\n",
       "        vertical-align: top;\n",
       "    }\n",
       "\n",
       "    .dataframe thead th {\n",
       "        text-align: right;\n",
       "    }\n",
       "</style>\n",
       "<table border=\"1\" class=\"dataframe\">\n",
       "  <thead>\n",
       "    <tr style=\"text-align: right;\">\n",
       "      <th></th>\n",
       "      <th>main_category</th>\n",
       "      <th>duration</th>\n",
       "    </tr>\n",
       "  </thead>\n",
       "  <tbody>\n",
       "    <tr>\n",
       "      <th>0</th>\n",
       "      <td>Music</td>\n",
       "      <td>43</td>\n",
       "    </tr>\n",
       "    <tr>\n",
       "      <th>1</th>\n",
       "      <td>Film &amp; Video</td>\n",
       "      <td>59</td>\n",
       "    </tr>\n",
       "    <tr>\n",
       "      <th>2</th>\n",
       "      <td>Film &amp; Video</td>\n",
       "      <td>9</td>\n",
       "    </tr>\n",
       "    <tr>\n",
       "      <th>3</th>\n",
       "      <td>Film &amp; Video</td>\n",
       "      <td>40</td>\n",
       "    </tr>\n",
       "    <tr>\n",
       "      <th>4</th>\n",
       "      <td>Theater</td>\n",
       "      <td>70</td>\n",
       "    </tr>\n",
       "    <tr>\n",
       "      <th>...</th>\n",
       "      <td>...</td>\n",
       "      <td>...</td>\n",
       "    </tr>\n",
       "    <tr>\n",
       "      <th>227494</th>\n",
       "      <td>Art</td>\n",
       "      <td>6</td>\n",
       "    </tr>\n",
       "    <tr>\n",
       "      <th>227495</th>\n",
       "      <td>Games</td>\n",
       "      <td>1</td>\n",
       "    </tr>\n",
       "    <tr>\n",
       "      <th>227496</th>\n",
       "      <td>Games</td>\n",
       "      <td>2</td>\n",
       "    </tr>\n",
       "    <tr>\n",
       "      <th>227497</th>\n",
       "      <td>Games</td>\n",
       "      <td>4</td>\n",
       "    </tr>\n",
       "    <tr>\n",
       "      <th>227498</th>\n",
       "      <td>Games</td>\n",
       "      <td>1</td>\n",
       "    </tr>\n",
       "  </tbody>\n",
       "</table>\n",
       "<p>227499 rows × 2 columns</p>\n",
       "</div>"
      ]
     },
     "metadata": {}
    },
    {
     "output_type": "display_data",
     "data": {
      "text/plain": [
       "     main_category  duration\n",
       "0       Technology        21\n",
       "1       Journalism        22\n",
       "2       Journalism        22\n",
       "3      Photography        30\n",
       "4       Journalism       120\n",
       "...            ...       ...\n",
       "9304          Food        40\n",
       "9305    Technology        34\n",
       "9306    Technology         7\n",
       "9307    Journalism        14\n",
       "9308   Photography        60\n",
       "\n",
       "[9309 rows x 2 columns]"
      ],
      "text/html": [
       "<div>\n",
       "<style scoped>\n",
       "    .dataframe tbody tr th:only-of-type {\n",
       "        vertical-align: middle;\n",
       "    }\n",
       "\n",
       "    .dataframe tbody tr th {\n",
       "        vertical-align: top;\n",
       "    }\n",
       "\n",
       "    .dataframe thead th {\n",
       "        text-align: right;\n",
       "    }\n",
       "</style>\n",
       "<table border=\"1\" class=\"dataframe\">\n",
       "  <thead>\n",
       "    <tr style=\"text-align: right;\">\n",
       "      <th></th>\n",
       "      <th>main_category</th>\n",
       "      <th>duration</th>\n",
       "    </tr>\n",
       "  </thead>\n",
       "  <tbody>\n",
       "    <tr>\n",
       "      <th>0</th>\n",
       "      <td>Technology</td>\n",
       "      <td>21</td>\n",
       "    </tr>\n",
       "    <tr>\n",
       "      <th>1</th>\n",
       "      <td>Journalism</td>\n",
       "      <td>22</td>\n",
       "    </tr>\n",
       "    <tr>\n",
       "      <th>2</th>\n",
       "      <td>Journalism</td>\n",
       "      <td>22</td>\n",
       "    </tr>\n",
       "    <tr>\n",
       "      <th>3</th>\n",
       "      <td>Photography</td>\n",
       "      <td>30</td>\n",
       "    </tr>\n",
       "    <tr>\n",
       "      <th>4</th>\n",
       "      <td>Journalism</td>\n",
       "      <td>120</td>\n",
       "    </tr>\n",
       "    <tr>\n",
       "      <th>...</th>\n",
       "      <td>...</td>\n",
       "      <td>...</td>\n",
       "    </tr>\n",
       "    <tr>\n",
       "      <th>9304</th>\n",
       "      <td>Food</td>\n",
       "      <td>40</td>\n",
       "    </tr>\n",
       "    <tr>\n",
       "      <th>9305</th>\n",
       "      <td>Technology</td>\n",
       "      <td>34</td>\n",
       "    </tr>\n",
       "    <tr>\n",
       "      <th>9306</th>\n",
       "      <td>Technology</td>\n",
       "      <td>7</td>\n",
       "    </tr>\n",
       "    <tr>\n",
       "      <th>9307</th>\n",
       "      <td>Journalism</td>\n",
       "      <td>14</td>\n",
       "    </tr>\n",
       "    <tr>\n",
       "      <th>9308</th>\n",
       "      <td>Photography</td>\n",
       "      <td>60</td>\n",
       "    </tr>\n",
       "  </tbody>\n",
       "</table>\n",
       "<p>9309 rows × 2 columns</p>\n",
       "</div>"
      ]
     },
     "metadata": {}
    }
   ],
   "metadata": {}
  },
  {
   "cell_type": "code",
   "execution_count": 449,
   "source": [
    "# Create a SQL query to get the main_category and \n",
    "# duration of the Kickstarter Large dataframe and \n",
    "# group them by main_category and get its average duration days.\n",
    "query=\"\"\"SELECT\n",
    "   main_category, AVG(duration) AS average_duration_days\n",
    "FROM\n",
    "  kickstarter_large\n",
    "GROUP BY\n",
    "  main_category\n",
    "ORDER BY \n",
    "    AVG(duration) DESC,\n",
    "    main_category DESC;\n",
    "\"\"\"\n",
    "# This will let us read the query we applied earlier to create a dataframe.\n",
    "ks_large_groupby_maincategory_df = pd.read_sql_query(\n",
    "    query, \n",
    "    con= engine)\n",
    "ks_large_groupby_maincategory_df\n"
   ],
   "outputs": [
    {
     "output_type": "execute_result",
     "data": {
      "text/plain": [
       "  main_category  average_duration_days\n",
       "0    Technology              34.203560\n",
       "1         Music              33.978123\n",
       "2  Film & Video              33.656602\n",
       "3    Journalism              32.861840\n",
       "4          Food              32.844168\n",
       "5   Photography              32.257829\n",
       "6       Theater              31.995545\n",
       "7         Games              31.160263\n",
       "8           Art              31.062123"
      ],
      "text/html": [
       "<div>\n",
       "<style scoped>\n",
       "    .dataframe tbody tr th:only-of-type {\n",
       "        vertical-align: middle;\n",
       "    }\n",
       "\n",
       "    .dataframe tbody tr th {\n",
       "        vertical-align: top;\n",
       "    }\n",
       "\n",
       "    .dataframe thead th {\n",
       "        text-align: right;\n",
       "    }\n",
       "</style>\n",
       "<table border=\"1\" class=\"dataframe\">\n",
       "  <thead>\n",
       "    <tr style=\"text-align: right;\">\n",
       "      <th></th>\n",
       "      <th>main_category</th>\n",
       "      <th>average_duration_days</th>\n",
       "    </tr>\n",
       "  </thead>\n",
       "  <tbody>\n",
       "    <tr>\n",
       "      <th>0</th>\n",
       "      <td>Technology</td>\n",
       "      <td>34.203560</td>\n",
       "    </tr>\n",
       "    <tr>\n",
       "      <th>1</th>\n",
       "      <td>Music</td>\n",
       "      <td>33.978123</td>\n",
       "    </tr>\n",
       "    <tr>\n",
       "      <th>2</th>\n",
       "      <td>Film &amp; Video</td>\n",
       "      <td>33.656602</td>\n",
       "    </tr>\n",
       "    <tr>\n",
       "      <th>3</th>\n",
       "      <td>Journalism</td>\n",
       "      <td>32.861840</td>\n",
       "    </tr>\n",
       "    <tr>\n",
       "      <th>4</th>\n",
       "      <td>Food</td>\n",
       "      <td>32.844168</td>\n",
       "    </tr>\n",
       "    <tr>\n",
       "      <th>5</th>\n",
       "      <td>Photography</td>\n",
       "      <td>32.257829</td>\n",
       "    </tr>\n",
       "    <tr>\n",
       "      <th>6</th>\n",
       "      <td>Theater</td>\n",
       "      <td>31.995545</td>\n",
       "    </tr>\n",
       "    <tr>\n",
       "      <th>7</th>\n",
       "      <td>Games</td>\n",
       "      <td>31.160263</td>\n",
       "    </tr>\n",
       "    <tr>\n",
       "      <th>8</th>\n",
       "      <td>Art</td>\n",
       "      <td>31.062123</td>\n",
       "    </tr>\n",
       "  </tbody>\n",
       "</table>\n",
       "</div>"
      ]
     },
     "metadata": {},
     "execution_count": 449
    }
   ],
   "metadata": {}
  },
  {
   "cell_type": "code",
   "execution_count": 450,
   "source": [
    "# This will create a bar plot to visualize the average duration of \n",
    "# the projects per main category in Kickstarter.\n",
    "\n",
    "ks_lrg_duration_hvplot = ks_large_groupby_maincategory_df.hvplot(kind='bar',\n",
    "                                            x='main_category',\n",
    "                                            ylim=(30.0,35.0),\n",
    "                                            rot=60,\n",
    "                                            title=\"Kickstarter's Average Duration Days of Each Main Category\",\n",
    "                                            hover_color= 'orange',\n",
    "                                            color = 'green'\n",
    "                                            )\n",
    "ks_lrg_duration_hvplot"
   ],
   "outputs": [
    {
     "output_type": "display_data",
     "data": {},
     "metadata": {}
    },
    {
     "output_type": "execute_result",
     "data": {
      "application/vnd.holoviews_exec.v0+json": "",
      "text/plain": [
       ":Bars   [main_category]   (average_duration_days)"
      ],
      "text/html": [
       "<div id='2091'>\n",
       "\n",
       "\n",
       "\n",
       "\n",
       "\n",
       "  <div class=\"bk-root\" id=\"c811418b-98c4-4153-add7-855d241db483\" data-root-id=\"2091\"></div>\n",
       "</div>\n",
       "<script type=\"application/javascript\">(function(root) {\n",
       "  function embed_document(root) {\n",
       "    var docs_json = {\"0f1ea1c8-51dd-4113-9ce7-57a0f2e92a95\":{\"roots\":{\"references\":[{\"attributes\":{},\"id\":\"2114\",\"type\":\"WheelZoomTool\"},{\"attributes\":{\"children\":[{\"id\":\"2092\"},{\"id\":\"2096\"},{\"id\":\"2154\"}],\"margin\":[0,0,0,0],\"name\":\"Row03425\",\"tags\":[\"embedded\"]},\"id\":\"2091\",\"type\":\"Row\"},{\"attributes\":{\"overlay\":{\"id\":\"2117\"}},\"id\":\"2115\",\"type\":\"BoxZoomTool\"},{\"attributes\":{},\"id\":\"2109\",\"type\":\"BasicTicker\"},{\"attributes\":{\"axis_label\":\"average_duration_days\",\"bounds\":\"auto\",\"formatter\":{\"id\":\"2136\"},\"major_label_orientation\":\"horizontal\",\"ticker\":{\"id\":\"2109\"}},\"id\":\"2108\",\"type\":\"LinearAxis\"},{\"attributes\":{\"axis_label\":\"main_category\",\"bounds\":\"auto\",\"formatter\":{\"id\":\"2134\"},\"major_label_orientation\":1.0471975511965976,\"ticker\":{\"id\":\"2106\"}},\"id\":\"2105\",\"type\":\"CategoricalAxis\"},{\"attributes\":{\"active_drag\":\"auto\",\"active_inspect\":\"auto\",\"active_multi\":null,\"active_scroll\":\"auto\",\"active_tap\":\"auto\",\"tools\":[{\"id\":\"2095\"},{\"id\":\"2112\"},{\"id\":\"2113\"},{\"id\":\"2114\"},{\"id\":\"2115\"},{\"id\":\"2116\"}]},\"id\":\"2118\",\"type\":\"Toolbar\"},{\"attributes\":{\"end\":35.0,\"reset_end\":35.0,\"reset_start\":30.0,\"start\":30.0,\"tags\":[[[\"average_duration_days\",\"average_duration_days\",null]]]},\"id\":\"2094\",\"type\":\"Range1d\"},{\"attributes\":{\"data_source\":{\"id\":\"2125\"},\"glyph\":{\"id\":\"2128\"},\"hover_glyph\":{\"id\":\"2130\"},\"muted_glyph\":{\"id\":\"2131\"},\"nonselection_glyph\":{\"id\":\"2129\"},\"selection_glyph\":null,\"view\":{\"id\":\"2133\"}},\"id\":\"2132\",\"type\":\"GlyphRenderer\"},{\"attributes\":{\"fill_color\":{\"value\":\"green\"},\"top\":{\"field\":\"average_duration_days\"},\"width\":{\"value\":0.8},\"x\":{\"field\":\"main_category\"}},\"id\":\"2128\",\"type\":\"VBar\"},{\"attributes\":{},\"id\":\"2112\",\"type\":\"SaveTool\"},{\"attributes\":{\"data\":{\"average_duration_days\":{\"__ndarray__\":\"kVbwPA4aQUDnlWYiM/1AQGG5noYL1EBACiwJylBuQEDc/YOvDWxAQM2A0YgAIUBAAKfTENz+P0CxEwz+Bik/QPhoDkznDz9A\",\"dtype\":\"float64\",\"order\":\"little\",\"shape\":[9]},\"main_category\":[\"Technology\",\"Music\",\"Film & Video\",\"Journalism\",\"Food\",\"Photography\",\"Theater\",\"Games\",\"Art\"]},\"selected\":{\"id\":\"2126\"},\"selection_policy\":{\"id\":\"2145\"}},\"id\":\"2125\",\"type\":\"ColumnDataSource\"},{\"attributes\":{\"margin\":[5,5,5,5],\"name\":\"HSpacer03429\",\"sizing_mode\":\"stretch_width\"},\"id\":\"2092\",\"type\":\"Spacer\"},{\"attributes\":{\"axis\":{\"id\":\"2108\"},\"dimension\":1,\"grid_line_color\":null,\"ticker\":null},\"id\":\"2111\",\"type\":\"Grid\"},{\"attributes\":{\"fill_alpha\":{\"value\":0.1},\"fill_color\":{\"value\":\"green\"},\"line_alpha\":{\"value\":0.1},\"top\":{\"field\":\"average_duration_days\"},\"width\":{\"value\":0.8},\"x\":{\"field\":\"main_category\"}},\"id\":\"2129\",\"type\":\"VBar\"},{\"attributes\":{\"fill_alpha\":{\"value\":0.2},\"fill_color\":{\"value\":\"green\"},\"line_alpha\":{\"value\":0.2},\"top\":{\"field\":\"average_duration_days\"},\"width\":{\"value\":0.8},\"x\":{\"field\":\"main_category\"}},\"id\":\"2131\",\"type\":\"VBar\"},{\"attributes\":{},\"id\":\"2116\",\"type\":\"ResetTool\"},{\"attributes\":{\"bottom_units\":\"screen\",\"fill_alpha\":0.5,\"fill_color\":\"lightgrey\",\"left_units\":\"screen\",\"level\":\"overlay\",\"line_alpha\":1.0,\"line_color\":\"black\",\"line_dash\":[4,4],\"line_width\":2,\"right_units\":\"screen\",\"top_units\":\"screen\"},\"id\":\"2117\",\"type\":\"BoxAnnotation\"},{\"attributes\":{\"margin\":[5,5,5,5],\"name\":\"HSpacer03430\",\"sizing_mode\":\"stretch_width\"},\"id\":\"2154\",\"type\":\"Spacer\"},{\"attributes\":{},\"id\":\"2101\",\"type\":\"CategoricalScale\"},{\"attributes\":{\"source\":{\"id\":\"2125\"}},\"id\":\"2133\",\"type\":\"CDSView\"},{\"attributes\":{\"below\":[{\"id\":\"2105\"}],\"center\":[{\"id\":\"2107\"},{\"id\":\"2111\"}],\"left\":[{\"id\":\"2108\"}],\"margin\":[5,5,5,5],\"min_border_bottom\":10,\"min_border_left\":10,\"min_border_right\":10,\"min_border_top\":10,\"plot_height\":300,\"plot_width\":700,\"renderers\":[{\"id\":\"2132\"}],\"sizing_mode\":\"fixed\",\"title\":{\"id\":\"2097\"},\"toolbar\":{\"id\":\"2118\"},\"x_range\":{\"id\":\"2093\"},\"x_scale\":{\"id\":\"2101\"},\"y_range\":{\"id\":\"2094\"},\"y_scale\":{\"id\":\"2103\"}},\"id\":\"2096\",\"subtype\":\"Figure\",\"type\":\"Plot\"},{\"attributes\":{\"fill_color\":{\"value\":\"orange\"},\"line_color\":{\"value\":\"orange\"},\"top\":{\"field\":\"average_duration_days\"},\"width\":{\"value\":0.8},\"x\":{\"field\":\"main_category\"}},\"id\":\"2130\",\"type\":\"VBar\"},{\"attributes\":{\"factors\":[\"Technology\",\"Music\",\"Film & Video\",\"Journalism\",\"Food\",\"Photography\",\"Theater\",\"Games\",\"Art\"],\"tags\":[[[\"main_category\",\"main_category\",null]]]},\"id\":\"2093\",\"type\":\"FactorRange\"},{\"attributes\":{},\"id\":\"2134\",\"type\":\"CategoricalTickFormatter\"},{\"attributes\":{},\"id\":\"2106\",\"type\":\"CategoricalTicker\"},{\"attributes\":{\"text\":\"Kickstarter's Average Duration Days of Each Main Category\",\"text_color\":{\"value\":\"black\"},\"text_font_size\":{\"value\":\"12pt\"}},\"id\":\"2097\",\"type\":\"Title\"},{\"attributes\":{},\"id\":\"2113\",\"type\":\"PanTool\"},{\"attributes\":{\"axis\":{\"id\":\"2105\"},\"grid_line_color\":null,\"ticker\":null},\"id\":\"2107\",\"type\":\"Grid\"},{\"attributes\":{},\"id\":\"2126\",\"type\":\"Selection\"},{\"attributes\":{},\"id\":\"2103\",\"type\":\"LinearScale\"},{\"attributes\":{\"callback\":null,\"renderers\":[{\"id\":\"2132\"}],\"tags\":[\"hv_created\"],\"tooltips\":[[\"main_category\",\"@{main_category}\"],[\"average_duration_days\",\"@{average_duration_days}\"]]},\"id\":\"2095\",\"type\":\"HoverTool\"},{\"attributes\":{},\"id\":\"2145\",\"type\":\"UnionRenderers\"},{\"attributes\":{},\"id\":\"2136\",\"type\":\"BasicTickFormatter\"}],\"root_ids\":[\"2091\"]},\"title\":\"Bokeh Application\",\"version\":\"2.2.3\"}};\n",
       "    var render_items = [{\"docid\":\"0f1ea1c8-51dd-4113-9ce7-57a0f2e92a95\",\"root_ids\":[\"2091\"],\"roots\":{\"2091\":\"c811418b-98c4-4153-add7-855d241db483\"}}];\n",
       "    root.Bokeh.embed.embed_items_notebook(docs_json, render_items);\n",
       "  }\n",
       "  if (root.Bokeh !== undefined && root.Bokeh.Panel !== undefined) {\n",
       "    embed_document(root);\n",
       "  } else {\n",
       "    var attempts = 0;\n",
       "    var timer = setInterval(function(root) {\n",
       "      if (root.Bokeh !== undefined && root.Bokeh.Panel !== undefined) {\n",
       "        clearInterval(timer);\n",
       "        embed_document(root);\n",
       "      } else if (document.readyState == \"complete\") {\n",
       "        attempts++;\n",
       "        if (attempts > 100) {\n",
       "          clearInterval(timer);\n",
       "          console.log(\"Bokeh: ERROR: Unable to run BokehJS code because BokehJS library is missing\");\n",
       "        }\n",
       "      }\n",
       "    }, 10, root)\n",
       "  }\n",
       "})(window);</script>"
      ]
     },
     "metadata": {
      "application/vnd.holoviews_exec.v0+json": {
       "id": "2091"
      }
     },
     "execution_count": 450
    }
   ],
   "metadata": {}
  },
  {
   "cell_type": "code",
   "execution_count": 451,
   "source": [
    "# Create a SQL query to get the main_category and \n",
    "# duration of the Indiegogo  dataframe and \n",
    "# group them by main_category and get its average duration days.\n",
    "query=\"\"\"SELECT\n",
    "   main_category, AVG(duration) AS average_duration_days\n",
    "FROM\n",
    "  indie_gogo\n",
    "GROUP BY\n",
    "  main_category\n",
    "ORDER BY \n",
    "    AVG(duration) DESC,\n",
    "    main_category DESC;\n",
    "\"\"\"\n",
    "# This will let us read the query we applied earlier to create a dataframe.\n",
    "indiegogo_groupby_maincategory_df = pd.read_sql_query(\n",
    "    query, \n",
    "    con= engine)\n",
    "indiegogo_groupby_maincategory_df"
   ],
   "outputs": [
    {
     "output_type": "execute_result",
     "data": {
      "text/plain": [
       "  main_category  average_duration_days\n",
       "0          Food              44.834425\n",
       "1         Music              44.610644\n",
       "2           Art              43.418966\n",
       "3       Theater              43.300000\n",
       "4  Film & Video              43.038050\n",
       "5   Photography              42.939837\n",
       "6    Journalism              42.801370\n",
       "7    Technology              42.169352\n",
       "8         Games              40.861176"
      ],
      "text/html": [
       "<div>\n",
       "<style scoped>\n",
       "    .dataframe tbody tr th:only-of-type {\n",
       "        vertical-align: middle;\n",
       "    }\n",
       "\n",
       "    .dataframe tbody tr th {\n",
       "        vertical-align: top;\n",
       "    }\n",
       "\n",
       "    .dataframe thead th {\n",
       "        text-align: right;\n",
       "    }\n",
       "</style>\n",
       "<table border=\"1\" class=\"dataframe\">\n",
       "  <thead>\n",
       "    <tr style=\"text-align: right;\">\n",
       "      <th></th>\n",
       "      <th>main_category</th>\n",
       "      <th>average_duration_days</th>\n",
       "    </tr>\n",
       "  </thead>\n",
       "  <tbody>\n",
       "    <tr>\n",
       "      <th>0</th>\n",
       "      <td>Food</td>\n",
       "      <td>44.834425</td>\n",
       "    </tr>\n",
       "    <tr>\n",
       "      <th>1</th>\n",
       "      <td>Music</td>\n",
       "      <td>44.610644</td>\n",
       "    </tr>\n",
       "    <tr>\n",
       "      <th>2</th>\n",
       "      <td>Art</td>\n",
       "      <td>43.418966</td>\n",
       "    </tr>\n",
       "    <tr>\n",
       "      <th>3</th>\n",
       "      <td>Theater</td>\n",
       "      <td>43.300000</td>\n",
       "    </tr>\n",
       "    <tr>\n",
       "      <th>4</th>\n",
       "      <td>Film &amp; Video</td>\n",
       "      <td>43.038050</td>\n",
       "    </tr>\n",
       "    <tr>\n",
       "      <th>5</th>\n",
       "      <td>Photography</td>\n",
       "      <td>42.939837</td>\n",
       "    </tr>\n",
       "    <tr>\n",
       "      <th>6</th>\n",
       "      <td>Journalism</td>\n",
       "      <td>42.801370</td>\n",
       "    </tr>\n",
       "    <tr>\n",
       "      <th>7</th>\n",
       "      <td>Technology</td>\n",
       "      <td>42.169352</td>\n",
       "    </tr>\n",
       "    <tr>\n",
       "      <th>8</th>\n",
       "      <td>Games</td>\n",
       "      <td>40.861176</td>\n",
       "    </tr>\n",
       "  </tbody>\n",
       "</table>\n",
       "</div>"
      ]
     },
     "metadata": {},
     "execution_count": 451
    }
   ],
   "metadata": {}
  },
  {
   "cell_type": "code",
   "execution_count": 452,
   "source": [
    "# This will create a bar plot to visualize the average duration of the\n",
    "# projects per main category in Indiegogo.\n",
    "\n",
    "indiegogo_duration_hvplot = indiegogo_groupby_maincategory_df.hvplot(kind='bar',\n",
    "                                            x='main_category',\n",
    "                                            ylim=(20,46.0),\n",
    "                                            rot=60,\n",
    "                                            title=\"Indiegogo's Average Duration Days of Each Main Category\",\n",
    "                                            hover_color= 'orange',\n",
    "                                            color = 'magenta'\n",
    "                                            )\n",
    "indiegogo_duration_hvplot"
   ],
   "outputs": [
    {
     "output_type": "display_data",
     "data": {},
     "metadata": {}
    },
    {
     "output_type": "execute_result",
     "data": {
      "application/vnd.holoviews_exec.v0+json": "",
      "text/plain": [
       ":Bars   [main_category]   (average_duration_days)"
      ],
      "text/html": [
       "<div id='2196'>\n",
       "\n",
       "\n",
       "\n",
       "\n",
       "\n",
       "  <div class=\"bk-root\" id=\"53ec4062-ffdf-45a2-b2c5-8e9d3b3bedf4\" data-root-id=\"2196\"></div>\n",
       "</div>\n",
       "<script type=\"application/javascript\">(function(root) {\n",
       "  function embed_document(root) {\n",
       "    var docs_json = {\"01babe6a-6119-4d87-be2e-900dc987e591\":{\"roots\":{\"references\":[{\"attributes\":{\"callback\":null,\"renderers\":[{\"id\":\"2237\"}],\"tags\":[\"hv_created\"],\"tooltips\":[[\"main_category\",\"@{main_category}\"],[\"average_duration_days\",\"@{average_duration_days}\"]]},\"id\":\"2200\",\"type\":\"HoverTool\"},{\"attributes\":{\"margin\":[5,5,5,5],\"name\":\"HSpacer03580\",\"sizing_mode\":\"stretch_width\"},\"id\":\"2259\",\"type\":\"Spacer\"},{\"attributes\":{},\"id\":\"2231\",\"type\":\"Selection\"},{\"attributes\":{\"below\":[{\"id\":\"2210\"}],\"center\":[{\"id\":\"2212\"},{\"id\":\"2216\"}],\"left\":[{\"id\":\"2213\"}],\"margin\":[5,5,5,5],\"min_border_bottom\":10,\"min_border_left\":10,\"min_border_right\":10,\"min_border_top\":10,\"plot_height\":300,\"plot_width\":700,\"renderers\":[{\"id\":\"2237\"}],\"sizing_mode\":\"fixed\",\"title\":{\"id\":\"2202\"},\"toolbar\":{\"id\":\"2223\"},\"x_range\":{\"id\":\"2198\"},\"x_scale\":{\"id\":\"2206\"},\"y_range\":{\"id\":\"2199\"},\"y_scale\":{\"id\":\"2208\"}},\"id\":\"2201\",\"subtype\":\"Figure\",\"type\":\"Plot\"},{\"attributes\":{\"axis\":{\"id\":\"2213\"},\"dimension\":1,\"grid_line_color\":null,\"ticker\":null},\"id\":\"2216\",\"type\":\"Grid\"},{\"attributes\":{\"fill_alpha\":{\"value\":0.1},\"fill_color\":{\"value\":\"magenta\"},\"line_alpha\":{\"value\":0.1},\"top\":{\"field\":\"average_duration_days\"},\"width\":{\"value\":0.8},\"x\":{\"field\":\"main_category\"}},\"id\":\"2234\",\"type\":\"VBar\"},{\"attributes\":{\"margin\":[5,5,5,5],\"name\":\"HSpacer03579\",\"sizing_mode\":\"stretch_width\"},\"id\":\"2197\",\"type\":\"Spacer\"},{\"attributes\":{\"overlay\":{\"id\":\"2222\"}},\"id\":\"2220\",\"type\":\"BoxZoomTool\"},{\"attributes\":{\"axis_label\":\"average_duration_days\",\"bounds\":\"auto\",\"formatter\":{\"id\":\"2241\"},\"major_label_orientation\":\"horizontal\",\"ticker\":{\"id\":\"2214\"}},\"id\":\"2213\",\"type\":\"LinearAxis\"},{\"attributes\":{\"end\":46.0,\"reset_end\":46.0,\"reset_start\":20,\"start\":20,\"tags\":[[[\"average_duration_days\",\"average_duration_days\",null]]]},\"id\":\"2199\",\"type\":\"Range1d\"},{\"attributes\":{\"fill_alpha\":{\"value\":0.2},\"fill_color\":{\"value\":\"magenta\"},\"line_alpha\":{\"value\":0.2},\"top\":{\"field\":\"average_duration_days\"},\"width\":{\"value\":0.8},\"x\":{\"field\":\"main_category\"}},\"id\":\"2236\",\"type\":\"VBar\"},{\"attributes\":{},\"id\":\"2250\",\"type\":\"UnionRenderers\"},{\"attributes\":{},\"id\":\"2221\",\"type\":\"ResetTool\"},{\"attributes\":{\"children\":[{\"id\":\"2197\"},{\"id\":\"2201\"},{\"id\":\"2259\"}],\"margin\":[0,0,0,0],\"name\":\"Row03575\",\"tags\":[\"embedded\"]},\"id\":\"2196\",\"type\":\"Row\"},{\"attributes\":{\"axis_label\":\"main_category\",\"bounds\":\"auto\",\"formatter\":{\"id\":\"2239\"},\"major_label_orientation\":1.0471975511965976,\"ticker\":{\"id\":\"2211\"}},\"id\":\"2210\",\"type\":\"CategoricalAxis\"},{\"attributes\":{\"factors\":[\"Food\",\"Music\",\"Art\",\"Theater\",\"Film & Video\",\"Photography\",\"Journalism\",\"Technology\",\"Games\"],\"tags\":[[[\"main_category\",\"main_category\",null]]]},\"id\":\"2198\",\"type\":\"FactorRange\"},{\"attributes\":{\"source\":{\"id\":\"2230\"}},\"id\":\"2238\",\"type\":\"CDSView\"},{\"attributes\":{\"bottom_units\":\"screen\",\"fill_alpha\":0.5,\"fill_color\":\"lightgrey\",\"left_units\":\"screen\",\"level\":\"overlay\",\"line_alpha\":1.0,\"line_color\":\"black\",\"line_dash\":[4,4],\"line_width\":2,\"right_units\":\"screen\",\"top_units\":\"screen\"},\"id\":\"2222\",\"type\":\"BoxAnnotation\"},{\"attributes\":{},\"id\":\"2217\",\"type\":\"SaveTool\"},{\"attributes\":{\"text\":\"Indiegogo's Average Duration Days of Each Main Category\",\"text_color\":{\"value\":\"black\"},\"text_font_size\":{\"value\":\"12pt\"}},\"id\":\"2202\",\"type\":\"Title\"},{\"attributes\":{\"active_drag\":\"auto\",\"active_inspect\":\"auto\",\"active_multi\":null,\"active_scroll\":\"auto\",\"active_tap\":\"auto\",\"tools\":[{\"id\":\"2200\"},{\"id\":\"2217\"},{\"id\":\"2218\"},{\"id\":\"2219\"},{\"id\":\"2220\"},{\"id\":\"2221\"}]},\"id\":\"2223\",\"type\":\"Toolbar\"},{\"attributes\":{\"axis\":{\"id\":\"2210\"},\"grid_line_color\":null,\"ticker\":null},\"id\":\"2212\",\"type\":\"Grid\"},{\"attributes\":{},\"id\":\"2206\",\"type\":\"CategoricalScale\"},{\"attributes\":{},\"id\":\"2219\",\"type\":\"WheelZoomTool\"},{\"attributes\":{},\"id\":\"2208\",\"type\":\"LinearScale\"},{\"attributes\":{},\"id\":\"2214\",\"type\":\"BasicTicker\"},{\"attributes\":{},\"id\":\"2239\",\"type\":\"CategoricalTickFormatter\"},{\"attributes\":{},\"id\":\"2211\",\"type\":\"CategoricalTicker\"},{\"attributes\":{\"fill_color\":{\"value\":\"orange\"},\"line_color\":{\"value\":\"orange\"},\"top\":{\"field\":\"average_duration_days\"},\"width\":{\"value\":0.8},\"x\":{\"field\":\"main_category\"}},\"id\":\"2235\",\"type\":\"VBar\"},{\"attributes\":{},\"id\":\"2241\",\"type\":\"BasicTickFormatter\"},{\"attributes\":{},\"id\":\"2218\",\"type\":\"PanTool\"},{\"attributes\":{\"data\":{\"average_duration_days\":{\"__ndarray__\":\"Yhmubc5qRkCXKU6XKU5GQAtafamgtUVAZmZmZmamRUDKIQnS3oRFQHjJhJdMeEVAadKkSZNmRUAzHAJSrRVFQG6h1Ac7bkRA\",\"dtype\":\"float64\",\"order\":\"little\",\"shape\":[9]},\"main_category\":[\"Food\",\"Music\",\"Art\",\"Theater\",\"Film & Video\",\"Photography\",\"Journalism\",\"Technology\",\"Games\"]},\"selected\":{\"id\":\"2231\"},\"selection_policy\":{\"id\":\"2250\"}},\"id\":\"2230\",\"type\":\"ColumnDataSource\"},{\"attributes\":{\"data_source\":{\"id\":\"2230\"},\"glyph\":{\"id\":\"2233\"},\"hover_glyph\":{\"id\":\"2235\"},\"muted_glyph\":{\"id\":\"2236\"},\"nonselection_glyph\":{\"id\":\"2234\"},\"selection_glyph\":null,\"view\":{\"id\":\"2238\"}},\"id\":\"2237\",\"type\":\"GlyphRenderer\"},{\"attributes\":{\"fill_color\":{\"value\":\"magenta\"},\"top\":{\"field\":\"average_duration_days\"},\"width\":{\"value\":0.8},\"x\":{\"field\":\"main_category\"}},\"id\":\"2233\",\"type\":\"VBar\"}],\"root_ids\":[\"2196\"]},\"title\":\"Bokeh Application\",\"version\":\"2.2.3\"}};\n",
       "    var render_items = [{\"docid\":\"01babe6a-6119-4d87-be2e-900dc987e591\",\"root_ids\":[\"2196\"],\"roots\":{\"2196\":\"53ec4062-ffdf-45a2-b2c5-8e9d3b3bedf4\"}}];\n",
       "    root.Bokeh.embed.embed_items_notebook(docs_json, render_items);\n",
       "  }\n",
       "  if (root.Bokeh !== undefined && root.Bokeh.Panel !== undefined) {\n",
       "    embed_document(root);\n",
       "  } else {\n",
       "    var attempts = 0;\n",
       "    var timer = setInterval(function(root) {\n",
       "      if (root.Bokeh !== undefined && root.Bokeh.Panel !== undefined) {\n",
       "        clearInterval(timer);\n",
       "        embed_document(root);\n",
       "      } else if (document.readyState == \"complete\") {\n",
       "        attempts++;\n",
       "        if (attempts > 100) {\n",
       "          clearInterval(timer);\n",
       "          console.log(\"Bokeh: ERROR: Unable to run BokehJS code because BokehJS library is missing\");\n",
       "        }\n",
       "      }\n",
       "    }, 10, root)\n",
       "  }\n",
       "})(window);</script>"
      ]
     },
     "metadata": {
      "application/vnd.holoviews_exec.v0+json": {
       "id": "2196"
      }
     },
     "execution_count": 452
    }
   ],
   "metadata": {}
  },
  {
   "cell_type": "markdown",
   "source": [
    "## Add SQL query to get the countries of Kickstarter and Indiegogo and get total the number of projects per country"
   ],
   "metadata": {}
  },
  {
   "cell_type": "code",
   "execution_count": 453,
   "source": [
    "# Create a SQL query to get the total number of projects in Kickstarter Large dataframe per country.\n",
    "query_ks_country = \"\"\"\n",
    "SELECT full_country_names AS Country, COUNT (*) AS Total_number_of_projects, lat, long \n",
    "FROM kickstarter_large\n",
    "GROUP BY full_country_names\n",
    "ORDER BY\n",
    "    total_number_of_projects DESC;\n",
    "\"\"\"\n",
    "\n",
    "# This will let us read the query we applied earlier to create a dataframe.\n",
    "ks_country_total_df = pd.read_sql_query(\n",
    "    query_ks_country, \n",
    "    con= engine)\n",
    "ks_country_total_df"
   ],
   "outputs": [
    {
     "output_type": "execute_result",
     "data": {
      "text/plain": [
       "           Country  Total_number_of_projects        lat        long\n",
       "0    United States                    180303  37.090240  -95.712891\n",
       "1   United Kingdom                     20374  55.378051   -3.435973\n",
       "2           Canada                      8055  56.130366 -106.346771\n",
       "3        Australia                      4169 -25.274398  133.775136\n",
       "4          Germany                      2367  51.165691   10.451526\n",
       "5           France                      1757  46.227638    2.213749\n",
       "6      Netherlands                      1638  52.132633    5.291266\n",
       "7            Italy                      1587  41.871940   12.567380\n",
       "8            Spain                      1319  40.463667   -3.749220\n",
       "9           Mexico                      1045  23.634501 -102.552784\n",
       "10          Sweden                      1025  60.128161   18.643501\n",
       "11     New Zealand                       830 -40.900557  174.885971\n",
       "12         Denmark                       603  56.263920    9.501785\n",
       "13         Ireland                       453  53.412910   -8.243890\n",
       "14     Switzerland                       421  46.818188    8.227512\n",
       "15          Norway                       406  60.472024    8.468946\n",
       "16         Belgium                       350  50.503887    4.469936\n",
       "17         Austria                       337  47.516231   14.550072\n",
       "18       Hong Kong                       231  22.396428  114.109497\n",
       "19       Singapore                       180   1.352083  103.819836\n",
       "20      Luxembourg                        38  49.815273    6.129583\n",
       "21           Japan                        11  36.204824  138.252924"
      ],
      "text/html": [
       "<div>\n",
       "<style scoped>\n",
       "    .dataframe tbody tr th:only-of-type {\n",
       "        vertical-align: middle;\n",
       "    }\n",
       "\n",
       "    .dataframe tbody tr th {\n",
       "        vertical-align: top;\n",
       "    }\n",
       "\n",
       "    .dataframe thead th {\n",
       "        text-align: right;\n",
       "    }\n",
       "</style>\n",
       "<table border=\"1\" class=\"dataframe\">\n",
       "  <thead>\n",
       "    <tr style=\"text-align: right;\">\n",
       "      <th></th>\n",
       "      <th>Country</th>\n",
       "      <th>Total_number_of_projects</th>\n",
       "      <th>lat</th>\n",
       "      <th>long</th>\n",
       "    </tr>\n",
       "  </thead>\n",
       "  <tbody>\n",
       "    <tr>\n",
       "      <th>0</th>\n",
       "      <td>United States</td>\n",
       "      <td>180303</td>\n",
       "      <td>37.090240</td>\n",
       "      <td>-95.712891</td>\n",
       "    </tr>\n",
       "    <tr>\n",
       "      <th>1</th>\n",
       "      <td>United Kingdom</td>\n",
       "      <td>20374</td>\n",
       "      <td>55.378051</td>\n",
       "      <td>-3.435973</td>\n",
       "    </tr>\n",
       "    <tr>\n",
       "      <th>2</th>\n",
       "      <td>Canada</td>\n",
       "      <td>8055</td>\n",
       "      <td>56.130366</td>\n",
       "      <td>-106.346771</td>\n",
       "    </tr>\n",
       "    <tr>\n",
       "      <th>3</th>\n",
       "      <td>Australia</td>\n",
       "      <td>4169</td>\n",
       "      <td>-25.274398</td>\n",
       "      <td>133.775136</td>\n",
       "    </tr>\n",
       "    <tr>\n",
       "      <th>4</th>\n",
       "      <td>Germany</td>\n",
       "      <td>2367</td>\n",
       "      <td>51.165691</td>\n",
       "      <td>10.451526</td>\n",
       "    </tr>\n",
       "    <tr>\n",
       "      <th>5</th>\n",
       "      <td>France</td>\n",
       "      <td>1757</td>\n",
       "      <td>46.227638</td>\n",
       "      <td>2.213749</td>\n",
       "    </tr>\n",
       "    <tr>\n",
       "      <th>6</th>\n",
       "      <td>Netherlands</td>\n",
       "      <td>1638</td>\n",
       "      <td>52.132633</td>\n",
       "      <td>5.291266</td>\n",
       "    </tr>\n",
       "    <tr>\n",
       "      <th>7</th>\n",
       "      <td>Italy</td>\n",
       "      <td>1587</td>\n",
       "      <td>41.871940</td>\n",
       "      <td>12.567380</td>\n",
       "    </tr>\n",
       "    <tr>\n",
       "      <th>8</th>\n",
       "      <td>Spain</td>\n",
       "      <td>1319</td>\n",
       "      <td>40.463667</td>\n",
       "      <td>-3.749220</td>\n",
       "    </tr>\n",
       "    <tr>\n",
       "      <th>9</th>\n",
       "      <td>Mexico</td>\n",
       "      <td>1045</td>\n",
       "      <td>23.634501</td>\n",
       "      <td>-102.552784</td>\n",
       "    </tr>\n",
       "    <tr>\n",
       "      <th>10</th>\n",
       "      <td>Sweden</td>\n",
       "      <td>1025</td>\n",
       "      <td>60.128161</td>\n",
       "      <td>18.643501</td>\n",
       "    </tr>\n",
       "    <tr>\n",
       "      <th>11</th>\n",
       "      <td>New Zealand</td>\n",
       "      <td>830</td>\n",
       "      <td>-40.900557</td>\n",
       "      <td>174.885971</td>\n",
       "    </tr>\n",
       "    <tr>\n",
       "      <th>12</th>\n",
       "      <td>Denmark</td>\n",
       "      <td>603</td>\n",
       "      <td>56.263920</td>\n",
       "      <td>9.501785</td>\n",
       "    </tr>\n",
       "    <tr>\n",
       "      <th>13</th>\n",
       "      <td>Ireland</td>\n",
       "      <td>453</td>\n",
       "      <td>53.412910</td>\n",
       "      <td>-8.243890</td>\n",
       "    </tr>\n",
       "    <tr>\n",
       "      <th>14</th>\n",
       "      <td>Switzerland</td>\n",
       "      <td>421</td>\n",
       "      <td>46.818188</td>\n",
       "      <td>8.227512</td>\n",
       "    </tr>\n",
       "    <tr>\n",
       "      <th>15</th>\n",
       "      <td>Norway</td>\n",
       "      <td>406</td>\n",
       "      <td>60.472024</td>\n",
       "      <td>8.468946</td>\n",
       "    </tr>\n",
       "    <tr>\n",
       "      <th>16</th>\n",
       "      <td>Belgium</td>\n",
       "      <td>350</td>\n",
       "      <td>50.503887</td>\n",
       "      <td>4.469936</td>\n",
       "    </tr>\n",
       "    <tr>\n",
       "      <th>17</th>\n",
       "      <td>Austria</td>\n",
       "      <td>337</td>\n",
       "      <td>47.516231</td>\n",
       "      <td>14.550072</td>\n",
       "    </tr>\n",
       "    <tr>\n",
       "      <th>18</th>\n",
       "      <td>Hong Kong</td>\n",
       "      <td>231</td>\n",
       "      <td>22.396428</td>\n",
       "      <td>114.109497</td>\n",
       "    </tr>\n",
       "    <tr>\n",
       "      <th>19</th>\n",
       "      <td>Singapore</td>\n",
       "      <td>180</td>\n",
       "      <td>1.352083</td>\n",
       "      <td>103.819836</td>\n",
       "    </tr>\n",
       "    <tr>\n",
       "      <th>20</th>\n",
       "      <td>Luxembourg</td>\n",
       "      <td>38</td>\n",
       "      <td>49.815273</td>\n",
       "      <td>6.129583</td>\n",
       "    </tr>\n",
       "    <tr>\n",
       "      <th>21</th>\n",
       "      <td>Japan</td>\n",
       "      <td>11</td>\n",
       "      <td>36.204824</td>\n",
       "      <td>138.252924</td>\n",
       "    </tr>\n",
       "  </tbody>\n",
       "</table>\n",
       "</div>"
      ]
     },
     "metadata": {},
     "execution_count": 453
    }
   ],
   "metadata": {}
  },
  {
   "cell_type": "code",
   "execution_count": 454,
   "source": [
    "# Create a SQL query to get the total number of projects in Kickstarter Large dataframe per country.\n",
    "query_indiegogo_country = \"\"\"\n",
    "SELECT full_country_names AS Country, COUNT (*) AS Total_number_of_projects, lat, long \n",
    "FROM indie_gogo\n",
    "GROUP BY full_country_names\n",
    "ORDER BY\n",
    "    total_number_of_projects DESC;\n",
    "\"\"\"\n",
    "\n",
    "# This will let us read the query we applied earlier to create a dataframe.\n",
    "indiegogo_country_total_df = pd.read_sql_query(\n",
    "    query_indiegogo_country, \n",
    "    con= engine)\n",
    "indiegogo_country_total_df"
   ],
   "outputs": [
    {
     "output_type": "execute_result",
     "data": {
      "text/plain": [
       "          Country  Total_number_of_projects        lat        long\n",
       "0   United States                      7456  37.090240  -95.712891\n",
       "1      Luxembourg                       686  49.815273    6.129583\n",
       "2  United Kingdom                       679  55.378051   -3.435973\n",
       "3          Canada                       384  56.130366 -106.346771\n",
       "4       Australia                       104 -25.274398  133.775136"
      ],
      "text/html": [
       "<div>\n",
       "<style scoped>\n",
       "    .dataframe tbody tr th:only-of-type {\n",
       "        vertical-align: middle;\n",
       "    }\n",
       "\n",
       "    .dataframe tbody tr th {\n",
       "        vertical-align: top;\n",
       "    }\n",
       "\n",
       "    .dataframe thead th {\n",
       "        text-align: right;\n",
       "    }\n",
       "</style>\n",
       "<table border=\"1\" class=\"dataframe\">\n",
       "  <thead>\n",
       "    <tr style=\"text-align: right;\">\n",
       "      <th></th>\n",
       "      <th>Country</th>\n",
       "      <th>Total_number_of_projects</th>\n",
       "      <th>lat</th>\n",
       "      <th>long</th>\n",
       "    </tr>\n",
       "  </thead>\n",
       "  <tbody>\n",
       "    <tr>\n",
       "      <th>0</th>\n",
       "      <td>United States</td>\n",
       "      <td>7456</td>\n",
       "      <td>37.090240</td>\n",
       "      <td>-95.712891</td>\n",
       "    </tr>\n",
       "    <tr>\n",
       "      <th>1</th>\n",
       "      <td>Luxembourg</td>\n",
       "      <td>686</td>\n",
       "      <td>49.815273</td>\n",
       "      <td>6.129583</td>\n",
       "    </tr>\n",
       "    <tr>\n",
       "      <th>2</th>\n",
       "      <td>United Kingdom</td>\n",
       "      <td>679</td>\n",
       "      <td>55.378051</td>\n",
       "      <td>-3.435973</td>\n",
       "    </tr>\n",
       "    <tr>\n",
       "      <th>3</th>\n",
       "      <td>Canada</td>\n",
       "      <td>384</td>\n",
       "      <td>56.130366</td>\n",
       "      <td>-106.346771</td>\n",
       "    </tr>\n",
       "    <tr>\n",
       "      <th>4</th>\n",
       "      <td>Australia</td>\n",
       "      <td>104</td>\n",
       "      <td>-25.274398</td>\n",
       "      <td>133.775136</td>\n",
       "    </tr>\n",
       "  </tbody>\n",
       "</table>\n",
       "</div>"
      ]
     },
     "metadata": {},
     "execution_count": 454
    }
   ],
   "metadata": {}
  },
  {
   "cell_type": "markdown",
   "source": [
    "## Create scatter mapbox plot for Kickstarter and Indiegogo countries and their respective total number of projects."
   ],
   "metadata": {}
  },
  {
   "cell_type": "code",
   "execution_count": 455,
   "source": [
    "# This will create a scatter mapbox plot for Kickstarter and  their respective longitude and latitude plotted in with total number of projects.\n",
    "ks_mapbox_plot = px.scatter_mapbox(\n",
    "    ks_country_total_df,\n",
    "    title='Kickstarter Total Projects per Country',\n",
    "    lat='lat',\n",
    "    lon='long',\n",
    "    size='Total_number_of_projects',\n",
    "    hover_name='Country',\n",
    "    size_max=60,\n",
    "    zoom= 11, center = {\"lat\": 37.090240, \"lon\": -95.712891},\n",
    "    color_discrete_sequence=[\"green\"],\n",
    "    height=500,\n",
    "    width=900\n",
    "   \n",
    ")\n",
    "ks_mapbox_plot"
   ],
   "outputs": [
    {
     "output_type": "display_data",
     "data": {
      "application/vnd.plotly.v1+json": {
       "config": {
        "plotlyServerURL": "https://plot.ly"
       },
       "data": [
        {
         "hovertemplate": "<b>%{hovertext}</b><br><br>Total_number_of_projects=%{marker.size}<br>lat=%{lat}<br>long=%{lon}<extra></extra>",
         "hovertext": [
          "United States",
          "United Kingdom",
          "Canada",
          "Australia",
          "Germany",
          "France",
          "Netherlands",
          "Italy",
          "Spain",
          "Mexico",
          "Sweden",
          "New Zealand",
          "Denmark",
          "Ireland",
          "Switzerland",
          "Norway",
          "Belgium",
          "Austria",
          "Hong Kong",
          "Singapore",
          "Luxembourg",
          "Japan"
         ],
         "lat": [
          37.09024,
          55.378051,
          56.130366,
          -25.274398,
          51.165691,
          46.227638,
          52.132633,
          41.87194,
          40.463667,
          23.634501,
          60.128161,
          -40.900557,
          56.26392,
          53.41291,
          46.818188,
          60.472024,
          50.503887,
          47.516231,
          22.396428,
          1.352083,
          49.815273,
          36.204824
         ],
         "legendgroup": "",
         "lon": [
          -95.712891,
          -3.435973,
          -106.346771,
          133.775136,
          10.451526,
          2.213749,
          5.291266,
          12.56738,
          -3.74922,
          -102.552784,
          18.643501,
          174.885971,
          9.501785,
          -8.24389,
          8.227512,
          8.468946,
          4.469936,
          14.550072,
          114.109497,
          103.819836,
          6.129583,
          138.252924
         ],
         "marker": {
          "color": "green",
          "size": [
           180303,
           20374,
           8055,
           4169,
           2367,
           1757,
           1638,
           1587,
           1319,
           1045,
           1025,
           830,
           603,
           453,
           421,
           406,
           350,
           337,
           231,
           180,
           38,
           11
          ],
          "sizemode": "area",
          "sizeref": 50.08416666666667
         },
         "mode": "markers",
         "name": "",
         "showlegend": false,
         "subplot": "mapbox",
         "type": "scattermapbox"
        }
       ],
       "layout": {
        "height": 500,
        "legend": {
         "itemsizing": "constant",
         "tracegroupgap": 0
        },
        "mapbox": {
         "accesstoken": "pk.eyJ1IjoibjhwYXR0ZXJzb24iLCJhIjoiY2txM2llbjNhMGoxbDJ2cGc0cHlob3V1aiJ9.8LrCxNxRAtu5Hhcqfu5QhA",
         "center": {
          "lat": 37.09024,
          "lon": -95.712891
         },
         "domain": {
          "x": [
           0,
           1
          ],
          "y": [
           0,
           1
          ]
         },
         "zoom": 11
        },
        "template": {
         "data": {
          "bar": [
           {
            "error_x": {
             "color": "#2a3f5f"
            },
            "error_y": {
             "color": "#2a3f5f"
            },
            "marker": {
             "line": {
              "color": "#E5ECF6",
              "width": 0.5
             }
            },
            "type": "bar"
           }
          ],
          "barpolar": [
           {
            "marker": {
             "line": {
              "color": "#E5ECF6",
              "width": 0.5
             }
            },
            "type": "barpolar"
           }
          ],
          "carpet": [
           {
            "aaxis": {
             "endlinecolor": "#2a3f5f",
             "gridcolor": "white",
             "linecolor": "white",
             "minorgridcolor": "white",
             "startlinecolor": "#2a3f5f"
            },
            "baxis": {
             "endlinecolor": "#2a3f5f",
             "gridcolor": "white",
             "linecolor": "white",
             "minorgridcolor": "white",
             "startlinecolor": "#2a3f5f"
            },
            "type": "carpet"
           }
          ],
          "choropleth": [
           {
            "colorbar": {
             "outlinewidth": 0,
             "ticks": ""
            },
            "type": "choropleth"
           }
          ],
          "contour": [
           {
            "colorbar": {
             "outlinewidth": 0,
             "ticks": ""
            },
            "colorscale": [
             [
              0,
              "#0d0887"
             ],
             [
              0.1111111111111111,
              "#46039f"
             ],
             [
              0.2222222222222222,
              "#7201a8"
             ],
             [
              0.3333333333333333,
              "#9c179e"
             ],
             [
              0.4444444444444444,
              "#bd3786"
             ],
             [
              0.5555555555555556,
              "#d8576b"
             ],
             [
              0.6666666666666666,
              "#ed7953"
             ],
             [
              0.7777777777777778,
              "#fb9f3a"
             ],
             [
              0.8888888888888888,
              "#fdca26"
             ],
             [
              1,
              "#f0f921"
             ]
            ],
            "type": "contour"
           }
          ],
          "contourcarpet": [
           {
            "colorbar": {
             "outlinewidth": 0,
             "ticks": ""
            },
            "type": "contourcarpet"
           }
          ],
          "heatmap": [
           {
            "colorbar": {
             "outlinewidth": 0,
             "ticks": ""
            },
            "colorscale": [
             [
              0,
              "#0d0887"
             ],
             [
              0.1111111111111111,
              "#46039f"
             ],
             [
              0.2222222222222222,
              "#7201a8"
             ],
             [
              0.3333333333333333,
              "#9c179e"
             ],
             [
              0.4444444444444444,
              "#bd3786"
             ],
             [
              0.5555555555555556,
              "#d8576b"
             ],
             [
              0.6666666666666666,
              "#ed7953"
             ],
             [
              0.7777777777777778,
              "#fb9f3a"
             ],
             [
              0.8888888888888888,
              "#fdca26"
             ],
             [
              1,
              "#f0f921"
             ]
            ],
            "type": "heatmap"
           }
          ],
          "heatmapgl": [
           {
            "colorbar": {
             "outlinewidth": 0,
             "ticks": ""
            },
            "colorscale": [
             [
              0,
              "#0d0887"
             ],
             [
              0.1111111111111111,
              "#46039f"
             ],
             [
              0.2222222222222222,
              "#7201a8"
             ],
             [
              0.3333333333333333,
              "#9c179e"
             ],
             [
              0.4444444444444444,
              "#bd3786"
             ],
             [
              0.5555555555555556,
              "#d8576b"
             ],
             [
              0.6666666666666666,
              "#ed7953"
             ],
             [
              0.7777777777777778,
              "#fb9f3a"
             ],
             [
              0.8888888888888888,
              "#fdca26"
             ],
             [
              1,
              "#f0f921"
             ]
            ],
            "type": "heatmapgl"
           }
          ],
          "histogram": [
           {
            "marker": {
             "colorbar": {
              "outlinewidth": 0,
              "ticks": ""
             }
            },
            "type": "histogram"
           }
          ],
          "histogram2d": [
           {
            "colorbar": {
             "outlinewidth": 0,
             "ticks": ""
            },
            "colorscale": [
             [
              0,
              "#0d0887"
             ],
             [
              0.1111111111111111,
              "#46039f"
             ],
             [
              0.2222222222222222,
              "#7201a8"
             ],
             [
              0.3333333333333333,
              "#9c179e"
             ],
             [
              0.4444444444444444,
              "#bd3786"
             ],
             [
              0.5555555555555556,
              "#d8576b"
             ],
             [
              0.6666666666666666,
              "#ed7953"
             ],
             [
              0.7777777777777778,
              "#fb9f3a"
             ],
             [
              0.8888888888888888,
              "#fdca26"
             ],
             [
              1,
              "#f0f921"
             ]
            ],
            "type": "histogram2d"
           }
          ],
          "histogram2dcontour": [
           {
            "colorbar": {
             "outlinewidth": 0,
             "ticks": ""
            },
            "colorscale": [
             [
              0,
              "#0d0887"
             ],
             [
              0.1111111111111111,
              "#46039f"
             ],
             [
              0.2222222222222222,
              "#7201a8"
             ],
             [
              0.3333333333333333,
              "#9c179e"
             ],
             [
              0.4444444444444444,
              "#bd3786"
             ],
             [
              0.5555555555555556,
              "#d8576b"
             ],
             [
              0.6666666666666666,
              "#ed7953"
             ],
             [
              0.7777777777777778,
              "#fb9f3a"
             ],
             [
              0.8888888888888888,
              "#fdca26"
             ],
             [
              1,
              "#f0f921"
             ]
            ],
            "type": "histogram2dcontour"
           }
          ],
          "mesh3d": [
           {
            "colorbar": {
             "outlinewidth": 0,
             "ticks": ""
            },
            "type": "mesh3d"
           }
          ],
          "parcoords": [
           {
            "line": {
             "colorbar": {
              "outlinewidth": 0,
              "ticks": ""
             }
            },
            "type": "parcoords"
           }
          ],
          "pie": [
           {
            "automargin": true,
            "type": "pie"
           }
          ],
          "scatter": [
           {
            "marker": {
             "colorbar": {
              "outlinewidth": 0,
              "ticks": ""
             }
            },
            "type": "scatter"
           }
          ],
          "scatter3d": [
           {
            "line": {
             "colorbar": {
              "outlinewidth": 0,
              "ticks": ""
             }
            },
            "marker": {
             "colorbar": {
              "outlinewidth": 0,
              "ticks": ""
             }
            },
            "type": "scatter3d"
           }
          ],
          "scattercarpet": [
           {
            "marker": {
             "colorbar": {
              "outlinewidth": 0,
              "ticks": ""
             }
            },
            "type": "scattercarpet"
           }
          ],
          "scattergeo": [
           {
            "marker": {
             "colorbar": {
              "outlinewidth": 0,
              "ticks": ""
             }
            },
            "type": "scattergeo"
           }
          ],
          "scattergl": [
           {
            "marker": {
             "colorbar": {
              "outlinewidth": 0,
              "ticks": ""
             }
            },
            "type": "scattergl"
           }
          ],
          "scattermapbox": [
           {
            "marker": {
             "colorbar": {
              "outlinewidth": 0,
              "ticks": ""
             }
            },
            "type": "scattermapbox"
           }
          ],
          "scatterpolar": [
           {
            "marker": {
             "colorbar": {
              "outlinewidth": 0,
              "ticks": ""
             }
            },
            "type": "scatterpolar"
           }
          ],
          "scatterpolargl": [
           {
            "marker": {
             "colorbar": {
              "outlinewidth": 0,
              "ticks": ""
             }
            },
            "type": "scatterpolargl"
           }
          ],
          "scatterternary": [
           {
            "marker": {
             "colorbar": {
              "outlinewidth": 0,
              "ticks": ""
             }
            },
            "type": "scatterternary"
           }
          ],
          "surface": [
           {
            "colorbar": {
             "outlinewidth": 0,
             "ticks": ""
            },
            "colorscale": [
             [
              0,
              "#0d0887"
             ],
             [
              0.1111111111111111,
              "#46039f"
             ],
             [
              0.2222222222222222,
              "#7201a8"
             ],
             [
              0.3333333333333333,
              "#9c179e"
             ],
             [
              0.4444444444444444,
              "#bd3786"
             ],
             [
              0.5555555555555556,
              "#d8576b"
             ],
             [
              0.6666666666666666,
              "#ed7953"
             ],
             [
              0.7777777777777778,
              "#fb9f3a"
             ],
             [
              0.8888888888888888,
              "#fdca26"
             ],
             [
              1,
              "#f0f921"
             ]
            ],
            "type": "surface"
           }
          ],
          "table": [
           {
            "cells": {
             "fill": {
              "color": "#EBF0F8"
             },
             "line": {
              "color": "white"
             }
            },
            "header": {
             "fill": {
              "color": "#C8D4E3"
             },
             "line": {
              "color": "white"
             }
            },
            "type": "table"
           }
          ]
         },
         "layout": {
          "annotationdefaults": {
           "arrowcolor": "#2a3f5f",
           "arrowhead": 0,
           "arrowwidth": 1
          },
          "coloraxis": {
           "colorbar": {
            "outlinewidth": 0,
            "ticks": ""
           }
          },
          "colorscale": {
           "diverging": [
            [
             0,
             "#8e0152"
            ],
            [
             0.1,
             "#c51b7d"
            ],
            [
             0.2,
             "#de77ae"
            ],
            [
             0.3,
             "#f1b6da"
            ],
            [
             0.4,
             "#fde0ef"
            ],
            [
             0.5,
             "#f7f7f7"
            ],
            [
             0.6,
             "#e6f5d0"
            ],
            [
             0.7,
             "#b8e186"
            ],
            [
             0.8,
             "#7fbc41"
            ],
            [
             0.9,
             "#4d9221"
            ],
            [
             1,
             "#276419"
            ]
           ],
           "sequential": [
            [
             0,
             "#0d0887"
            ],
            [
             0.1111111111111111,
             "#46039f"
            ],
            [
             0.2222222222222222,
             "#7201a8"
            ],
            [
             0.3333333333333333,
             "#9c179e"
            ],
            [
             0.4444444444444444,
             "#bd3786"
            ],
            [
             0.5555555555555556,
             "#d8576b"
            ],
            [
             0.6666666666666666,
             "#ed7953"
            ],
            [
             0.7777777777777778,
             "#fb9f3a"
            ],
            [
             0.8888888888888888,
             "#fdca26"
            ],
            [
             1,
             "#f0f921"
            ]
           ],
           "sequentialminus": [
            [
             0,
             "#0d0887"
            ],
            [
             0.1111111111111111,
             "#46039f"
            ],
            [
             0.2222222222222222,
             "#7201a8"
            ],
            [
             0.3333333333333333,
             "#9c179e"
            ],
            [
             0.4444444444444444,
             "#bd3786"
            ],
            [
             0.5555555555555556,
             "#d8576b"
            ],
            [
             0.6666666666666666,
             "#ed7953"
            ],
            [
             0.7777777777777778,
             "#fb9f3a"
            ],
            [
             0.8888888888888888,
             "#fdca26"
            ],
            [
             1,
             "#f0f921"
            ]
           ]
          },
          "colorway": [
           "#636efa",
           "#EF553B",
           "#00cc96",
           "#ab63fa",
           "#FFA15A",
           "#19d3f3",
           "#FF6692",
           "#B6E880",
           "#FF97FF",
           "#FECB52"
          ],
          "font": {
           "color": "#2a3f5f"
          },
          "geo": {
           "bgcolor": "white",
           "lakecolor": "white",
           "landcolor": "#E5ECF6",
           "showlakes": true,
           "showland": true,
           "subunitcolor": "white"
          },
          "hoverlabel": {
           "align": "left"
          },
          "hovermode": "closest",
          "mapbox": {
           "style": "light"
          },
          "paper_bgcolor": "white",
          "plot_bgcolor": "#E5ECF6",
          "polar": {
           "angularaxis": {
            "gridcolor": "white",
            "linecolor": "white",
            "ticks": ""
           },
           "bgcolor": "#E5ECF6",
           "radialaxis": {
            "gridcolor": "white",
            "linecolor": "white",
            "ticks": ""
           }
          },
          "scene": {
           "xaxis": {
            "backgroundcolor": "#E5ECF6",
            "gridcolor": "white",
            "gridwidth": 2,
            "linecolor": "white",
            "showbackground": true,
            "ticks": "",
            "zerolinecolor": "white"
           },
           "yaxis": {
            "backgroundcolor": "#E5ECF6",
            "gridcolor": "white",
            "gridwidth": 2,
            "linecolor": "white",
            "showbackground": true,
            "ticks": "",
            "zerolinecolor": "white"
           },
           "zaxis": {
            "backgroundcolor": "#E5ECF6",
            "gridcolor": "white",
            "gridwidth": 2,
            "linecolor": "white",
            "showbackground": true,
            "ticks": "",
            "zerolinecolor": "white"
           }
          },
          "shapedefaults": {
           "line": {
            "color": "#2a3f5f"
           }
          },
          "ternary": {
           "aaxis": {
            "gridcolor": "white",
            "linecolor": "white",
            "ticks": ""
           },
           "baxis": {
            "gridcolor": "white",
            "linecolor": "white",
            "ticks": ""
           },
           "bgcolor": "#E5ECF6",
           "caxis": {
            "gridcolor": "white",
            "linecolor": "white",
            "ticks": ""
           }
          },
          "title": {
           "x": 0.05
          },
          "xaxis": {
           "automargin": true,
           "gridcolor": "white",
           "linecolor": "white",
           "ticks": "",
           "title": {
            "standoff": 15
           },
           "zerolinecolor": "white",
           "zerolinewidth": 2
          },
          "yaxis": {
           "automargin": true,
           "gridcolor": "white",
           "linecolor": "white",
           "ticks": "",
           "title": {
            "standoff": 15
           },
           "zerolinecolor": "white",
           "zerolinewidth": 2
          }
         }
        },
        "title": {
         "text": "Kickstarter Total Projects per Country"
        },
        "width": 900
       }
      }
     },
     "metadata": {}
    }
   ],
   "metadata": {}
  },
  {
   "cell_type": "code",
   "execution_count": 456,
   "source": [
    "# This will create a scatter mapbox plot for Indiegogo and  their respective longitude and latitude plotted in with total number of projects.\n",
    "indiegogo_mapbox_plot = px.scatter_mapbox(\n",
    "    indiegogo_country_total_df,\n",
    "    title='Indiegogo Total Projects per Country',\n",
    "    lat='lat',\n",
    "    lon='long',\n",
    "    size='Total_number_of_projects',\n",
    "    hover_name='Country',\n",
    "    size_max=60,\n",
    "    zoom= 11, center = {\"lat\": 37.090240, \"lon\": -95.712891},\n",
    "    color_discrete_sequence=[\"fuchsia\"],\n",
    "    height=500,\n",
    "    width=900\n",
    "   \n",
    ")\n",
    "indiegogo_mapbox_plot"
   ],
   "outputs": [
    {
     "output_type": "display_data",
     "data": {
      "application/vnd.plotly.v1+json": {
       "config": {
        "plotlyServerURL": "https://plot.ly"
       },
       "data": [
        {
         "hovertemplate": "<b>%{hovertext}</b><br><br>Total_number_of_projects=%{marker.size}<br>lat=%{lat}<br>long=%{lon}<extra></extra>",
         "hovertext": [
          "United States",
          "Luxembourg",
          "United Kingdom",
          "Canada",
          "Australia"
         ],
         "lat": [
          37.09024,
          49.815273,
          55.378051,
          56.130366,
          -25.274398
         ],
         "legendgroup": "",
         "lon": [
          -95.712891,
          6.129583,
          -3.435973,
          -106.346771,
          133.775136
         ],
         "marker": {
          "color": "fuchsia",
          "size": [
           7456,
           686,
           679,
           384,
           104
          ],
          "sizemode": "area",
          "sizeref": 2.071111111111111
         },
         "mode": "markers",
         "name": "",
         "showlegend": false,
         "subplot": "mapbox",
         "type": "scattermapbox"
        }
       ],
       "layout": {
        "height": 500,
        "legend": {
         "itemsizing": "constant",
         "tracegroupgap": 0
        },
        "mapbox": {
         "accesstoken": "pk.eyJ1IjoibjhwYXR0ZXJzb24iLCJhIjoiY2txM2llbjNhMGoxbDJ2cGc0cHlob3V1aiJ9.8LrCxNxRAtu5Hhcqfu5QhA",
         "center": {
          "lat": 37.09024,
          "lon": -95.712891
         },
         "domain": {
          "x": [
           0,
           1
          ],
          "y": [
           0,
           1
          ]
         },
         "zoom": 11
        },
        "template": {
         "data": {
          "bar": [
           {
            "error_x": {
             "color": "#2a3f5f"
            },
            "error_y": {
             "color": "#2a3f5f"
            },
            "marker": {
             "line": {
              "color": "#E5ECF6",
              "width": 0.5
             }
            },
            "type": "bar"
           }
          ],
          "barpolar": [
           {
            "marker": {
             "line": {
              "color": "#E5ECF6",
              "width": 0.5
             }
            },
            "type": "barpolar"
           }
          ],
          "carpet": [
           {
            "aaxis": {
             "endlinecolor": "#2a3f5f",
             "gridcolor": "white",
             "linecolor": "white",
             "minorgridcolor": "white",
             "startlinecolor": "#2a3f5f"
            },
            "baxis": {
             "endlinecolor": "#2a3f5f",
             "gridcolor": "white",
             "linecolor": "white",
             "minorgridcolor": "white",
             "startlinecolor": "#2a3f5f"
            },
            "type": "carpet"
           }
          ],
          "choropleth": [
           {
            "colorbar": {
             "outlinewidth": 0,
             "ticks": ""
            },
            "type": "choropleth"
           }
          ],
          "contour": [
           {
            "colorbar": {
             "outlinewidth": 0,
             "ticks": ""
            },
            "colorscale": [
             [
              0,
              "#0d0887"
             ],
             [
              0.1111111111111111,
              "#46039f"
             ],
             [
              0.2222222222222222,
              "#7201a8"
             ],
             [
              0.3333333333333333,
              "#9c179e"
             ],
             [
              0.4444444444444444,
              "#bd3786"
             ],
             [
              0.5555555555555556,
              "#d8576b"
             ],
             [
              0.6666666666666666,
              "#ed7953"
             ],
             [
              0.7777777777777778,
              "#fb9f3a"
             ],
             [
              0.8888888888888888,
              "#fdca26"
             ],
             [
              1,
              "#f0f921"
             ]
            ],
            "type": "contour"
           }
          ],
          "contourcarpet": [
           {
            "colorbar": {
             "outlinewidth": 0,
             "ticks": ""
            },
            "type": "contourcarpet"
           }
          ],
          "heatmap": [
           {
            "colorbar": {
             "outlinewidth": 0,
             "ticks": ""
            },
            "colorscale": [
             [
              0,
              "#0d0887"
             ],
             [
              0.1111111111111111,
              "#46039f"
             ],
             [
              0.2222222222222222,
              "#7201a8"
             ],
             [
              0.3333333333333333,
              "#9c179e"
             ],
             [
              0.4444444444444444,
              "#bd3786"
             ],
             [
              0.5555555555555556,
              "#d8576b"
             ],
             [
              0.6666666666666666,
              "#ed7953"
             ],
             [
              0.7777777777777778,
              "#fb9f3a"
             ],
             [
              0.8888888888888888,
              "#fdca26"
             ],
             [
              1,
              "#f0f921"
             ]
            ],
            "type": "heatmap"
           }
          ],
          "heatmapgl": [
           {
            "colorbar": {
             "outlinewidth": 0,
             "ticks": ""
            },
            "colorscale": [
             [
              0,
              "#0d0887"
             ],
             [
              0.1111111111111111,
              "#46039f"
             ],
             [
              0.2222222222222222,
              "#7201a8"
             ],
             [
              0.3333333333333333,
              "#9c179e"
             ],
             [
              0.4444444444444444,
              "#bd3786"
             ],
             [
              0.5555555555555556,
              "#d8576b"
             ],
             [
              0.6666666666666666,
              "#ed7953"
             ],
             [
              0.7777777777777778,
              "#fb9f3a"
             ],
             [
              0.8888888888888888,
              "#fdca26"
             ],
             [
              1,
              "#f0f921"
             ]
            ],
            "type": "heatmapgl"
           }
          ],
          "histogram": [
           {
            "marker": {
             "colorbar": {
              "outlinewidth": 0,
              "ticks": ""
             }
            },
            "type": "histogram"
           }
          ],
          "histogram2d": [
           {
            "colorbar": {
             "outlinewidth": 0,
             "ticks": ""
            },
            "colorscale": [
             [
              0,
              "#0d0887"
             ],
             [
              0.1111111111111111,
              "#46039f"
             ],
             [
              0.2222222222222222,
              "#7201a8"
             ],
             [
              0.3333333333333333,
              "#9c179e"
             ],
             [
              0.4444444444444444,
              "#bd3786"
             ],
             [
              0.5555555555555556,
              "#d8576b"
             ],
             [
              0.6666666666666666,
              "#ed7953"
             ],
             [
              0.7777777777777778,
              "#fb9f3a"
             ],
             [
              0.8888888888888888,
              "#fdca26"
             ],
             [
              1,
              "#f0f921"
             ]
            ],
            "type": "histogram2d"
           }
          ],
          "histogram2dcontour": [
           {
            "colorbar": {
             "outlinewidth": 0,
             "ticks": ""
            },
            "colorscale": [
             [
              0,
              "#0d0887"
             ],
             [
              0.1111111111111111,
              "#46039f"
             ],
             [
              0.2222222222222222,
              "#7201a8"
             ],
             [
              0.3333333333333333,
              "#9c179e"
             ],
             [
              0.4444444444444444,
              "#bd3786"
             ],
             [
              0.5555555555555556,
              "#d8576b"
             ],
             [
              0.6666666666666666,
              "#ed7953"
             ],
             [
              0.7777777777777778,
              "#fb9f3a"
             ],
             [
              0.8888888888888888,
              "#fdca26"
             ],
             [
              1,
              "#f0f921"
             ]
            ],
            "type": "histogram2dcontour"
           }
          ],
          "mesh3d": [
           {
            "colorbar": {
             "outlinewidth": 0,
             "ticks": ""
            },
            "type": "mesh3d"
           }
          ],
          "parcoords": [
           {
            "line": {
             "colorbar": {
              "outlinewidth": 0,
              "ticks": ""
             }
            },
            "type": "parcoords"
           }
          ],
          "pie": [
           {
            "automargin": true,
            "type": "pie"
           }
          ],
          "scatter": [
           {
            "marker": {
             "colorbar": {
              "outlinewidth": 0,
              "ticks": ""
             }
            },
            "type": "scatter"
           }
          ],
          "scatter3d": [
           {
            "line": {
             "colorbar": {
              "outlinewidth": 0,
              "ticks": ""
             }
            },
            "marker": {
             "colorbar": {
              "outlinewidth": 0,
              "ticks": ""
             }
            },
            "type": "scatter3d"
           }
          ],
          "scattercarpet": [
           {
            "marker": {
             "colorbar": {
              "outlinewidth": 0,
              "ticks": ""
             }
            },
            "type": "scattercarpet"
           }
          ],
          "scattergeo": [
           {
            "marker": {
             "colorbar": {
              "outlinewidth": 0,
              "ticks": ""
             }
            },
            "type": "scattergeo"
           }
          ],
          "scattergl": [
           {
            "marker": {
             "colorbar": {
              "outlinewidth": 0,
              "ticks": ""
             }
            },
            "type": "scattergl"
           }
          ],
          "scattermapbox": [
           {
            "marker": {
             "colorbar": {
              "outlinewidth": 0,
              "ticks": ""
             }
            },
            "type": "scattermapbox"
           }
          ],
          "scatterpolar": [
           {
            "marker": {
             "colorbar": {
              "outlinewidth": 0,
              "ticks": ""
             }
            },
            "type": "scatterpolar"
           }
          ],
          "scatterpolargl": [
           {
            "marker": {
             "colorbar": {
              "outlinewidth": 0,
              "ticks": ""
             }
            },
            "type": "scatterpolargl"
           }
          ],
          "scatterternary": [
           {
            "marker": {
             "colorbar": {
              "outlinewidth": 0,
              "ticks": ""
             }
            },
            "type": "scatterternary"
           }
          ],
          "surface": [
           {
            "colorbar": {
             "outlinewidth": 0,
             "ticks": ""
            },
            "colorscale": [
             [
              0,
              "#0d0887"
             ],
             [
              0.1111111111111111,
              "#46039f"
             ],
             [
              0.2222222222222222,
              "#7201a8"
             ],
             [
              0.3333333333333333,
              "#9c179e"
             ],
             [
              0.4444444444444444,
              "#bd3786"
             ],
             [
              0.5555555555555556,
              "#d8576b"
             ],
             [
              0.6666666666666666,
              "#ed7953"
             ],
             [
              0.7777777777777778,
              "#fb9f3a"
             ],
             [
              0.8888888888888888,
              "#fdca26"
             ],
             [
              1,
              "#f0f921"
             ]
            ],
            "type": "surface"
           }
          ],
          "table": [
           {
            "cells": {
             "fill": {
              "color": "#EBF0F8"
             },
             "line": {
              "color": "white"
             }
            },
            "header": {
             "fill": {
              "color": "#C8D4E3"
             },
             "line": {
              "color": "white"
             }
            },
            "type": "table"
           }
          ]
         },
         "layout": {
          "annotationdefaults": {
           "arrowcolor": "#2a3f5f",
           "arrowhead": 0,
           "arrowwidth": 1
          },
          "coloraxis": {
           "colorbar": {
            "outlinewidth": 0,
            "ticks": ""
           }
          },
          "colorscale": {
           "diverging": [
            [
             0,
             "#8e0152"
            ],
            [
             0.1,
             "#c51b7d"
            ],
            [
             0.2,
             "#de77ae"
            ],
            [
             0.3,
             "#f1b6da"
            ],
            [
             0.4,
             "#fde0ef"
            ],
            [
             0.5,
             "#f7f7f7"
            ],
            [
             0.6,
             "#e6f5d0"
            ],
            [
             0.7,
             "#b8e186"
            ],
            [
             0.8,
             "#7fbc41"
            ],
            [
             0.9,
             "#4d9221"
            ],
            [
             1,
             "#276419"
            ]
           ],
           "sequential": [
            [
             0,
             "#0d0887"
            ],
            [
             0.1111111111111111,
             "#46039f"
            ],
            [
             0.2222222222222222,
             "#7201a8"
            ],
            [
             0.3333333333333333,
             "#9c179e"
            ],
            [
             0.4444444444444444,
             "#bd3786"
            ],
            [
             0.5555555555555556,
             "#d8576b"
            ],
            [
             0.6666666666666666,
             "#ed7953"
            ],
            [
             0.7777777777777778,
             "#fb9f3a"
            ],
            [
             0.8888888888888888,
             "#fdca26"
            ],
            [
             1,
             "#f0f921"
            ]
           ],
           "sequentialminus": [
            [
             0,
             "#0d0887"
            ],
            [
             0.1111111111111111,
             "#46039f"
            ],
            [
             0.2222222222222222,
             "#7201a8"
            ],
            [
             0.3333333333333333,
             "#9c179e"
            ],
            [
             0.4444444444444444,
             "#bd3786"
            ],
            [
             0.5555555555555556,
             "#d8576b"
            ],
            [
             0.6666666666666666,
             "#ed7953"
            ],
            [
             0.7777777777777778,
             "#fb9f3a"
            ],
            [
             0.8888888888888888,
             "#fdca26"
            ],
            [
             1,
             "#f0f921"
            ]
           ]
          },
          "colorway": [
           "#636efa",
           "#EF553B",
           "#00cc96",
           "#ab63fa",
           "#FFA15A",
           "#19d3f3",
           "#FF6692",
           "#B6E880",
           "#FF97FF",
           "#FECB52"
          ],
          "font": {
           "color": "#2a3f5f"
          },
          "geo": {
           "bgcolor": "white",
           "lakecolor": "white",
           "landcolor": "#E5ECF6",
           "showlakes": true,
           "showland": true,
           "subunitcolor": "white"
          },
          "hoverlabel": {
           "align": "left"
          },
          "hovermode": "closest",
          "mapbox": {
           "style": "light"
          },
          "paper_bgcolor": "white",
          "plot_bgcolor": "#E5ECF6",
          "polar": {
           "angularaxis": {
            "gridcolor": "white",
            "linecolor": "white",
            "ticks": ""
           },
           "bgcolor": "#E5ECF6",
           "radialaxis": {
            "gridcolor": "white",
            "linecolor": "white",
            "ticks": ""
           }
          },
          "scene": {
           "xaxis": {
            "backgroundcolor": "#E5ECF6",
            "gridcolor": "white",
            "gridwidth": 2,
            "linecolor": "white",
            "showbackground": true,
            "ticks": "",
            "zerolinecolor": "white"
           },
           "yaxis": {
            "backgroundcolor": "#E5ECF6",
            "gridcolor": "white",
            "gridwidth": 2,
            "linecolor": "white",
            "showbackground": true,
            "ticks": "",
            "zerolinecolor": "white"
           },
           "zaxis": {
            "backgroundcolor": "#E5ECF6",
            "gridcolor": "white",
            "gridwidth": 2,
            "linecolor": "white",
            "showbackground": true,
            "ticks": "",
            "zerolinecolor": "white"
           }
          },
          "shapedefaults": {
           "line": {
            "color": "#2a3f5f"
           }
          },
          "ternary": {
           "aaxis": {
            "gridcolor": "white",
            "linecolor": "white",
            "ticks": ""
           },
           "baxis": {
            "gridcolor": "white",
            "linecolor": "white",
            "ticks": ""
           },
           "bgcolor": "#E5ECF6",
           "caxis": {
            "gridcolor": "white",
            "linecolor": "white",
            "ticks": ""
           }
          },
          "title": {
           "x": 0.05
          },
          "xaxis": {
           "automargin": true,
           "gridcolor": "white",
           "linecolor": "white",
           "ticks": "",
           "title": {
            "standoff": 15
           },
           "zerolinecolor": "white",
           "zerolinewidth": 2
          },
          "yaxis": {
           "automargin": true,
           "gridcolor": "white",
           "linecolor": "white",
           "ticks": "",
           "title": {
            "standoff": 15
           },
           "zerolinecolor": "white",
           "zerolinewidth": 2
          }
         }
        },
        "title": {
         "text": "Indiegogo Total Projects per Country"
        },
        "width": 900
       }
      }
     },
     "metadata": {}
    }
   ],
   "metadata": {}
  },
  {
   "cell_type": "markdown",
   "source": [
    "## SQL query to get the main_category and percent of successful vs failed projects for Kickstarter"
   ],
   "metadata": {}
  },
  {
   "cell_type": "code",
   "execution_count": 457,
   "source": [
    "query = \"\"\"\n",
    "SELECT main_category, COUNT (*) AS Total_number_of_projects, AVG(funded_percent) AS average_fund_percentage\n",
    "FROM kickstarter_large\n",
    "GROUP BY main_category\n",
    "ORDER BY\n",
    "    total_number_of_projects DESC;\n",
    "\"\"\"\n",
    "\n",
    "ks_main_category_total = pd.read_sql_query(\n",
    "    query, \n",
    "    con= engine)\n",
    "ks_main_category_total"
   ],
   "outputs": [
    {
     "output_type": "execute_result",
     "data": {
      "text/plain": [
       "  main_category  Total_number_of_projects  average_fund_percentage\n",
       "0  Film & Video                     55705                 1.635011\n",
       "1         Music                     45253                 8.931210\n",
       "2         Games                     28447                 8.318282\n",
       "3    Technology                     26970                 3.057622\n",
       "4           Art                     25369                 2.313705\n",
       "5          Food                     21998                 0.916486\n",
       "6       Theater                     10102                 1.063231\n",
       "7   Photography                      9580                 0.633917\n",
       "8    Journalism                      4075                 0.563299"
      ],
      "text/html": [
       "<div>\n",
       "<style scoped>\n",
       "    .dataframe tbody tr th:only-of-type {\n",
       "        vertical-align: middle;\n",
       "    }\n",
       "\n",
       "    .dataframe tbody tr th {\n",
       "        vertical-align: top;\n",
       "    }\n",
       "\n",
       "    .dataframe thead th {\n",
       "        text-align: right;\n",
       "    }\n",
       "</style>\n",
       "<table border=\"1\" class=\"dataframe\">\n",
       "  <thead>\n",
       "    <tr style=\"text-align: right;\">\n",
       "      <th></th>\n",
       "      <th>main_category</th>\n",
       "      <th>Total_number_of_projects</th>\n",
       "      <th>average_fund_percentage</th>\n",
       "    </tr>\n",
       "  </thead>\n",
       "  <tbody>\n",
       "    <tr>\n",
       "      <th>0</th>\n",
       "      <td>Film &amp; Video</td>\n",
       "      <td>55705</td>\n",
       "      <td>1.635011</td>\n",
       "    </tr>\n",
       "    <tr>\n",
       "      <th>1</th>\n",
       "      <td>Music</td>\n",
       "      <td>45253</td>\n",
       "      <td>8.931210</td>\n",
       "    </tr>\n",
       "    <tr>\n",
       "      <th>2</th>\n",
       "      <td>Games</td>\n",
       "      <td>28447</td>\n",
       "      <td>8.318282</td>\n",
       "    </tr>\n",
       "    <tr>\n",
       "      <th>3</th>\n",
       "      <td>Technology</td>\n",
       "      <td>26970</td>\n",
       "      <td>3.057622</td>\n",
       "    </tr>\n",
       "    <tr>\n",
       "      <th>4</th>\n",
       "      <td>Art</td>\n",
       "      <td>25369</td>\n",
       "      <td>2.313705</td>\n",
       "    </tr>\n",
       "    <tr>\n",
       "      <th>5</th>\n",
       "      <td>Food</td>\n",
       "      <td>21998</td>\n",
       "      <td>0.916486</td>\n",
       "    </tr>\n",
       "    <tr>\n",
       "      <th>6</th>\n",
       "      <td>Theater</td>\n",
       "      <td>10102</td>\n",
       "      <td>1.063231</td>\n",
       "    </tr>\n",
       "    <tr>\n",
       "      <th>7</th>\n",
       "      <td>Photography</td>\n",
       "      <td>9580</td>\n",
       "      <td>0.633917</td>\n",
       "    </tr>\n",
       "    <tr>\n",
       "      <th>8</th>\n",
       "      <td>Journalism</td>\n",
       "      <td>4075</td>\n",
       "      <td>0.563299</td>\n",
       "    </tr>\n",
       "  </tbody>\n",
       "</table>\n",
       "</div>"
      ]
     },
     "metadata": {},
     "execution_count": 457
    }
   ],
   "metadata": {}
  },
  {
   "cell_type": "code",
   "execution_count": 458,
   "source": [
    "# Created a for loop statement to get the percent success and percent failed of each main_category for Kickstarter and added it on the dataframe.\n",
    "\n",
    "category_list = ks_main_category_total[\"main_category\"]\n",
    "list_of_percent_success = []\n",
    "\n",
    "i=0\n",
    "\n",
    "for category in category_list:\n",
    "    query =  f\"\"\"\n",
    "    SELECT main_category, funded_percent, usd_pledged_real, usd_goal_real\n",
    "    FROM kickstarter_large\n",
    "    WHERE main_category == \"{category}\"\n",
    "    AND usd_pledged_real >= usd_goal_real\n",
    "    ORDER BY funded_percent DESC\n",
    "    \"\"\"\n",
    "\n",
    "    ks_main_category_success = pd.read_sql_query(\n",
    "        query, \n",
    "        con= engine)\n",
    "    percent_success_main_category = ks_main_category_success[\"main_category\"].count() / ks_main_category_total.loc[i, 'Total_number_of_projects']\n",
    "    \n",
    "    list_of_percent_success.append(percent_success_main_category)\n",
    "    i= i+1\n",
    "    \n",
    "ks_main_category_total[\"percent_success\"] = list_of_percent_success\n",
    "ks_main_category_total[\"percent_fail\"] = 1 - ks_main_category_total[\"percent_success\"]\n",
    "ks_main_category_total\n"
   ],
   "outputs": [
    {
     "output_type": "execute_result",
     "data": {
      "text/plain": [
       "  main_category  Total_number_of_projects  average_fund_percentage  \\\n",
       "0  Film & Video                     55705                 1.635011   \n",
       "1         Music                     45253                 8.931210   \n",
       "2         Games                     28447                 8.318282   \n",
       "3    Technology                     26970                 3.057622   \n",
       "4           Art                     25369                 2.313705   \n",
       "5          Food                     21998                 0.916486   \n",
       "6       Theater                     10102                 1.063231   \n",
       "7   Photography                      9580                 0.633917   \n",
       "8    Journalism                      4075                 0.563299   \n",
       "\n",
       "   percent_success  percent_fail  \n",
       "0         0.417198      0.582802  \n",
       "1         0.524739      0.475261  \n",
       "2         0.438675      0.561325  \n",
       "3         0.237301      0.762699  \n",
       "4         0.448027      0.551973  \n",
       "5         0.274934      0.725066  \n",
       "6         0.638784      0.361216  \n",
       "7         0.338727      0.661273  \n",
       "8         0.238773      0.761227  "
      ],
      "text/html": [
       "<div>\n",
       "<style scoped>\n",
       "    .dataframe tbody tr th:only-of-type {\n",
       "        vertical-align: middle;\n",
       "    }\n",
       "\n",
       "    .dataframe tbody tr th {\n",
       "        vertical-align: top;\n",
       "    }\n",
       "\n",
       "    .dataframe thead th {\n",
       "        text-align: right;\n",
       "    }\n",
       "</style>\n",
       "<table border=\"1\" class=\"dataframe\">\n",
       "  <thead>\n",
       "    <tr style=\"text-align: right;\">\n",
       "      <th></th>\n",
       "      <th>main_category</th>\n",
       "      <th>Total_number_of_projects</th>\n",
       "      <th>average_fund_percentage</th>\n",
       "      <th>percent_success</th>\n",
       "      <th>percent_fail</th>\n",
       "    </tr>\n",
       "  </thead>\n",
       "  <tbody>\n",
       "    <tr>\n",
       "      <th>0</th>\n",
       "      <td>Film &amp; Video</td>\n",
       "      <td>55705</td>\n",
       "      <td>1.635011</td>\n",
       "      <td>0.417198</td>\n",
       "      <td>0.582802</td>\n",
       "    </tr>\n",
       "    <tr>\n",
       "      <th>1</th>\n",
       "      <td>Music</td>\n",
       "      <td>45253</td>\n",
       "      <td>8.931210</td>\n",
       "      <td>0.524739</td>\n",
       "      <td>0.475261</td>\n",
       "    </tr>\n",
       "    <tr>\n",
       "      <th>2</th>\n",
       "      <td>Games</td>\n",
       "      <td>28447</td>\n",
       "      <td>8.318282</td>\n",
       "      <td>0.438675</td>\n",
       "      <td>0.561325</td>\n",
       "    </tr>\n",
       "    <tr>\n",
       "      <th>3</th>\n",
       "      <td>Technology</td>\n",
       "      <td>26970</td>\n",
       "      <td>3.057622</td>\n",
       "      <td>0.237301</td>\n",
       "      <td>0.762699</td>\n",
       "    </tr>\n",
       "    <tr>\n",
       "      <th>4</th>\n",
       "      <td>Art</td>\n",
       "      <td>25369</td>\n",
       "      <td>2.313705</td>\n",
       "      <td>0.448027</td>\n",
       "      <td>0.551973</td>\n",
       "    </tr>\n",
       "    <tr>\n",
       "      <th>5</th>\n",
       "      <td>Food</td>\n",
       "      <td>21998</td>\n",
       "      <td>0.916486</td>\n",
       "      <td>0.274934</td>\n",
       "      <td>0.725066</td>\n",
       "    </tr>\n",
       "    <tr>\n",
       "      <th>6</th>\n",
       "      <td>Theater</td>\n",
       "      <td>10102</td>\n",
       "      <td>1.063231</td>\n",
       "      <td>0.638784</td>\n",
       "      <td>0.361216</td>\n",
       "    </tr>\n",
       "    <tr>\n",
       "      <th>7</th>\n",
       "      <td>Photography</td>\n",
       "      <td>9580</td>\n",
       "      <td>0.633917</td>\n",
       "      <td>0.338727</td>\n",
       "      <td>0.661273</td>\n",
       "    </tr>\n",
       "    <tr>\n",
       "      <th>8</th>\n",
       "      <td>Journalism</td>\n",
       "      <td>4075</td>\n",
       "      <td>0.563299</td>\n",
       "      <td>0.238773</td>\n",
       "      <td>0.761227</td>\n",
       "    </tr>\n",
       "  </tbody>\n",
       "</table>\n",
       "</div>"
      ]
     },
     "metadata": {},
     "execution_count": 458
    }
   ],
   "metadata": {}
  },
  {
   "cell_type": "markdown",
   "source": [
    "## SQL query to get the main_category and percent of successful vs failed projects for Indiegogo"
   ],
   "metadata": {}
  },
  {
   "cell_type": "code",
   "execution_count": 459,
   "source": [
    "query = \"\"\"\n",
    "SELECT main_category, COUNT (*) AS Total_number_of_projects, AVG(funded_percent) AS average_fund_percentage\n",
    "FROM indie_gogo\n",
    "GROUP BY main_category\n",
    "ORDER BY\n",
    "    total_number_of_projects DESC;\n",
    "\"\"\"\n",
    "\n",
    "indiegogo_main_category_total = pd.read_sql_query(\n",
    "    query, \n",
    "    con= engine)\n",
    "indiegogo_main_category_total"
   ],
   "outputs": [
    {
     "output_type": "execute_result",
     "data": {
      "text/plain": [
       "  main_category  Total_number_of_projects  average_fund_percentage\n",
       "0    Technology                      2669                 1.467151\n",
       "1    Journalism                      1168                 0.361738\n",
       "2           Art                      1160                 0.307663\n",
       "3          Food                      1069                 0.460620\n",
       "4         Games                       850                 0.718670\n",
       "5  Film & Video                       841                 1.109117\n",
       "6   Photography                       615                 0.504233\n",
       "7       Theater                       580                 0.298527\n",
       "8         Music                       357                 0.308475"
      ],
      "text/html": [
       "<div>\n",
       "<style scoped>\n",
       "    .dataframe tbody tr th:only-of-type {\n",
       "        vertical-align: middle;\n",
       "    }\n",
       "\n",
       "    .dataframe tbody tr th {\n",
       "        vertical-align: top;\n",
       "    }\n",
       "\n",
       "    .dataframe thead th {\n",
       "        text-align: right;\n",
       "    }\n",
       "</style>\n",
       "<table border=\"1\" class=\"dataframe\">\n",
       "  <thead>\n",
       "    <tr style=\"text-align: right;\">\n",
       "      <th></th>\n",
       "      <th>main_category</th>\n",
       "      <th>Total_number_of_projects</th>\n",
       "      <th>average_fund_percentage</th>\n",
       "    </tr>\n",
       "  </thead>\n",
       "  <tbody>\n",
       "    <tr>\n",
       "      <th>0</th>\n",
       "      <td>Technology</td>\n",
       "      <td>2669</td>\n",
       "      <td>1.467151</td>\n",
       "    </tr>\n",
       "    <tr>\n",
       "      <th>1</th>\n",
       "      <td>Journalism</td>\n",
       "      <td>1168</td>\n",
       "      <td>0.361738</td>\n",
       "    </tr>\n",
       "    <tr>\n",
       "      <th>2</th>\n",
       "      <td>Art</td>\n",
       "      <td>1160</td>\n",
       "      <td>0.307663</td>\n",
       "    </tr>\n",
       "    <tr>\n",
       "      <th>3</th>\n",
       "      <td>Food</td>\n",
       "      <td>1069</td>\n",
       "      <td>0.460620</td>\n",
       "    </tr>\n",
       "    <tr>\n",
       "      <th>4</th>\n",
       "      <td>Games</td>\n",
       "      <td>850</td>\n",
       "      <td>0.718670</td>\n",
       "    </tr>\n",
       "    <tr>\n",
       "      <th>5</th>\n",
       "      <td>Film &amp; Video</td>\n",
       "      <td>841</td>\n",
       "      <td>1.109117</td>\n",
       "    </tr>\n",
       "    <tr>\n",
       "      <th>6</th>\n",
       "      <td>Photography</td>\n",
       "      <td>615</td>\n",
       "      <td>0.504233</td>\n",
       "    </tr>\n",
       "    <tr>\n",
       "      <th>7</th>\n",
       "      <td>Theater</td>\n",
       "      <td>580</td>\n",
       "      <td>0.298527</td>\n",
       "    </tr>\n",
       "    <tr>\n",
       "      <th>8</th>\n",
       "      <td>Music</td>\n",
       "      <td>357</td>\n",
       "      <td>0.308475</td>\n",
       "    </tr>\n",
       "  </tbody>\n",
       "</table>\n",
       "</div>"
      ]
     },
     "metadata": {},
     "execution_count": 459
    }
   ],
   "metadata": {}
  },
  {
   "cell_type": "code",
   "execution_count": 460,
   "source": [
    "# Created a for loop statement to get the percent success and percent failed of each main_category for Kickstarter and added it on the dataframe.\n",
    "\n",
    "category_list = indiegogo_main_category_total[\"main_category\"]\n",
    "list_of_percent_success = []\n",
    "\n",
    "i=0\n",
    "\n",
    "for category in category_list:\n",
    "    query =  f\"\"\"\n",
    "    SELECT main_category, funded_percent, usd_pledged_real, usd_goal_real\n",
    "    FROM indie_gogo\n",
    "    WHERE main_category == \"{category}\"\n",
    "    AND usd_pledged_real >= usd_goal_real\n",
    "    ORDER BY funded_percent DESC\n",
    "    \"\"\"\n",
    "\n",
    "    indiegogo_main_category_success = pd.read_sql_query(\n",
    "        query, \n",
    "        con= engine)\n",
    "    percent_success_main_category = indiegogo_main_category_success[\"main_category\"].count() / indiegogo_main_category_total.loc[i, 'Total_number_of_projects']\n",
    "    \n",
    "    list_of_percent_success.append(percent_success_main_category)\n",
    "    i= i+1\n",
    "    \n",
    "\n",
    "indiegogo_main_category_total[\"percent_success\"] = list_of_percent_success\n",
    "\n",
    "indiegogo_main_category_total[\"percent_fail\"] = 1 - indiegogo_main_category_total[\"percent_success\"]\n",
    "\n",
    "display(indiegogo_main_category_total)"
   ],
   "outputs": [
    {
     "output_type": "display_data",
     "data": {
      "text/plain": [
       "  main_category  Total_number_of_projects  average_fund_percentage  \\\n",
       "0    Technology                      2669                 1.467151   \n",
       "1    Journalism                      1168                 0.361738   \n",
       "2           Art                      1160                 0.307663   \n",
       "3          Food                      1069                 0.460620   \n",
       "4         Games                       850                 0.718670   \n",
       "5  Film & Video                       841                 1.109117   \n",
       "6   Photography                       615                 0.504233   \n",
       "7       Theater                       580                 0.298527   \n",
       "8         Music                       357                 0.308475   \n",
       "\n",
       "   percent_success  percent_fail  \n",
       "0         0.193706      0.806294  \n",
       "1         0.117295      0.882705  \n",
       "2         0.057759      0.942241  \n",
       "3         0.054256      0.945744  \n",
       "4         0.135294      0.864706  \n",
       "5         0.167658      0.832342  \n",
       "6         0.156098      0.843902  \n",
       "7         0.000000      1.000000  \n",
       "8         0.005602      0.994398  "
      ],
      "text/html": [
       "<div>\n",
       "<style scoped>\n",
       "    .dataframe tbody tr th:only-of-type {\n",
       "        vertical-align: middle;\n",
       "    }\n",
       "\n",
       "    .dataframe tbody tr th {\n",
       "        vertical-align: top;\n",
       "    }\n",
       "\n",
       "    .dataframe thead th {\n",
       "        text-align: right;\n",
       "    }\n",
       "</style>\n",
       "<table border=\"1\" class=\"dataframe\">\n",
       "  <thead>\n",
       "    <tr style=\"text-align: right;\">\n",
       "      <th></th>\n",
       "      <th>main_category</th>\n",
       "      <th>Total_number_of_projects</th>\n",
       "      <th>average_fund_percentage</th>\n",
       "      <th>percent_success</th>\n",
       "      <th>percent_fail</th>\n",
       "    </tr>\n",
       "  </thead>\n",
       "  <tbody>\n",
       "    <tr>\n",
       "      <th>0</th>\n",
       "      <td>Technology</td>\n",
       "      <td>2669</td>\n",
       "      <td>1.467151</td>\n",
       "      <td>0.193706</td>\n",
       "      <td>0.806294</td>\n",
       "    </tr>\n",
       "    <tr>\n",
       "      <th>1</th>\n",
       "      <td>Journalism</td>\n",
       "      <td>1168</td>\n",
       "      <td>0.361738</td>\n",
       "      <td>0.117295</td>\n",
       "      <td>0.882705</td>\n",
       "    </tr>\n",
       "    <tr>\n",
       "      <th>2</th>\n",
       "      <td>Art</td>\n",
       "      <td>1160</td>\n",
       "      <td>0.307663</td>\n",
       "      <td>0.057759</td>\n",
       "      <td>0.942241</td>\n",
       "    </tr>\n",
       "    <tr>\n",
       "      <th>3</th>\n",
       "      <td>Food</td>\n",
       "      <td>1069</td>\n",
       "      <td>0.460620</td>\n",
       "      <td>0.054256</td>\n",
       "      <td>0.945744</td>\n",
       "    </tr>\n",
       "    <tr>\n",
       "      <th>4</th>\n",
       "      <td>Games</td>\n",
       "      <td>850</td>\n",
       "      <td>0.718670</td>\n",
       "      <td>0.135294</td>\n",
       "      <td>0.864706</td>\n",
       "    </tr>\n",
       "    <tr>\n",
       "      <th>5</th>\n",
       "      <td>Film &amp; Video</td>\n",
       "      <td>841</td>\n",
       "      <td>1.109117</td>\n",
       "      <td>0.167658</td>\n",
       "      <td>0.832342</td>\n",
       "    </tr>\n",
       "    <tr>\n",
       "      <th>6</th>\n",
       "      <td>Photography</td>\n",
       "      <td>615</td>\n",
       "      <td>0.504233</td>\n",
       "      <td>0.156098</td>\n",
       "      <td>0.843902</td>\n",
       "    </tr>\n",
       "    <tr>\n",
       "      <th>7</th>\n",
       "      <td>Theater</td>\n",
       "      <td>580</td>\n",
       "      <td>0.298527</td>\n",
       "      <td>0.000000</td>\n",
       "      <td>1.000000</td>\n",
       "    </tr>\n",
       "    <tr>\n",
       "      <th>8</th>\n",
       "      <td>Music</td>\n",
       "      <td>357</td>\n",
       "      <td>0.308475</td>\n",
       "      <td>0.005602</td>\n",
       "      <td>0.994398</td>\n",
       "    </tr>\n",
       "  </tbody>\n",
       "</table>\n",
       "</div>"
      ]
     },
     "metadata": {}
    }
   ],
   "metadata": {}
  },
  {
   "cell_type": "markdown",
   "source": [
    "## Plot and analyze success vs fail for Kickstarter."
   ],
   "metadata": {}
  },
  {
   "cell_type": "code",
   "execution_count": 461,
   "source": [
    "# Create an hvplot bar to show the success and failed projects of each main category of Kickstarter.\n",
    "ks_main_category_total.hvplot.bar(stacked= True,\n",
    "                                  y=['percent_fail', 'percent_success'],\n",
    "                                  x= 'main_category',\n",
    "                                  rot= 60,\n",
    "                                 title='Kickstarter Main Category Success vs Failed Project',\n",
    "                                  cmap=['pink', 'green']\n",
    "                                 )"
   ],
   "outputs": [
    {
     "output_type": "display_data",
     "data": {},
     "metadata": {}
    },
    {
     "output_type": "execute_result",
     "data": {
      "application/vnd.holoviews_exec.v0+json": "",
      "text/plain": [
       ":Bars   [main_category,Variable]   (value)"
      ],
      "text/html": [
       "<div id='2301'>\n",
       "\n",
       "\n",
       "\n",
       "\n",
       "\n",
       "  <div class=\"bk-root\" id=\"57b3c939-31e4-4f78-90a9-35700e690889\" data-root-id=\"2301\"></div>\n",
       "</div>\n",
       "<script type=\"application/javascript\">(function(root) {\n",
       "  function embed_document(root) {\n",
       "    var docs_json = {\"6ae97bfd-d49c-42e9-9650-d02de5f9070d\":{\"roots\":{\"references\":[{\"attributes\":{\"margin\":[5,5,5,5],\"name\":\"HSpacer03719\",\"sizing_mode\":\"stretch_width\"},\"id\":\"2302\",\"type\":\"Spacer\"},{\"attributes\":{\"items\":[{\"id\":\"2353\"}],\"location\":[0,0]},\"id\":\"2352\",\"type\":\"Legend\"},{\"attributes\":{\"bottom\":{\"field\":\"bottom\"},\"fill_alpha\":{\"value\":0.1},\"fill_color\":{\"field\":\"Variable\",\"transform\":{\"id\":\"2335\"}},\"line_alpha\":{\"value\":0.1},\"top\":{\"field\":\"top\"},\"width\":{\"value\":0.8},\"x\":{\"field\":\"main_category\"}},\"id\":\"2340\",\"type\":\"VBar\"},{\"attributes\":{\"factors\":[\"percent_fail\",\"percent_success\"],\"palette\":[\"pink\",\"green\"]},\"id\":\"2335\",\"type\":\"CategoricalColorMapper\"},{\"attributes\":{\"label\":{\"field\":\"Variable\"},\"renderers\":[{\"id\":\"2342\"}]},\"id\":\"2353\",\"type\":\"LegendItem\"},{\"attributes\":{\"text\":\"Kickstarter Main Category Success vs Failed Project\",\"text_color\":{\"value\":\"black\"},\"text_font_size\":{\"value\":\"12pt\"}},\"id\":\"2307\",\"type\":\"Title\"},{\"attributes\":{},\"id\":\"2326\",\"type\":\"ResetTool\"},{\"attributes\":{\"axis_label\":\"\",\"bounds\":\"auto\",\"formatter\":{\"id\":\"2345\"},\"major_label_orientation\":\"horizontal\",\"ticker\":{\"id\":\"2319\"}},\"id\":\"2318\",\"type\":\"LinearAxis\"},{\"attributes\":{\"bottom\":{\"field\":\"bottom\"},\"fill_color\":{\"field\":\"Variable\",\"transform\":{\"id\":\"2335\"}},\"top\":{\"field\":\"top\"},\"width\":{\"value\":0.8},\"x\":{\"field\":\"main_category\"}},\"id\":\"2339\",\"type\":\"VBar\"},{\"attributes\":{},\"id\":\"2337\",\"type\":\"Selection\"},{\"attributes\":{\"bottom\":{\"field\":\"bottom\"},\"fill_alpha\":{\"value\":0.2},\"fill_color\":{\"field\":\"Variable\",\"transform\":{\"id\":\"2335\"}},\"line_alpha\":{\"value\":0.2},\"top\":{\"field\":\"top\"},\"width\":{\"value\":0.8},\"x\":{\"field\":\"main_category\"}},\"id\":\"2341\",\"type\":\"VBar\"},{\"attributes\":{\"callback\":null,\"renderers\":[{\"id\":\"2342\"}],\"tags\":[\"hv_created\"],\"tooltips\":[[\"main_category\",\"@{main_category}\"],[\"Variable\",\"@{Variable}\"],[\"value\",\"@{value}\"]]},\"id\":\"2305\",\"type\":\"HoverTool\"},{\"attributes\":{\"source\":{\"id\":\"2336\"}},\"id\":\"2343\",\"type\":\"CDSView\"},{\"attributes\":{\"data\":{\"Variable\":[\"percent_fail\",\"percent_fail\",\"percent_fail\",\"percent_fail\",\"percent_fail\",\"percent_fail\",\"percent_fail\",\"percent_fail\",\"percent_fail\",\"percent_success\",\"percent_success\",\"percent_success\",\"percent_success\",\"percent_success\",\"percent_success\",\"percent_success\",\"percent_success\",\"percent_success\"],\"bottom\":{\"__ndarray__\":\"AAAAAAAAAAAAAAAAAAAAAAAAAAAAAAAAAAAAAAAAAAAAAAAAAAAAAAAAAAAAAAAAAAAAAAAAAAAAAAAAAAAAAAAAAAAAAAAAhrq9Aycp5T8Gxt7tUKbiP14fa2iuat4/RC8E8V724T8zNl1aCGjoP+CQowfDqeE/Z0AXb70z5z+m+CIKKB7XP0Zyb7b4W+g/\",\"dtype\":\"float64\",\"order\":\"little\",\"shape\":[18]},\"main_category\":[\"Film & Video\",\"Photography\",\"Theater\",\"Food\",\"Journalism\",\"Technology\",\"Games\",\"Music\",\"Art\",\"Photography\",\"Film & Video\",\"Music\",\"Games\",\"Technology\",\"Art\",\"Food\",\"Theater\",\"Journalism\"],\"top\":{\"__ndarray__\":\"Bsbe7VCm4j+Gur0DJynlP6b4IgooHtc/Z0AXb70z5z9Gcm+2+FvoPzM2XVoIaOg/RC8E8V724T9eH2tormreP+CQowfDqeE/AAAAAAAA8D8AAAAAAADwPwAAAAAAAPA/AAAAAAAA8D8AAAAAAADwPwAAAAAAAPA/AAAAAAAA8D8AAAAAAADwPwAAAAAAAPA/\",\"dtype\":\"float64\",\"order\":\"little\",\"shape\":[18]},\"value\":{\"__ndarray__\":\"Bsbe7VCm4j+Gur0DJynlP6b4IgooHtc/Z0AXb70z5z9Gcm+2+FvoPzM2XVoIaOg/RC8E8V724T9eH2tormreP+CQowfDqeE/9YqE+LGt1T/zc0IkXrPaP1FwysuoyuA/eaH3HUIT3D80J4uW3l/OPz/euPB5rNw/Mn/RIYWY0T+tg+7663DkP+g2QiYdkM4/\",\"dtype\":\"float64\",\"order\":\"little\",\"shape\":[18]}},\"selected\":{\"id\":\"2337\"},\"selection_policy\":{\"id\":\"2351\"}},\"id\":\"2336\",\"type\":\"ColumnDataSource\"},{\"attributes\":{},\"id\":\"2351\",\"type\":\"UnionRenderers\"},{\"attributes\":{},\"id\":\"2323\",\"type\":\"PanTool\"},{\"attributes\":{},\"id\":\"2311\",\"type\":\"CategoricalScale\"},{\"attributes\":{\"below\":[{\"id\":\"2315\"}],\"center\":[{\"id\":\"2317\"},{\"id\":\"2321\"},{\"id\":\"2352\"}],\"left\":[{\"id\":\"2318\"}],\"margin\":[5,5,5,5],\"min_border_bottom\":10,\"min_border_left\":10,\"min_border_right\":10,\"min_border_top\":10,\"plot_height\":300,\"plot_width\":700,\"renderers\":[{\"id\":\"2342\"}],\"right\":[{\"id\":\"2352\"}],\"sizing_mode\":\"fixed\",\"title\":{\"id\":\"2307\"},\"toolbar\":{\"id\":\"2328\"},\"x_range\":{\"id\":\"2303\"},\"x_scale\":{\"id\":\"2311\"},\"y_range\":{\"id\":\"2304\"},\"y_scale\":{\"id\":\"2313\"}},\"id\":\"2306\",\"subtype\":\"Figure\",\"type\":\"Plot\"},{\"attributes\":{},\"id\":\"2313\",\"type\":\"LinearScale\"},{\"attributes\":{\"factors\":[\"Film & Video\",\"Music\",\"Games\",\"Technology\",\"Art\",\"Food\",\"Theater\",\"Photography\",\"Journalism\"],\"tags\":[[[\"main_category\",\"main_category\",null]]]},\"id\":\"2303\",\"type\":\"FactorRange\"},{\"attributes\":{},\"id\":\"2316\",\"type\":\"CategoricalTicker\"},{\"attributes\":{},\"id\":\"2345\",\"type\":\"BasicTickFormatter\"},{\"attributes\":{},\"id\":\"2322\",\"type\":\"SaveTool\"},{\"attributes\":{\"children\":[{\"id\":\"2302\"},{\"id\":\"2306\"},{\"id\":\"2374\"}],\"margin\":[0,0,0,0],\"name\":\"Row03715\",\"tags\":[\"embedded\"]},\"id\":\"2301\",\"type\":\"Row\"},{\"attributes\":{\"axis\":{\"id\":\"2318\"},\"dimension\":1,\"grid_line_color\":null,\"ticker\":null},\"id\":\"2321\",\"type\":\"Grid\"},{\"attributes\":{},\"id\":\"2324\",\"type\":\"WheelZoomTool\"},{\"attributes\":{},\"id\":\"2319\",\"type\":\"BasicTicker\"},{\"attributes\":{\"data_source\":{\"id\":\"2336\"},\"glyph\":{\"id\":\"2339\"},\"hover_glyph\":null,\"muted_glyph\":{\"id\":\"2341\"},\"nonselection_glyph\":{\"id\":\"2340\"},\"selection_glyph\":null,\"view\":{\"id\":\"2343\"}},\"id\":\"2342\",\"type\":\"GlyphRenderer\"},{\"attributes\":{\"margin\":[5,5,5,5],\"name\":\"HSpacer03720\",\"sizing_mode\":\"stretch_width\"},\"id\":\"2374\",\"type\":\"Spacer\"},{\"attributes\":{},\"id\":\"2347\",\"type\":\"CategoricalTickFormatter\"},{\"attributes\":{\"overlay\":{\"id\":\"2327\"}},\"id\":\"2325\",\"type\":\"BoxZoomTool\"},{\"attributes\":{\"bottom_units\":\"screen\",\"fill_alpha\":0.5,\"fill_color\":\"lightgrey\",\"left_units\":\"screen\",\"level\":\"overlay\",\"line_alpha\":1.0,\"line_color\":\"black\",\"line_dash\":[4,4],\"line_width\":2,\"right_units\":\"screen\",\"top_units\":\"screen\"},\"id\":\"2327\",\"type\":\"BoxAnnotation\"},{\"attributes\":{\"reset_end\":1.0,\"reset_start\":0.0,\"tags\":[[[\"value\",\"value\",null]]]},\"id\":\"2304\",\"type\":\"Range1d\"},{\"attributes\":{\"axis_label\":\"main_category\",\"bounds\":\"auto\",\"formatter\":{\"id\":\"2347\"},\"major_label_orientation\":1.0471975511965976,\"ticker\":{\"id\":\"2316\"}},\"id\":\"2315\",\"type\":\"CategoricalAxis\"},{\"attributes\":{\"active_drag\":\"auto\",\"active_inspect\":\"auto\",\"active_multi\":null,\"active_scroll\":\"auto\",\"active_tap\":\"auto\",\"tools\":[{\"id\":\"2305\"},{\"id\":\"2322\"},{\"id\":\"2323\"},{\"id\":\"2324\"},{\"id\":\"2325\"},{\"id\":\"2326\"}]},\"id\":\"2328\",\"type\":\"Toolbar\"},{\"attributes\":{\"axis\":{\"id\":\"2315\"},\"grid_line_color\":null,\"ticker\":null},\"id\":\"2317\",\"type\":\"Grid\"}],\"root_ids\":[\"2301\"]},\"title\":\"Bokeh Application\",\"version\":\"2.2.3\"}};\n",
       "    var render_items = [{\"docid\":\"6ae97bfd-d49c-42e9-9650-d02de5f9070d\",\"root_ids\":[\"2301\"],\"roots\":{\"2301\":\"57b3c939-31e4-4f78-90a9-35700e690889\"}}];\n",
       "    root.Bokeh.embed.embed_items_notebook(docs_json, render_items);\n",
       "  }\n",
       "  if (root.Bokeh !== undefined && root.Bokeh.Panel !== undefined) {\n",
       "    embed_document(root);\n",
       "  } else {\n",
       "    var attempts = 0;\n",
       "    var timer = setInterval(function(root) {\n",
       "      if (root.Bokeh !== undefined && root.Bokeh.Panel !== undefined) {\n",
       "        clearInterval(timer);\n",
       "        embed_document(root);\n",
       "      } else if (document.readyState == \"complete\") {\n",
       "        attempts++;\n",
       "        if (attempts > 100) {\n",
       "          clearInterval(timer);\n",
       "          console.log(\"Bokeh: ERROR: Unable to run BokehJS code because BokehJS library is missing\");\n",
       "        }\n",
       "      }\n",
       "    }, 10, root)\n",
       "  }\n",
       "})(window);</script>"
      ]
     },
     "metadata": {
      "application/vnd.holoviews_exec.v0+json": {
       "id": "2301"
      }
     },
     "execution_count": 461
    }
   ],
   "metadata": {}
  },
  {
   "cell_type": "markdown",
   "source": [
    "## Plot and analyze success vs fail for Indiegogo."
   ],
   "metadata": {}
  },
  {
   "cell_type": "code",
   "execution_count": 462,
   "source": [
    "# Create an hvplot bar to show the success and failed projects of each main category of Indiegogo.\n",
    "indiegogo_main_category_total.hvplot.bar(stacked= True,\n",
    "                                  y=['percent_fail', 'percent_success'],\n",
    "                                  x= 'main_category',\n",
    "                                  rot= 60,\n",
    "                                 title='Indiegogo Main Category Success vs Failed Project',\n",
    "                                  cmap=['pink', 'green']\n",
    "                                 )"
   ],
   "outputs": [
    {
     "output_type": "display_data",
     "data": {},
     "metadata": {}
    },
    {
     "output_type": "execute_result",
     "data": {
      "application/vnd.holoviews_exec.v0+json": "",
      "text/plain": [
       ":Bars   [main_category,Variable]   (value)"
      ],
      "text/html": [
       "<div id='2416'>\n",
       "\n",
       "\n",
       "\n",
       "\n",
       "\n",
       "  <div class=\"bk-root\" id=\"a75534ee-5834-446f-816c-3cc1dbeb78df\" data-root-id=\"2416\"></div>\n",
       "</div>\n",
       "<script type=\"application/javascript\">(function(root) {\n",
       "  function embed_document(root) {\n",
       "    var docs_json = {\"7b7525d5-b34a-4610-9c73-04327d2aea08\":{\"roots\":{\"references\":[{\"attributes\":{\"reset_end\":1.0,\"reset_start\":0.0,\"tags\":[[[\"value\",\"value\",null]]]},\"id\":\"2419\",\"type\":\"Range1d\"},{\"attributes\":{\"margin\":[5,5,5,5],\"name\":\"HSpacer03968\",\"sizing_mode\":\"stretch_width\"},\"id\":\"2489\",\"type\":\"Spacer\"},{\"attributes\":{\"margin\":[5,5,5,5],\"name\":\"HSpacer03967\",\"sizing_mode\":\"stretch_width\"},\"id\":\"2417\",\"type\":\"Spacer\"},{\"attributes\":{},\"id\":\"2428\",\"type\":\"LinearScale\"},{\"attributes\":{},\"id\":\"2441\",\"type\":\"ResetTool\"},{\"attributes\":{},\"id\":\"2462\",\"type\":\"CategoricalTickFormatter\"},{\"attributes\":{\"factors\":[\"Technology\",\"Journalism\",\"Art\",\"Food\",\"Games\",\"Film & Video\",\"Photography\",\"Theater\",\"Music\"],\"tags\":[[[\"main_category\",\"main_category\",null]]]},\"id\":\"2418\",\"type\":\"FactorRange\"},{\"attributes\":{\"callback\":null,\"renderers\":[{\"id\":\"2457\"}],\"tags\":[\"hv_created\"],\"tooltips\":[[\"main_category\",\"@{main_category}\"],[\"Variable\",\"@{Variable}\"],[\"value\",\"@{value}\"]]},\"id\":\"2420\",\"type\":\"HoverTool\"},{\"attributes\":{},\"id\":\"2438\",\"type\":\"PanTool\"},{\"attributes\":{\"axis\":{\"id\":\"2430\"},\"grid_line_color\":null,\"ticker\":null},\"id\":\"2432\",\"type\":\"Grid\"},{\"attributes\":{},\"id\":\"2437\",\"type\":\"SaveTool\"},{\"attributes\":{},\"id\":\"2460\",\"type\":\"BasicTickFormatter\"},{\"attributes\":{},\"id\":\"2439\",\"type\":\"WheelZoomTool\"},{\"attributes\":{\"text\":\"Indiegogo Main Category Success vs Failed Project\",\"text_color\":{\"value\":\"black\"},\"text_font_size\":{\"value\":\"12pt\"}},\"id\":\"2422\",\"type\":\"Title\"},{\"attributes\":{\"items\":[{\"id\":\"2468\"}],\"location\":[0,0]},\"id\":\"2467\",\"type\":\"Legend\"},{\"attributes\":{\"overlay\":{\"id\":\"2442\"}},\"id\":\"2440\",\"type\":\"BoxZoomTool\"},{\"attributes\":{},\"id\":\"2434\",\"type\":\"BasicTicker\"},{\"attributes\":{\"data\":{\"Variable\":[\"percent_fail\",\"percent_fail\",\"percent_fail\",\"percent_fail\",\"percent_fail\",\"percent_fail\",\"percent_fail\",\"percent_fail\",\"percent_fail\",\"percent_success\",\"percent_success\",\"percent_success\",\"percent_success\",\"percent_success\",\"percent_success\",\"percent_success\",\"percent_success\",\"percent_success\"],\"bottom\":{\"__ndarray__\":\"AAAAAAAAAAAAAAAAAAAAAAAAAAAAAAAAAAAAAAAAAAAAAAAAAAAAAAAAAAAAAAAAAAAAAAAAAAAAAAAAAAAAAAAAAAAAAAAAAAAAAAAA8D9bl24bKs3pP/Ljx48fP+w/dm2iZNcm7j9wpg1DiEPuP6yrq6urq+s/sMfwoYyi6j8B+xOwPwHrP0Ab0j8b0u8/\",\"dtype\":\"float64\",\"order\":\"little\",\"shape\":[18]},\"main_category\":[\"Technology\",\"Theater\",\"Photography\",\"Film & Video\",\"Music\",\"Food\",\"Art\",\"Journalism\",\"Games\",\"Theater\",\"Technology\",\"Journalism\",\"Art\",\"Food\",\"Games\",\"Film & Video\",\"Photography\",\"Music\"],\"top\":{\"__ndarray__\":\"W5duGyrN6T8AAAAAAADwPwH7E7A/Aes/sMfwoYyi6j9AG9I/G9LvP3CmDUOIQ+4/dm2iZNcm7j/y48ePHz/sP6yrq6urq+s/AAAAAAAA8D8AAAAAAADwPwAAAAAAAPA/AAAAAAAA8D8AAAAAAADwPwAAAAAAAPA/AAAAAAAA8D8AAAAAAADwPwAAAAAAAPA/\",\"dtype\":\"float64\",\"order\":\"little\",\"shape\":[18]},\"value\":{\"__ndarray__\":\"W5duGyrN6T8AAAAAAADwPwH7E7A/Aes/sMfwoYyi6j9AG9I/G9LvP3CmDUOIQ+4/dm2iZNcm7j/y48ePHz/sP6yrq6urq+s/AAAAAAAAAACUokWSV8vIP3DgwIEDB74/myjZtYmSrT8GmSXPe8erP1FRUVFRUcE/QeE8eM11xT/7E7A/AfvDPxdg8hZg8nY/\",\"dtype\":\"float64\",\"order\":\"little\",\"shape\":[18]}},\"selected\":{\"id\":\"2452\"},\"selection_policy\":{\"id\":\"2466\"}},\"id\":\"2451\",\"type\":\"ColumnDataSource\"},{\"attributes\":{\"bottom\":{\"field\":\"bottom\"},\"fill_color\":{\"field\":\"Variable\",\"transform\":{\"id\":\"2450\"}},\"top\":{\"field\":\"top\"},\"width\":{\"value\":0.8},\"x\":{\"field\":\"main_category\"}},\"id\":\"2454\",\"type\":\"VBar\"},{\"attributes\":{\"source\":{\"id\":\"2451\"}},\"id\":\"2458\",\"type\":\"CDSView\"},{\"attributes\":{\"below\":[{\"id\":\"2430\"}],\"center\":[{\"id\":\"2432\"},{\"id\":\"2436\"},{\"id\":\"2467\"}],\"left\":[{\"id\":\"2433\"}],\"margin\":[5,5,5,5],\"min_border_bottom\":10,\"min_border_left\":10,\"min_border_right\":10,\"min_border_top\":10,\"plot_height\":300,\"plot_width\":700,\"renderers\":[{\"id\":\"2457\"}],\"right\":[{\"id\":\"2467\"}],\"sizing_mode\":\"fixed\",\"title\":{\"id\":\"2422\"},\"toolbar\":{\"id\":\"2443\"},\"x_range\":{\"id\":\"2418\"},\"x_scale\":{\"id\":\"2426\"},\"y_range\":{\"id\":\"2419\"},\"y_scale\":{\"id\":\"2428\"}},\"id\":\"2421\",\"subtype\":\"Figure\",\"type\":\"Plot\"},{\"attributes\":{\"data_source\":{\"id\":\"2451\"},\"glyph\":{\"id\":\"2454\"},\"hover_glyph\":null,\"muted_glyph\":{\"id\":\"2456\"},\"nonselection_glyph\":{\"id\":\"2455\"},\"selection_glyph\":null,\"view\":{\"id\":\"2458\"}},\"id\":\"2457\",\"type\":\"GlyphRenderer\"},{\"attributes\":{\"bottom_units\":\"screen\",\"fill_alpha\":0.5,\"fill_color\":\"lightgrey\",\"left_units\":\"screen\",\"level\":\"overlay\",\"line_alpha\":1.0,\"line_color\":\"black\",\"line_dash\":[4,4],\"line_width\":2,\"right_units\":\"screen\",\"top_units\":\"screen\"},\"id\":\"2442\",\"type\":\"BoxAnnotation\"},{\"attributes\":{\"active_drag\":\"auto\",\"active_inspect\":\"auto\",\"active_multi\":null,\"active_scroll\":\"auto\",\"active_tap\":\"auto\",\"tools\":[{\"id\":\"2420\"},{\"id\":\"2437\"},{\"id\":\"2438\"},{\"id\":\"2439\"},{\"id\":\"2440\"},{\"id\":\"2441\"}]},\"id\":\"2443\",\"type\":\"Toolbar\"},{\"attributes\":{\"axis_label\":\"\",\"bounds\":\"auto\",\"formatter\":{\"id\":\"2460\"},\"major_label_orientation\":\"horizontal\",\"ticker\":{\"id\":\"2434\"}},\"id\":\"2433\",\"type\":\"LinearAxis\"},{\"attributes\":{},\"id\":\"2466\",\"type\":\"UnionRenderers\"},{\"attributes\":{\"axis\":{\"id\":\"2433\"},\"dimension\":1,\"grid_line_color\":null,\"ticker\":null},\"id\":\"2436\",\"type\":\"Grid\"},{\"attributes\":{},\"id\":\"2431\",\"type\":\"CategoricalTicker\"},{\"attributes\":{\"bottom\":{\"field\":\"bottom\"},\"fill_alpha\":{\"value\":0.1},\"fill_color\":{\"field\":\"Variable\",\"transform\":{\"id\":\"2450\"}},\"line_alpha\":{\"value\":0.1},\"top\":{\"field\":\"top\"},\"width\":{\"value\":0.8},\"x\":{\"field\":\"main_category\"}},\"id\":\"2455\",\"type\":\"VBar\"},{\"attributes\":{\"factors\":[\"percent_fail\",\"percent_success\"],\"palette\":[\"pink\",\"green\"]},\"id\":\"2450\",\"type\":\"CategoricalColorMapper\"},{\"attributes\":{\"label\":{\"field\":\"Variable\"},\"renderers\":[{\"id\":\"2457\"}]},\"id\":\"2468\",\"type\":\"LegendItem\"},{\"attributes\":{\"children\":[{\"id\":\"2417\"},{\"id\":\"2421\"},{\"id\":\"2489\"}],\"margin\":[0,0,0,0],\"name\":\"Row03963\",\"tags\":[\"embedded\"]},\"id\":\"2416\",\"type\":\"Row\"},{\"attributes\":{\"bottom\":{\"field\":\"bottom\"},\"fill_alpha\":{\"value\":0.2},\"fill_color\":{\"field\":\"Variable\",\"transform\":{\"id\":\"2450\"}},\"line_alpha\":{\"value\":0.2},\"top\":{\"field\":\"top\"},\"width\":{\"value\":0.8},\"x\":{\"field\":\"main_category\"}},\"id\":\"2456\",\"type\":\"VBar\"},{\"attributes\":{},\"id\":\"2452\",\"type\":\"Selection\"},{\"attributes\":{},\"id\":\"2426\",\"type\":\"CategoricalScale\"},{\"attributes\":{\"axis_label\":\"main_category\",\"bounds\":\"auto\",\"formatter\":{\"id\":\"2462\"},\"major_label_orientation\":1.0471975511965976,\"ticker\":{\"id\":\"2431\"}},\"id\":\"2430\",\"type\":\"CategoricalAxis\"}],\"root_ids\":[\"2416\"]},\"title\":\"Bokeh Application\",\"version\":\"2.2.3\"}};\n",
       "    var render_items = [{\"docid\":\"7b7525d5-b34a-4610-9c73-04327d2aea08\",\"root_ids\":[\"2416\"],\"roots\":{\"2416\":\"a75534ee-5834-446f-816c-3cc1dbeb78df\"}}];\n",
       "    root.Bokeh.embed.embed_items_notebook(docs_json, render_items);\n",
       "  }\n",
       "  if (root.Bokeh !== undefined && root.Bokeh.Panel !== undefined) {\n",
       "    embed_document(root);\n",
       "  } else {\n",
       "    var attempts = 0;\n",
       "    var timer = setInterval(function(root) {\n",
       "      if (root.Bokeh !== undefined && root.Bokeh.Panel !== undefined) {\n",
       "        clearInterval(timer);\n",
       "        embed_document(root);\n",
       "      } else if (document.readyState == \"complete\") {\n",
       "        attempts++;\n",
       "        if (attempts > 100) {\n",
       "          clearInterval(timer);\n",
       "          console.log(\"Bokeh: ERROR: Unable to run BokehJS code because BokehJS library is missing\");\n",
       "        }\n",
       "      }\n",
       "    }, 10, root)\n",
       "  }\n",
       "})(window);</script>"
      ]
     },
     "metadata": {
      "application/vnd.holoviews_exec.v0+json": {
       "id": "2416"
      }
     },
     "execution_count": 462
    }
   ],
   "metadata": {}
  },
  {
   "cell_type": "markdown",
   "source": [
    "## General Summary Stats for Indiegogo"
   ],
   "metadata": {}
  },
  {
   "cell_type": "code",
   "execution_count": 463,
   "source": [
    "# Generate summary stats for indiegogo\n",
    "indiegog_data_df = load_full_table('indie_gogo')\n",
    "indiegogo_summary_df = indiegog_data_df.drop(columns=['ID', 'name', 'index', 'deadline', 'launched', 'state', 'lat', 'long']).describe()\n",
    "\n",
    "# View head\n",
    "indiegogo_summary_df"
   ],
   "outputs": [
    {
     "output_type": "execute_result",
     "data": {
      "text/plain": [
       "       usd_goal_real  usd_pledged_real  funded_percent     duration  \\\n",
       "count    9309.000000      9.309000e+03     9309.000000  9309.000000   \n",
       "mean    26653.296548      2.334331e+04        0.786834    42.884413   \n",
       "std     50055.500815      1.680333e+05        4.581792    20.841792   \n",
       "min       375.037800      1.000000e+00        0.000000     0.000000   \n",
       "25%      3200.000000      1.955490e+02        0.020700    30.000000   \n",
       "50%     10000.000000      7.220000e+02        0.123900    45.000000   \n",
       "75%     25000.000000      2.753383e+03        0.446600    60.000000   \n",
       "max    500000.000000      6.051571e+06      207.054000   720.000000   \n",
       "\n",
       "       daily_goal  daily_pledged  \n",
       "count     9309.00        9309.00  \n",
       "mean          inf            inf  \n",
       "std           NaN            NaN  \n",
       "min          0.94           0.02  \n",
       "25%         83.33           4.58  \n",
       "50%        234.38          18.33  \n",
       "75%        681.82          71.96  \n",
       "max           inf            inf  "
      ],
      "text/html": [
       "<div>\n",
       "<style scoped>\n",
       "    .dataframe tbody tr th:only-of-type {\n",
       "        vertical-align: middle;\n",
       "    }\n",
       "\n",
       "    .dataframe tbody tr th {\n",
       "        vertical-align: top;\n",
       "    }\n",
       "\n",
       "    .dataframe thead th {\n",
       "        text-align: right;\n",
       "    }\n",
       "</style>\n",
       "<table border=\"1\" class=\"dataframe\">\n",
       "  <thead>\n",
       "    <tr style=\"text-align: right;\">\n",
       "      <th></th>\n",
       "      <th>usd_goal_real</th>\n",
       "      <th>usd_pledged_real</th>\n",
       "      <th>funded_percent</th>\n",
       "      <th>duration</th>\n",
       "      <th>daily_goal</th>\n",
       "      <th>daily_pledged</th>\n",
       "    </tr>\n",
       "  </thead>\n",
       "  <tbody>\n",
       "    <tr>\n",
       "      <th>count</th>\n",
       "      <td>9309.000000</td>\n",
       "      <td>9.309000e+03</td>\n",
       "      <td>9309.000000</td>\n",
       "      <td>9309.000000</td>\n",
       "      <td>9309.00</td>\n",
       "      <td>9309.00</td>\n",
       "    </tr>\n",
       "    <tr>\n",
       "      <th>mean</th>\n",
       "      <td>26653.296548</td>\n",
       "      <td>2.334331e+04</td>\n",
       "      <td>0.786834</td>\n",
       "      <td>42.884413</td>\n",
       "      <td>inf</td>\n",
       "      <td>inf</td>\n",
       "    </tr>\n",
       "    <tr>\n",
       "      <th>std</th>\n",
       "      <td>50055.500815</td>\n",
       "      <td>1.680333e+05</td>\n",
       "      <td>4.581792</td>\n",
       "      <td>20.841792</td>\n",
       "      <td>NaN</td>\n",
       "      <td>NaN</td>\n",
       "    </tr>\n",
       "    <tr>\n",
       "      <th>min</th>\n",
       "      <td>375.037800</td>\n",
       "      <td>1.000000e+00</td>\n",
       "      <td>0.000000</td>\n",
       "      <td>0.000000</td>\n",
       "      <td>0.94</td>\n",
       "      <td>0.02</td>\n",
       "    </tr>\n",
       "    <tr>\n",
       "      <th>25%</th>\n",
       "      <td>3200.000000</td>\n",
       "      <td>1.955490e+02</td>\n",
       "      <td>0.020700</td>\n",
       "      <td>30.000000</td>\n",
       "      <td>83.33</td>\n",
       "      <td>4.58</td>\n",
       "    </tr>\n",
       "    <tr>\n",
       "      <th>50%</th>\n",
       "      <td>10000.000000</td>\n",
       "      <td>7.220000e+02</td>\n",
       "      <td>0.123900</td>\n",
       "      <td>45.000000</td>\n",
       "      <td>234.38</td>\n",
       "      <td>18.33</td>\n",
       "    </tr>\n",
       "    <tr>\n",
       "      <th>75%</th>\n",
       "      <td>25000.000000</td>\n",
       "      <td>2.753383e+03</td>\n",
       "      <td>0.446600</td>\n",
       "      <td>60.000000</td>\n",
       "      <td>681.82</td>\n",
       "      <td>71.96</td>\n",
       "    </tr>\n",
       "    <tr>\n",
       "      <th>max</th>\n",
       "      <td>500000.000000</td>\n",
       "      <td>6.051571e+06</td>\n",
       "      <td>207.054000</td>\n",
       "      <td>720.000000</td>\n",
       "      <td>inf</td>\n",
       "      <td>inf</td>\n",
       "    </tr>\n",
       "  </tbody>\n",
       "</table>\n",
       "</div>"
      ]
     },
     "metadata": {},
     "execution_count": 463
    }
   ],
   "metadata": {}
  },
  {
   "cell_type": "code",
   "execution_count": 464,
   "source": [
    "# Violin plot of duration by state\n",
    "sns.set(rc={'figure.figsize':(11.7,8.27)})\n",
    "ax = sns.violinplot(\n",
    "    x=\"duration\",\n",
    "    y=\"main_category\",\n",
    "    hue=\"state\",\n",
    "    data=indiegog_data_df,\n",
    "    scale=\"width\",\n",
    "    palette=\"muted\"\n",
    "    )"
   ],
   "outputs": [
    {
     "output_type": "display_data",
     "data": {
      "text/plain": [
       "<Figure size 842.4x595.44 with 1 Axes>"
      ],
      "image/png": "[encoded data removed]"
     },
     "metadata": {}
    }
   ],
   "metadata": {}
  },
  {
   "cell_type": "code",
   "execution_count": 465,
   "source": [
    "# Violin plot of pledged with success true\n",
    "indiegogo_clean_success_df = indiegog_data_df[indiegog_data_df['state'] == 1]\n",
    "ax = sns.violinplot(\n",
    "    x=\"usd_pledged_real\",\n",
    "    y=\"main_category\",\n",
    "    data=indiegogo_clean_success_df,\n",
    "    scale=\"width\",\n",
    "    palette=\"muted\"\n",
    "    )"
   ],
   "outputs": [
    {
     "output_type": "display_data",
     "data": {
      "text/plain": [
       "<Figure size 842.4x595.44 with 1 Axes>"
      ],
      "image/png": "[encoded data removed]"
     },
     "metadata": {}
    }
   ],
   "metadata": {}
  },
  {
   "cell_type": "markdown",
   "source": [
    "## General Summary Stats for Kickstarter"
   ],
   "metadata": {}
  },
  {
   "cell_type": "code",
   "execution_count": 466,
   "source": [
    "# Generate summary stats for indiegogo\n",
    "kickstarter_summary_df_test = load_full_table('kickstarter_large').drop(columns=['ID', 'name', 'index', 'deadline', 'launched', 'state', 'lat', 'long', 'avg_backer_per_day', 'pledged_per_person']).describe()\n",
    "\n",
    "# View head\n",
    "kickstarter_summary_df_test"
   ],
   "outputs": [
    {
     "output_type": "execute_result",
     "data": {
      "text/plain": [
       "       usd_goal_real  usd_pledged_real  funded_percent       duration  \\\n",
       "count   2.274990e+05      2.274990e+05   227499.000000  227499.000000   \n",
       "mean    5.019878e+04      9.799910e+03        4.010140      32.958479   \n",
       "std     1.262009e+06      8.555011e+04      334.397301      12.800626   \n",
       "min     1.500000e-01      0.000000e+00        0.000000       0.000000   \n",
       "25%     2.000000e+03      4.625000e+01        0.006400      29.000000   \n",
       "50%     5.311080e+03      8.200000e+02        0.205300      29.000000   \n",
       "75%     1.594354e+04      4.733000e+03        1.087500      36.000000   \n",
       "max     1.663614e+08      1.239314e+07   104277.890000      91.000000   \n",
       "\n",
       "       daily_goal  daily_pledged  \n",
       "count   227499.00     227475.000  \n",
       "mean          inf            inf  \n",
       "std           NaN            NaN  \n",
       "min          0.00          0.000  \n",
       "25%         68.97          1.380  \n",
       "50%        175.21         27.590  \n",
       "75%        517.24        159.495  \n",
       "max           inf            inf  "
      ],
      "text/html": [
       "<div>\n",
       "<style scoped>\n",
       "    .dataframe tbody tr th:only-of-type {\n",
       "        vertical-align: middle;\n",
       "    }\n",
       "\n",
       "    .dataframe tbody tr th {\n",
       "        vertical-align: top;\n",
       "    }\n",
       "\n",
       "    .dataframe thead th {\n",
       "        text-align: right;\n",
       "    }\n",
       "</style>\n",
       "<table border=\"1\" class=\"dataframe\">\n",
       "  <thead>\n",
       "    <tr style=\"text-align: right;\">\n",
       "      <th></th>\n",
       "      <th>usd_goal_real</th>\n",
       "      <th>usd_pledged_real</th>\n",
       "      <th>funded_percent</th>\n",
       "      <th>duration</th>\n",
       "      <th>daily_goal</th>\n",
       "      <th>daily_pledged</th>\n",
       "    </tr>\n",
       "  </thead>\n",
       "  <tbody>\n",
       "    <tr>\n",
       "      <th>count</th>\n",
       "      <td>2.274990e+05</td>\n",
       "      <td>2.274990e+05</td>\n",
       "      <td>227499.000000</td>\n",
       "      <td>227499.000000</td>\n",
       "      <td>227499.00</td>\n",
       "      <td>227475.000</td>\n",
       "    </tr>\n",
       "    <tr>\n",
       "      <th>mean</th>\n",
       "      <td>5.019878e+04</td>\n",
       "      <td>9.799910e+03</td>\n",
       "      <td>4.010140</td>\n",
       "      <td>32.958479</td>\n",
       "      <td>inf</td>\n",
       "      <td>inf</td>\n",
       "    </tr>\n",
       "    <tr>\n",
       "      <th>std</th>\n",
       "      <td>1.262009e+06</td>\n",
       "      <td>8.555011e+04</td>\n",
       "      <td>334.397301</td>\n",
       "      <td>12.800626</td>\n",
       "      <td>NaN</td>\n",
       "      <td>NaN</td>\n",
       "    </tr>\n",
       "    <tr>\n",
       "      <th>min</th>\n",
       "      <td>1.500000e-01</td>\n",
       "      <td>0.000000e+00</td>\n",
       "      <td>0.000000</td>\n",
       "      <td>0.000000</td>\n",
       "      <td>0.00</td>\n",
       "      <td>0.000</td>\n",
       "    </tr>\n",
       "    <tr>\n",
       "      <th>25%</th>\n",
       "      <td>2.000000e+03</td>\n",
       "      <td>4.625000e+01</td>\n",
       "      <td>0.006400</td>\n",
       "      <td>29.000000</td>\n",
       "      <td>68.97</td>\n",
       "      <td>1.380</td>\n",
       "    </tr>\n",
       "    <tr>\n",
       "      <th>50%</th>\n",
       "      <td>5.311080e+03</td>\n",
       "      <td>8.200000e+02</td>\n",
       "      <td>0.205300</td>\n",
       "      <td>29.000000</td>\n",
       "      <td>175.21</td>\n",
       "      <td>27.590</td>\n",
       "    </tr>\n",
       "    <tr>\n",
       "      <th>75%</th>\n",
       "      <td>1.594354e+04</td>\n",
       "      <td>4.733000e+03</td>\n",
       "      <td>1.087500</td>\n",
       "      <td>36.000000</td>\n",
       "      <td>517.24</td>\n",
       "      <td>159.495</td>\n",
       "    </tr>\n",
       "    <tr>\n",
       "      <th>max</th>\n",
       "      <td>1.663614e+08</td>\n",
       "      <td>1.239314e+07</td>\n",
       "      <td>104277.890000</td>\n",
       "      <td>91.000000</td>\n",
       "      <td>inf</td>\n",
       "      <td>inf</td>\n",
       "    </tr>\n",
       "  </tbody>\n",
       "</table>\n",
       "</div>"
      ]
     },
     "metadata": {},
     "execution_count": 466
    }
   ],
   "metadata": {}
  },
  {
   "cell_type": "markdown",
   "source": [
    "## Create a WordCloud to show the main categories for Kickstarter"
   ],
   "metadata": {}
  },
  {
   "cell_type": "code",
   "execution_count": 468,
   "source": [
    "# Create a WordCloud to show the main categories for Kickstarter.\n",
    "\n",
    "# Create a list of word\n",
    "ks_cat = kickstarter_large_clean_df['category']\n",
    "ks_string = \" \".join(ks_cat)\n",
    "mask = np.array(Image.open('./Resources/Images/K.png'))\n",
    "\n",
    "# Create the wordcloud object\n",
    "wordcloud = WordCloud(width=50, height=50, margin=0, max_words=200, max_font_size= 100, colormap='summer', random_state= 10, mask=mask).generate(ks_string)\n",
    "\n",
    "# Display the generated image:\n",
    "plt.figure(figsize=(10,10))\n",
    "plt.imshow(wordcloud, interpolation='bilinear')\n",
    "plt.axis(\"off\")\n",
    "plt.margins(x=0, y=0)\n",
    "plt.show()\n"
   ],
   "outputs": [
    {
     "output_type": "display_data",
     "data": {
      "text/plain": [
       "<Figure size 720x720 with 1 Axes>"
      ],
      "image/png": "[encoded data removed]"
     },
     "metadata": {}
    }
   ],
   "metadata": {}
  },
  {
   "cell_type": "markdown",
   "source": [
    "## Create a WordCloud to show the main categories for Indiegogo"
   ],
   "metadata": {}
  },
  {
   "cell_type": "code",
   "execution_count": 469,
   "source": [
    "# Create a WordCloud to show the main categories for Indiegogo.\n",
    "\n",
    "# Create a list of word\n",
    "indie_cat = indiegogo_clean_df['category']\n",
    "indie_string = \" \".join(indie_cat)\n",
    "\n",
    "mask = np.array(Image.open('./Resources/Images/I.png'))\n",
    "\n",
    "# Create the wordcloud object\n",
    "wordcloud = WordCloud(width=100, height=100, margin=0, max_words=200, max_font_size=100, colormap='spring', random_state=6, mask=mask).generate(indie_string)\n",
    "\n",
    "# Display the generated image:\n",
    "plt.figure(figsize=(10,10))\n",
    "plt.imshow(wordcloud, interpolation='bilinear')\n",
    "plt.axis(\"off\")\n",
    "plt.margins(x=0, y=0)\n",
    "plt.show()\n",
    "\n"
   ],
   "outputs": [
    {
     "output_type": "display_data",
     "data": {
      "text/plain": [
       "<Figure size 720x720 with 1 Axes>"
      ],
      "image/png": "[encoded data removed]"
     },
     "metadata": {}
    }
   ],
   "metadata": {}
  },
  {
   "cell_type": "code",
   "execution_count": null,
   "source": [],
   "outputs": [],
   "metadata": {}
  }
 ],
 "metadata": {
  "interpreter": {
   "hash": "930eee74a1f2acacbb765ecf4f41bca31b45440fd68d4dff19855f34b00f2967"
  },
  "kernelspec": {
   "name": "python3",
   "display_name": "Python 3.7.9 64-bit ('dev': conda)"
  },
  "language_info": {
   "codemirror_mode": {
    "name": "ipython",
    "version": 3
   },
   "file_extension": ".py",
   "mimetype": "text/x-python",
   "name": "python",
   "nbconvert_exporter": "python",
   "pygments_lexer": "ipython3",
   "version": "3.7.9"
  }
 },
 "nbformat": 4,
 "nbformat_minor": 4
}