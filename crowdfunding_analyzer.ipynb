{
 "cells": [
  {
   "cell_type": "code",
   "execution_count": 10,
   "source": [
    "# Import the required libraries and dependencies\n",
    "import os\n",
    "import pandas as pd\n",
    "import plotly.express as px\n",
    "import hvplot.pandas\n",
    "from pathlib import Path\n",
    "from dotenv import load_dotenv"
   ],
   "outputs": [],
   "metadata": {}
  },
  {
   "cell_type": "markdown",
   "source": [
    "## Enable your Mapbox API access token"
   ],
   "metadata": {}
  },
  {
   "cell_type": "code",
   "execution_count": 11,
   "source": [
    "# Load the .env file into the notebook\n",
    "load_dotenv()\n",
    "\n",
    "# Read in your MAPBOX_API_KEY\n",
    "mapbox_api_access_token = os.getenv('MAPBOX_API_ACCESS_TOKEN')\n",
    "\n",
    "# Confirm the availability of your Mapbox API access token by checking its type\n",
    "display(type(mapbox_api_access_token))\n",
    "\n",
    "# Set your Mapbox API access token\n",
    "px.set_mapbox_access_token(mapbox_api_access_token)"
   ],
   "outputs": [
    {
     "output_type": "display_data",
     "data": {
      "text/plain": [
       "str"
      ]
     },
     "metadata": {}
    }
   ],
   "metadata": {}
  },
  {
   "cell_type": "markdown",
   "source": [
    "## Import the data "
   ],
   "metadata": {}
  },
  {
   "cell_type": "code",
   "execution_count": 34,
   "source": [
    "# Import large kickstarter recent dataset\n",
    "kickstarter_large_recent_df = pd.read_csv(\n",
    "    Path('./Resources/kickstarter_large_dataset/ks-projects-201801.csv')\n",
    ")\n",
    "\n",
    "# Imported data has a space at the end of the column name\n",
    "# Remove spaces in columns name\n",
    "kickstarter_large_recent_df.columns = kickstarter_large_recent_df.columns.str.replace(' ','')\n",
    "\n",
    "# Set the index as the ID\n",
    "kickstarter_large_recent_df.set_index('ID', inplace=True)\n",
    "\n",
    "# View head\n",
    "kickstarter_large_recent_df.head()"
   ],
   "outputs": [],
   "metadata": {}
  },
  {
   "cell_type": "code",
   "execution_count": 57,
   "source": [
    "# Import small kickstarter live dataset\n",
    "kickstarter_small_live_df = pd.read_csv(\n",
    "    Path('./Resources/kickstarter_small_dataset/live.csv')\n",
    ")\n",
    "\n",
    "# Fix ID column\n",
    "kickstarter_small_live_df.rename(columns={'Unnamed: 0': 'ID'}, inplace=True)\n",
    "\n",
    "# Set the index as the ID\n",
    "kickstarter_small_live_df.set_index('ID', inplace=True)\n",
    "\n",
    "# View head\n",
    "kickstarter_small_live_df.head()"
   ],
   "outputs": [],
   "metadata": {}
  },
  {
   "cell_type": "code",
   "execution_count": 60,
   "source": [
    "# Import small kickstarter most backed dataset\n",
    "kickstarter_small_most_backed_df = pd.read_csv(\n",
    "    Path('./Resources/kickstarter_small_dataset/most_backed.csv')\n",
    ")\n",
    "\n",
    "# Fix ID column\n",
    "kickstarter_small_most_backed_df.rename(columns={'Unnamed: 0': 'ID'}, inplace=True)\n",
    "\n",
    "# Set the index as the ID\n",
    "kickstarter_small_most_backed_df.set_index('ID', inplace=True)\n",
    "\n",
    "# View head\n",
    "kickstarter_small_most_backed_df.head()"
   ],
   "outputs": [],
   "metadata": {}
  },
  {
   "cell_type": "code",
   "execution_count": 64,
   "source": [
    "# Import indiegogo dataset\n",
    "indiegogo_df = pd.read_csv(\n",
    "    Path('./Resources/indiegogo.csv')\n",
    ")\n",
    "\n",
    "# Fix ID column\n",
    "indiegogo_df.rename(columns={'project_id' : 'ID'}, inplace=True)\n",
    "\n",
    "# Set the index as the ID\n",
    "indiegogo_df.set_index('ID', inplace=True)\n",
    "\n",
    "# View head\n",
    "indiegogo_df.head()"
   ],
   "outputs": [],
   "metadata": {}
  }
 ],
 "metadata": {
  "kernelspec": {
   "display_name": "Python 3",
   "language": "python",
   "name": "python3"
  },
  "language_info": {
   "codemirror_mode": {
    "name": "ipython",
    "version": 3
   },
   "file_extension": ".py",
   "mimetype": "text/x-python",
   "name": "python",
   "nbconvert_exporter": "python",
   "pygments_lexer": "ipython3",
   "version": "3.8.5"
  }
 },
 "nbformat": 4,
 "nbformat_minor": 4
}