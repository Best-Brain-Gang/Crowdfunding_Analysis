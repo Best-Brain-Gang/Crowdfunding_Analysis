{
 "cells": [
  {
   "cell_type": "code",
   "execution_count": 6,
   "source": [
    "# Import the required libraries and dependencies\r\n",
    "import os\r\n",
    "import pandas as pd\r\n",
    "import plotly.express as px\r\n",
    "import hvplot.pandas\r\n",
    "from pathlib import Path\r\n",
    "from dotenv import load_dotenv\r\n",
    "import sqlalchemy"
   ],
   "outputs": [],
   "metadata": {}
  },
  {
   "cell_type": "markdown",
   "source": [
    "## Clean data"
   ],
   "metadata": {}
  },
  {
   "cell_type": "code",
   "execution_count": 7,
   "source": [
    "my_file = Path('./Resources/kickstarter_data_clean/ks-projects-large.csv')\n",
    "if not my_file.is_file():\n",
    "    display(my_file.is_file())\n",
    "    %run ./data_clean.ipynb"
   ],
   "outputs": [
    {
     "output_type": "display_data",
     "data": {
      "text/plain": [
       "True"
      ]
     },
     "metadata": {}
    }
   ],
   "metadata": {}
  },
  {
   "cell_type": "markdown",
   "source": [
    "## Enable Mapbox API access token"
   ],
   "metadata": {}
  },
  {
   "cell_type": "code",
   "execution_count": 8,
   "source": [
    "# Load the .env file into the notebook\r\n",
    "load_dotenv()\r\n",
    "\r\n",
    "# Read in your MAPBOX_API_KEY\r\n",
    "mapbox_api_access_token = os.getenv('MAPBOX_API_ACCESS_TOKEN')\r\n",
    "\r\n",
    "# Confirm the availability of your Mapbox API access token by checking its type\r\n",
    "display(type(mapbox_api_access_token))\r\n",
    "\r\n",
    "# Set your Mapbox API access token\r\n",
    "px.set_mapbox_access_token(mapbox_api_access_token)"
   ],
   "outputs": [
    {
     "output_type": "display_data",
     "data": {
      "text/plain": [
       "str"
      ]
     },
     "metadata": {}
    }
   ],
   "metadata": {}
  },
  {
   "cell_type": "markdown",
   "source": [
    "## Add SQL database and simple functions to load and access tables in that database"
   ],
   "metadata": {}
  },
  {
   "cell_type": "code",
   "execution_count": 9,
   "source": [
    "# Establishes Database Connection with a temporary SQL db (we can update to give it a name later)\n",
    "database_connection_string = \"sqlite:///\"\n",
    "\n",
    "engine = sqlalchemy.create_engine(database_connection_string)\n",
    "\n",
    "# Function to load table into DB\n",
    "# data is the dataframe we want to save, \n",
    "# table name is the name of the new table (as a string value), \n",
    "# and engine is the engine input established earlier\n",
    "def new_table(data, table_name):\n",
    "    data.to_sql(f\"{table_name}\", engine, index=True, if_exists=\"replace\")\n",
    "\n",
    "\n",
    "# Lets us load the table of our choice from the database, just set the function equal to a new dataframe variable and run \n",
    "# must set the table name as a string value\n",
    "def load_full_table(table_name):\n",
    "    new_df = pd.read_sql_table(f\"{table_name}\", con=engine )\n",
    "    return new_df\n",
    "\n",
    "new_table(kickstarter_selected_cols_large_recent_df, \"kickstarter_large\")\n",
    "new_table(kickstarter_selected_cols_small_most_backed_df, \"kickstarter_small\")\n",
    "new_table(indiegogo_selected_cols_df, \"indie_gogo\")"
   ],
   "outputs": [],
   "metadata": {}
  }
 ],
 "metadata": {
  "kernelspec": {
   "display_name": "Python 3",
   "language": "python",
   "name": "python3"
  },
  "language_info": {
   "codemirror_mode": {
    "name": "ipython",
    "version": 3
   },
   "file_extension": ".py",
   "mimetype": "text/x-python",
   "name": "python",
   "nbconvert_exporter": "python",
   "pygments_lexer": "ipython3",
   "version": "3.8.5"
  }
 },
 "nbformat": 4,
 "nbformat_minor": 4
}