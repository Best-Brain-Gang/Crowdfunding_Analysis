{
 "cells": [
  {
   "cell_type": "code",
   "execution_count": 66,
   "source": [
    "# Import the required libraries and dependencies\n",
    "import os\n",
    "import pandas as pd\n",
    "from pathlib import Path\n",
    "from dotenv import load_dotenv\n",
    "import sqlalchemy\n",
    "\n",
    "# Add viz libs\n",
    "import matplotlib.pyplot as plt\n",
    "import seaborn as sns\n",
    "import plotly.express as px\n",
    "import hvplot.pandas\n",
    "import altair as alt \n",
    "from bokeh.plotting import figure, show\n",
    "import folium"
   ],
   "outputs": [],
   "metadata": {}
  },
  {
   "cell_type": "markdown",
   "source": [
    "## Clean data"
   ],
   "metadata": {}
  },
  {
   "cell_type": "code",
   "execution_count": 67,
   "source": [
    "# Force clean vars\n",
    "force_clean_large_kickstarter = True\n",
    "force_clean_small_kickstarter = True\n",
    "force_clean_indiegogo = True\n",
    "\n",
    "# Clean large kickstarter\n",
    "my_kickstarter_large_file = Path('./Resources/kickstarter_data_clean/ks-projects-large.csv')\n",
    "if not my_kickstarter_large_file.is_file() or force_clean_large_kickstarter:\n",
    "    %run ./clean_kickstarter_large.ipynb\n",
    "\n",
    "# Clean small kickstarter\n",
    "my_kickstarter_small_file = Path('./Resources/kickstarter_data_clean/ks-projects-small.csv')\n",
    "if not my_kickstarter_small_file.is_file() or force_clean_small_kickstarter:\n",
    "    %run ./clean_kickstarter_small.ipynb\n",
    "\n",
    "# Clean indiegogo kickstarter\n",
    "my_indiegogo_file = Path('./Resources/indiegogo_data_clean/indiegogo-projects.csv')\n",
    "if not my_indiegogo_file.is_file() or force_clean_indiegogo:\n",
    "    %run ./clean_indiegogo.ipynb"
   ],
   "outputs": [],
   "metadata": {}
  },
  {
   "cell_type": "markdown",
   "source": [
    "## Enable Mapbox API access token"
   ],
   "metadata": {}
  },
  {
   "cell_type": "code",
   "execution_count": 68,
   "source": [
    "# Load the .env file into the notebook\n",
    "load_dotenv()\n",
    "\n",
    "# Read in your MAPBOX_API_KEY\n",
    "mapbox_api_access_token = os.getenv('MAPBOX_API_ACCESS_TOKEN')\n",
    "\n",
    "# Confirm the availability of your Mapbox API access token by checking its type\n",
    "display(type(mapbox_api_access_token))\n",
    "\n",
    "# Set your Mapbox API access token\n",
    "px.set_mapbox_access_token(mapbox_api_access_token)"
   ],
   "outputs": [
    {
     "output_type": "display_data",
     "data": {
      "text/plain": "str"
     },
     "metadata": {}
    }
   ],
   "metadata": {}
  },
  {
   "cell_type": "markdown",
   "source": [
    "## Read kickstarter large"
   ],
   "metadata": {}
  },
  {
   "cell_type": "code",
   "execution_count": 69,
   "source": [
    "# Import small kickstarter most backed dataset\n",
    "kickstarter_large_clean_df = pd.read_csv(\n",
    "    Path('./Resources/kickstarter_data_clean/ks-projects-large.csv')\n",
    ")\n",
    "\n",
    "# Fix dates\n",
    "kickstarter_large_clean_df['launched'] = pd.to_datetime(kickstarter_large_clean_df['launched'])\n",
    "kickstarter_large_clean_df['deadline'] = pd.to_datetime(kickstarter_large_clean_df['deadline'])\n",
    "\n",
    "# View head\n",
    "kickstarter_large_clean_df.head(2)"
   ],
   "outputs": [
    {
     "output_type": "execute_result",
     "data": {
      "text/plain": [
       "           ID                                           name main_category  \\\n",
       "0  1000002330                The Songs of Adelaide & Abullah    Publishing   \n",
       "1  1000003930  Greeting From Earth: ZGAC Arts Capsule For ET  Film & Video   \n",
       "\n",
       "  currency  usd_goal_real  usd_pledged_real   deadline            launched  \\\n",
       "0      GBP        1533.95               0.0 2015-10-09 2015-08-11 12:12:28   \n",
       "1      USD       30000.00            2421.0 2017-11-01 2017-09-02 04:43:57   \n",
       "\n",
       "   state  funded_percent  duration  daily_goal  daily_pledged country  \\\n",
       "0      0          0.0000        58       26.45           0.00      GB   \n",
       "1      0          0.0807        59      508.47          41.03      US   \n",
       "\n",
       "  full_country_names  avg_backer_per_day  pledged_per_person  \n",
       "0     United Kingdom                0.00                 0.0  \n",
       "1      United States                0.25               161.4  "
      ],
      "text/html": "<div>\n<style scoped>\n    .dataframe tbody tr th:only-of-type {\n        vertical-align: middle;\n    }\n\n    .dataframe tbody tr th {\n        vertical-align: top;\n    }\n\n    .dataframe thead th {\n        text-align: right;\n    }\n</style>\n<table border=\"1\" class=\"dataframe\">\n  <thead>\n    <tr style=\"text-align: right;\">\n      <th></th>\n      <th>ID</th>\n      <th>name</th>\n      <th>main_category</th>\n      <th>currency</th>\n      <th>usd_goal_real</th>\n      <th>usd_pledged_real</th>\n      <th>deadline</th>\n      <th>launched</th>\n      <th>state</th>\n      <th>funded_percent</th>\n      <th>duration</th>\n      <th>daily_goal</th>\n      <th>daily_pledged</th>\n      <th>country</th>\n      <th>full_country_names</th>\n      <th>avg_backer_per_day</th>\n      <th>pledged_per_person</th>\n    </tr>\n  </thead>\n  <tbody>\n    <tr>\n      <th>0</th>\n      <td>1000002330</td>\n      <td>The Songs of Adelaide &amp; Abullah</td>\n      <td>Publishing</td>\n      <td>GBP</td>\n      <td>1533.95</td>\n      <td>0.0</td>\n      <td>2015-10-09</td>\n      <td>2015-08-11 12:12:28</td>\n      <td>0</td>\n      <td>0.0000</td>\n      <td>58</td>\n      <td>26.45</td>\n      <td>0.00</td>\n      <td>GB</td>\n      <td>United Kingdom</td>\n      <td>0.00</td>\n      <td>0.0</td>\n    </tr>\n    <tr>\n      <th>1</th>\n      <td>1000003930</td>\n      <td>Greeting From Earth: ZGAC Arts Capsule For ET</td>\n      <td>Film &amp; Video</td>\n      <td>USD</td>\n      <td>30000.00</td>\n      <td>2421.0</td>\n      <td>2017-11-01</td>\n      <td>2017-09-02 04:43:57</td>\n      <td>0</td>\n      <td>0.0807</td>\n      <td>59</td>\n      <td>508.47</td>\n      <td>41.03</td>\n      <td>US</td>\n      <td>United States</td>\n      <td>0.25</td>\n      <td>161.4</td>\n    </tr>\n  </tbody>\n</table>\n</div>"
     },
     "metadata": {},
     "execution_count": 69
    }
   ],
   "metadata": {}
  },
  {
   "cell_type": "markdown",
   "source": [
    "## Read kickstarter small"
   ],
   "metadata": {}
  },
  {
   "cell_type": "code",
   "execution_count": 70,
   "source": [
    "# Import small kickstarter most backed dataset\n",
    "kickstarter_small_clean_df = pd.read_csv(\n",
    "    Path('./Resources/kickstarter_data_clean/ks-projects-small.csv')\n",
    ")\n",
    "\n",
    "# View head\n",
    "kickstarter_small_clean_df.head(2)"
   ],
   "outputs": [
    {
     "output_type": "execute_result",
     "data": {
      "text/plain": [
       "   ID                           name   main_category currency  usd_goal_real  \\\n",
       "0   0              Exploding Kittens  Tabletop Games      USD        10000.0   \n",
       "1   1  Fidget Cube: A Vinyl Desk Toy  Product Design      USD        15000.0   \n",
       "\n",
       "   usd_pledged_real         location  backers  \\\n",
       "0         8782571.0  Los Angeles, CA   219382   \n",
       "1         6465690.0       Denver, CO   154926   \n",
       "\n",
       "                                    num.backers.tier  \\\n",
       "0                            [15505, 202934, 200, 5]   \n",
       "1  [788, 250, 43073, 21796, 41727, 21627, 12215, ...   \n",
       "\n",
       "                                         pledge.tier  \n",
       "0                         [20.0, 35.0, 100.0, 500.0]  \n",
       "1  [1.0, 14.0, 19.0, 19.0, 35.0, 35.0, 79.0, 79.0...  "
      ],
      "text/html": "<div>\n<style scoped>\n    .dataframe tbody tr th:only-of-type {\n        vertical-align: middle;\n    }\n\n    .dataframe tbody tr th {\n        vertical-align: top;\n    }\n\n    .dataframe thead th {\n        text-align: right;\n    }\n</style>\n<table border=\"1\" class=\"dataframe\">\n  <thead>\n    <tr style=\"text-align: right;\">\n      <th></th>\n      <th>ID</th>\n      <th>name</th>\n      <th>main_category</th>\n      <th>currency</th>\n      <th>usd_goal_real</th>\n      <th>usd_pledged_real</th>\n      <th>location</th>\n      <th>backers</th>\n      <th>num.backers.tier</th>\n      <th>pledge.tier</th>\n    </tr>\n  </thead>\n  <tbody>\n    <tr>\n      <th>0</th>\n      <td>0</td>\n      <td>Exploding Kittens</td>\n      <td>Tabletop Games</td>\n      <td>USD</td>\n      <td>10000.0</td>\n      <td>8782571.0</td>\n      <td>Los Angeles, CA</td>\n      <td>219382</td>\n      <td>[15505, 202934, 200, 5]</td>\n      <td>[20.0, 35.0, 100.0, 500.0]</td>\n    </tr>\n    <tr>\n      <th>1</th>\n      <td>1</td>\n      <td>Fidget Cube: A Vinyl Desk Toy</td>\n      <td>Product Design</td>\n      <td>USD</td>\n      <td>15000.0</td>\n      <td>6465690.0</td>\n      <td>Denver, CO</td>\n      <td>154926</td>\n      <td>[788, 250, 43073, 21796, 41727, 21627, 12215, ...</td>\n      <td>[1.0, 14.0, 19.0, 19.0, 35.0, 35.0, 79.0, 79.0...</td>\n    </tr>\n  </tbody>\n</table>\n</div>"
     },
     "metadata": {},
     "execution_count": 70
    }
   ],
   "metadata": {}
  },
  {
   "cell_type": "markdown",
   "source": [
    "## Read indiegogo"
   ],
   "metadata": {}
  },
  {
   "cell_type": "code",
   "execution_count": 71,
   "source": [
    "# Import indiegogo dataset\n",
    "indiegogo_clean_df = pd.read_csv(\n",
    "    Path('./Resources/indiegogo_data_clean/indiegogo-projects.csv')\n",
    ")\n",
    "\n",
    "# Fix dates\n",
    "indiegogo_clean_df['launched'] = pd.to_datetime(indiegogo_clean_df['launched'])\n",
    "indiegogo_clean_df['deadline'] = pd.to_datetime(indiegogo_clean_df['deadline'])\n",
    "\n",
    "# View head\n",
    "indiegogo_clean_df.head(2)"
   ],
   "outputs": [
    {
     "output_type": "execute_result",
     "data": {
      "text/plain": [
       "     ID                             name   main_category currency  \\\n",
       "0  3936  Join the Electric Revolution!!!  Transportation      USD   \n",
       "1  5109             Relief Trip to Haiti    Human Rights      USD   \n",
       "\n",
       "   usd_goal_real  usd_pledged_real            deadline            launched  \\\n",
       "0         5000.0             840.0 2010-05-12 23:59:00 2010-04-21 22:38:42   \n",
       "1         1200.0             250.0 2010-07-02 23:59:00 2010-06-10 17:47:35   \n",
       "\n",
       "   state  funded_percent  duration  daily_goal  daily_pledged country  \\\n",
       "0      0          0.1680        21      238.10          40.00      US   \n",
       "1      0          0.2083        22       54.55          11.36      US   \n",
       "\n",
       "  full_country_names  \n",
       "0      United States  \n",
       "1      United States  "
      ],
      "text/html": "<div>\n<style scoped>\n    .dataframe tbody tr th:only-of-type {\n        vertical-align: middle;\n    }\n\n    .dataframe tbody tr th {\n        vertical-align: top;\n    }\n\n    .dataframe thead th {\n        text-align: right;\n    }\n</style>\n<table border=\"1\" class=\"dataframe\">\n  <thead>\n    <tr style=\"text-align: right;\">\n      <th></th>\n      <th>ID</th>\n      <th>name</th>\n      <th>main_category</th>\n      <th>currency</th>\n      <th>usd_goal_real</th>\n      <th>usd_pledged_real</th>\n      <th>deadline</th>\n      <th>launched</th>\n      <th>state</th>\n      <th>funded_percent</th>\n      <th>duration</th>\n      <th>daily_goal</th>\n      <th>daily_pledged</th>\n      <th>country</th>\n      <th>full_country_names</th>\n    </tr>\n  </thead>\n  <tbody>\n    <tr>\n      <th>0</th>\n      <td>3936</td>\n      <td>Join the Electric Revolution!!!</td>\n      <td>Transportation</td>\n      <td>USD</td>\n      <td>5000.0</td>\n      <td>840.0</td>\n      <td>2010-05-12 23:59:00</td>\n      <td>2010-04-21 22:38:42</td>\n      <td>0</td>\n      <td>0.1680</td>\n      <td>21</td>\n      <td>238.10</td>\n      <td>40.00</td>\n      <td>US</td>\n      <td>United States</td>\n    </tr>\n    <tr>\n      <th>1</th>\n      <td>5109</td>\n      <td>Relief Trip to Haiti</td>\n      <td>Human Rights</td>\n      <td>USD</td>\n      <td>1200.0</td>\n      <td>250.0</td>\n      <td>2010-07-02 23:59:00</td>\n      <td>2010-06-10 17:47:35</td>\n      <td>0</td>\n      <td>0.2083</td>\n      <td>22</td>\n      <td>54.55</td>\n      <td>11.36</td>\n      <td>US</td>\n      <td>United States</td>\n    </tr>\n  </tbody>\n</table>\n</div>"
     },
     "metadata": {},
     "execution_count": 71
    }
   ],
   "metadata": {}
  },
  {
   "cell_type": "markdown",
   "source": [
    "## Add SQL database and simple functions to load and access tables in that database"
   ],
   "metadata": {}
  },
  {
   "cell_type": "code",
   "execution_count": 72,
   "source": [
    "# Establishes Database Connection with a temporary SQL db (we can update to give it a name later)\n",
    "database_connection_string = \"sqlite:///\"\n",
    "\n",
    "engine = sqlalchemy.create_engine(database_connection_string)\n",
    "\n",
    "# Function to load table into DB\n",
    "# data is the dataframe we want to save, \n",
    "# table name is the name of the new table (as a string value), \n",
    "# and engine is the engine input established earlier\n",
    "def new_table(data, table_name):\n",
    "    data.to_sql(f\"{table_name}\", engine, index=True, if_exists=\"replace\")\n",
    "\n",
    "\n",
    "# Lets us load the table of our choice from the database, just set the function equal to a new dataframe variable and run \n",
    "# must set the table name as a string value\n",
    "def load_full_table(table_name):\n",
    "    new_df = pd.read_sql_table(f\"{table_name}\", con=engine )\n",
    "    return new_df\n",
    "\n",
    "new_table(kickstarter_large_clean_df, \"kickstarter_large\")\n",
    "new_table(kickstarter_small_clean_df, \"kickstarter_small\")\n",
    "new_table(indiegogo_clean_df, \"indie_gogo\")"
   ],
   "outputs": [],
   "metadata": {}
  },
  {
   "source": [
    "\n",
    "## Add SQL query to access main_category and mean of duration of projects for Kickstarter and Indiegogo."
   ],
   "cell_type": "markdown",
   "metadata": {}
  },
  {
   "cell_type": "code",
   "execution_count": 73,
   "metadata": {},
   "outputs": [
    {
     "output_type": "display_data",
     "data": {
      "text/plain": "       main_category  duration\n0         Publishing        58\n1       Film & Video        59\n2       Film & Video        44\n3              Music        29\n4               Food        34\n...              ...       ...\n331548          Food        29\n331549  Film & Video        26\n331550  Film & Video        45\n331551    Technology        30\n331552           Art        27\n\n[331553 rows x 2 columns]",
      "text/html": "<div>\n<style scoped>\n    .dataframe tbody tr th:only-of-type {\n        vertical-align: middle;\n    }\n\n    .dataframe tbody tr th {\n        vertical-align: top;\n    }\n\n    .dataframe thead th {\n        text-align: right;\n    }\n</style>\n<table border=\"1\" class=\"dataframe\">\n  <thead>\n    <tr style=\"text-align: right;\">\n      <th></th>\n      <th>main_category</th>\n      <th>duration</th>\n    </tr>\n  </thead>\n  <tbody>\n    <tr>\n      <th>0</th>\n      <td>Publishing</td>\n      <td>58</td>\n    </tr>\n    <tr>\n      <th>1</th>\n      <td>Film &amp; Video</td>\n      <td>59</td>\n    </tr>\n    <tr>\n      <th>2</th>\n      <td>Film &amp; Video</td>\n      <td>44</td>\n    </tr>\n    <tr>\n      <th>3</th>\n      <td>Music</td>\n      <td>29</td>\n    </tr>\n    <tr>\n      <th>4</th>\n      <td>Food</td>\n      <td>34</td>\n    </tr>\n    <tr>\n      <th>...</th>\n      <td>...</td>\n      <td>...</td>\n    </tr>\n    <tr>\n      <th>331548</th>\n      <td>Food</td>\n      <td>29</td>\n    </tr>\n    <tr>\n      <th>331549</th>\n      <td>Film &amp; Video</td>\n      <td>26</td>\n    </tr>\n    <tr>\n      <th>331550</th>\n      <td>Film &amp; Video</td>\n      <td>45</td>\n    </tr>\n    <tr>\n      <th>331551</th>\n      <td>Technology</td>\n      <td>30</td>\n    </tr>\n    <tr>\n      <th>331552</th>\n      <td>Art</td>\n      <td>27</td>\n    </tr>\n  </tbody>\n</table>\n<p>331553 rows × 2 columns</p>\n</div>"
     },
     "metadata": {}
    },
    {
     "output_type": "display_data",
     "data": {
      "text/plain": "             main_category  duration\n0           Transportation        21\n1             Human Rights        22\n2             Human Rights        22\n3              Photography        30\n4             Human Rights       120\n...                    ...       ...\n20626                 Film        45\n20627                Music        30\n20628  Fashion & Wearables        60\n20629               Comics        15\n20630               Comics        15\n\n[20631 rows x 2 columns]",
      "text/html": "<div>\n<style scoped>\n    .dataframe tbody tr th:only-of-type {\n        vertical-align: middle;\n    }\n\n    .dataframe tbody tr th {\n        vertical-align: top;\n    }\n\n    .dataframe thead th {\n        text-align: right;\n    }\n</style>\n<table border=\"1\" class=\"dataframe\">\n  <thead>\n    <tr style=\"text-align: right;\">\n      <th></th>\n      <th>main_category</th>\n      <th>duration</th>\n    </tr>\n  </thead>\n  <tbody>\n    <tr>\n      <th>0</th>\n      <td>Transportation</td>\n      <td>21</td>\n    </tr>\n    <tr>\n      <th>1</th>\n      <td>Human Rights</td>\n      <td>22</td>\n    </tr>\n    <tr>\n      <th>2</th>\n      <td>Human Rights</td>\n      <td>22</td>\n    </tr>\n    <tr>\n      <th>3</th>\n      <td>Photography</td>\n      <td>30</td>\n    </tr>\n    <tr>\n      <th>4</th>\n      <td>Human Rights</td>\n      <td>120</td>\n    </tr>\n    <tr>\n      <th>...</th>\n      <td>...</td>\n      <td>...</td>\n    </tr>\n    <tr>\n      <th>20626</th>\n      <td>Film</td>\n      <td>45</td>\n    </tr>\n    <tr>\n      <th>20627</th>\n      <td>Music</td>\n      <td>30</td>\n    </tr>\n    <tr>\n      <th>20628</th>\n      <td>Fashion &amp; Wearables</td>\n      <td>60</td>\n    </tr>\n    <tr>\n      <th>20629</th>\n      <td>Comics</td>\n      <td>15</td>\n    </tr>\n    <tr>\n      <th>20630</th>\n      <td>Comics</td>\n      <td>15</td>\n    </tr>\n  </tbody>\n</table>\n<p>20631 rows × 2 columns</p>\n</div>"
     },
     "metadata": {}
    }
   ],
   "source": [
    "# Create a SQL query to get the main_category and duration of the Kickstarter Large dataframe.\n",
    "query_ks = \"\"\"\n",
    "SELECT main_category, duration\n",
    "FROM kickstarter_large\n",
    "\"\"\"\n",
    "query_indiegogo = \"\"\"\n",
    "SELECT main_category, duration\n",
    "FROM indie_gogo\n",
    "\"\"\"\n",
    "\n",
    "# This will let us read the query we applied earlier to create a dataframe.\n",
    "ks_large_duration_dataframe = pd.read_sql_query(\n",
    "    query_ks, \n",
    "    con= engine)\n",
    "display(ks_large_duration_dataframe)\n",
    "\n",
    "indiegogo_duration_dataframe = pd.read_sql_query(\n",
    "    query_indiegogo, \n",
    "    con= engine)\n",
    "display(indiegogo_duration_dataframe)"
   ]
  },
  {
   "cell_type": "code",
   "execution_count": 74,
   "metadata": {},
   "outputs": [
    {
     "output_type": "execute_result",
     "data": {
      "text/plain": [
       "   main_category  average_duration_days\n",
       "0          Music              34.304318\n",
       "1     Technology              34.263891\n",
       "2   Film & Video              34.009856\n",
       "3     Journalism              33.250482\n",
       "4         Design              33.138903\n",
       "5           Food              32.896073\n",
       "6         Comics              32.846629\n",
       "7     Publishing              32.728632\n",
       "8    Photography              32.514914\n",
       "9        Theater              32.313122\n",
       "10         Dance              31.813322\n",
       "11       Fashion              31.613027\n",
       "12           Art              31.332670\n",
       "13         Games              31.218295\n",
       "14        Crafts              30.447429"
      ],
      "text/html": "<div>\n<style scoped>\n    .dataframe tbody tr th:only-of-type {\n        vertical-align: middle;\n    }\n\n    .dataframe tbody tr th {\n        vertical-align: top;\n    }\n\n    .dataframe thead th {\n        text-align: right;\n    }\n</style>\n<table border=\"1\" class=\"dataframe\">\n  <thead>\n    <tr style=\"text-align: right;\">\n      <th></th>\n      <th>main_category</th>\n      <th>average_duration_days</th>\n    </tr>\n  </thead>\n  <tbody>\n    <tr>\n      <th>0</th>\n      <td>Music</td>\n      <td>34.304318</td>\n    </tr>\n    <tr>\n      <th>1</th>\n      <td>Technology</td>\n      <td>34.263891</td>\n    </tr>\n    <tr>\n      <th>2</th>\n      <td>Film &amp; Video</td>\n      <td>34.009856</td>\n    </tr>\n    <tr>\n      <th>3</th>\n      <td>Journalism</td>\n      <td>33.250482</td>\n    </tr>\n    <tr>\n      <th>4</th>\n      <td>Design</td>\n      <td>33.138903</td>\n    </tr>\n    <tr>\n      <th>5</th>\n      <td>Food</td>\n      <td>32.896073</td>\n    </tr>\n    <tr>\n      <th>6</th>\n      <td>Comics</td>\n      <td>32.846629</td>\n    </tr>\n    <tr>\n      <th>7</th>\n      <td>Publishing</td>\n      <td>32.728632</td>\n    </tr>\n    <tr>\n      <th>8</th>\n      <td>Photography</td>\n      <td>32.514914</td>\n    </tr>\n    <tr>\n      <th>9</th>\n      <td>Theater</td>\n      <td>32.313122</td>\n    </tr>\n    <tr>\n      <th>10</th>\n      <td>Dance</td>\n      <td>31.813322</td>\n    </tr>\n    <tr>\n      <th>11</th>\n      <td>Fashion</td>\n      <td>31.613027</td>\n    </tr>\n    <tr>\n      <th>12</th>\n      <td>Art</td>\n      <td>31.332670</td>\n    </tr>\n    <tr>\n      <th>13</th>\n      <td>Games</td>\n      <td>31.218295</td>\n    </tr>\n    <tr>\n      <th>14</th>\n      <td>Crafts</td>\n      <td>30.447429</td>\n    </tr>\n  </tbody>\n</table>\n</div>"
     },
     "metadata": {},
     "execution_count": 74
    }
   ],
   "source": [
    "# Create a SQL query to get the main_category and \n",
    "# duration of the Kickstarter Large dataframe and \n",
    "# group them by main_category and get its average duration days.\n",
    "query=\"\"\"SELECT\n",
    "   main_category, AVG(duration) AS average_duration_days\n",
    "FROM\n",
    "  kickstarter_large\n",
    "GROUP BY\n",
    "  main_category\n",
    "ORDER BY \n",
    "    AVG(duration) DESC,\n",
    "    main_category DESC;\n",
    "\"\"\"\n",
    "# This will let us read the query we applied earlier to create a dataframe.\n",
    "ks_large_groupby_maincategory_df = pd.read_sql_query(\n",
    "    query, \n",
    "    con= engine)\n",
    "ks_large_groupby_maincategory_df\n"
   ]
  },
  {
   "cell_type": "code",
   "execution_count": 75,
   "metadata": {},
   "outputs": [
    {
     "output_type": "display_data",
     "data": {},
     "metadata": {}
    },
    {
     "output_type": "execute_result",
     "data": {
      "text/html": "<div id='2051'>\n\n\n\n\n\n  <div class=\"bk-root\" id=\"531a2041-473c-4e53-9a76-a46d34935df3\" data-root-id=\"2051\"></div>\n</div>\n<script type=\"application/javascript\">(function(root) {\n  function embed_document(root) {\n    var docs_json = {\"017457ef-eba6-4ac3-b7e3-fc987ce41769\":{\"roots\":{\"references\":[{\"attributes\":{\"end\":35.0,\"reset_end\":35.0,\"reset_start\":30.0,\"start\":30.0,\"tags\":[[[\"average_duration_days\",\"average_duration_days\",null]]]},\"id\":\"2054\",\"type\":\"Range1d\"},{\"attributes\":{\"data_source\":{\"id\":\"2085\"},\"glyph\":{\"id\":\"2088\"},\"hover_glyph\":{\"id\":\"2090\"},\"muted_glyph\":{\"id\":\"2091\"},\"nonselection_glyph\":{\"id\":\"2089\"},\"selection_glyph\":null,\"view\":{\"id\":\"2093\"}},\"id\":\"2092\",\"type\":\"GlyphRenderer\"},{\"attributes\":{\"callback\":null,\"renderers\":[{\"id\":\"2092\"}],\"tags\":[\"hv_created\"],\"tooltips\":[[\"main_category\",\"@{main_category}\"],[\"average_duration_days\",\"@{average_duration_days}\"]]},\"id\":\"2055\",\"type\":\"HoverTool\"},{\"attributes\":{\"fill_color\":{\"value\":\"orange\"},\"line_color\":{\"value\":\"orange\"},\"top\":{\"field\":\"average_duration_days\"},\"width\":{\"value\":0.8},\"x\":{\"field\":\"main_category\"}},\"id\":\"2090\",\"type\":\"VBar\"},{\"attributes\":{},\"id\":\"2076\",\"type\":\"ResetTool\"},{\"attributes\":{},\"id\":\"2074\",\"type\":\"WheelZoomTool\"},{\"attributes\":{\"data\":{\"average_duration_days\":{\"__ndarray__\":\"63sD6PMmQUCmIvsxxyFBQMNx0/VCAUFAo+GmzA+gQECHCOGTx5FAQCjOcIeyckBAHxC7VV5sQEA407jSQ11AQO8jMLLoQUBAvFRhZRQoQECY7zDhNdA/QNyH31nvnD9AJCsH4ilVP0D/hkAz4jc/QP0hJbWKcj5A\",\"dtype\":\"float64\",\"order\":\"little\",\"shape\":[15]},\"main_category\":[\"Music\",\"Technology\",\"Film & Video\",\"Journalism\",\"Design\",\"Food\",\"Comics\",\"Publishing\",\"Photography\",\"Theater\",\"Dance\",\"Fashion\",\"Art\",\"Games\",\"Crafts\"]},\"selected\":{\"id\":\"2086\"},\"selection_policy\":{\"id\":\"2104\"}},\"id\":\"2085\",\"type\":\"ColumnDataSource\"},{\"attributes\":{\"children\":[{\"id\":\"2052\"},{\"id\":\"2056\"},{\"id\":\"2114\"}],\"margin\":[0,0,0,0],\"name\":\"Row03033\",\"tags\":[\"embedded\"]},\"id\":\"2051\",\"type\":\"Row\"},{\"attributes\":{\"margin\":[5,5,5,5],\"name\":\"HSpacer03038\",\"sizing_mode\":\"stretch_width\"},\"id\":\"2114\",\"type\":\"Spacer\"},{\"attributes\":{},\"id\":\"2063\",\"type\":\"LinearScale\"},{\"attributes\":{},\"id\":\"2095\",\"type\":\"CategoricalTickFormatter\"},{\"attributes\":{\"below\":[{\"id\":\"2065\"}],\"center\":[{\"id\":\"2067\"},{\"id\":\"2071\"}],\"left\":[{\"id\":\"2068\"}],\"margin\":[5,5,5,5],\"min_border_bottom\":10,\"min_border_left\":10,\"min_border_right\":10,\"min_border_top\":10,\"plot_height\":300,\"plot_width\":700,\"renderers\":[{\"id\":\"2092\"}],\"sizing_mode\":\"fixed\",\"title\":{\"id\":\"2057\"},\"toolbar\":{\"id\":\"2078\"},\"x_range\":{\"id\":\"2053\"},\"x_scale\":{\"id\":\"2061\"},\"y_range\":{\"id\":\"2054\"},\"y_scale\":{\"id\":\"2063\"}},\"id\":\"2056\",\"subtype\":\"Figure\",\"type\":\"Plot\"},{\"attributes\":{\"active_drag\":\"auto\",\"active_inspect\":\"auto\",\"active_multi\":null,\"active_scroll\":\"auto\",\"active_tap\":\"auto\",\"tools\":[{\"id\":\"2055\"},{\"id\":\"2072\"},{\"id\":\"2073\"},{\"id\":\"2074\"},{\"id\":\"2075\"},{\"id\":\"2076\"}]},\"id\":\"2078\",\"type\":\"Toolbar\"},{\"attributes\":{},\"id\":\"2097\",\"type\":\"BasicTickFormatter\"},{\"attributes\":{\"axis_label\":\"average_duration_days\",\"bounds\":\"auto\",\"formatter\":{\"id\":\"2097\"},\"major_label_orientation\":\"horizontal\",\"ticker\":{\"id\":\"2069\"}},\"id\":\"2068\",\"type\":\"LinearAxis\"},{\"attributes\":{\"axis_label\":\"main_category\",\"bounds\":\"auto\",\"formatter\":{\"id\":\"2095\"},\"major_label_orientation\":1.0471975511965976,\"ticker\":{\"id\":\"2066\"}},\"id\":\"2065\",\"type\":\"CategoricalAxis\"},{\"attributes\":{\"text\":\"Kickstarter's Average Duration Days of Each Main Category\",\"text_color\":{\"value\":\"black\"},\"text_font_size\":{\"value\":\"12pt\"}},\"id\":\"2057\",\"type\":\"Title\"},{\"attributes\":{},\"id\":\"2073\",\"type\":\"PanTool\"},{\"attributes\":{\"overlay\":{\"id\":\"2077\"}},\"id\":\"2075\",\"type\":\"BoxZoomTool\"},{\"attributes\":{\"fill_alpha\":{\"value\":0.1},\"fill_color\":{\"value\":\"green\"},\"line_alpha\":{\"value\":0.1},\"top\":{\"field\":\"average_duration_days\"},\"width\":{\"value\":0.8},\"x\":{\"field\":\"main_category\"}},\"id\":\"2089\",\"type\":\"VBar\"},{\"attributes\":{},\"id\":\"2086\",\"type\":\"Selection\"},{\"attributes\":{\"factors\":[\"Music\",\"Technology\",\"Film & Video\",\"Journalism\",\"Design\",\"Food\",\"Comics\",\"Publishing\",\"Photography\",\"Theater\",\"Dance\",\"Fashion\",\"Art\",\"Games\",\"Crafts\"],\"tags\":[[[\"main_category\",\"main_category\",null]]]},\"id\":\"2053\",\"type\":\"FactorRange\"},{\"attributes\":{\"bottom_units\":\"screen\",\"fill_alpha\":0.5,\"fill_color\":\"lightgrey\",\"left_units\":\"screen\",\"level\":\"overlay\",\"line_alpha\":1.0,\"line_color\":\"black\",\"line_dash\":[4,4],\"line_width\":2,\"right_units\":\"screen\",\"top_units\":\"screen\"},\"id\":\"2077\",\"type\":\"BoxAnnotation\"},{\"attributes\":{},\"id\":\"2072\",\"type\":\"SaveTool\"},{\"attributes\":{\"fill_color\":{\"value\":\"green\"},\"top\":{\"field\":\"average_duration_days\"},\"width\":{\"value\":0.8},\"x\":{\"field\":\"main_category\"}},\"id\":\"2088\",\"type\":\"VBar\"},{\"attributes\":{\"margin\":[5,5,5,5],\"name\":\"HSpacer03037\",\"sizing_mode\":\"stretch_width\"},\"id\":\"2052\",\"type\":\"Spacer\"},{\"attributes\":{\"fill_alpha\":{\"value\":0.2},\"fill_color\":{\"value\":\"green\"},\"line_alpha\":{\"value\":0.2},\"top\":{\"field\":\"average_duration_days\"},\"width\":{\"value\":0.8},\"x\":{\"field\":\"main_category\"}},\"id\":\"2091\",\"type\":\"VBar\"},{\"attributes\":{\"axis\":{\"id\":\"2065\"},\"grid_line_color\":null,\"ticker\":null},\"id\":\"2067\",\"type\":\"Grid\"},{\"attributes\":{},\"id\":\"2104\",\"type\":\"UnionRenderers\"},{\"attributes\":{},\"id\":\"2061\",\"type\":\"CategoricalScale\"},{\"attributes\":{\"axis\":{\"id\":\"2068\"},\"dimension\":1,\"grid_line_color\":null,\"ticker\":null},\"id\":\"2071\",\"type\":\"Grid\"},{\"attributes\":{\"source\":{\"id\":\"2085\"}},\"id\":\"2093\",\"type\":\"CDSView\"},{\"attributes\":{},\"id\":\"2069\",\"type\":\"BasicTicker\"},{\"attributes\":{},\"id\":\"2066\",\"type\":\"CategoricalTicker\"}],\"root_ids\":[\"2051\"]},\"title\":\"Bokeh Application\",\"version\":\"2.2.3\"}};\n    var render_items = [{\"docid\":\"017457ef-eba6-4ac3-b7e3-fc987ce41769\",\"root_ids\":[\"2051\"],\"roots\":{\"2051\":\"531a2041-473c-4e53-9a76-a46d34935df3\"}}];\n    root.Bokeh.embed.embed_items_notebook(docs_json, render_items);\n  }\n  if (root.Bokeh !== undefined && root.Bokeh.Panel !== undefined) {\n    embed_document(root);\n  } else {\n    var attempts = 0;\n    var timer = setInterval(function(root) {\n      if (root.Bokeh !== undefined && root.Bokeh.Panel !== undefined) {\n        clearInterval(timer);\n        embed_document(root);\n      } else if (document.readyState == \"complete\") {\n        attempts++;\n        if (attempts > 100) {\n          clearInterval(timer);\n          console.log(\"Bokeh: ERROR: Unable to run BokehJS code because BokehJS library is missing\");\n        }\n      }\n    }, 10, root)\n  }\n})(window);</script>",
      "application/vnd.holoviews_exec.v0+json": "",
      "text/plain": [
       ":Bars   [main_category]   (average_duration_days)"
      ]
     },
     "metadata": {
      "application/vnd.holoviews_exec.v0+json": {
       "id": "2051"
      }
     },
     "execution_count": 75
    }
   ],
   "source": [
    "# This will create a bar plot to visualize the average duration of \n",
    "# the projects per main category in Kickstarter.\n",
    "\n",
    "ks_lrg_duration_hvplot = ks_large_groupby_maincategory_df.hvplot(kind='bar',\n",
    "                                            x='main_category',\n",
    "                                            ylim=(30.0,35.0),\n",
    "                                            rot=60,\n",
    "                                            title=\"Kickstarter's Average Duration Days of Each Main Category\",\n",
    "                                            hover_color= 'orange',\n",
    "                                            color = 'green'\n",
    "                                            )\n",
    "ks_lrg_duration_hvplot"
   ]
  },
  {
   "cell_type": "code",
   "execution_count": 76,
   "metadata": {},
   "outputs": [
    {
     "output_type": "execute_result",
     "data": {
      "text/plain": [
       "              main_category  average_duration_days\n",
       "0               Environment              47.812655\n",
       "1          Local Businesses              46.851852\n",
       "2     Web Series & TV Shows              46.411995\n",
       "3                 Education              45.739024\n",
       "4                  Wellness              45.256711\n",
       "5                     Music              44.907253\n",
       "6               Video Games              43.861423\n",
       "7                      Film              43.834129\n",
       "8                       Art              43.489845\n",
       "9           Dance & Theater              43.449344\n",
       "10                  Culture              43.436123\n",
       "11     Writing & Publishing              43.320331\n",
       "12         Food & Beverages              42.851955\n",
       "13             Human Rights              42.656658\n",
       "14              Photography              42.412358\n",
       "15                   Comics              42.077121\n",
       "16     Phones & Accessories              41.811071\n",
       "17         Health & Fitness              41.393720\n",
       "18           Transportation              41.126722\n",
       "19  Podcasts, Blogs & Vlogs              41.098361\n",
       "20      Energy & Green Tech              38.212346\n",
       "21             Productivity              37.793056\n",
       "22              Camera Gear              36.864504\n",
       "23        Travel & Outdoors              36.496278\n",
       "24      Fashion & Wearables              36.450588\n",
       "25                     Home              36.384615\n",
       "26                    Audio              34.912467\n",
       "27           Tabletop Games              26.155116"
      ],
      "text/html": "<div>\n<style scoped>\n    .dataframe tbody tr th:only-of-type {\n        vertical-align: middle;\n    }\n\n    .dataframe tbody tr th {\n        vertical-align: top;\n    }\n\n    .dataframe thead th {\n        text-align: right;\n    }\n</style>\n<table border=\"1\" class=\"dataframe\">\n  <thead>\n    <tr style=\"text-align: right;\">\n      <th></th>\n      <th>main_category</th>\n      <th>average_duration_days</th>\n    </tr>\n  </thead>\n  <tbody>\n    <tr>\n      <th>0</th>\n      <td>Environment</td>\n      <td>47.812655</td>\n    </tr>\n    <tr>\n      <th>1</th>\n      <td>Local Businesses</td>\n      <td>46.851852</td>\n    </tr>\n    <tr>\n      <th>2</th>\n      <td>Web Series &amp; TV Shows</td>\n      <td>46.411995</td>\n    </tr>\n    <tr>\n      <th>3</th>\n      <td>Education</td>\n      <td>45.739024</td>\n    </tr>\n    <tr>\n      <th>4</th>\n      <td>Wellness</td>\n      <td>45.256711</td>\n    </tr>\n    <tr>\n      <th>5</th>\n      <td>Music</td>\n      <td>44.907253</td>\n    </tr>\n    <tr>\n      <th>6</th>\n      <td>Video Games</td>\n      <td>43.861423</td>\n    </tr>\n    <tr>\n      <th>7</th>\n      <td>Film</td>\n      <td>43.834129</td>\n    </tr>\n    <tr>\n      <th>8</th>\n      <td>Art</td>\n      <td>43.489845</td>\n    </tr>\n    <tr>\n      <th>9</th>\n      <td>Dance &amp; Theater</td>\n      <td>43.449344</td>\n    </tr>\n    <tr>\n      <th>10</th>\n      <td>Culture</td>\n      <td>43.436123</td>\n    </tr>\n    <tr>\n      <th>11</th>\n      <td>Writing &amp; Publishing</td>\n      <td>43.320331</td>\n    </tr>\n    <tr>\n      <th>12</th>\n      <td>Food &amp; Beverages</td>\n      <td>42.851955</td>\n    </tr>\n    <tr>\n      <th>13</th>\n      <td>Human Rights</td>\n      <td>42.656658</td>\n    </tr>\n    <tr>\n      <th>14</th>\n      <td>Photography</td>\n      <td>42.412358</td>\n    </tr>\n    <tr>\n      <th>15</th>\n      <td>Comics</td>\n      <td>42.077121</td>\n    </tr>\n    <tr>\n      <th>16</th>\n      <td>Phones &amp; Accessories</td>\n      <td>41.811071</td>\n    </tr>\n    <tr>\n      <th>17</th>\n      <td>Health &amp; Fitness</td>\n      <td>41.393720</td>\n    </tr>\n    <tr>\n      <th>18</th>\n      <td>Transportation</td>\n      <td>41.126722</td>\n    </tr>\n    <tr>\n      <th>19</th>\n      <td>Podcasts, Blogs &amp; Vlogs</td>\n      <td>41.098361</td>\n    </tr>\n    <tr>\n      <th>20</th>\n      <td>Energy &amp; Green Tech</td>\n      <td>38.212346</td>\n    </tr>\n    <tr>\n      <th>21</th>\n      <td>Productivity</td>\n      <td>37.793056</td>\n    </tr>\n    <tr>\n      <th>22</th>\n      <td>Camera Gear</td>\n      <td>36.864504</td>\n    </tr>\n    <tr>\n      <th>23</th>\n      <td>Travel &amp; Outdoors</td>\n      <td>36.496278</td>\n    </tr>\n    <tr>\n      <th>24</th>\n      <td>Fashion &amp; Wearables</td>\n      <td>36.450588</td>\n    </tr>\n    <tr>\n      <th>25</th>\n      <td>Home</td>\n      <td>36.384615</td>\n    </tr>\n    <tr>\n      <th>26</th>\n      <td>Audio</td>\n      <td>34.912467</td>\n    </tr>\n    <tr>\n      <th>27</th>\n      <td>Tabletop Games</td>\n      <td>26.155116</td>\n    </tr>\n  </tbody>\n</table>\n</div>"
     },
     "metadata": {},
     "execution_count": 76
    }
   ],
   "source": [
    "# Create a SQL query to get the main_category and \n",
    "# duration of the Indiegogo  dataframe and \n",
    "# group them by main_category and get its average duration days.\n",
    "query=\"\"\"SELECT\n",
    "   main_category, AVG(duration) AS average_duration_days\n",
    "FROM\n",
    "  indie_gogo\n",
    "GROUP BY\n",
    "  main_category\n",
    "ORDER BY \n",
    "    AVG(duration) DESC,\n",
    "    main_category DESC;\n",
    "\"\"\"\n",
    "# This will let us read the query we applied earlier to create a dataframe.\n",
    "indiegogo_groupby_maincategory_df = pd.read_sql_query(\n",
    "    query, \n",
    "    con= engine)\n",
    "indiegogo_groupby_maincategory_df"
   ]
  },
  {
   "cell_type": "code",
   "execution_count": 77,
   "metadata": {},
   "outputs": [
    {
     "output_type": "display_data",
     "data": {},
     "metadata": {}
    },
    {
     "output_type": "execute_result",
     "data": {
      "text/html": "<div id='2156'>\n\n\n\n\n\n  <div class=\"bk-root\" id=\"87922f27-ae99-4007-b7de-9ed854df1292\" data-root-id=\"2156\"></div>\n</div>\n<script type=\"application/javascript\">(function(root) {\n  function embed_document(root) {\n    var docs_json = {\"be22bf19-3b60-44b1-a42a-be5fcf579cba\":{\"roots\":{\"references\":[{\"attributes\":{\"fill_alpha\":{\"value\":0.1},\"fill_color\":{\"value\":\"magenta\"},\"line_alpha\":{\"value\":0.1},\"top\":{\"field\":\"average_duration_days\"},\"width\":{\"value\":0.8},\"x\":{\"field\":\"main_category\"}},\"id\":\"2194\",\"type\":\"VBar\"},{\"attributes\":{\"fill_color\":{\"value\":\"magenta\"},\"top\":{\"field\":\"average_duration_days\"},\"width\":{\"value\":0.8},\"x\":{\"field\":\"main_category\"}},\"id\":\"2193\",\"type\":\"VBar\"},{\"attributes\":{\"fill_color\":{\"value\":\"orange\"},\"line_color\":{\"value\":\"orange\"},\"top\":{\"field\":\"average_duration_days\"},\"width\":{\"value\":0.8},\"x\":{\"field\":\"main_category\"}},\"id\":\"2195\",\"type\":\"VBar\"},{\"attributes\":{\"axis\":{\"id\":\"2170\"},\"grid_line_color\":null,\"ticker\":null},\"id\":\"2172\",\"type\":\"Grid\"},{\"attributes\":{\"callback\":null,\"renderers\":[{\"id\":\"2197\"}],\"tags\":[\"hv_created\"],\"tooltips\":[[\"main_category\",\"@{main_category}\"],[\"average_duration_days\",\"@{average_duration_days}\"]]},\"id\":\"2160\",\"type\":\"HoverTool\"},{\"attributes\":{},\"id\":\"2209\",\"type\":\"UnionRenderers\"},{\"attributes\":{\"factors\":[\"Environment\",\"Local Businesses\",\"Web Series & TV Shows\",\"Education\",\"Wellness\",\"Music\",\"Video Games\",\"Film\",\"Art\",\"Dance & Theater\",\"Culture\",\"Writing & Publishing\",\"Food & Beverages\",\"Human Rights\",\"Photography\",\"Comics\",\"Phones & Accessories\",\"Health & Fitness\",\"Transportation\",\"Podcasts, Blogs & Vlogs\",\"Energy & Green Tech\",\"Productivity\",\"Camera Gear\",\"Travel & Outdoors\",\"Fashion & Wearables\",\"Home\",\"Audio\",\"Tabletop Games\"],\"tags\":[[[\"main_category\",\"main_category\",null]]]},\"id\":\"2158\",\"type\":\"FactorRange\"},{\"attributes\":{\"margin\":[5,5,5,5],\"name\":\"HSpacer03187\",\"sizing_mode\":\"stretch_width\"},\"id\":\"2157\",\"type\":\"Spacer\"},{\"attributes\":{},\"id\":\"2200\",\"type\":\"CategoricalTickFormatter\"},{\"attributes\":{\"end\":49.0,\"reset_end\":49.0,\"reset_start\":20,\"start\":20,\"tags\":[[[\"average_duration_days\",\"average_duration_days\",null]]]},\"id\":\"2159\",\"type\":\"Range1d\"},{\"attributes\":{\"text\":\"Indiegogo's Average Duration Days of Each Main Category\",\"text_color\":{\"value\":\"black\"},\"text_font_size\":{\"value\":\"12pt\"}},\"id\":\"2162\",\"type\":\"Title\"},{\"attributes\":{\"below\":[{\"id\":\"2170\"}],\"center\":[{\"id\":\"2172\"},{\"id\":\"2176\"}],\"left\":[{\"id\":\"2173\"}],\"margin\":[5,5,5,5],\"min_border_bottom\":10,\"min_border_left\":10,\"min_border_right\":10,\"min_border_top\":10,\"plot_height\":300,\"plot_width\":700,\"renderers\":[{\"id\":\"2197\"}],\"sizing_mode\":\"fixed\",\"title\":{\"id\":\"2162\"},\"toolbar\":{\"id\":\"2183\"},\"x_range\":{\"id\":\"2158\"},\"x_scale\":{\"id\":\"2166\"},\"y_range\":{\"id\":\"2159\"},\"y_scale\":{\"id\":\"2168\"}},\"id\":\"2161\",\"subtype\":\"Figure\",\"type\":\"Plot\"},{\"attributes\":{},\"id\":\"2166\",\"type\":\"CategoricalScale\"},{\"attributes\":{},\"id\":\"2171\",\"type\":\"CategoricalTicker\"},{\"attributes\":{},\"id\":\"2202\",\"type\":\"BasicTickFormatter\"},{\"attributes\":{\"data\":{\"average_duration_days\":{\"__ndarray__\":\"snj2FAXoR0DRXkJ7CW1HQDKVvz68NEdAn4XpWZjeRkDS7mHr26BGQKS9CeAgdEZAdwy5HUPuRUAzby68xOpFQHilBzuzvkVALTSDHoS5RUD9YM7j0rdFQP1y7poAqUVAViwb3wxtRUCO1D5eDVRFQN8svSbINEVAVIBZGN8JRUBlSKss0edEQPrqHmllskRAVhIyaziQRECkzfsUl4xEQAhnqSQuG0NA2IIt2ILlQkDPMqIPqG5CQFOv5AiGP0JAekYT4Kw5QkAUO7ETOzFCQOPCqbbLdEFA6zZxprUnOkA=\",\"dtype\":\"float64\",\"order\":\"little\",\"shape\":[28]},\"main_category\":[\"Environment\",\"Local Businesses\",\"Web Series & TV Shows\",\"Education\",\"Wellness\",\"Music\",\"Video Games\",\"Film\",\"Art\",\"Dance & Theater\",\"Culture\",\"Writing & Publishing\",\"Food & Beverages\",\"Human Rights\",\"Photography\",\"Comics\",\"Phones & Accessories\",\"Health & Fitness\",\"Transportation\",\"Podcasts, Blogs & Vlogs\",\"Energy & Green Tech\",\"Productivity\",\"Camera Gear\",\"Travel & Outdoors\",\"Fashion & Wearables\",\"Home\",\"Audio\",\"Tabletop Games\"]},\"selected\":{\"id\":\"2191\"},\"selection_policy\":{\"id\":\"2209\"}},\"id\":\"2190\",\"type\":\"ColumnDataSource\"},{\"attributes\":{\"margin\":[5,5,5,5],\"name\":\"HSpacer03188\",\"sizing_mode\":\"stretch_width\"},\"id\":\"2219\",\"type\":\"Spacer\"},{\"attributes\":{\"axis\":{\"id\":\"2173\"},\"dimension\":1,\"grid_line_color\":null,\"ticker\":null},\"id\":\"2176\",\"type\":\"Grid\"},{\"attributes\":{},\"id\":\"2178\",\"type\":\"PanTool\"},{\"attributes\":{},\"id\":\"2168\",\"type\":\"LinearScale\"},{\"attributes\":{\"axis_label\":\"average_duration_days\",\"bounds\":\"auto\",\"formatter\":{\"id\":\"2202\"},\"major_label_orientation\":\"horizontal\",\"ticker\":{\"id\":\"2174\"}},\"id\":\"2173\",\"type\":\"LinearAxis\"},{\"attributes\":{\"bottom_units\":\"screen\",\"fill_alpha\":0.5,\"fill_color\":\"lightgrey\",\"left_units\":\"screen\",\"level\":\"overlay\",\"line_alpha\":1.0,\"line_color\":\"black\",\"line_dash\":[4,4],\"line_width\":2,\"right_units\":\"screen\",\"top_units\":\"screen\"},\"id\":\"2182\",\"type\":\"BoxAnnotation\"},{\"attributes\":{\"source\":{\"id\":\"2190\"}},\"id\":\"2198\",\"type\":\"CDSView\"},{\"attributes\":{},\"id\":\"2174\",\"type\":\"BasicTicker\"},{\"attributes\":{\"fill_alpha\":{\"value\":0.2},\"fill_color\":{\"value\":\"magenta\"},\"line_alpha\":{\"value\":0.2},\"top\":{\"field\":\"average_duration_days\"},\"width\":{\"value\":0.8},\"x\":{\"field\":\"main_category\"}},\"id\":\"2196\",\"type\":\"VBar\"},{\"attributes\":{},\"id\":\"2179\",\"type\":\"WheelZoomTool\"},{\"attributes\":{\"children\":[{\"id\":\"2157\"},{\"id\":\"2161\"},{\"id\":\"2219\"}],\"margin\":[0,0,0,0],\"name\":\"Row03183\",\"tags\":[\"embedded\"]},\"id\":\"2156\",\"type\":\"Row\"},{\"attributes\":{},\"id\":\"2177\",\"type\":\"SaveTool\"},{\"attributes\":{\"data_source\":{\"id\":\"2190\"},\"glyph\":{\"id\":\"2193\"},\"hover_glyph\":{\"id\":\"2195\"},\"muted_glyph\":{\"id\":\"2196\"},\"nonselection_glyph\":{\"id\":\"2194\"},\"selection_glyph\":null,\"view\":{\"id\":\"2198\"}},\"id\":\"2197\",\"type\":\"GlyphRenderer\"},{\"attributes\":{\"overlay\":{\"id\":\"2182\"}},\"id\":\"2180\",\"type\":\"BoxZoomTool\"},{\"attributes\":{},\"id\":\"2181\",\"type\":\"ResetTool\"},{\"attributes\":{},\"id\":\"2191\",\"type\":\"Selection\"},{\"attributes\":{\"active_drag\":\"auto\",\"active_inspect\":\"auto\",\"active_multi\":null,\"active_scroll\":\"auto\",\"active_tap\":\"auto\",\"tools\":[{\"id\":\"2160\"},{\"id\":\"2177\"},{\"id\":\"2178\"},{\"id\":\"2179\"},{\"id\":\"2180\"},{\"id\":\"2181\"}]},\"id\":\"2183\",\"type\":\"Toolbar\"},{\"attributes\":{\"axis_label\":\"main_category\",\"bounds\":\"auto\",\"formatter\":{\"id\":\"2200\"},\"major_label_orientation\":1.0471975511965976,\"ticker\":{\"id\":\"2171\"}},\"id\":\"2170\",\"type\":\"CategoricalAxis\"}],\"root_ids\":[\"2156\"]},\"title\":\"Bokeh Application\",\"version\":\"2.2.3\"}};\n    var render_items = [{\"docid\":\"be22bf19-3b60-44b1-a42a-be5fcf579cba\",\"root_ids\":[\"2156\"],\"roots\":{\"2156\":\"87922f27-ae99-4007-b7de-9ed854df1292\"}}];\n    root.Bokeh.embed.embed_items_notebook(docs_json, render_items);\n  }\n  if (root.Bokeh !== undefined && root.Bokeh.Panel !== undefined) {\n    embed_document(root);\n  } else {\n    var attempts = 0;\n    var timer = setInterval(function(root) {\n      if (root.Bokeh !== undefined && root.Bokeh.Panel !== undefined) {\n        clearInterval(timer);\n        embed_document(root);\n      } else if (document.readyState == \"complete\") {\n        attempts++;\n        if (attempts > 100) {\n          clearInterval(timer);\n          console.log(\"Bokeh: ERROR: Unable to run BokehJS code because BokehJS library is missing\");\n        }\n      }\n    }, 10, root)\n  }\n})(window);</script>",
      "application/vnd.holoviews_exec.v0+json": "",
      "text/plain": [
       ":Bars   [main_category]   (average_duration_days)"
      ]
     },
     "metadata": {
      "application/vnd.holoviews_exec.v0+json": {
       "id": "2156"
      }
     },
     "execution_count": 77
    }
   ],
   "source": [
    "# This will create a bar plot to visualize the average duration of the\n",
    "# projects per main category in Indiegogo.\n",
    "\n",
    "indiegogo_duration_hvplot = indiegogo_groupby_maincategory_df.hvplot(kind='bar',\n",
    "                                            x='main_category',\n",
    "                                            ylim=(20,49.0),\n",
    "                                            rot=60,\n",
    "                                            title=\"Indiegogo's Average Duration Days of Each Main Category\",\n",
    "                                            hover_color= 'orange',\n",
    "                                            color = 'magenta'\n",
    "                                            )\n",
    "indiegogo_duration_hvplot"
   ]
  },
  {
   "source": [
    "## Add SQL query to get the countries of Kickstarter and Indiegogo and get total the number of projects per country"
   ],
   "cell_type": "markdown",
   "metadata": {}
  },
  {
   "cell_type": "code",
   "execution_count": 84,
   "metadata": {},
   "outputs": [
    {
     "output_type": "execute_result",
     "data": {
      "text/plain": [
       "           Country  Total_number_of_projects\n",
       "0    United States                    261431\n",
       "1   United Kingdom                     29462\n",
       "2           Canada                     12372\n",
       "3        Australia                      6620\n",
       "4          Germany                      3436\n",
       "5           France                      2520\n",
       "6      Netherlands                      2411\n",
       "7            Italy                      2369\n",
       "8            Spain                      1873\n",
       "9           Sweden                      1510\n",
       "10          Mexico                      1411\n",
       "11     New Zealand                      1274\n",
       "12         Denmark                       927\n",
       "13         Ireland                       683\n",
       "14     Switzerland                       652\n",
       "15          Norway                       583\n",
       "16         Belgium                       523\n",
       "17         Austria                       485\n",
       "18       Hong Kong                       477\n",
       "19       Singapore                       454\n",
       "20      Luxembourg                        57\n",
       "21           Japan                        23"
      ],
      "text/html": "<div>\n<style scoped>\n    .dataframe tbody tr th:only-of-type {\n        vertical-align: middle;\n    }\n\n    .dataframe tbody tr th {\n        vertical-align: top;\n    }\n\n    .dataframe thead th {\n        text-align: right;\n    }\n</style>\n<table border=\"1\" class=\"dataframe\">\n  <thead>\n    <tr style=\"text-align: right;\">\n      <th></th>\n      <th>Country</th>\n      <th>Total_number_of_projects</th>\n    </tr>\n  </thead>\n  <tbody>\n    <tr>\n      <th>0</th>\n      <td>United States</td>\n      <td>261431</td>\n    </tr>\n    <tr>\n      <th>1</th>\n      <td>United Kingdom</td>\n      <td>29462</td>\n    </tr>\n    <tr>\n      <th>2</th>\n      <td>Canada</td>\n      <td>12372</td>\n    </tr>\n    <tr>\n      <th>3</th>\n      <td>Australia</td>\n      <td>6620</td>\n    </tr>\n    <tr>\n      <th>4</th>\n      <td>Germany</td>\n      <td>3436</td>\n    </tr>\n    <tr>\n      <th>5</th>\n      <td>France</td>\n      <td>2520</td>\n    </tr>\n    <tr>\n      <th>6</th>\n      <td>Netherlands</td>\n      <td>2411</td>\n    </tr>\n    <tr>\n      <th>7</th>\n      <td>Italy</td>\n      <td>2369</td>\n    </tr>\n    <tr>\n      <th>8</th>\n      <td>Spain</td>\n      <td>1873</td>\n    </tr>\n    <tr>\n      <th>9</th>\n      <td>Sweden</td>\n      <td>1510</td>\n    </tr>\n    <tr>\n      <th>10</th>\n      <td>Mexico</td>\n      <td>1411</td>\n    </tr>\n    <tr>\n      <th>11</th>\n      <td>New Zealand</td>\n      <td>1274</td>\n    </tr>\n    <tr>\n      <th>12</th>\n      <td>Denmark</td>\n      <td>927</td>\n    </tr>\n    <tr>\n      <th>13</th>\n      <td>Ireland</td>\n      <td>683</td>\n    </tr>\n    <tr>\n      <th>14</th>\n      <td>Switzerland</td>\n      <td>652</td>\n    </tr>\n    <tr>\n      <th>15</th>\n      <td>Norway</td>\n      <td>583</td>\n    </tr>\n    <tr>\n      <th>16</th>\n      <td>Belgium</td>\n      <td>523</td>\n    </tr>\n    <tr>\n      <th>17</th>\n      <td>Austria</td>\n      <td>485</td>\n    </tr>\n    <tr>\n      <th>18</th>\n      <td>Hong Kong</td>\n      <td>477</td>\n    </tr>\n    <tr>\n      <th>19</th>\n      <td>Singapore</td>\n      <td>454</td>\n    </tr>\n    <tr>\n      <th>20</th>\n      <td>Luxembourg</td>\n      <td>57</td>\n    </tr>\n    <tr>\n      <th>21</th>\n      <td>Japan</td>\n      <td>23</td>\n    </tr>\n  </tbody>\n</table>\n</div>"
     },
     "metadata": {},
     "execution_count": 84
    }
   ],
   "source": [
    "# Create a SQL query to get the total number of projects in Kickstarter Large dataframe per country.\n",
    "query_ks_country = \"\"\"\n",
    "SELECT full_country_names AS Country, COUNT (*) AS Total_number_of_projects \n",
    "FROM kickstarter_large\n",
    "GROUP BY full_country_names\n",
    "ORDER BY\n",
    "    total_number_of_projects DESC;\n",
    "\"\"\"\n",
    "\n",
    "# This will let us read the query we applied earlier to create a dataframe.\n",
    "ks_country_total_df = pd.read_sql_query(\n",
    "    query_ks_country, \n",
    "    con= engine)\n",
    "ks_country_total_df"
   ]
  },
  {
   "cell_type": "code",
   "execution_count": 83,
   "metadata": {},
   "outputs": [
    {
     "output_type": "execute_result",
     "data": {
      "text/plain": [
       "           Country  Total_number_of_projects\n",
       "0    United States                     16036\n",
       "1       Luxembourg                      1625\n",
       "2   United Kingdom                      1479\n",
       "3           Canada                       922\n",
       "4        Australia                       298\n",
       "5        Hong Kong                       185\n",
       "6        Singapore                        40\n",
       "7      Switzerland                        21\n",
       "8          Denmark                        14\n",
       "9           Sweden                        10\n",
       "10          Norway                         1"
      ],
      "text/html": "<div>\n<style scoped>\n    .dataframe tbody tr th:only-of-type {\n        vertical-align: middle;\n    }\n\n    .dataframe tbody tr th {\n        vertical-align: top;\n    }\n\n    .dataframe thead th {\n        text-align: right;\n    }\n</style>\n<table border=\"1\" class=\"dataframe\">\n  <thead>\n    <tr style=\"text-align: right;\">\n      <th></th>\n      <th>Country</th>\n      <th>Total_number_of_projects</th>\n    </tr>\n  </thead>\n  <tbody>\n    <tr>\n      <th>0</th>\n      <td>United States</td>\n      <td>16036</td>\n    </tr>\n    <tr>\n      <th>1</th>\n      <td>Luxembourg</td>\n      <td>1625</td>\n    </tr>\n    <tr>\n      <th>2</th>\n      <td>United Kingdom</td>\n      <td>1479</td>\n    </tr>\n    <tr>\n      <th>3</th>\n      <td>Canada</td>\n      <td>922</td>\n    </tr>\n    <tr>\n      <th>4</th>\n      <td>Australia</td>\n      <td>298</td>\n    </tr>\n    <tr>\n      <th>5</th>\n      <td>Hong Kong</td>\n      <td>185</td>\n    </tr>\n    <tr>\n      <th>6</th>\n      <td>Singapore</td>\n      <td>40</td>\n    </tr>\n    <tr>\n      <th>7</th>\n      <td>Switzerland</td>\n      <td>21</td>\n    </tr>\n    <tr>\n      <th>8</th>\n      <td>Denmark</td>\n      <td>14</td>\n    </tr>\n    <tr>\n      <th>9</th>\n      <td>Sweden</td>\n      <td>10</td>\n    </tr>\n    <tr>\n      <th>10</th>\n      <td>Norway</td>\n      <td>1</td>\n    </tr>\n  </tbody>\n</table>\n</div>"
     },
     "metadata": {},
     "execution_count": 83
    }
   ],
   "source": [
    "# Create a SQL query to get the total number of projects in Kickstarter Large dataframe per country.\n",
    "query_indiegogo_country = \"\"\"\n",
    "SELECT full_country_names AS Country, COUNT (*) AS Total_number_of_projects \n",
    "FROM indie_gogo\n",
    "GROUP BY full_country_names\n",
    "ORDER BY\n",
    "    total_number_of_projects DESC;\n",
    "\"\"\"\n",
    "\n",
    "# This will let us read the query we applied earlier to create a dataframe.\n",
    "indiegogo_country_total_df = pd.read_sql_query(\n",
    "    query_indiegogo_country, \n",
    "    con= engine)\n",
    "indiegogo_country_total_df"
   ]
  },
  {
   "cell_type": "code",
   "execution_count": null,
   "metadata": {},
   "outputs": [],
   "source": []
  }
 ],
 "metadata": {
  "kernelspec": {
   "name": "python3",
   "display_name": "Python 3.8.5 64-bit ('dev': conda)"
  },
  "language_info": {
   "codemirror_mode": {
    "name": "ipython",
    "version": 3
   },
   "file_extension": ".py",
   "mimetype": "text/x-python",
   "name": "python",
   "nbconvert_exporter": "python",
   "pygments_lexer": "ipython3",
   "version": "3.8.5"
  },
  "interpreter": {
   "hash": "addff9a14612e1ccdd62f03aa26fa97b81eff9be4644ddf6081913d03b4e098f"
  }
 },
 "nbformat": 4,
 "nbformat_minor": 4
}