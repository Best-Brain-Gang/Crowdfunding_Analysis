{
 "cells": [
  {
   "cell_type": "code",
   "execution_count": 2,
   "source": [
    "# Import the required libraries and dependencies\n",
    "import pandas as pd\n",
    "from pathlib import Path"
   ],
   "outputs": [],
   "metadata": {}
  },
  {
   "cell_type": "code",
   "execution_count": 3,
   "source": [
    "full_country_names_dict = {\n",
    "'LU' : 'Luxembourg',        \n",
    "'IE' : 'Ireland',\n",
    "'GB' : 'United Kingdom',\n",
    "'MX' : 'Mexico',\n",
    "'HK' : 'Hong Kong',\n",
    "'SG' : 'Singapore',\n",
    "'AT' : 'Austria',\n",
    "'BE' : 'Belgium',\n",
    "'ES' : 'Spain',\n",
    "'SE' : 'Sweden',\n",
    "'DK' : 'Denmark',\n",
    "'AU' : 'Australia',\n",
    "'IT' : 'Italy',\n",
    "'CH' : 'Switzerland',\n",
    "'CA' : 'Canada',\n",
    "'JP' : 'Japan',\n",
    "'FR' : 'France',\n",
    "'NL' : 'Netherlands',\n",
    "'NZ' : 'New Zealand',\n",
    "'NO' : 'Norway',\n",
    "'DE' : 'Germany',\n",
    "'US' : 'United States'\n",
    "}"
   ],
   "outputs": [],
   "metadata": {}
  },
  {
   "cell_type": "code",
   "execution_count": 5,
   "source": [
    "# Import small kickstarter most backed dataset\n",
    "country_lat_long_df = pd.read_csv(\n",
    "    Path('./country_lat_long.csv'),\n",
    "    sep='\\t'\n",
    ")\n",
    "\n",
    "# Create dictionary of country key and lat/long values\n",
    "country_lat_long_dict = dict(zip(country_lat_long_df['country'],list(zip(country_lat_long_df['latitude'],country_lat_long_df['longitude']))))"
   ],
   "outputs": [
    {
     "output_type": "execute_result",
     "data": {
      "text/plain": [
       "(55.378051, -3.435973)"
      ]
     },
     "metadata": {},
     "execution_count": 5
    }
   ],
   "metadata": {}
  },
  {
   "cell_type": "code",
   "execution_count": null,
   "source": [],
   "outputs": [],
   "metadata": {}
  }
 ],
 "metadata": {
  "orig_nbformat": 4,
  "language_info": {
   "name": "python"
  }
 },
 "nbformat": 4,
 "nbformat_minor": 2
}