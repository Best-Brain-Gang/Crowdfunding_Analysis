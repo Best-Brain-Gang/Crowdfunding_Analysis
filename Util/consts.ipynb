{
 "cells": [
  {
   "cell_type": "code",
   "execution_count": 5,
   "source": [
    "full_country_names_dict = {\n",
    "'LU' : 'Luxembourg',        \n",
    "'IE' : 'Ireland',\n",
    "'GB' : 'United Kingdom',\n",
    "'MX' : 'Mexico',\n",
    "'HK' : 'Hong Kong',\n",
    "'SG' : 'Singapore',\n",
    "'AT' : 'Austria',\n",
    "'BE' : 'Belgium',\n",
    "'ES' : 'Spain',\n",
    "'SE' : 'Sweden',\n",
    "'DK' : 'Denmark',\n",
    "'AU' : 'Australia',\n",
    "'IT' : 'Italy',\n",
    "'CH' : 'Switzerland',\n",
    "'CA' : 'Canada',\n",
    "'JP' : 'Japan',\n",
    "'FR' : 'France',\n",
    "'NL' : 'Netherlands',\n",
    "'NZ' : 'New Zealand',\n",
    "'NO' : 'Norway',\n",
    "'DE' : 'Germany',\n",
    "'US' : 'United States'\n",
    "}"
   ],
   "outputs": [],
   "metadata": {}
  },
  {
   "cell_type": "code",
   "execution_count": null,
   "source": [],
   "outputs": [],
   "metadata": {}
  }
 ],
 "metadata": {
  "orig_nbformat": 4,
  "language_info": {
   "name": "python"
  }
 },
 "nbformat": 4,
 "nbformat_minor": 2
}