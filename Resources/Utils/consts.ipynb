{
 "cells": [
  {
   "cell_type": "code",
   "execution_count": 8,
   "source": [
    "# Import the required libraries and dependencies\n",
    "import pandas as pd\n",
    "from pathlib import Path"
   ],
   "outputs": [],
   "metadata": {}
  },
  {
   "cell_type": "code",
   "execution_count": 9,
   "source": [
    "# Dict of country codes to country names\n",
    "full_country_names_dict = {\n",
    "'LU' : 'Luxembourg',        \n",
    "'IE' : 'Ireland',\n",
    "'GB' : 'United Kingdom',\n",
    "'MX' : 'Mexico',\n",
    "'HK' : 'Hong Kong',\n",
    "'SG' : 'Singapore',\n",
    "'AT' : 'Austria',\n",
    "'BE' : 'Belgium',\n",
    "'ES' : 'Spain',\n",
    "'SE' : 'Sweden',\n",
    "'DK' : 'Denmark',\n",
    "'AU' : 'Australia',\n",
    "'IT' : 'Italy',\n",
    "'CH' : 'Switzerland',\n",
    "'CA' : 'Canada',\n",
    "'JP' : 'Japan',\n",
    "'FR' : 'France',\n",
    "'NL' : 'Netherlands',\n",
    "'NZ' : 'New Zealand',\n",
    "'NO' : 'Norway',\n",
    "'DE' : 'Germany',\n",
    "'US' : 'United States'\n",
    "}"
   ],
   "outputs": [],
   "metadata": {}
  },
  {
   "cell_type": "code",
   "execution_count": 1,
   "source": [
    "# Import small kickstarter most backed dataset\n",
    "country_lat_long_df = pd.read_csv(\n",
    "    Path('./Resources/country_info/country_lat_long.csv'),\n",
    "    sep='\\t'\n",
    ")\n",
    "\n",
    "# Create dictionary of country key and lat/long values\n",
    "country_lat_long_dict = dict(zip(country_lat_long_df['country'],list(zip(country_lat_long_df['latitude'],country_lat_long_df['longitude']))))"
   ],
   "outputs": [
    {
     "output_type": "error",
     "ename": "NameError",
     "evalue": "name 'pd' is not defined",
     "traceback": [
      "\u001b[0;31m---------------------------------------------------------------------------\u001b[0m",
      "\u001b[0;31mNameError\u001b[0m                                 Traceback (most recent call last)",
      "\u001b[0;32m<ipython-input-1-ce2657ef75b6>\u001b[0m in \u001b[0;36m<module>\u001b[0;34m\u001b[0m\n\u001b[1;32m      1\u001b[0m \u001b[0;31m# Import small kickstarter most backed dataset\u001b[0m\u001b[0;34m\u001b[0m\u001b[0;34m\u001b[0m\u001b[0;34m\u001b[0m\u001b[0m\n\u001b[0;32m----> 2\u001b[0;31m country_lat_long_df = pd.read_csv(\n\u001b[0m\u001b[1;32m      3\u001b[0m     \u001b[0mPath\u001b[0m\u001b[0;34m(\u001b[0m\u001b[0;34m'./Resources/country_info/country_lat_long.csv'\u001b[0m\u001b[0;34m)\u001b[0m\u001b[0;34m,\u001b[0m\u001b[0;34m\u001b[0m\u001b[0;34m\u001b[0m\u001b[0m\n\u001b[1;32m      4\u001b[0m     \u001b[0msep\u001b[0m\u001b[0;34m=\u001b[0m\u001b[0;34m'\\t'\u001b[0m\u001b[0;34m\u001b[0m\u001b[0;34m\u001b[0m\u001b[0m\n\u001b[1;32m      5\u001b[0m )\n",
      "\u001b[0;31mNameError\u001b[0m: name 'pd' is not defined"
     ]
    }
   ],
   "metadata": {}
  },
  {
   "cell_type": "code",
   "execution_count": 11,
   "source": [
    "# Kickstarter categories mappings\n",
    "kickstarter_cat_dict = {\n",
    "'Transportation' : 'Technology',\n",
    "'Human Rights' : 'Journalism',\n",
    "'Photography' : 'Photography',\n",
    "'Camera Gear' : 'Film & Video',\n",
    "'Wellness' : 'Food',\n",
    "'Productivity' : 'Technology',\n",
    "'Audio' : 'Technology',\n",
    "'Tabletop Games' : 'Games',\n",
    "'Energy & Green Tech' : 'Technology',\n",
    "'Podcasts, Blogs & Vlogs' : 'Journalism',\n",
    "'Culture' : 'Art',\n",
    "'Fashion & Wearables' : 'Technology',\n",
    "'Phones & Accessories' : 'Technology',\n",
    "'Dance & Theater' : 'Theater',\n",
    "'Video Games' : 'Games',\n",
    "'Music' : 'Music',\n",
    "'Health & Fitness' : 'Food',\n",
    "'Art' : 'Art',\n",
    "'Writing & Publishing' : 'Journalism',\n",
    "'Comics' : 'Art',\n",
    "'Food & Beverages' : 'Food',\n",
    "'Film' : 'Film & Video',\n",
    "'Web Series & TV Shows' : 'Film & Video'\n",
    "}"
   ],
   "outputs": [],
   "metadata": {}
  }
 ],
 "metadata": {
  "orig_nbformat": 4,
  "language_info": {
   "name": "python"
  }
 },
 "nbformat": 4,
 "nbformat_minor": 2
}