{
 "cells": [
  {
   "cell_type": "code",
   "execution_count": null,
   "source": [
    "# Import the required libraries and dependencies\n",
    "import pandas as pd\n",
    "from pathlib import Path"
   ],
   "outputs": [],
   "metadata": {}
  },
  {
   "cell_type": "code",
   "execution_count": null,
   "source": [
    "# Dict of country codes to country names\n",
    "full_country_names_dict = {\n",
    "'LU' : 'Luxembourg',        \n",
    "'IE' : 'Ireland',\n",
    "'GB' : 'United Kingdom',\n",
    "'MX' : 'Mexico',\n",
    "'HK' : 'Hong Kong',\n",
    "'SG' : 'Singapore',\n",
    "'AT' : 'Austria',\n",
    "'BE' : 'Belgium',\n",
    "'ES' : 'Spain',\n",
    "'SE' : 'Sweden',\n",
    "'DK' : 'Denmark',\n",
    "'AU' : 'Australia',\n",
    "'IT' : 'Italy',\n",
    "'CH' : 'Switzerland',\n",
    "'CA' : 'Canada',\n",
    "'JP' : 'Japan',\n",
    "'FR' : 'France',\n",
    "'NL' : 'Netherlands',\n",
    "'NZ' : 'New Zealand',\n",
    "'NO' : 'Norway',\n",
    "'DE' : 'Germany',\n",
    "'US' : 'United States'\n",
    "}"
   ],
   "outputs": [],
   "metadata": {}
  },
  {
   "cell_type": "code",
   "execution_count": null,
   "source": [
    "# Import country lat lon data\n",
    "country_lat_lon_df = pd.read_csv(\n",
    "    Path('./Resources/country_info/country_lat_long.csv'),\n",
    "    sep='\\t'\n",
    ")\n",
    "\n",
    "# Create dictionary of country key and lat/long values\n",
    "country_lat_lon_dict = dict(zip(country_lat_lon_df['country'],list(zip(country_lat_lon_df['latitude'],country_lat_lon_df['longitude']))))"
   ],
   "outputs": [],
   "metadata": {}
  },
  {
   "cell_type": "code",
   "execution_count": null,
   "source": [
    "# Import country lat lon data\n",
    "city_lat_lon_df = pd.read_csv(\n",
    "    Path('./Resources/city_info/us_cities.csv')\n",
    ")\n",
    "\n",
    "city_lat_lon_df['city_state'] = city_lat_lon_df['CITY'] + ', ' + city_lat_lon_df['STATE_CODE']\n",
    "\n",
    "# Create dictionary of city key and lat/lon values\n",
    "city_lat_lon_dict = dict(zip(city_lat_lon_df['city_state'],list(zip(city_lat_lon_df['LATITUDE'],city_lat_lon_df['LONGITUDE']))))"
   ],
   "outputs": [],
   "metadata": {}
  },
  {
   "cell_type": "code",
   "execution_count": null,
   "source": [
    "# Kickstarter categories mappings\n",
    "kickstarter_cat_dict = {\n",
    "'Transportation' : 'Technology',\n",
    "'Human Rights' : 'Journalism',\n",
    "'Photography' : 'Photography',\n",
    "'Camera Gear' : 'Film & Video',\n",
    "'Wellness' : 'Food',\n",
    "'Productivity' : 'Technology',\n",
    "'Audio' : 'Technology',\n",
    "'Tabletop Games' : 'Games',\n",
    "'Energy & Green Tech' : 'Technology',\n",
    "'Podcasts, Blogs & Vlogs' : 'Journalism',\n",
    "'Culture' : 'Art',\n",
    "'Fashion & Wearables' : 'Technology',\n",
    "'Phones & Accessories' : 'Technology',\n",
    "'Dance & Theater' : 'Theater',\n",
    "'Video Games' : 'Games',\n",
    "'Music' : 'Music',\n",
    "'Health & Fitness' : 'Food',\n",
    "'Art' : 'Art',\n",
    "'Writing & Publishing' : 'Journalism',\n",
    "'Comics' : 'Art',\n",
    "'Food & Beverages' : 'Food',\n",
    "'Film' : 'Film & Video',\n",
    "'Web Series & TV Shows' : 'Film & Video'\n",
    "}"
   ],
   "outputs": [],
   "metadata": {}
  }
 ],
 "metadata": {
  "orig_nbformat": 4,
  "language_info": {
   "name": "python",
   "version": "3.7.9",
   "mimetype": "text/x-python",
   "codemirror_mode": {
    "name": "ipython",
    "version": 3
   },
   "pygments_lexer": "ipython3",
   "nbconvert_exporter": "python",
   "file_extension": ".py"
  },
  "kernelspec": {
   "name": "python3",
   "display_name": "Python 3.7.9 64-bit ('dev': conda)"
  },
  "interpreter": {
   "hash": "930eee74a1f2acacbb765ecf4f41bca31b45440fd68d4dff19855f34b00f2967"
  }
 },
 "nbformat": 4,
 "nbformat_minor": 2
}