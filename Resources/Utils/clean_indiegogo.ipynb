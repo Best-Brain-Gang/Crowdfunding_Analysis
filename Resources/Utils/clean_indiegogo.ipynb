{
 "cells": [
  {
   "cell_type": "code",
   "execution_count": 1,
   "source": [
    "# Import the required libraries and dependencies\n",
    "import pandas as pd\n",
    "from pathlib import Path"
   ],
   "outputs": [],
   "metadata": {}
  },
  {
   "cell_type": "markdown",
   "source": [
    "## Import data "
   ],
   "metadata": {}
  },
  {
   "cell_type": "code",
   "execution_count": 2,
   "source": [
    "# Import indiegogo dataset\n",
    "indiegogo_df = pd.read_csv(\n",
    "    Path('./Resources/indiegogo_data/indiegogo.csv')\n",
    ")\n",
    "\n",
    "# Fix ID column\n",
    "indiegogo_df.rename(columns={'project_id' : 'ID'}, inplace=True)\n",
    "\n",
    "# Set the index as the ID\n",
    "indiegogo_df.set_index('ID', inplace=True)"
   ],
   "outputs": [],
   "metadata": {}
  },
  {
   "cell_type": "markdown",
   "source": [
    "## Rename cols"
   ],
   "metadata": {}
  },
  {
   "cell_type": "code",
   "execution_count": 3,
   "source": [
    "# Rename columns to match the kickstarter df\n",
    "indiegogo_df.rename(columns={'title' : 'name', 'amount_raised_usd' : 'usd_pledged_real', 'goal_usd' : 'usd_goal_real'}, inplace=True)"
   ],
   "outputs": [],
   "metadata": {}
  },
  {
   "cell_type": "markdown",
   "source": [
    "## Clean df"
   ],
   "metadata": {}
  },
  {
   "cell_type": "code",
   "execution_count": 4,
   "source": [
    "# fix dates\n",
    "indiegogo_df['launched'] = pd.to_datetime(indiegogo_df['date_launch'] + ' ' + indiegogo_df['time_launch'])\n",
    "indiegogo_df['deadline'] = pd.to_datetime(indiegogo_df['date_end'] + ' ' + indiegogo_df['time_end'])\n",
    "\n",
    "# Make timeframe match based off of launched projects\n",
    "mask = (indiegogo_df['launched'] >= '2010-04-21') & (indiegogo_df['launched'] <= '2017-12-29 ')\n",
    "indiegogo_df = indiegogo_df.loc[mask]\n",
    "\n",
    "# Clean the main_category col\n",
    "categories_to_delete = ['Local Businesses', 'Environment' , 'Home' , 'Education', 'Travel & Outdoors']\n",
    "indiegogo_df = indiegogo_df[~indiegogo_df.loc[:,'category'].isin(categories_to_delete)]"
   ],
   "outputs": [],
   "metadata": {}
  },
  {
   "cell_type": "markdown",
   "source": [
    "## Create dfs from selected columns"
   ],
   "metadata": {}
  },
  {
   "cell_type": "code",
   "execution_count": 5,
   "source": [
    "# List columns to drop\n",
    "indiegogo_cols_drop = ['year_end',\n",
    "'month_end',\n",
    "'day_end',\n",
    "'amount_raised',\n",
    "'in_demand',\n",
    "'year_launch',\n",
    "'month_launch',\n",
    "'day_launch',\n",
    "'tagline',\n",
    "'url',\n",
    "'australia',\n",
    "'canada',\n",
    "'switzerland',\n",
    "'denmark',\n",
    "'western_europe',\n",
    "'great_britain',\n",
    "'hong_kong',\n",
    "'norway',\n",
    "'sweden',\n",
    "'singapore',\n",
    "'united_states',\n",
    "'education',\n",
    "'productivity',\n",
    "'energy_greentech',\n",
    "'wellness',\n",
    "'comics',\n",
    "'fashion_wearables',\n",
    "'video_games',\n",
    "'photography',\n",
    "'tv_shows',\n",
    "'dance_theater',\n",
    "'phones_accessories',\n",
    "'audio',\n",
    "'film',\n",
    "'transportation',\n",
    "'art',\n",
    "'environment',\n",
    "'writing_publishing',\n",
    "'music',\n",
    "'travel_outdoors',\n",
    "'health_fitness',\n",
    "'tabletop_games',\n",
    "'home',\n",
    "'local_business',\n",
    "'food_beverage',\n",
    "'culture',\n",
    "'human_rights',\n",
    "'podcasts_vlogs',\n",
    "'camera_gear',\n",
    "'time_end',\n",
    "'time_launch',\n",
    "'date_launch',\n",
    "'date_end',\n",
    "'jan',\n",
    "'feb',\n",
    "'mar',\n",
    "'apr',\n",
    "'may',\n",
    "'jun',\n",
    "'jul',\n",
    "'aug',\n",
    "'sep',\n",
    "'oct',\n",
    "'nov',\n",
    "'dec',\n",
    "'tperiod']\n",
    "\n",
    "# Selected columns indiegogo df\n",
    "indiegogo_selected_cols_df = indiegogo_df.drop(indiegogo_cols_drop, axis=1)"
   ],
   "outputs": [],
   "metadata": {}
  },
  {
   "cell_type": "markdown",
   "source": [
    "## Add new cols"
   ],
   "metadata": {}
  },
  {
   "cell_type": "code",
   "execution_count": 12,
   "source": [
    "# Duration\n",
    "indiegogo_selected_cols_df['duration'] = indiegogo_selected_cols_df['deadline'] - indiegogo_selected_cols_df['launched'] \n",
    "indiegogo_selected_cols_df['duration'] = indiegogo_selected_cols_df['duration'].dt.days\n",
    "\n",
    "# Daily Goal \n",
    "indiegogo_selected_cols_df['daily_goal'] = round(indiegogo_selected_cols_df['usd_goal_real'] / indiegogo_selected_cols_df['duration'],2)\n",
    "\n",
    "# Daily Pledged\n",
    "indiegogo_selected_cols_df['daily_pledged'] = round(indiegogo_selected_cols_df['usd_pledged_real'] / indiegogo_selected_cols_df['duration'],2)\n",
    "\n",
    "# Funded Percentage\n",
    "indiegogo_selected_cols_df['funded_percent'] = round(indiegogo_selected_cols_df['usd_pledged_real'] / indiegogo_selected_cols_df['usd_goal_real'],4)\n",
    "\n",
    "# Add country col using currency/country matchings from kickstarter large dataset\n",
    "# Import kickstarter data\n",
    "# Import large kickstarter recent dataset\n",
    "kickstarter_currency_country_cols_df = pd.read_csv(\n",
    "    Path('./Resources/kickstarter_data/ks-projects-201801.csv'),\n",
    "    usecols=['currency', 'country']\n",
    ")\n",
    "\n",
    "# Imported data has a space at the end of the column name\n",
    "# Remove spaces in columns name\n",
    "kickstarter_currency_country_cols_df.columns = kickstarter_currency_country_cols_df.columns.str.replace(' ','')\n",
    "\n",
    "\n",
    "# Create a dictionary of country and currency pairs to add country col\n",
    "country_currency_df = kickstarter_currency_country_cols_df.loc[:,['country', 'currency']]\n",
    "country_currency_df.drop(kickstarter_currency_country_cols_df[kickstarter_currency_country_cols_df['country'] == 'N,0\"'].index, inplace=True)\n",
    "country_currency_df.drop_duplicates(inplace=True)\n",
    "country_currency_df.set_index('currency', inplace = True)\n",
    "currency_country_dict = country_currency_df.to_dict()['country']\n",
    "\n",
    "# Clean up all the N,0\" values for countries using the currency_country_dict\n",
    "indiegogo_selected_cols_df['country'] = indiegogo_selected_cols_df.apply(lambda row: currency_country_dict[row['currency']], axis=1)\n",
    "\n",
    "# Add full country name col\n",
    "%run ./Resources/Utils/consts.ipynb\n",
    "indiegogo_selected_cols_df['full_country_names'] = indiegogo_selected_cols_df['country'].apply(lambda x: full_country_names_dict[x])\n",
    "\n",
    "# Add lat/long depends on running ./Resources/Utils/consts.ipynb first\n",
    "indiegogo_selected_cols_df['lat'] = indiegogo_selected_cols_df['country'].apply(lambda x: country_lat_long_dict[x][0])\n",
    "indiegogo_selected_cols_df['long'] = indiegogo_selected_cols_df['country'].apply(lambda x: country_lat_long_dict[x][1])\n",
    "\n",
    "# Add main category depends on running ./Resources/Utils/consts.ipynb first\n",
    "indiegogo_selected_cols_df['main_category'] = indiegogo_selected_cols_df['category'].apply(lambda x: kickstarter_cat_dict[x])\n",
    "\n",
    "# Fix types\n",
    "indiegogo_selected_cols_df = indiegogo_selected_cols_df.astype({\"funded_percent\": 'float'})"
   ],
   "outputs": [],
   "metadata": {}
  },
  {
   "cell_type": "markdown",
   "source": [
    "## Reorder cols"
   ],
   "metadata": {}
  },
  {
   "cell_type": "code",
   "execution_count": 10,
   "source": [
    "# Base column names for reordering\n",
    "base_order = ['name', 'main_category', 'category', 'currency', 'usd_goal_real', 'usd_pledged_real', 'deadline', 'launched', 'state', 'funded_percent','duration', 'daily_goal', 'daily_pledged', 'country', 'full_country_names', 'lat', 'long']\n",
    "indiegogo_order = base_order\n",
    "\n",
    "# Reorder each df\n",
    "indiegogo_selected_cols_df = indiegogo_selected_cols_df[indiegogo_order]"
   ],
   "outputs": [],
   "metadata": {}
  },
  {
   "cell_type": "markdown",
   "source": [
    "## Write clean data to files"
   ],
   "metadata": {}
  },
  {
   "cell_type": "code",
   "execution_count": 17,
   "source": [
    "indiegogo_selected_cols_df.to_csv('./Resources/indiegogo_data_clean/indiegogo-projects.csv')"
   ],
   "outputs": [],
   "metadata": {}
  }
 ],
 "metadata": {
  "orig_nbformat": 4,
  "language_info": {
   "name": "python",
   "version": "3.7.9",
   "mimetype": "text/x-python",
   "codemirror_mode": {
    "name": "ipython",
    "version": 3
   },
   "pygments_lexer": "ipython3",
   "nbconvert_exporter": "python",
   "file_extension": ".py"
  },
  "kernelspec": {
   "name": "python3",
   "display_name": "Python 3.7.9 64-bit ('dev': conda)"
  },
  "interpreter": {
   "hash": "930eee74a1f2acacbb765ecf4f41bca31b45440fd68d4dff19855f34b00f2967"
  }
 },
 "nbformat": 4,
 "nbformat_minor": 2
}