{
 "cells": [
  {
   "cell_type": "code",
   "execution_count": null,
   "source": [
    "# Import the required libraries and dependencies\n",
    "import pandas as pd\n",
    "from pathlib import Path"
   ],
   "outputs": [],
   "metadata": {}
  },
  {
   "cell_type": "markdown",
   "source": [
    "## Import data "
   ],
   "metadata": {}
  },
  {
   "cell_type": "code",
   "execution_count": null,
   "source": [
    "# Import small kickstarter most backed dataset\n",
    "kickstarter_small_most_backed_df = pd.read_csv(\n",
    "    Path('./Resources/kickstarter_data/most_backed.csv')\n",
    ")\n",
    "\n",
    "# Fix ID column\n",
    "kickstarter_small_most_backed_df.rename(columns={'Unnamed: 0': 'ID'}, inplace=True)\n",
    "\n",
    "# Set the index as the ID\n",
    "kickstarter_small_most_backed_df.set_index('ID', inplace=True)\n",
    "\n",
    "# View head\n",
    "kickstarter_small_most_backed_df.head(2)"
   ],
   "outputs": [],
   "metadata": {}
  },
  {
   "cell_type": "markdown",
   "source": [
    "## Rename cols"
   ],
   "metadata": {}
  },
  {
   "cell_type": "code",
   "execution_count": null,
   "source": [
    "# Rename the columns to match the kickstarter large df\n",
    "kickstarter_small_most_backed_df.rename(columns={'amt.pledged' : 'usd_pledged_real', 'title' : 'name', 'category' : 'main_category', 'goal' : 'usd_goal_real', 'num.backers' : 'backers'}, inplace=True)"
   ],
   "outputs": [],
   "metadata": {}
  },
  {
   "cell_type": "markdown",
   "source": [
    "## Clean df"
   ],
   "metadata": {}
  },
  {
   "cell_type": "code",
   "execution_count": null,
   "source": [
    "# Only look at US\n",
    "%run ./Resources/Utils/consts.ipynb\n",
    "kickstarter_small_most_backed_df = kickstarter_small_most_backed_df[kickstarter_small_most_backed_df.loc[:,'location'].isin(city_lat_lon_dict)]\n",
    "\n",
    "# Clean currency\n",
    "kickstarter_small_most_backed_df.loc[:, 'currency'] = kickstarter_small_most_backed_df.loc[:, 'currency'].apply(lambda x : x.upper())"
   ],
   "outputs": [],
   "metadata": {}
  },
  {
   "cell_type": "markdown",
   "source": [
    "## Create dfs from selected columns"
   ],
   "metadata": {}
  },
  {
   "cell_type": "code",
   "execution_count": null,
   "source": [
    "# List of columns to drop\n",
    "kickstarter_small_cols_drop = ['blurb', 'by', 'url']\n",
    "\n",
    "# Selected columns  df\n",
    "kickstarter_selected_cols_small_most_backed_df = kickstarter_small_most_backed_df.drop(kickstarter_small_cols_drop, axis=1)"
   ],
   "outputs": [],
   "metadata": {}
  },
  {
   "cell_type": "markdown",
   "source": [
    "## Add new cols"
   ],
   "metadata": {}
  },
  {
   "cell_type": "code",
   "execution_count": null,
   "source": [
    "# Add lat/long depends on running ./Resources/Utils/consts.ipynb first\n",
    "kickstarter_selected_cols_small_most_backed_df['lat'] = kickstarter_selected_cols_small_most_backed_df['location'].apply(lambda x: city_lat_lon_dict[x][0])\n",
    "kickstarter_selected_cols_small_most_backed_df['long'] = kickstarter_selected_cols_small_most_backed_df['location'].apply(lambda x: city_lat_lon_dict[x][1])"
   ],
   "outputs": [],
   "metadata": {}
  },
  {
   "cell_type": "markdown",
   "source": [
    "## Reorder cols"
   ],
   "metadata": {}
  },
  {
   "cell_type": "code",
   "execution_count": null,
   "source": [
    "# Base column names for reordering\n",
    "small_kickstarter_order = ['name', 'main_category', 'currency', 'usd_goal_real', 'usd_pledged_real', 'location', 'backers', 'num.backers.tier', 'pledge.tier']\n",
    "\n",
    "# Reorder each df\n",
    "kickstarter_selected_cols_small_most_backed_df = kickstarter_selected_cols_small_most_backed_df[small_kickstarter_order]"
   ],
   "outputs": [],
   "metadata": {}
  },
  {
   "cell_type": "markdown",
   "source": [
    "## Write clean data to files"
   ],
   "metadata": {}
  },
  {
   "cell_type": "code",
   "execution_count": null,
   "source": [
    "kickstarter_selected_cols_small_most_backed_df.to_csv('./Resources/kickstarter_data_clean/ks-projects-small.csv')"
   ],
   "outputs": [],
   "metadata": {}
  },
  {
   "cell_type": "code",
   "execution_count": null,
   "source": [],
   "outputs": [],
   "metadata": {}
  }
 ],
 "metadata": {
  "orig_nbformat": 4,
  "language_info": {
   "name": "python",
   "version": "3.7.9",
   "mimetype": "text/x-python",
   "codemirror_mode": {
    "name": "ipython",
    "version": 3
   },
   "pygments_lexer": "ipython3",
   "nbconvert_exporter": "python",
   "file_extension": ".py"
  },
  "kernelspec": {
   "name": "python3",
   "display_name": "Python 3.7.9 64-bit ('dev': conda)"
  },
  "interpreter": {
   "hash": "930eee74a1f2acacbb765ecf4f41bca31b45440fd68d4dff19855f34b00f2967"
  }
 },
 "nbformat": 4,
 "nbformat_minor": 2
}