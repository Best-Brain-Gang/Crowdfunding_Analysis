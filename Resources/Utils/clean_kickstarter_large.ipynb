{
 "cells": [
  {
   "cell_type": "code",
   "execution_count": null,
   "source": [
    "# Import the required libraries and dependencies\n",
    "import pandas as pd\n",
    "from pathlib import Path"
   ],
   "outputs": [],
   "metadata": {}
  },
  {
   "cell_type": "markdown",
   "source": [
    "## Import data "
   ],
   "metadata": {}
  },
  {
   "cell_type": "code",
   "execution_count": null,
   "source": [
    "# Import large kickstarter recent dataset\n",
    "kickstarter_large_recent_df = pd.read_csv(\n",
    "    Path('./Resources/kickstarter_data/ks-projects-201801.csv'),\n",
    ")\n",
    "\n",
    "# Imported data has a space at the end of the column name\n",
    "# Remove spaces in columns name\n",
    "kickstarter_large_recent_df.columns = kickstarter_large_recent_df.columns.str.replace(' ','')\n",
    "\n",
    "# Set the index as the ID\n",
    "kickstarter_large_recent_df.set_index('ID', inplace=True)"
   ],
   "outputs": [],
   "metadata": {}
  },
  {
   "cell_type": "markdown",
   "source": [
    "## Clean df"
   ],
   "metadata": {}
  },
  {
   "cell_type": "code",
   "execution_count": null,
   "source": [
    "# Kickstarter code to fix dates\n",
    "kickstarter_large_recent_df['launched'] = pd.to_datetime(kickstarter_large_recent_df['launched'])\n",
    "kickstarter_large_recent_df['deadline'] = pd.to_datetime(kickstarter_large_recent_df['deadline'])\n",
    "\n",
    "# Only pull out failed and successful cases to match indiegogo df\n",
    "failure_success = ['failed','successful']\n",
    "\n",
    "# Clean the main_category col\n",
    "categories_to_delete = ['Publishing', 'Design' , 'Crafts' , 'Comics', 'Fashion', 'Dance']\n",
    "kickstarter_large_recent_df = kickstarter_large_recent_df[~kickstarter_large_recent_df.loc[:,'main_category'].isin(categories_to_delete)]\n",
    "\n",
    "# Quick check to see if we have already renamed state col\n",
    "if 'failed' in kickstarter_large_recent_df['state'].values:\n",
    "    kickstarter_large_recent_df = kickstarter_large_recent_df[kickstarter_large_recent_df['state'].isin(failure_success)]\n",
    "    # Rename successful -> 1 and failed -> 0 to match indiegogo\n",
    "    kickstarter_large_recent_df['state'].replace({'failed': '0', 'successful': '1'}, inplace=True)\n",
    "    # Fix types\n",
    "    kickstarter_large_recent_df = kickstarter_large_recent_df.astype({'state': 'int64'})\n",
    "\n",
    "# Sometimes projects are successful with no backers. Remove this data\n",
    "kickstarter_large_recent_df.drop(kickstarter_large_recent_df[(kickstarter_large_recent_df['state'] == 1) & (kickstarter_large_recent_df['backers'] == 0)].index, inplace = True)\n",
    "\n",
    "# Make timeframe match based off of launched projects\n",
    "mask = (kickstarter_large_recent_df['launched'] >= '2010-04-21') & (kickstarter_large_recent_df['launched'] <= '2017-12-29 ')\n",
    "kickstarter_large_recent_df = kickstarter_large_recent_df.loc[mask]\n",
    "\n",
    "# Remove all countries with that have euro currency and country equal to N,0\"\n",
    "kickstarter_large_recent_df.drop(kickstarter_large_recent_df[(kickstarter_large_recent_df['currency'] == 'EUR') & (kickstarter_large_recent_df['country'] == 'N,0\"')].index, inplace = True)\n",
    "\n",
    "# Create a dictionary of country and currency pairs to fix other N,0\" countries to right country\n",
    "country_currency_df = kickstarter_large_recent_df.loc[:,['country', 'currency']]\n",
    "country_currency_df.drop(kickstarter_large_recent_df[kickstarter_large_recent_df['country'] == 'N,0\"'].index, inplace=True)\n",
    "country_currency_df.drop_duplicates(inplace=True)\n",
    "country_currency_df.set_index('currency', inplace = True)\n",
    "currency_country_dict = country_currency_df.to_dict()['country']\n",
    "\n",
    "# Function to clean up country col\n",
    "def replace_N0(country, currency):\n",
    "    if country == 'N,0\"':\n",
    "        return currency_country_dict[currency]\n",
    "    else:\n",
    "        return country\n",
    "\n",
    "# Clean up all the N,0\" values for countries using the currency_country_dict\n",
    "kickstarter_large_recent_df['country'] = kickstarter_large_recent_df.apply(lambda row: replace_N0(row['country'], row['currency']), axis=1)"
   ],
   "outputs": [],
   "metadata": {}
  },
  {
   "cell_type": "markdown",
   "source": [
    "## Create dfs from selected columns"
   ],
   "metadata": {}
  },
  {
   "cell_type": "code",
   "execution_count": null,
   "source": [
    "# List of columns to drop\n",
    "kickstarter_cols_drop = ['goal', 'pledged', 'usdpledged']\n",
    "\n",
    "# Selected columns kickstarter df\n",
    "kickstarter_selected_cols_large_recent_df = kickstarter_large_recent_df.drop(kickstarter_cols_drop, axis=1)"
   ],
   "outputs": [],
   "metadata": {}
  },
  {
   "cell_type": "markdown",
   "source": [
    "## Add new cols"
   ],
   "metadata": {}
  },
  {
   "cell_type": "code",
   "execution_count": null,
   "source": [
    "# Duration\n",
    "kickstarter_selected_cols_large_recent_df['duration'] = kickstarter_selected_cols_large_recent_df['deadline'] - kickstarter_selected_cols_large_recent_df['launched'] \n",
    "kickstarter_selected_cols_large_recent_df['duration'] = kickstarter_selected_cols_large_recent_df['duration'].dt.days\n",
    "\n",
    "# Daily Goal \n",
    "kickstarter_selected_cols_large_recent_df['daily_goal'] = round(kickstarter_selected_cols_large_recent_df['usd_goal_real'] / kickstarter_selected_cols_large_recent_df['duration'],2)\n",
    "\n",
    "# Daily Pledged\n",
    "kickstarter_selected_cols_large_recent_df['daily_pledged'] = round(kickstarter_selected_cols_large_recent_df['usd_pledged_real'] / kickstarter_selected_cols_large_recent_df['duration'],2)\n",
    "\n",
    "# Funded Percentage\n",
    "kickstarter_selected_cols_large_recent_df['funded_percent'] = round(kickstarter_selected_cols_large_recent_df['usd_pledged_real'] / kickstarter_selected_cols_large_recent_df['usd_goal_real'],4)\n",
    "\n",
    "# Average Backer Per Day\n",
    "kickstarter_selected_cols_large_recent_df['avg_backer_per_day'] = round(kickstarter_selected_cols_large_recent_df['backers'] / kickstarter_selected_cols_large_recent_df['duration'],2)\n",
    "\n",
    "# Pledged Per Person\n",
    "kickstarter_selected_cols_large_recent_df['pledged_per_person'] = round(kickstarter_selected_cols_large_recent_df['usd_pledged_real'] / kickstarter_selected_cols_large_recent_df['backers'],2)\n",
    "kickstarter_selected_cols_large_recent_df['pledged_per_person'] = kickstarter_selected_cols_large_recent_df['pledged_per_person'].fillna(0)\n",
    "\n",
    "# Add full country name col\n",
    "%run ./Resources/Utils/consts.ipynb\n",
    "kickstarter_selected_cols_large_recent_df['full_country_names'] = kickstarter_selected_cols_large_recent_df['country'].apply(lambda x: full_country_names_dict[x])\n",
    "\n",
    "# Add lat/long depends on running ./Resources/Utils/consts.ipynb first\n",
    "kickstarter_selected_cols_large_recent_df['lat'] = kickstarter_selected_cols_large_recent_df['country'].apply(lambda x: country_lat_long_dict[x][0])\n",
    "kickstarter_selected_cols_large_recent_df['long'] = kickstarter_selected_cols_large_recent_df['country'].apply(lambda x: country_lat_long_dict[x][1])\n",
    "\n",
    "# Fix types\n",
    "kickstarter_selected_cols_large_recent_df = kickstarter_selected_cols_large_recent_df.astype({\"funded_percent\": 'float', \"avg_backer_per_day\":'float', \"pledged_per_person\": 'float'})"
   ],
   "outputs": [],
   "metadata": {}
  },
  {
   "cell_type": "markdown",
   "source": [
    "## Reorder cols"
   ],
   "metadata": {}
  },
  {
   "cell_type": "code",
   "execution_count": null,
   "source": [
    "# Base column names for reordering\n",
    "base_order = ['name', 'main_category', 'category', 'currency', 'usd_goal_real', 'usd_pledged_real', 'deadline', 'launched', 'state', 'funded_percent','duration', 'daily_goal', 'daily_pledged', 'country', 'full_country_names', 'lat', 'long']\n",
    "kickstarter_order = base_order + ['avg_backer_per_day', 'pledged_per_person']\n",
    "\n",
    "# Reorder each df\n",
    "kickstarter_selected_cols_large_recent_df = kickstarter_selected_cols_large_recent_df[kickstarter_order]"
   ],
   "outputs": [],
   "metadata": {}
  },
  {
   "cell_type": "markdown",
   "source": [
    "## Write clean data to files"
   ],
   "metadata": {}
  },
  {
   "cell_type": "code",
   "execution_count": null,
   "source": [
    "kickstarter_selected_cols_large_recent_df.to_csv('./Resources/kickstarter_data_clean/ks-projects-large.csv')"
   ],
   "outputs": [],
   "metadata": {}
  }
 ],
 "metadata": {
  "orig_nbformat": 4,
  "language_info": {
   "name": "python",
   "version": "3.7.9",
   "mimetype": "text/x-python",
   "codemirror_mode": {
    "name": "ipython",
    "version": 3
   },
   "pygments_lexer": "ipython3",
   "nbconvert_exporter": "python",
   "file_extension": ".py"
  },
  "kernelspec": {
   "name": "python3",
   "display_name": "Python 3.7.9 64-bit ('dev': conda)"
  },
  "interpreter": {
   "hash": "930eee74a1f2acacbb765ecf4f41bca31b45440fd68d4dff19855f34b00f2967"
  }
 },
 "nbformat": 4,
 "nbformat_minor": 2
}