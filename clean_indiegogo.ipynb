{
 "cells": [
  {
   "cell_type": "code",
   "execution_count": 1,
   "source": [
    "# Import the required libraries and dependencies\n",
    "import pandas as pd\n",
    "from pathlib import Path"
   ],
   "outputs": [],
   "metadata": {}
  },
  {
   "cell_type": "markdown",
   "source": [
    "## Import data "
   ],
   "metadata": {}
  },
  {
   "cell_type": "code",
   "execution_count": 2,
   "source": [
    "# Import indiegogo dataset\n",
    "indiegogo_df = pd.read_csv(\n",
    "    Path('./Resources/indiegogo_data/indiegogo.csv')\n",
    ")\n",
    "\n",
    "# Fix ID column\n",
    "indiegogo_df.rename(columns={'project_id' : 'ID'}, inplace=True)\n",
    "\n",
    "# Set the index as the ID\n",
    "indiegogo_df.set_index('ID', inplace=True)\n",
    "\n",
    "# View head\n",
    "indiegogo_df.head(2)"
   ],
   "outputs": [
    {
     "output_type": "execute_result",
     "data": {
      "text/plain": [
       "     currency        category  year_end  month_end  day_end  time_end  \\\n",
       "ID                                                                      \n",
       "3936      USD  Transportation      2010          5       12  23:59:00   \n",
       "5109      USD    Human Rights      2010          7        2  23:59:00   \n",
       "\n",
       "      amount_raised funded_percent  in_demand  year_launch  ...  apr  may jun  \\\n",
       "ID                                                          ...                 \n",
       "3936            840         16.80%      False         2010  ...    1    0   0   \n",
       "5109            250         20.83%      False         2010  ...    0    0   1   \n",
       "\n",
       "     jul aug sep  oct nov dec  tperiod  \n",
       "ID                                      \n",
       "3936   0   0   0    0   0   0        1  \n",
       "5109   0   0   0    0   0   0        2  \n",
       "\n",
       "[2 rows x 73 columns]"
      ],
      "text/html": [
       "<div>\n",
       "<style scoped>\n",
       "    .dataframe tbody tr th:only-of-type {\n",
       "        vertical-align: middle;\n",
       "    }\n",
       "\n",
       "    .dataframe tbody tr th {\n",
       "        vertical-align: top;\n",
       "    }\n",
       "\n",
       "    .dataframe thead th {\n",
       "        text-align: right;\n",
       "    }\n",
       "</style>\n",
       "<table border=\"1\" class=\"dataframe\">\n",
       "  <thead>\n",
       "    <tr style=\"text-align: right;\">\n",
       "      <th></th>\n",
       "      <th>currency</th>\n",
       "      <th>category</th>\n",
       "      <th>year_end</th>\n",
       "      <th>month_end</th>\n",
       "      <th>day_end</th>\n",
       "      <th>time_end</th>\n",
       "      <th>amount_raised</th>\n",
       "      <th>funded_percent</th>\n",
       "      <th>in_demand</th>\n",
       "      <th>year_launch</th>\n",
       "      <th>...</th>\n",
       "      <th>apr</th>\n",
       "      <th>may</th>\n",
       "      <th>jun</th>\n",
       "      <th>jul</th>\n",
       "      <th>aug</th>\n",
       "      <th>sep</th>\n",
       "      <th>oct</th>\n",
       "      <th>nov</th>\n",
       "      <th>dec</th>\n",
       "      <th>tperiod</th>\n",
       "    </tr>\n",
       "    <tr>\n",
       "      <th>ID</th>\n",
       "      <th></th>\n",
       "      <th></th>\n",
       "      <th></th>\n",
       "      <th></th>\n",
       "      <th></th>\n",
       "      <th></th>\n",
       "      <th></th>\n",
       "      <th></th>\n",
       "      <th></th>\n",
       "      <th></th>\n",
       "      <th></th>\n",
       "      <th></th>\n",
       "      <th></th>\n",
       "      <th></th>\n",
       "      <th></th>\n",
       "      <th></th>\n",
       "      <th></th>\n",
       "      <th></th>\n",
       "      <th></th>\n",
       "      <th></th>\n",
       "      <th></th>\n",
       "    </tr>\n",
       "  </thead>\n",
       "  <tbody>\n",
       "    <tr>\n",
       "      <th>3936</th>\n",
       "      <td>USD</td>\n",
       "      <td>Transportation</td>\n",
       "      <td>2010</td>\n",
       "      <td>5</td>\n",
       "      <td>12</td>\n",
       "      <td>23:59:00</td>\n",
       "      <td>840</td>\n",
       "      <td>16.80%</td>\n",
       "      <td>False</td>\n",
       "      <td>2010</td>\n",
       "      <td>...</td>\n",
       "      <td>1</td>\n",
       "      <td>0</td>\n",
       "      <td>0</td>\n",
       "      <td>0</td>\n",
       "      <td>0</td>\n",
       "      <td>0</td>\n",
       "      <td>0</td>\n",
       "      <td>0</td>\n",
       "      <td>0</td>\n",
       "      <td>1</td>\n",
       "    </tr>\n",
       "    <tr>\n",
       "      <th>5109</th>\n",
       "      <td>USD</td>\n",
       "      <td>Human Rights</td>\n",
       "      <td>2010</td>\n",
       "      <td>7</td>\n",
       "      <td>2</td>\n",
       "      <td>23:59:00</td>\n",
       "      <td>250</td>\n",
       "      <td>20.83%</td>\n",
       "      <td>False</td>\n",
       "      <td>2010</td>\n",
       "      <td>...</td>\n",
       "      <td>0</td>\n",
       "      <td>0</td>\n",
       "      <td>1</td>\n",
       "      <td>0</td>\n",
       "      <td>0</td>\n",
       "      <td>0</td>\n",
       "      <td>0</td>\n",
       "      <td>0</td>\n",
       "      <td>0</td>\n",
       "      <td>2</td>\n",
       "    </tr>\n",
       "  </tbody>\n",
       "</table>\n",
       "<p>2 rows × 73 columns</p>\n",
       "</div>"
      ]
     },
     "metadata": {},
     "execution_count": 2
    }
   ],
   "metadata": {}
  },
  {
   "cell_type": "markdown",
   "source": [
    "## Rename cols"
   ],
   "metadata": {}
  },
  {
   "cell_type": "code",
   "execution_count": 3,
   "source": [
    "# Rename columns to match the kickstarter df\n",
    "indiegogo_df.rename(columns={'category' : 'main_category', 'title' : 'name', 'amount_raised_usd' : 'usd_pledged_real', 'goal_usd' : 'usd_goal_real'}, inplace=True)"
   ],
   "outputs": [],
   "metadata": {}
  },
  {
   "cell_type": "markdown",
   "source": [
    "## Clean df"
   ],
   "metadata": {}
  },
  {
   "cell_type": "code",
   "execution_count": 4,
   "source": [
    "# fix dates\n",
    "indiegogo_df['launched'] = pd.to_datetime(indiegogo_df['date_launch'] + ' ' + indiegogo_df['time_launch'])\n",
    "indiegogo_df['deadline'] = pd.to_datetime(indiegogo_df['date_end'] + ' ' + indiegogo_df['time_end'])"
   ],
   "outputs": [],
   "metadata": {}
  },
  {
   "cell_type": "markdown",
   "source": [
    "## Create dfs from selected columns"
   ],
   "metadata": {}
  },
  {
   "cell_type": "code",
   "execution_count": 5,
   "source": [
    "# List columns to drop\n",
    "indiegogo_cols_drop = ['year_end',\n",
    "'month_end',\n",
    "'day_end',\n",
    "'amount_raised',\n",
    "'in_demand',\n",
    "'year_launch',\n",
    "'month_launch',\n",
    "'day_launch',\n",
    "'tagline',\n",
    "'url',\n",
    "'australia',\n",
    "'canada',\n",
    "'switzerland',\n",
    "'denmark',\n",
    "'western_europe',\n",
    "'great_britain',\n",
    "'hong_kong',\n",
    "'norway',\n",
    "'sweden',\n",
    "'singapore',\n",
    "'united_states',\n",
    "'education',\n",
    "'productivity',\n",
    "'energy_greentech',\n",
    "'wellness',\n",
    "'comics',\n",
    "'fashion_wearables',\n",
    "'video_games',\n",
    "'photography',\n",
    "'tv_shows',\n",
    "'dance_theater',\n",
    "'phones_accessories',\n",
    "'audio',\n",
    "'film',\n",
    "'transportation',\n",
    "'art',\n",
    "'environment',\n",
    "'writing_publishing',\n",
    "'music',\n",
    "'travel_outdoors',\n",
    "'health_fitness',\n",
    "'tabletop_games',\n",
    "'home',\n",
    "'local_business',\n",
    "'food_beverage',\n",
    "'culture',\n",
    "'human_rights',\n",
    "'podcasts_vlogs',\n",
    "'camera_gear',\n",
    "'time_end',\n",
    "'time_launch',\n",
    "'date_launch',\n",
    "'date_end',\n",
    "'jan',\n",
    "'feb',\n",
    "'mar',\n",
    "'apr',\n",
    "'may',\n",
    "'jun',\n",
    "'jul',\n",
    "'aug',\n",
    "'sep',\n",
    "'oct',\n",
    "'nov',\n",
    "'dec',\n",
    "'tperiod']\n",
    "\n",
    "# Selected columns indiegogo df\n",
    "indiegogo_selected_cols_df = indiegogo_df.drop(indiegogo_cols_drop, axis=1)"
   ],
   "outputs": [],
   "metadata": {}
  },
  {
   "cell_type": "markdown",
   "source": [
    "## Add new cols"
   ],
   "metadata": {}
  },
  {
   "cell_type": "code",
   "execution_count": 7,
   "source": [
    "# Duration\n",
    "indiegogo_selected_cols_df['duration'] = indiegogo_selected_cols_df['deadline'] - indiegogo_selected_cols_df['launched'] \n",
    "indiegogo_selected_cols_df['duration'] = indiegogo_selected_cols_df['duration'].dt.days\n",
    "\n",
    "# Daily Goal \n",
    "indiegogo_selected_cols_df['daily_goal'] = round(indiegogo_selected_cols_df['usd_goal_real'] / indiegogo_selected_cols_df['duration'],2)\n",
    "\n",
    "# Daily Pledged\n",
    "indiegogo_selected_cols_df['daily_pledged'] = round(indiegogo_selected_cols_df['usd_pledged_real'] / indiegogo_selected_cols_df['duration'],2)\n",
    "\n",
    "# Funded Percentage\n",
    "indiegogo_selected_cols_df['funded_percent'] = round(indiegogo_selected_cols_df['usd_pledged_real'] / indiegogo_selected_cols_df['usd_goal_real'],4)\n",
    "\n",
    "# Add country col using currency/country matchings from kickstarter large dataset\n",
    "# Import kickstarter data\n",
    "# Import large kickstarter recent dataset\n",
    "kickstarter_currency_country_cols_df = pd.read_csv(\n",
    "    Path('./Resources/kickstarter_data/ks-projects-201801.csv'),\n",
    "    usecols=['currency', 'country']\n",
    ")\n",
    "\n",
    "# Imported data has a space at the end of the column name\n",
    "# Remove spaces in columns name\n",
    "kickstarter_currency_country_cols_df.columns = kickstarter_currency_country_cols_df.columns.str.replace(' ','')\n",
    "\n",
    "\n",
    "# Create a dictionary of country and currency pairs to add country col\n",
    "country_currency_df = kickstarter_currency_country_cols_df.loc[:,['country', 'currency']]\n",
    "country_currency_df.drop(kickstarter_currency_country_cols_df[kickstarter_currency_country_cols_df['country'] == 'N,0\"'].index, inplace=True)\n",
    "country_currency_df.drop_duplicates(inplace=True)\n",
    "country_currency_df.set_index('currency', inplace = True)\n",
    "currency_country_dict = country_currency_df.to_dict()['country']\n",
    "\n",
    "# Clean up all the N,0\" values for countries using the currency_country_dict\n",
    "indiegogo_selected_cols_df['country'] = indiegogo_selected_cols_df.apply(lambda row: currency_country_dict[row['currency']], axis=1)\n",
    "\n",
    "# Add full country name col\n",
    "# Add full country name col\n",
    "%run ./Util/consts.ipynb\n",
    "indiegogo_selected_cols_df['full_country_names'] = indiegogo_selected_cols_df['country'].apply(lambda x: full_country_names_dict[x])\n",
    "\n",
    "# Fix types\n",
    "indiegogo_selected_cols_df = indiegogo_selected_cols_df.astype({\"funded_percent\": 'float'})"
   ],
   "outputs": [
    {
     "output_type": "execute_result",
     "data": {
      "text/plain": [
       "array(['US', 'LU', 'CA', 'GB', 'AU', 'HK', 'SE', 'CH', 'SG', 'DK', 'NO'],\n",
       "      dtype=object)"
      ]
     },
     "metadata": {},
     "execution_count": 7
    }
   ],
   "metadata": {}
  },
  {
   "cell_type": "markdown",
   "source": [
    "## Reorder cols"
   ],
   "metadata": {}
  },
  {
   "cell_type": "code",
   "execution_count": 16,
   "source": [
    "# Base column names for reordering\n",
    "base_order = ['name', 'main_category', 'currency', 'usd_goal_real', 'usd_pledged_real', 'deadline', 'launched', 'state', 'funded_percent','duration', 'daily_goal', 'daily_pledged', 'country', 'full_country_names']\n",
    "indiegogo_order = base_order\n",
    "\n",
    "# Reorder each df\n",
    "indiegogo_selected_cols_df = indiegogo_selected_cols_df[indiegogo_order]"
   ],
   "outputs": [],
   "metadata": {}
  },
  {
   "cell_type": "markdown",
   "source": [
    "## Write clean data to files"
   ],
   "metadata": {}
  },
  {
   "cell_type": "code",
   "execution_count": 17,
   "source": [
    "indiegogo_selected_cols_df.to_csv('./Resources/indiegogo_data_clean/indiegogo-projects.csv')"
   ],
   "outputs": [],
   "metadata": {}
  }
 ],
 "metadata": {
  "orig_nbformat": 4,
  "language_info": {
   "name": "python"
  }
 },
 "nbformat": 4,
 "nbformat_minor": 2
}