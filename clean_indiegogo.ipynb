{
 "cells": [
  {
   "cell_type": "code",
   "execution_count": null,
   "source": [
    "# Import the required libraries and dependencies\n",
    "import pandas as pd\n",
    "from pathlib import Path"
   ],
   "outputs": [],
   "metadata": {}
  },
  {
   "cell_type": "markdown",
   "source": [
    "## Import data "
   ],
   "metadata": {}
  },
  {
   "cell_type": "code",
   "execution_count": null,
   "source": [
    "# Import indiegogo dataset\n",
    "indiegogo_df = pd.read_csv(\n",
    "    Path('./Resources/indiegogo_data/indiegogo.csv')\n",
    ")\n",
    "\n",
    "# Fix ID column\n",
    "indiegogo_df.rename(columns={'project_id' : 'ID'}, inplace=True)\n",
    "\n",
    "# Set the index as the ID\n",
    "indiegogo_df.set_index('ID', inplace=True)\n",
    "\n",
    "# View head\n",
    "indiegogo_df.head(2)"
   ],
   "outputs": [],
   "metadata": {}
  },
  {
   "cell_type": "markdown",
   "source": [
    "## Rename cols"
   ],
   "metadata": {}
  },
  {
   "cell_type": "code",
   "execution_count": null,
   "source": [
    "# Rename columns to match the kickstarter df\n",
    "indiegogo_df.rename(columns={'category' : 'main_category', 'title' : 'name', 'amount_raised_usd' : 'usd_pledged_real', 'goal_usd' : 'usd_goal_real'}, inplace=True)"
   ],
   "outputs": [],
   "metadata": {}
  },
  {
   "cell_type": "markdown",
   "source": [
    "## Clean df"
   ],
   "metadata": {}
  },
  {
   "cell_type": "code",
   "execution_count": null,
   "source": [
    "# fix dates\n",
    "indiegogo_df['launched'] = pd.to_datetime(indiegogo_df['date_launch'] + ' ' + indiegogo_df['time_launch'])\n",
    "indiegogo_df['deadline'] = pd.to_datetime(indiegogo_df['date_end'] + ' ' + indiegogo_df['time_end'])"
   ],
   "outputs": [],
   "metadata": {}
  },
  {
   "cell_type": "markdown",
   "source": [
    "## Create dfs from selected columns"
   ],
   "metadata": {}
  },
  {
   "cell_type": "code",
   "execution_count": null,
   "source": [
    "# List columns to drop\n",
    "indiegogo_cols_drop = ['year_end',\n",
    "'month_end',\n",
    "'day_end',\n",
    "'amount_raised',\n",
    "'in_demand',\n",
    "'year_launch',\n",
    "'month_launch',\n",
    "'day_launch',\n",
    "'tagline',\n",
    "'url',\n",
    "'australia',\n",
    "'canada',\n",
    "'switzerland',\n",
    "'denmark',\n",
    "'western_europe',\n",
    "'great_britain',\n",
    "'hong_kong',\n",
    "'norway',\n",
    "'sweden',\n",
    "'singapore',\n",
    "'united_states',\n",
    "'education',\n",
    "'productivity',\n",
    "'energy_greentech',\n",
    "'wellness',\n",
    "'comics',\n",
    "'fashion_wearables',\n",
    "'video_games',\n",
    "'photography',\n",
    "'tv_shows',\n",
    "'dance_theater',\n",
    "'phones_accessories',\n",
    "'audio',\n",
    "'film',\n",
    "'transportation',\n",
    "'art',\n",
    "'environment',\n",
    "'writing_publishing',\n",
    "'music',\n",
    "'travel_outdoors',\n",
    "'health_fitness',\n",
    "'tabletop_games',\n",
    "'home',\n",
    "'local_business',\n",
    "'food_beverage',\n",
    "'culture',\n",
    "'human_rights',\n",
    "'podcasts_vlogs',\n",
    "'camera_gear',\n",
    "'time_end',\n",
    "'time_launch',\n",
    "'date_launch',\n",
    "'date_end',\n",
    "'jan',\n",
    "'feb',\n",
    "'mar',\n",
    "'apr',\n",
    "'may',\n",
    "'jun',\n",
    "'jul',\n",
    "'aug',\n",
    "'sep',\n",
    "'oct',\n",
    "'nov',\n",
    "'dec',\n",
    "'tperiod']\n",
    "\n",
    "# Selected columns indiegogo df\n",
    "indiegogo_selected_cols_df = indiegogo_df.drop(indiegogo_cols_drop, axis=1)"
   ],
   "outputs": [],
   "metadata": {}
  },
  {
   "cell_type": "markdown",
   "source": [
    "## Add new cols"
   ],
   "metadata": {}
  },
  {
   "cell_type": "code",
   "execution_count": null,
   "source": [
    "# Duration\n",
    "indiegogo_selected_cols_df['duration'] = indiegogo_selected_cols_df['deadline'] - indiegogo_selected_cols_df['launched'] \n",
    "indiegogo_selected_cols_df['duration'] = indiegogo_selected_cols_df['duration'].dt.days\n",
    "\n",
    "# Daily Goal \n",
    "indiegogo_selected_cols_df['daily_goal'] = round(indiegogo_selected_cols_df['usd_goal_real'] / indiegogo_selected_cols_df['duration'],2)\n",
    "\n",
    "# Daily Pledged\n",
    "indiegogo_selected_cols_df['daily_pledged'] = round(indiegogo_selected_cols_df['usd_pledged_real'] / indiegogo_selected_cols_df['duration'],2)\n",
    "\n",
    "# Funded Percentage\n",
    "indiegogo_selected_cols_df['funded_percent'] = round(indiegogo_selected_cols_df['usd_pledged_real'] / indiegogo_selected_cols_df['usd_goal_real'],4)\n",
    "\n",
    "# Fix types\n",
    "indiegogo_selected_cols_df = indiegogo_selected_cols_df.astype({\"funded_percent\": 'float'})"
   ],
   "outputs": [],
   "metadata": {}
  },
  {
   "cell_type": "markdown",
   "source": [
    "## Reorder cols"
   ],
   "metadata": {}
  },
  {
   "cell_type": "code",
   "execution_count": null,
   "source": [
    "# Base column names for reordering\n",
    "base_order = ['name', 'main_category', 'currency', 'usd_goal_real', 'usd_pledged_real', 'deadline', 'launched', 'state', 'funded_percent','duration', 'daily_goal', 'daily_pledged']\n",
    "indiegogo_order = base_order\n",
    "\n",
    "# Reorder each df\n",
    "indiegogo_selected_cols_df = indiegogo_selected_cols_df[indiegogo_order]"
   ],
   "outputs": [],
   "metadata": {}
  },
  {
   "cell_type": "markdown",
   "source": [
    "## Write clean data to files"
   ],
   "metadata": {}
  },
  {
   "cell_type": "code",
   "execution_count": null,
   "source": [
    "indiegogo_selected_cols_df.to_csv('./Resources/indiegogo_data_clean/indiegogo-projects.csv')"
   ],
   "outputs": [],
   "metadata": {}
  }
 ],
 "metadata": {
  "orig_nbformat": 4,
  "language_info": {
   "name": "python"
  }
 },
 "nbformat": 4,
 "nbformat_minor": 2
}